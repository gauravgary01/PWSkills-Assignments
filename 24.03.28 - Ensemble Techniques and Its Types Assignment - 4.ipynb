{
 "cells": [
  {
   "cell_type": "code",
   "execution_count": 1,
   "id": "3ac97d6c-e798-4202-9f3d-cfd380a76561",
   "metadata": {},
   "outputs": [],
   "source": [
    "# Ans 01:"
   ]
  },
  {
   "cell_type": "code",
   "execution_count": 2,
   "id": "3f382114-a1a1-439e-98c9-eaeb01bf7bc3",
   "metadata": {},
   "outputs": [
    {
     "ename": "NameError",
     "evalue": "name 'numerical_features' is not defined",
     "output_type": "error",
     "traceback": [
      "\u001b[1;31m---------------------------------------------------------------------------\u001b[0m",
      "\u001b[1;31mNameError\u001b[0m                                 Traceback (most recent call last)",
      "Cell \u001b[1;32mIn[2], line 26\u001b[0m\n\u001b[0;32m     19\u001b[0m categorical_pipeline \u001b[38;5;241m=\u001b[39m Pipeline([\n\u001b[0;32m     20\u001b[0m     (\u001b[38;5;124m'\u001b[39m\u001b[38;5;124mimputer\u001b[39m\u001b[38;5;124m'\u001b[39m, SimpleImputer(strategy\u001b[38;5;241m=\u001b[39m\u001b[38;5;124m'\u001b[39m\u001b[38;5;124mmost_frequent\u001b[39m\u001b[38;5;124m'\u001b[39m)),  \u001b[38;5;66;03m# Impute missing values using most frequent value\u001b[39;00m\n\u001b[0;32m     21\u001b[0m     (\u001b[38;5;124m'\u001b[39m\u001b[38;5;124monehot\u001b[39m\u001b[38;5;124m'\u001b[39m, OneHotEncoder())  \u001b[38;5;66;03m# One-hot encode the categorical columns\u001b[39;00m\n\u001b[0;32m     22\u001b[0m ])\n\u001b[0;32m     24\u001b[0m \u001b[38;5;66;03m# Step 4: Combine numerical and categorical pipelines using ColumnTransformer\u001b[39;00m\n\u001b[0;32m     25\u001b[0m preprocessor \u001b[38;5;241m=\u001b[39m ColumnTransformer([\n\u001b[1;32m---> 26\u001b[0m     (\u001b[38;5;124m'\u001b[39m\u001b[38;5;124mnum\u001b[39m\u001b[38;5;124m'\u001b[39m, numerical_pipeline, numerical_features),  \u001b[38;5;66;03m# numerical_features is a list of numerical feature names\u001b[39;00m\n\u001b[0;32m     27\u001b[0m     (\u001b[38;5;124m'\u001b[39m\u001b[38;5;124mcat\u001b[39m\u001b[38;5;124m'\u001b[39m, categorical_pipeline, categorical_features)  \u001b[38;5;66;03m# categorical_features is a list of categorical feature names\u001b[39;00m\n\u001b[0;32m     28\u001b[0m ])\n\u001b[0;32m     30\u001b[0m \u001b[38;5;66;03m# Step 5: Build the final pipeline with feature selection and Random Forest Classifier\u001b[39;00m\n\u001b[0;32m     31\u001b[0m pipeline \u001b[38;5;241m=\u001b[39m Pipeline([\n\u001b[0;32m     32\u001b[0m     (\u001b[38;5;124m'\u001b[39m\u001b[38;5;124mfeature_selection\u001b[39m\u001b[38;5;124m'\u001b[39m, feature_selector),\n\u001b[0;32m     33\u001b[0m     (\u001b[38;5;124m'\u001b[39m\u001b[38;5;124mpreprocessor\u001b[39m\u001b[38;5;124m'\u001b[39m, preprocessor),\n\u001b[0;32m     34\u001b[0m     (\u001b[38;5;124m'\u001b[39m\u001b[38;5;124mclassifier\u001b[39m\u001b[38;5;124m'\u001b[39m, RandomForestClassifier())\n\u001b[0;32m     35\u001b[0m ])\n",
      "\u001b[1;31mNameError\u001b[0m: name 'numerical_features' is not defined"
     ]
    }
   ],
   "source": [
    "from sklearn.pipeline import Pipeline\n",
    "from sklearn.compose import ColumnTransformer\n",
    "from sklearn.impute import SimpleImputer\n",
    "from sklearn.preprocessing import StandardScaler, OneHotEncoder\n",
    "from sklearn.ensemble import RandomForestClassifier\n",
    "from sklearn.feature_selection import SelectFromModel\n",
    "\n",
    "# Step 1: Automated feature selection\n",
    "feature_selection_model = RandomForestClassifier()  # Example feature selection model\n",
    "feature_selector = SelectFromModel(feature_selection_model)\n",
    "\n",
    "# Step 2: Numerical pipeline\n",
    "numerical_pipeline = Pipeline([\n",
    "    ('imputer', SimpleImputer(strategy='mean')),  # Impute missing values using mean\n",
    "    ('scaler', StandardScaler())  # Scale the numerical columns using standardization\n",
    "])\n",
    "\n",
    "# Step 3: Categorical pipeline\n",
    "categorical_pipeline = Pipeline([\n",
    "    ('imputer', SimpleImputer(strategy='most_frequent')),  # Impute missing values using most frequent value\n",
    "    ('onehot', OneHotEncoder())  # One-hot encode the categorical columns\n",
    "])\n",
    "\n",
    "# Step 4: Combine numerical and categorical pipelines using ColumnTransformer\n",
    "preprocessor = ColumnTransformer([\n",
    "    ('num', numerical_pipeline, numerical_features),  # numerical_features is a list of numerical feature names\n",
    "    ('cat', categorical_pipeline, categorical_features)  # categorical_features is a list of categorical feature names\n",
    "])\n",
    "\n",
    "# Step 5: Build the final pipeline with feature selection and Random Forest Classifier\n",
    "pipeline = Pipeline([\n",
    "    ('feature_selection', feature_selector),\n",
    "    ('preprocessor', preprocessor),\n",
    "    ('classifier', RandomForestClassifier())\n",
    "])\n",
    "\n",
    "# Step 6: Train and evaluate the model\n",
    "pipeline.fit(X_train, y_train)  # X_train and y_train are the training features and labels\n",
    "accuracy = pipeline.score(X_test, y_test)  # Evaluate accuracy on the test dataset\n",
    "\n",
    "print(\"Accuracy of the Random Forest Classifier:\", accuracy)"
   ]
  },
  {
   "cell_type": "code",
   "execution_count": 2,
   "id": "035a1c39-aa2a-4de0-bc5d-2db842165a21",
   "metadata": {},
   "outputs": [],
   "source": [
    "# Explanation of Steps:\n",
    "\n",
    "# 1. Automated Feature Selection: A feature selection model (in this case, a Random Forest Classifier) is used to automatically select important features\n",
    "# from the dataset.\n",
    "# 2. Numerical Pipeline: Imputes missing values in numerical columns using the mean and standardizes the numerical columns.\n",
    "# 3. Categorical Pipeline: Imputes missing values in categorical columns using the most frequent value and performs one-hot encoding on categorical columns.\n",
    "# 4. ColumnTransformer: Combines the numerical and categorical pipelines to handle both types of features simultaneously.\n",
    "# 5. Final Pipeline: Incorporates feature selection, data preprocessing, and the Random Forest Classifier into a single pipeline.\n",
    "# 6. Train and Evaluate: The pipeline is trained on the training dataset and evaluated for accuracy on the test dataset.\n",
    "\n",
    "# Interpretation of Results:\n",
    "# The accuracy of the model on the test dataset indicates how well the Random Forest Classifier performs on unseen data. A higher accuracy suggests that the\n",
    "# model generalizes well to new data.\n",
    "\n",
    "# Possible Improvements:\n",
    "\n",
    "# 1. Hyperparameter Tuning: Fine-tune hyperparameters of the Random Forest Classifier and other components of the pipeline using techniques like grid search or\n",
    "# random search.\n",
    "# 2. Feature Engineering: Experiment with different feature engineering techniques to enhance the predictive power of the model.\n",
    "# 3. Model Evaluation: Consider using additional evaluation metrics (e.g., precision, recall, F1-score) to assess the model's performance comprehensively.\n",
    "# 4. Feature Importance Analysis: Analyze feature importance scores to gain insights into which features contribute the most to the model's predictions and\n",
    "# potentially refine the feature selection process.\n",
    "# 5. Handling Imbalanced Data: If the dataset is imbalanced, consider implementing techniques such as oversampling, undersampling, or using class weights to\n",
    "# address class imbalance issues."
   ]
  },
  {
   "cell_type": "code",
   "execution_count": 3,
   "id": "5281f48d-a687-4948-ab3a-6be746182243",
   "metadata": {},
   "outputs": [],
   "source": [
    "#####################################################################################################################\n",
    "# Ans 02:"
   ]
  },
  {
   "cell_type": "code",
   "execution_count": 4,
   "id": "f16be453-1de0-4262-97f2-27df18079b3c",
   "metadata": {},
   "outputs": [],
   "source": [
    "from sklearn.datasets import load_iris\n",
    "from sklearn.model_selection import train_test_split\n",
    "from sklearn.ensemble import RandomForestClassifier, VotingClassifier\n",
    "from sklearn.linear_model import LogisticRegression\n",
    "from sklearn.pipeline import Pipeline\n",
    "from sklearn.preprocessing import StandardScaler\n",
    "from sklearn.metrics import accuracy_score"
   ]
  },
  {
   "cell_type": "code",
   "execution_count": 5,
   "id": "8dcd52b1-783c-496d-8a4c-1502b6a591a4",
   "metadata": {},
   "outputs": [
    {
     "name": "stdout",
     "output_type": "stream",
     "text": [
      "Accuracy of the Voting Classifier: 1.0\n"
     ]
    }
   ],
   "source": [
    "# Load the Iris dataset\n",
    "iris = load_iris()\n",
    "X = iris.data\n",
    "y = iris.target\n",
    "\n",
    "# Split the dataset into training and testing sets\n",
    "X_train, X_test, y_train, y_test = train_test_split(X, y, test_size=0.2, random_state=42)\n",
    "\n",
    "# Define the classifiers\n",
    "rf_clf = RandomForestClassifier(random_state=42)\n",
    "lr_clf = LogisticRegression(random_state=42)\n",
    "\n",
    "# Build the pipeline\n",
    "pipeline = Pipeline([\n",
    "    ('scaler', StandardScaler()),  # Standardize the features\n",
    "    ('voting', VotingClassifier([\n",
    "        ('random_forest', rf_clf),\n",
    "        ('logistic_regression', lr_clf)\n",
    "    ]))\n",
    "])\n",
    "\n",
    "# Train the pipeline\n",
    "pipeline.fit(X_train, y_train)\n",
    "\n",
    "# Evaluate the accuracy\n",
    "y_pred = pipeline.predict(X_test)\n",
    "accuracy = accuracy_score(y_test, y_pred)\n",
    "print(\"Accuracy of the Voting Classifier:\", accuracy)"
   ]
  },
  {
   "cell_type": "code",
   "execution_count": 6,
   "id": "25077e29-245c-42d9-a848-24f3b571bac7",
   "metadata": {},
   "outputs": [],
   "source": [
    "# In this code:\n",
    "\n",
    "# 1. We first load the Iris dataset and split it into training and testing sets.\n",
    "# 2. Then, we define two classifiers: a Random Forest Classifier and a Logistic Regression Classifier.\n",
    "# 3. Next, we build a pipeline with a StandardScaler to standardize the features and a Voting Classifier to combine the predictions of the two classifiers.\n",
    "# 4. Finally, we train the pipeline on the training data and evaluate its accuracy on the test data using the accuracy_score function from scikit-learn.\n",
    "\n",
    "# This pipeline leverages the strengths of both classifiers by combining their predictions using a majority voting scheme. The accuracy of the Voting Classifier\n",
    "# represents the overall performance of the ensemble model."
   ]
  },
  {
   "cell_type": "code",
   "execution_count": 7,
   "id": "c9632a8e-2091-4055-9832-844f874e4d22",
   "metadata": {},
   "outputs": [],
   "source": [
    "#####################################################################################################################"
   ]
  }
 ],
 "metadata": {
  "kernelspec": {
   "display_name": "Python 3 (ipykernel)",
   "language": "python",
   "name": "python3"
  },
  "language_info": {
   "codemirror_mode": {
    "name": "ipython",
    "version": 3
   },
   "file_extension": ".py",
   "mimetype": "text/x-python",
   "name": "python",
   "nbconvert_exporter": "python",
   "pygments_lexer": "ipython3",
   "version": "3.11.7"
  }
 },
 "nbformat": 4,
 "nbformat_minor": 5
}
