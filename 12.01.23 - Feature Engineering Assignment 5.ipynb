{
 "cells": [
  {
   "cell_type": "code",
   "execution_count": 1,
   "id": "3d110ee1-c142-4f47-99ab-ec6b6cd34fd0",
   "metadata": {
    "tags": []
   },
   "outputs": [],
   "source": [
    "#Ans 01:"
   ]
  },
  {
   "cell_type": "code",
   "execution_count": 2,
   "id": "37a04331-47a2-4df0-ae8d-ebc087f02189",
   "metadata": {
    "tags": []
   },
   "outputs": [],
   "source": [
    "# Sure, to calculate the Pearson correlation coefficient between the amount of time students spend studying\n",
    "# for an exam and their final exam scores, you'd first need to have the data pairs for each student: the time spent\n",
    "# studying and their corresponding exam scores. Let's assume you have two lists: one for study time (in hours) and\n",
    "# another for exam scores.\n",
    "\n",
    "# Here's a Python code snippet to calculate the Pearson correlation coefficient using the pearsonr function from the\n",
    "# scipy library:"
   ]
  },
  {
   "cell_type": "code",
   "execution_count": 3,
   "id": "b3898469-0d78-42ee-9125-57ca0f9387c1",
   "metadata": {
    "tags": []
   },
   "outputs": [
    {
     "name": "stdout",
     "output_type": "stream",
     "text": [
      "Pearson Correlation Coefficient: 1.00\n"
     ]
    }
   ],
   "source": [
    "from scipy.stats import pearsonr\n",
    "\n",
    "# Replace study_time and exam_scores with your actual data\n",
    "study_time = [8, 5, 6, 3, 7]  # Example list of study times\n",
    "exam_scores = [85, 70, 75, 60, 80]  # Example list of exam scores\n",
    "\n",
    "# Calculate Pearson correlation coefficient\n",
    "correlation_coefficient, _ = pearsonr(study_time, exam_scores)\n",
    "print(f\"Pearson Correlation Coefficient: {correlation_coefficient:.2f}\")"
   ]
  },
  {
   "cell_type": "code",
   "execution_count": 5,
   "id": "5828776b-f02f-4c4b-84a6-64ad986a2966",
   "metadata": {
    "tags": []
   },
   "outputs": [],
   "source": [
    "# Interpreting the result:\n",
    "\n",
    "# 1. If the coefficient is close to 1: There's a strong positive linear relationship, implying that as study time increases,\n",
    "# exam scores tend to increase as well.\n",
    "# 2. If the coefficient is close to -1: There's a strong negative linear relationship, suggesting that as study time increases,\n",
    "# exam scores tend to decrease.\n",
    "# 3. If the coefficient is close to 0: There's a weak or no linear relationship between study time and exam scores.\n",
    "\n",
    "# Keep in mind that correlation doesn't imply causation. A high correlation doesn't necessarily mean that more study time causes\n",
    "# higher scores; it might be influenced by other factors."
   ]
  },
  {
   "cell_type": "code",
   "execution_count": 6,
   "id": "d57613cf-1fe1-4f9d-89fd-455f250da45c",
   "metadata": {
    "tags": []
   },
   "outputs": [],
   "source": [
    "#################################################################################\n",
    "#Ans 02:"
   ]
  },
  {
   "cell_type": "code",
   "execution_count": 7,
   "id": "eb02fdf6-ccbe-46ec-9a7e-6c0a3aeabb1f",
   "metadata": {
    "tags": []
   },
   "outputs": [],
   "source": [
    "# Spearman's rank correlation assesses the strength and direction of association between two ranked variables.\n",
    "# It's suitable for variables where the relationship may be monotonic but not necessarily linear.\n",
    "\n",
    "# Here's a Python code snippet to compute the Spearman's rank correlation using the spearmanr function from the scipy library:"
   ]
  },
  {
   "cell_type": "code",
   "execution_count": 8,
   "id": "cf4c54df-89d2-478b-a8bb-d9f9725af684",
   "metadata": {
    "tags": []
   },
   "outputs": [
    {
     "name": "stdout",
     "output_type": "stream",
     "text": [
      "Spearman's Rank Correlation: 0.97\n"
     ]
    }
   ],
   "source": [
    "from scipy.stats import spearmanr\n",
    "\n",
    "# Replace sleep_hours and job_satisfaction with your actual data\n",
    "sleep_hours = [7, 5, 6, 8, 7]  # Example list of sleep hours\n",
    "job_satisfaction = [8, 4, 6, 9, 7]  # Example list of job satisfaction scores\n",
    "\n",
    "# Calculate Spearman's rank correlation\n",
    "correlation_coefficient, _ = spearmanr(sleep_hours, job_satisfaction)\n",
    "print(f\"Spearman's Rank Correlation: {correlation_coefficient:.2f}\")"
   ]
  },
  {
   "cell_type": "code",
   "execution_count": 9,
   "id": "872d701a-fca9-4524-9447-d0bd40e686bf",
   "metadata": {
    "tags": []
   },
   "outputs": [],
   "source": [
    "# Interpreting the result:\n",
    "\n",
    "# If the coefficient is close to 1: There's a strong monotonic positive relationship, suggesting that as sleep hours increase,\n",
    "# job satisfaction tends to increase.\n",
    "# If the coefficient is close to -1: There's a strong monotonic negative relationship, implying that as sleep hours increase,\n",
    "# job satisfaction tends to decrease.\n",
    "# If the coefficient is close to 0: There's a weak or no monotonic relationship between sleep hours and job satisfaction.\n",
    "\n",
    "# Remember, Spearman's correlation assesses monotonicity, not necessarily linearity or causation. A high correlation might indicate\n",
    "# a consistent trend in one variable as the other changes, but other factors could also influence the relationship."
   ]
  },
  {
   "cell_type": "code",
   "execution_count": 10,
   "id": "81eb5772-f2e2-47f3-a155-81c20ed51f52",
   "metadata": {
    "tags": []
   },
   "outputs": [],
   "source": [
    "#################################################################################\n",
    "#Ans 03:"
   ]
  },
  {
   "cell_type": "code",
   "execution_count": 11,
   "id": "1e8c6134-dd69-47f3-899f-b65bbac4cd45",
   "metadata": {
    "tags": []
   },
   "outputs": [],
   "source": [
    "# Certainly! Let's compute both the Pearson correlation coefficient and the Spearman's rank correlation\n",
    "# coefficient for the relationship between the number of hours of exercise per week and body mass index (BMI) using Python.\n",
    "\n",
    "# Assuming you have two lists of data for exercise hours and BMI:"
   ]
  },
  {
   "cell_type": "code",
   "execution_count": 13,
   "id": "6959ddda-e8d1-4279-adb5-897a0b89ca58",
   "metadata": {
    "tags": []
   },
   "outputs": [
    {
     "name": "stdout",
     "output_type": "stream",
     "text": [
      "Pearson Correlation Coefficient: 0.79\n",
      "Spearman's Rank Correlation: 0.70\n"
     ]
    }
   ],
   "source": [
    "from scipy.stats import pearsonr, spearmanr\n",
    "\n",
    "# Replace exercise_hours and bmi_data with your actual data for 50 participants\n",
    "exercise_hours = [3, 4, 2, 5, 1]  # Example list of exercise hours per week\n",
    "bmi_data = [25.2, 27.8, 24.5, 29.1, 26.0]  # Example list of BMI data\n",
    "\n",
    "# Calculate Pearson correlation coefficient\n",
    "pearson_corr, _ = pearsonr(exercise_hours, bmi_data)\n",
    "print(f\"Pearson Correlation Coefficient: {pearson_corr:.2f}\")\n",
    "\n",
    "# Calculate Spearman's rank correlation\n",
    "spearman_corr, _ = spearmanr(exercise_hours, bmi_data)\n",
    "print(f\"Spearman's Rank Correlation: {spearman_corr:.2f}\")"
   ]
  },
  {
   "cell_type": "code",
   "execution_count": 14,
   "id": "40691297-e62d-4139-b554-d370b445c01c",
   "metadata": {
    "tags": []
   },
   "outputs": [],
   "source": [
    "# Comparing the results:\n",
    "\n",
    "# 1. Pearson correlation measures linear relationships. If the relationship between exercise hours and BMI is approximately\n",
    "# linear, the Pearson coefficient will indicate the strength and direction of that linear relationship.\n",
    "# 2. Spearman's rank correlation measures monotonic relationships. If the relationship is more monotonic (increasing or decreasing\n",
    "# without necessarily being linear), Spearman's coefficient will capture that association.\n",
    "\n",
    "# Interpreting the results:\n",
    "\n",
    "# 1. If both coefficients are similar and close to 1 or -1, it suggests a strong relationship between exercise hours and BMI.\n",
    "# 2. If the Pearson coefficient is high while the Spearman coefficient is lower, it might indicate a strong linear relationship\n",
    "# but with some outliers impacting the monotonic relationship.\n",
    "# 3. If both coefficients are close to 0, it suggests a weak or no relationship between exercise hours and BMI."
   ]
  },
  {
   "cell_type": "code",
   "execution_count": 15,
   "id": "97a093c3-2231-4305-a5f1-21d822af76c2",
   "metadata": {
    "tags": []
   },
   "outputs": [],
   "source": [
    "#################################################################################\n",
    "#Ans 04:"
   ]
  },
  {
   "cell_type": "code",
   "execution_count": 16,
   "id": "9f7b040e-b41b-4c4f-b44f-ca09d74865ac",
   "metadata": {
    "tags": []
   },
   "outputs": [],
   "source": [
    "# To calculate the Pearson correlation coefficient between the number of hours individuals spend watching\n",
    "# television per day and their level of physical activity, you'd need data on both variables for the 50 participants.\n",
    "# Let's assume you have two lists of data: one for daily TV hours and another for physical activity levels.\n",
    "\n",
    "# Here's how you can calculate the Pearson correlation coefficient using Python:"
   ]
  },
  {
   "cell_type": "code",
   "execution_count": 17,
   "id": "6caedb74-ba17-46e3-9b20-4564970d766a",
   "metadata": {
    "tags": []
   },
   "outputs": [
    {
     "name": "stdout",
     "output_type": "stream",
     "text": [
      "Pearson Correlation Coefficient: -0.83\n"
     ]
    }
   ],
   "source": [
    "from scipy.stats import pearsonr\n",
    "\n",
    "# Replace tv_hours and physical_activity with your actual data for 50 participants\n",
    "tv_hours = [3, 2, 4, 1, 5]  # Example list of daily TV hours\n",
    "physical_activity = [2, 3, 1, 4, 2]  # Example list of physical activity levels\n",
    "\n",
    "# Calculate Pearson correlation coefficient\n",
    "correlation_coefficient, _ = pearsonr(tv_hours, physical_activity)\n",
    "print(f\"Pearson Correlation Coefficient: {correlation_coefficient:.2f}\")"
   ]
  },
  {
   "cell_type": "code",
   "execution_count": 18,
   "id": "62f0d995-3b29-4066-a8a0-332879b84324",
   "metadata": {
    "tags": []
   },
   "outputs": [],
   "source": [
    "# This code computes the Pearson correlation coefficient, which will indicate the strength and direction of\n",
    "# the linear relationship (if any) between the number of hours spent watching television per day and the level of\n",
    "# physical activity.\n",
    "\n",
    "# Interpreting the result:\n",
    "\n",
    "# If the coefficient is close to 1: There might be a strong positive linear relationship, suggesting that as TV hours increase,\n",
    "# physical activity levels tend to increase as well.\n",
    "# If the coefficient is close to -1: There might be a strong negative linear relationship, implying that as TV hours increase,\n",
    "# physical activity levels tend to decrease.\n",
    "# If the coefficient is close to 0: There might be a weak or no linear relationship between daily TV hours and physical activity\n",
    "# levels.\n",
    "\n",
    "\n",
    "# This correlation coefficient can provide insight into the potential relationship between these variables but doesn't imply\n",
    "# causation."
   ]
  },
  {
   "cell_type": "code",
   "execution_count": 20,
   "id": "5bf12137-100b-4556-b22a-161f1737c9c4",
   "metadata": {
    "tags": []
   },
   "outputs": [],
   "source": [
    "#################################################################################\n",
    "#Ans 06:"
   ]
  },
  {
   "cell_type": "code",
   "execution_count": 21,
   "id": "2cdcee6b-48c7-486b-ae31-6bcf8f7a6942",
   "metadata": {
    "tags": []
   },
   "outputs": [],
   "source": [
    "# To calculate the Pearson correlation coefficient between the number of sales calls made per day and the\n",
    "# number of sales made per week for 30 sales representatives, you can use Python with the scipy library.\n",
    "\n",
    "# Assuming you have two lists of data: one for the number of sales calls made per day and another for the number of sales\n",
    "# made per week for each sales representative:"
   ]
  },
  {
   "cell_type": "code",
   "execution_count": 22,
   "id": "f9f4979a-1b25-460c-8a50-23a5ee0c7c95",
   "metadata": {
    "tags": []
   },
   "outputs": [
    {
     "name": "stdout",
     "output_type": "stream",
     "text": [
      "Pearson Correlation Coefficient: 0.92\n"
     ]
    }
   ],
   "source": [
    "from scipy.stats import pearsonr\n",
    "\n",
    "# Replace sales_calls_per_day and sales_per_week with your actual data for 30 sales representatives\n",
    "sales_calls_per_day = [20, 15, 18, 25, 22, 17, 19, 23, 21, 24, 16, 18, 20, 23, 26, 19, 22, 25, 18, 20, 15, 17, 21, 24,\n",
    "                       26, 27, 19, 22, 20, 18]\n",
    "sales_per_week = [4, 3, 4, 5, 4, 3, 4, 5, 5, 5, 3, 4, 4, 5, 6, 4, 4, 5, 4, 4, 3, 3, 5, 6, 6, 6, 4, 5, 4, 4]\n",
    "\n",
    "# Calculate Pearson correlation coefficient\n",
    "correlation_coefficient, _ = pearsonr(sales_calls_per_day, sales_per_week)\n",
    "print(f\"Pearson Correlation Coefficient: {correlation_coefficient:.2f}\")"
   ]
  },
  {
   "cell_type": "code",
   "execution_count": 23,
   "id": "e4cc1e8a-d253-46be-9f0e-dedb87e194e9",
   "metadata": {
    "tags": []
   },
   "outputs": [],
   "source": [
    "# This code will compute the Pearson correlation coefficient between the number of sales calls made per day\n",
    "# and the number of sales made per week for the 30 sales representatives.\n",
    "\n",
    "# Interpreting the result:\n",
    "\n",
    "# If the coefficient is close to 1: There might be a strong positive linear relationship, indicating that as the number of\n",
    "# sales calls per day increases, the number of sales made per week tends to increase.\n",
    "# If the coefficient is close to -1: There might be a strong negative linear relationship, suggesting that as the number of\n",
    "# sales calls per day increases, the number of sales made per week tends to decrease.\n",
    "# If the coefficient is close to 0: There might be a weak or no linear relationship between the two variables.\n",
    "\n",
    "# This correlation coefficient helps in understanding the potential relationship between the number of sales calls and the\n",
    "# resulting sales but doesn't imply causation."
   ]
  },
  {
   "cell_type": "code",
   "execution_count": 24,
   "id": "ab406769-951d-4f67-be90-23f5d3add299",
   "metadata": {
    "tags": []
   },
   "outputs": [],
   "source": [
    "#################################################################################"
   ]
  }
 ],
 "metadata": {
  "kernelspec": {
   "display_name": "Python 3 (ipykernel)",
   "language": "python",
   "name": "python3"
  },
  "language_info": {
   "codemirror_mode": {
    "name": "ipython",
    "version": 3
   },
   "file_extension": ".py",
   "mimetype": "text/x-python",
   "name": "python",
   "nbconvert_exporter": "python",
   "pygments_lexer": "ipython3",
   "version": "3.11.5"
  }
 },
 "nbformat": 4,
 "nbformat_minor": 5
}
