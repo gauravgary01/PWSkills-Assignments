{
  "nbformat": 4,
  "nbformat_minor": 0,
  "metadata": {
    "colab": {
      "provenance": []
    },
    "kernelspec": {
      "name": "python3",
      "display_name": "Python 3"
    },
    "language_info": {
      "name": "python"
    }
  },
  "cells": [
    {
      "cell_type": "code",
      "execution_count": 1,
      "metadata": {
        "id": "55kUKG3tlQmu"
      },
      "outputs": [],
      "source": [
        "#Ans 01:"
      ]
    },
    {
      "cell_type": "code",
      "source": [
        "# Mean: The mean, also known as the average, is calculated by adding up all the values in a data set and then dividing the sum by the number of values.It represents the arithmetic center\n",
        "# of the data and is sensitive to extreme values (outliers).\n",
        "\n",
        "# Median: The median is the middle value in a data set when the values are arranged in ascending or descending order. If there is an even number of values, the median is the average of the\n",
        "# two middle values. The median is less affected by outliers compared to the mean and is a measure of the central position that divides the data into two equal halves.\n",
        "\n",
        "# Mode: The mode is the value that appears most frequently in a data set. A data set can have one mode (unimodal), more than one mode (multimodal), or no mode if all values occur with the\n",
        "# same frequency. The mode is particularly useful for categorical and nominal data."
      ],
      "metadata": {
        "id": "LKkl9pLUloNu"
      },
      "execution_count": 2,
      "outputs": []
    },
    {
      "cell_type": "code",
      "source": [
        "################################################################################################\n",
        "#Ans 02:"
      ],
      "metadata": {
        "id": "spoQoGialzbQ"
      },
      "execution_count": 3,
      "outputs": []
    },
    {
      "cell_type": "code",
      "source": [
        "# The mean, median, and mode are three different measures of central tendency used to describe the central or typical value of a dataset. They provide insight into where the bulk\n",
        "# of the data is concentrated, but they do so in slightly different ways, making them useful in various situations:\n",
        "\n",
        "\n",
        "# Mean:\n",
        "# Calculation: The mean is calculated by summing up all the values in a dataset and then dividing the sum by the total number of values.\n",
        "# Use: The mean is most commonly used to measure central tendency. It represents the arithmetic average of the data and is sensitive to all values in the dataset. However, it can\n",
        "# be heavily influenced by outliers, as extreme values can significantly affect the mean.\n",
        "\n",
        "\n",
        "# Median:\n",
        "# Calculation: The median is the middle value in a dataset when the values are ordered in ascending or descending order. If there is an even number of values, the median is the\n",
        "# average of the two middle values.\n",
        "# Use: The median is used when the dataset has outliers or when you want to find a measure of central tendency that is less affected by extreme values. It divides the data into\n",
        "# two equal halves and is not skewed by outliers as much as the mean.\n",
        "\n",
        "\n",
        "# Mode:\n",
        "# Calculation: The mode is the value that appears most frequently in a dataset. A dataset can have one mode (unimodal), more than one mode (multimodal), or no mode if all values\n",
        "# occur with the same frequency.\n",
        "# Use: The mode is typically used for categorical or nominal data. It provides information about the most common category or value in the dataset and is particularly useful when\n",
        "# dealing with non-numeric data.\n",
        "\n",
        "\n",
        "# In summary, the mean is a measure of central tendency that provides the average of the data and is sensitive to outliers. The median is the middle value that divides the data\n",
        "# into two equal halves and is less affected by extreme values. The mode indicates the most frequently occurring value and is mainly used for categorical data. The choice of which\n",
        "# measure to use depends on the nature of the data and the research question at hand. It's often a good practice to consider all three measures to get a comprehensive understanding\n",
        "# of the central tendency of a dataset."
      ],
      "metadata": {
        "id": "bwpxQITVl3q4"
      },
      "execution_count": 4,
      "outputs": []
    },
    {
      "cell_type": "code",
      "source": [
        "################################################################################################\n",
        "#Ans 03:"
      ],
      "metadata": {
        "id": "zcEsjxHOnyzU"
      },
      "execution_count": 5,
      "outputs": []
    },
    {
      "cell_type": "code",
      "source": [
        "import numpy as np"
      ],
      "metadata": {
        "id": "t6dppIugn925"
      },
      "execution_count": 6,
      "outputs": []
    },
    {
      "cell_type": "code",
      "source": [
        "d1=[178,177,176,177,178.2,178,175,179,180,175,178.9,176.2,177,172.5,178,176.5]"
      ],
      "metadata": {
        "id": "3BZmnrKmn0oO"
      },
      "execution_count": 7,
      "outputs": []
    },
    {
      "cell_type": "code",
      "source": [
        "np.mean(d1)"
      ],
      "metadata": {
        "colab": {
          "base_uri": "https://localhost:8080/"
        },
        "id": "-Aeuyc2_oDcd",
        "outputId": "8f0d1245-e33a-4f8f-e590-dcacc771da44"
      },
      "execution_count": 9,
      "outputs": [
        {
          "output_type": "execute_result",
          "data": {
            "text/plain": [
              "177.01875"
            ]
          },
          "metadata": {},
          "execution_count": 9
        }
      ]
    },
    {
      "cell_type": "code",
      "source": [
        "np.median(d1)"
      ],
      "metadata": {
        "colab": {
          "base_uri": "https://localhost:8080/"
        },
        "id": "N2Dzq_OCoE5u",
        "outputId": "b06aa965-eba2-4cdf-fdc6-f1c454c2ef89"
      },
      "execution_count": 10,
      "outputs": [
        {
          "output_type": "execute_result",
          "data": {
            "text/plain": [
              "177.0"
            ]
          },
          "metadata": {},
          "execution_count": 10
        }
      ]
    },
    {
      "cell_type": "code",
      "source": [
        "from scipy import stats"
      ],
      "metadata": {
        "id": "y9QcHVIaodtC"
      },
      "execution_count": 12,
      "outputs": []
    },
    {
      "cell_type": "code",
      "source": [
        "stats.mode(d1)"
      ],
      "metadata": {
        "colab": {
          "base_uri": "https://localhost:8080/"
        },
        "id": "nD9CvlZ2oUC5",
        "outputId": "b23c4acb-c4d8-4fa9-e1d1-64086b7ab0f7"
      },
      "execution_count": 13,
      "outputs": [
        {
          "output_type": "execute_result",
          "data": {
            "text/plain": [
              "ModeResult(mode=177.0, count=3)"
            ]
          },
          "metadata": {},
          "execution_count": 13
        }
      ]
    },
    {
      "cell_type": "code",
      "source": [
        "################################################################################################\n",
        "#Ans 04:"
      ],
      "metadata": {
        "id": "sFKR0e3KoWzw"
      },
      "execution_count": 14,
      "outputs": []
    },
    {
      "cell_type": "code",
      "source": [
        "d2=[178,177,176,177,178.2,178,175,179,180,175,178.9,176.2,177,172.5,178,176.5]"
      ],
      "metadata": {
        "id": "CjcBmcW3otnT"
      },
      "execution_count": 15,
      "outputs": []
    },
    {
      "cell_type": "code",
      "source": [
        "np.std(d2)"
      ],
      "metadata": {
        "colab": {
          "base_uri": "https://localhost:8080/"
        },
        "id": "fXfK64LWoyRD",
        "outputId": "718efc6e-074b-4669-f703-214ba57dbb89"
      },
      "execution_count": 16,
      "outputs": [
        {
          "output_type": "execute_result",
          "data": {
            "text/plain": [
              "1.7885814036548633"
            ]
          },
          "metadata": {},
          "execution_count": 16
        }
      ]
    },
    {
      "cell_type": "code",
      "source": [
        "################################################################################################\n",
        "#Ans 05:"
      ],
      "metadata": {
        "id": "72jRnJO-o2RB"
      },
      "execution_count": 17,
      "outputs": []
    },
    {
      "cell_type": "code",
      "source": [
        "# Measures of dispersion, such as range, variance, and standard deviation, are used to describe the spread or variability of a dataset. They help quantify how much the\n",
        "# data points in a dataset vary from the central tendency (e.g., mean, median). Here's how each of these measures is used:\n",
        "\n",
        "\n",
        "# Range:\n",
        "# Definition: The range is the simplest measure of dispersion and is calculated by subtracting the minimum value from the maximum value in a dataset.\n",
        "\n",
        "# Use: It provides a quick and straightforward way to understand the spread of data. A larger range indicates greater variability in the dataset.\n",
        "\n",
        "# Example: Suppose you have a dataset of test scores for a class of students: [65, 72, 78, 85, 92]. The range is calculated as 92 (maximum) - 65 (minimum) = 27.\n",
        "# This means the test scores vary by 27 points.\n",
        "\n",
        "\n",
        "# Variance:\n",
        "# Definition: Variance measures how much individual data points deviate from the mean. It's calculated by taking the average of the squared differences between each data\n",
        "# point and the mean.\n",
        "\n",
        "# Use: Variance provides a more detailed understanding of the spread by considering the magnitude of deviations. A higher variance indicates greater variability.\n",
        "\n",
        "# Example: Using the same test score dataset, the mean is (65 + 72 + 78 + 85 + 92) / 5 = 78.4. The variance is calculated as [(65-78.4)^2 + (72-78.4)^2 + (78-78.4)^2\n",
        "# + (85-78.4)^2 + (92-78.4)^2] / 4 = 126.2. A higher variance means the scores are more spread out from the mean.\n",
        "\n",
        "\n",
        "# Standard Deviation:\n",
        "# Definition: The standard deviation is the square root of the variance. It measures the average deviation of data points from the mean in the same units as the data.\n",
        "\n",
        "# Use: Standard deviation is a widely used measure of dispersion because it's in the same units as the original data, making it more interpretable.\n",
        "\n",
        "# Example: In the test score dataset, the standard deviation is the square root of the variance, which is approximately 11.24. This tells us that, on average, the test scores\n",
        "# deviate from the mean by about 11.24 points.\n",
        "\n",
        "\n",
        "# In summary, these measures of dispersion help quantify the spread or variability of data. The range provides a basic understanding, while variance and standard deviation\n",
        "# offer more detailed insights into the magnitude of deviations from the central tendency. Depending on the context and the level of detail needed, you can choose the most\n",
        "# appropriate measure or use a combination of them to describe the spread of a dataset."
      ],
      "metadata": {
        "id": "LgS2Gyruo5E4"
      },
      "execution_count": 18,
      "outputs": []
    },
    {
      "cell_type": "code",
      "source": [
        "################################################################################################\n",
        "#Ans 06:"
      ],
      "metadata": {
        "id": "8VT3EI6YpuRa"
      },
      "execution_count": 19,
      "outputs": []
    },
    {
      "cell_type": "code",
      "source": [
        "# A Venn diagram is a visual representation used to illustrate the relationships between sets or groups of objects or elements. It consists of overlapping circles,\n",
        "# each representing a set, and the intersections between the circles show the elements that belong to multiple sets. Venn diagrams are named after John Venn, a British\n",
        "# logician and philosopher who introduced them in the late 19th century.\n",
        "\n",
        "# Key features of a Venn diagram:\n",
        "\n",
        "# Circles: Each circle in a Venn diagram represents a specific set or category. The elements or objects that belong to that set are depicted within or around the circle.\n",
        "\n",
        "# Overlapping Areas: When two or more circles overlap, the areas of overlap represent elements that belong to multiple sets. The size of the overlap indicates the extent\n",
        "# of the intersection between the sets.\n",
        "\n",
        "# Uniqueness: Elements that are entirely within a single circle are unique to that set. Elements in the overlapping areas are shared between the sets involved.\n",
        "\n",
        "# Usefulness: Venn diagrams are commonly used to visually compare and contrast sets, identify similarities and differences, and analyze the relationships between different\n",
        "# groups or categories of data.\n",
        "\n",
        "# Variations: Venn diagrams can have various configurations, including two or more circles, and they can be adapted to represent more complex relationships involving multiple sets.\n",
        "\n",
        "# Here's a simple example of a Venn diagram:\n",
        "\n",
        "# Imagine you have two sets:\n",
        "# Set A: {Apples, Bananas, Grapes}\n",
        "# Set B: {Grapes, Oranges, Pineapples}\n",
        "\n",
        "# A Venn diagram for these two sets would consist of two circles, one for Set A and one for Set B, with an overlap between them for the common element \"Grapes.\" This would\n",
        "# visually show that \"Grapes\" belong to both Set A and Set B, while the other fruits are unique to their respective sets.\n",
        "\n",
        "# Venn diagrams are widely used in various fields, including mathematics, logic, statistics, and data analysis, to help visualize and understand relationships between\n",
        "# different categories or groups of data."
      ],
      "metadata": {
        "id": "YVkS7bnIpwVt"
      },
      "execution_count": 20,
      "outputs": []
    },
    {
      "cell_type": "code",
      "source": [
        "################################################################################################\n",
        "#Ans 07:"
      ],
      "metadata": {
        "id": "DQzXvsxDqBCO"
      },
      "execution_count": 21,
      "outputs": []
    },
    {
      "cell_type": "code",
      "source": [
        "# (i) A ∩ B (Intersection of A and B):\n",
        "# The intersection of two sets A and B contains all the elements that are common to both sets. In this case, you need to find the elements that are present in both set A and set B.\n",
        "\n",
        "# A = {2, 3, 4, 5, 6, 7}\n",
        "# B = {0, 2, 6, 8, 10}\n",
        "\n",
        "# A ∩ B = {2, 6}\n",
        "\n",
        "# So, A ∩ B contains the elements 2 and 6, which are common to both sets A and B.\n",
        "\n",
        "# (ii) A ⋃ B (Union of A and B):\n",
        "# The union of two sets A and B contains all the distinct elements that belong to either set A or set B or both.\n",
        "\n",
        "# A = {2, 3, 4, 5, 6, 7}\n",
        "# B = {0, 2, 6, 8, 10}\n",
        "\n",
        "# A ⋃ B = {0, 2, 3, 4, 5, 6, 7, 8, 10}\n",
        "\n",
        "# So, A ⋃ B contains all the unique elements from both sets A and B, resulting in the set {0, 2, 3, 4, 5, 6, 7, 8, 10}."
      ],
      "metadata": {
        "id": "tZNI7CYzqC2A"
      },
      "execution_count": 22,
      "outputs": []
    },
    {
      "cell_type": "code",
      "source": [
        "################################################################################################\n",
        "#Ans 08:"
      ],
      "metadata": {
        "id": "ov9SprKBqi42"
      },
      "execution_count": 23,
      "outputs": []
    },
    {
      "cell_type": "code",
      "source": [
        "# Skewness is a statistical measure that quantifies the asymmetry or lack of symmetry in the distribution of data. It indicates the direction and degree to which\n",
        "# a dataset's values are skewed (shifted) to the left or right of the center or mode of the distribution. In a symmetric distribution, the mean, median, and mode\n",
        "# are all approximately equal. However, in a skewed distribution, they differ from each other.\n",
        "\n",
        "# There are two main types of skewness:\n",
        "\n",
        "# Positive Skew (Right Skew):\n",
        "# In a positively skewed distribution, the tail on the right side (higher values) is longer or fatter than the left side (lower values).\n",
        "# The mean is typically greater than the median, and the mode may be the smallest value in the dataset.\n",
        "# Positive skewness often occurs when there are a few extreme values (outliers) on the high end of the data, which pull the mean to the right.\n",
        "\n",
        "# Negative Skew (Left Skew):\n",
        "# In a negatively skewed distribution, the tail on the left side (lower values) is longer or fatter than the right side (higher values).\n",
        "# The mean is typically less than the median, and the mode may be the largest value in the dataset.\n",
        "# Negative skewness often occurs when there are a few extreme values on the low end of the data, which pull the mean to the left.\n",
        "\n",
        "# Skewness is measured using various statistical methods, with one of the most common being the skewness coefficient, often denoted as \"Skewness\" or \"γ.\"\n",
        "\n",
        "# If Skewness > 0, it indicates a positively skewed distribution.\n",
        "# If Skewness < 0, it indicates a negatively skewed distribution.\n",
        "# If Skewness = 0, it suggests a symmetric distribution.\n",
        "\n",
        "# Understanding skewness is important in data analysis because it can provide insights into the shape and characteristics of a dataset. For example:\n",
        "\n",
        "# Positive skewness may suggest that there are outliers or that the data is not normally distributed, and the mean may not be a representative measure of central tendency.\n",
        "# Negative skewness may suggest the presence of floor effects or that the data is not normally distributed, and the mean may not be a representative measure of central tendency.\n",
        "\n",
        "# Analysts and researchers often consider skewness when choosing appropriate statistical techniques and making inferences about the data. Additionally, transforming data\n",
        "#  (e.g., logarithmic transformation) can sometimes be used to make a skewed distribution more symmetric, which can be beneficial for certain statistical analyses."
      ],
      "metadata": {
        "id": "taUuOGorqkmI"
      },
      "execution_count": 24,
      "outputs": []
    },
    {
      "cell_type": "code",
      "source": [
        "################################################################################################\n",
        "#Ans 09:"
      ],
      "metadata": {
        "id": "_nMm78TMrDdX"
      },
      "execution_count": 25,
      "outputs": []
    },
    {
      "cell_type": "code",
      "source": [
        "# If a dataset is right-skewed (positively skewed), the position of the median with respect to the mean will typically be as follows:\n",
        "\n",
        "# Median: The median will be less than the mean.\n",
        "\n",
        "# In a right-skewed distribution, the tail on the right side (higher values) is longer or fatter than the left side (lower values). This means that there are a\n",
        "# few relatively large values (outliers) on the right side that pull the mean to the right. Since the median is less sensitive to extreme values compared to the mean,\n",
        "# it tends to be closer to the bulk of the data, which is concentrated on the left side of the distribution.\n",
        "\n",
        "# So, in a right-skewed distribution:\n",
        "\n",
        "# Mean > Median\n",
        "# The mean is typically greater than the median because it is influenced by the presence of the larger values on the right side of the distribution. The median,\n",
        "# on the other hand, is a measure of central tendency that is not strongly affected by extreme values and is often closer to the center of the data."
      ],
      "metadata": {
        "id": "sFYKdfDIrFYj"
      },
      "execution_count": 26,
      "outputs": []
    },
    {
      "cell_type": "code",
      "source": [
        "################################################################################################\n",
        "#Ans 10:"
      ],
      "metadata": {
        "id": "AEZF_i3Rrtr7"
      },
      "execution_count": 27,
      "outputs": []
    },
    {
      "cell_type": "code",
      "source": [
        "# Covariance and correlation are both measures used in statistics to describe the relationship between two variables, but they serve slightly different purposes\n",
        "# and have different scales of measurement:\n",
        "\n",
        "# Covariance:\n",
        "# Covariance measures the degree to which two variables change together. It quantifies the direction of the linear relationship between two variables, whether they tend to\n",
        "# increase or decrease together.\n",
        "\n",
        "# Calculation: The covariance between two variables, X and Y, is calculated as the average of the products of the deviations of X and Y from their respective means:"
      ],
      "metadata": {
        "id": "GN0qX59mrvic"
      },
      "execution_count": 30,
      "outputs": []
    },
    {
      "cell_type": "markdown",
      "source": [
        "![Screenshot 2023-10-08 104853.png](data:image/png;base64,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)"
      ],
      "metadata": {
        "id": "zxo6Tk3Xu57A"
      }
    },
    {
      "cell_type": "code",
      "source": [
        "# where n is the number of data points, Xi and Yi are individual data points,ˉXˉ(i.e X bar) is the mean of X, and ˉYˉ(ie. Y bar) is the mean of Y.\n",
        "\n",
        "# Scale: The scale of covariance depends on the units of the variables being measured. As a result, it is not standardized, making it challenging to compare\n",
        "# covariances across different datasets."
      ],
      "metadata": {
        "id": "g9uRWnWxu4YM"
      },
      "execution_count": 29,
      "outputs": []
    },
    {
      "cell_type": "code",
      "source": [
        "# Correlation:\n",
        "# Correlation measures both the strength and direction of the linear relationship between two variables. Unlike covariance, correlation is a standardized measure\n",
        "# that ranges between -1 and 1, making it easier to interpret and compare across different datasets.\n",
        "\n",
        "# Calculation: The most commonly used correlation coefficient is the Pearson correlation coefficient (often denoted as rho), which is calculated as the covariance of X and Y\n",
        "# divided by the product of their standard deviations:"
      ],
      "metadata": {
        "id": "WMtrV6NSvh06"
      },
      "execution_count": 31,
      "outputs": []
    },
    {
      "cell_type": "markdown",
      "source": [
        "![image.png](data:image/png;base64,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)"
      ],
      "metadata": {
        "id": "CfEn5bt5wDJf"
      }
    },
    {
      "cell_type": "code",
      "source": [
        "# where σX and σYare the standard deviations of X and Y, respectively.\n",
        "\n",
        "# Scale: Correlation coefficients range from -1 (perfect negative correlation) to 1 (perfect positive correlation), with 0 indicating no linear correlation. A positive\n",
        "# correlation coefficient indicates a positive linear relationship, while a negative correlation coefficient indicates a negative linear relationship."
      ],
      "metadata": {
        "id": "cVKHEr0mv7jU"
      },
      "execution_count": 32,
      "outputs": []
    },
    {
      "cell_type": "code",
      "source": [
        "# How they are used in statistical analysis:\n",
        "\n",
        "# Covariance: Covariance is used to quantify the relationship between two variables in their original units. However, its scale makes it less interpretable and\n",
        "# challenging to compare between datasets. It can be used for exploratory data analysis and in some statistical models, such as linear regression. Positive covariance\n",
        "# indicates a positive relationship, while negative covariance indicates a negative relationship.\n",
        "\n",
        "# Correlation: Correlation, particularly the Pearson correlation coefficient (r), is widely used in statistical analysis because it provides a standardized measure\n",
        "# of the strength and direction of the linear relationship between two variables. It is easier to interpret and compare across datasets. Correlation is used in various\n",
        "# fields, including finance, social sciences, and natural sciences, to assess the strength and direction of associations between variables. It helps in making\n",
        "# predictions, identifying trends, and understanding the relationship between variables.\n",
        "\n",
        "# In summary, while both covariance and correlation measure the relationship between two variables, correlation is preferred in many cases due to its standardized scale,\n",
        "# which allows for easier interpretation and comparison. Correlation provides a more comprehensive view of the strength and direction of the linear relationship between\n",
        "# variables, making it a valuable tool in statistical analysis."
      ],
      "metadata": {
        "id": "HyBLkiSqwafE"
      },
      "execution_count": 33,
      "outputs": []
    },
    {
      "cell_type": "code",
      "source": [
        "################################################################################################\n",
        "#Ans 11:"
      ],
      "metadata": {
        "id": "LkZQqZ2Jwrt_"
      },
      "execution_count": 34,
      "outputs": []
    },
    {
      "cell_type": "markdown",
      "source": [
        "![image.png](data:image/png;base64,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)"
      ],
      "metadata": {
        "id": "e3m7DcQ9z-7f"
      }
    },
    {
      "cell_type": "code",
      "source": [
        "################################################################################################\n",
        "#Ans 12:"
      ],
      "metadata": {
        "id": "gZi0GI7Rww8F"
      },
      "execution_count": 35,
      "outputs": []
    },
    {
      "cell_type": "code",
      "source": [
        "# In a normal distribution, also known as a Gaussian distribution or a bell curve, the three common measures of central tendency mean, median, and mode have\n",
        "# the following relationship:\n",
        "\n",
        "# Mean (μ):\n",
        "# In a normal distribution, the mean is located at the center of the distribution.\n",
        "# The mean is equal to the median.\n",
        "# The mean is also equal to the mode.\n",
        "\n",
        "# Median:\n",
        "# In a normal distribution, the median is located at the center of the distribution, which is the same as the mean.\n",
        "# The median is equal to the mean.\n",
        "# The median is also equal to the mode.\n",
        "\n",
        "# Mode:\n",
        "# In a perfectly symmetric normal distribution, there are two modes, both located at the center of the distribution.\n",
        "# The modes are equal to the mean and the median.\n",
        "\n",
        "# In summary, for a perfectly normal distribution, the mean, median, and mode all coincide at the center of the distribution, and they are equal to each other.\n",
        "# This is one of the key characteristics of a symmetric normal distribution. However, in real-world data, distributions may not always be perfectly normal or\n",
        "# symmetric, and in such cases, the relationships between these measures of central tendency may differ."
      ],
      "metadata": {
        "id": "gI_Si2tR0Fgt"
      },
      "execution_count": 36,
      "outputs": []
    },
    {
      "cell_type": "code",
      "source": [
        "################################################################################################\n",
        "#Ans 13:"
      ],
      "metadata": {
        "id": "VtTfIPn90trv"
      },
      "execution_count": 37,
      "outputs": []
    },
    {
      "cell_type": "code",
      "source": [
        "# Covariance and correlation are both measures used to describe the relationship between two variables, but they serve slightly different purposes and have\n",
        "# different scales of measurement. Here are the key differences between covariance and correlation:\n",
        "\n",
        "# Scale of Measurement:\n",
        "\n",
        "# Covariance: Covariance is a measure that quantifies the degree to which two variables change together. It can take on any value and is not standardized. The scale of\n",
        "# covariance depends on the units of the variables being measured, making it challenging to compare covariances across different datasets. As a result, it can be difficult\n",
        "# to interpret the magnitude of covariance.\n",
        "# Correlation: Correlation is a standardized measure that ranges between -1 and 1. It provides a more interpretable measure of the relationship between two variables.\n",
        "# A positive correlation coefficient indicates a positive linear relationship, a negative coefficient indicates a negative linear relationship, and a coefficient of 0\n",
        "# indicates no linear correlation. The standardized scale makes correlation coefficients easier to compare across datasets.\n",
        "\n",
        "# Interpretability:\n",
        "\n",
        "# Covariance: Covariance does not have a clear interpretation in terms of the strength or direction of the relationship between two variables. A positive covariance suggests\n",
        "# that the variables tend to increase or decrease together, while a negative covariance suggests they move in opposite directions. However, the magnitude of covariance is\n",
        "# difficult to interpret without knowledge of the units of measurement.\n",
        "# Correlation: Correlation provides a clear and standardized measure of both the strength and direction of the linear relationship between two variables. The correlation\n",
        "# coefficient ranges from -1 (perfect negative correlation) to 1 (perfect positive correlation), with 0 indicating no linear correlation. This makes it easier to understand\n",
        "# and compare the strength and direction of relationships across different datasets.\n",
        "\n",
        "# Independence:\n",
        "\n",
        "# Covariance: Covariance can be positive or negative, but it does not indicate the independence of variables. Variables can have a covariance of 0 and still be dependent\n",
        "# in a nonlinear way.\n",
        "# Correlation: A correlation coefficient of 0 indicates no linear correlation between variables. While it doesn't guarantee independence (since variables can be dependent\n",
        "# in nonlinear ways), a correlation coefficient of 0 is often used as evidence of no linear relationship between the variables.\n",
        "\n",
        "# In summary, while both covariance and correlation measure the relationship between two variables, correlation is often preferred because of its standardized scale and clear\n",
        "# interpretation of the strength and direction of the linear relationship. Covariance, on the other hand, provides information about the direction of the relationship but\n",
        "# lacks the interpretability and comparability offered by correlation."
      ],
      "metadata": {
        "id": "C48HmB2C0vuz"
      },
      "execution_count": 38,
      "outputs": []
    },
    {
      "cell_type": "code",
      "source": [
        "################################################################################################\n",
        "#Ans 14:"
      ],
      "metadata": {
        "id": "es7nwC5Y1SEI"
      },
      "execution_count": 39,
      "outputs": []
    },
    {
      "cell_type": "code",
      "source": [
        "# Outliers can significantly affect measures of central tendency and dispersion in a dataset. Their presence can distort the typical values and the spread of the data.\n",
        "# Here's how outliers impact these measures, along with an example:\n",
        "\n",
        "\n",
        "\n",
        "# Measures of Central Tendency (e.g., Mean, Median, Mode):\n",
        "\n",
        "# Mean: Outliers can have a substantial impact on the mean. If there are outliers with extremely high or low values, they can pull the mean in the direction of the\n",
        "# outliers. In the presence of positive outliers, the mean tends to be higher than expected, and in the presence of negative outliers, the mean tends to be lower.\n",
        "\n",
        "# Median: The median is less affected by outliers compared to the mean. It represents the middle value in a dataset, and extreme values have less influence because\n",
        "# it does not consider their magnitude.\n",
        "\n",
        "# Mode: The mode is typically not affected by outliers unless the dataset is heavily skewed towards the outlier values. The mode is simply the most frequently occurring value.\n",
        "\n",
        "# Example:\n",
        "# Consider a dataset of salaries for employees in a small company:\n",
        "\n",
        "# Salaries={30000,35000,40000,45000,150000}\n",
        "\n",
        "# The mean salary is (30000 + 35000 + 40000 + 45000 + 150000)/5 = 60000\n",
        "\n",
        "# The presence of the outlier (150000) significantly inflates the mean.\n",
        "# The median salary is the middle value, which is 40000. It is less influenced by the outlier.\n",
        "# The mode is the most frequently occurring value, which in this case is absent because no salary is repeated.\n",
        "\n",
        "\n",
        "\n",
        "# Measures of Dispersion (e.g., Range, Variance, Standard Deviation):\n",
        "\n",
        "# Range: Outliers can have a substantial impact on the range, especially if they are far from the bulk of the data. The range is calculated as the difference\n",
        "# between the maximum and minimum values, so extreme outliers can widen the range considerably.\n",
        "\n",
        "# Variance and Standard Deviation: Outliers can increase the variance and standard deviation, which measure the spread or dispersion of data. Since these measures\n",
        "# involve squaring the differences from the mean, large outliers contribute significantly to the overall variance. As a result, the standard deviation becomes\n",
        "# larger when outliers are present.\n",
        "\n",
        "# Example:\n",
        "# Consider the same salary dataset as above:\n",
        "\n",
        "# The range is 150000 - 30000 = 120000, primarily driven by the outlier.\n",
        "\n",
        "# The variance and standard deviation will be higher due to the outlier's influence on the squared differences from the mean.\n",
        "\n",
        "\n",
        "\n",
        "# In summary, outliers can distort measures of central tendency by pulling the mean in their direction but have less impact on the median and mode.\n",
        "# They can also increase measures of dispersion, such as range, variance, and standard deviation, making them larger than they would be in the absence\n",
        "# of outliers. It's essential to be aware of outliers and consider their effects when analyzing and interpreting data. Depending on the context, you may\n",
        "# choose to address or handle outliers in various ways, such as through data transformation or outlier removal."
      ],
      "metadata": {
        "id": "SG5Aeqkv1T_K"
      },
      "execution_count": 40,
      "outputs": []
    },
    {
      "cell_type": "code",
      "source": [
        "################################################################################################"
      ],
      "metadata": {
        "id": "nGnjyL5B3Dhx"
      },
      "execution_count": 41,
      "outputs": []
    }
  ]
}