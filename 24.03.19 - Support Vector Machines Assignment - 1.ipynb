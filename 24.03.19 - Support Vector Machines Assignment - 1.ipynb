{
 "cells": [
  {
   "cell_type": "code",
   "execution_count": 1,
   "id": "5e6333a1-98f7-4482-b2e8-06b0460ab488",
   "metadata": {},
   "outputs": [],
   "source": [
    "# Ans 01:"
   ]
  },
  {
   "cell_type": "code",
   "execution_count": 2,
   "id": "1e96fd29-8ed2-428c-a311-de6a2bab707c",
   "metadata": {},
   "outputs": [],
   "source": [
    "# The mathematical formula for a linear Support Vector Machine (SVM) can be represented as follows:\n",
    "\n",
    "# Given a dataset with input features x_(i) and corresponding labels y_(i), where x_(i) is a vector in the feature space and y_(i) is either -1 or 1 for\n",
    "# binary classification:\n",
    "\n",
    "# 1. Decision Function: The decision function of a linear SVM is defined as:\n",
    "                        \n",
    "#     f(x) = w⋅x + b\n",
    "\n",
    "# Where:\n",
    "# w is the weight vector perpendicular to the hyperplane.\n",
    "# b is the bias term.\n",
    "\n",
    "# 2. Optimization Objective: The goal of SVM is to find the optimal hyperplane that separates the classes with the maximum margin. This can be\n",
    "# formulated as an optimization problem:\n",
    "\n",
    "#     min_(w,b) * 1/2||w||^2\n",
    "\n",
    "# Subject to the constraints:\n",
    "\n",
    "#     y_(i)(w⋅x_(i) + b) >= 1 for all i\n",
    "\n",
    "# These constraints enforce that all data points are correctly classified and lie on the correct side of the decision boundary (margin).\n",
    "\n",
    "# 3. Margin: The margin is the distance between the decision boundary and the nearest data point from either class. It is given by:\n",
    "\n",
    "#     Margin = 2/∣∣w∣∣\n",
    "\n",
    "# 4. Support Vectors: Support vectors are the data points that lie closest to the decision boundary and influence the position and orientation of\n",
    "\n",
    "#     y_(i)(w⋅x_(i) + b) >= 1\n",
    "\n",
    "# These are the key components of the mathematical formulation of a linear SVM. The optimization problem is typically solved using techniques like\n",
    "# gradient descent or quadratic programming to find the optimal values of w and b."
   ]
  },
  {
   "cell_type": "code",
   "execution_count": 3,
   "id": "edaeeecb-03e3-4bfa-a8f2-fb501eea1def",
   "metadata": {},
   "outputs": [],
   "source": [
    "#############################################################################################################\n",
    "# Ans 02:"
   ]
  },
  {
   "cell_type": "code",
   "execution_count": 4,
   "id": "082359c3-873c-4aad-aa5e-3657eab6fea7",
   "metadata": {},
   "outputs": [],
   "source": [
    "# The objective function of a linear Support Vector Machine (SVM) is formulated to maximize the margin between the classes while\n",
    "# minimizing the classification error. Mathematically, the objective function for a linear SVM can be expressed as:\n",
    "\n",
    "#     min_(w,b) * 1/2||w||^2\n",
    "\n",
    "# Subject to the constraints:\n",
    "\n",
    "#     y_(i)(w.x_(i) + b) >= 1\n",
    "\n",
    "# Here's a breakdown of the components:\n",
    "\n",
    "# 1. Minimization Objective: The term 1/2||w||^2 represents the regularization term. This term aims to minimize the squared magnitude of the weight\n",
    "# vector w, which effectively maximizes the margin between the classes. Maximizing the margin helps in achieving better generalization and robustness\n",
    "# of the classifier.\n",
    "\n",
    "# 2. Constraints: The constraints y_(i) * (w⋅x_(i) + b) >= 1 ensure that all data points are correctly classified and lie on the correct side of the\n",
    "# decision boundary (margin). These constraints enforce that the decision function w⋅x + b correctly assigns labels to the training data with a margin\n",
    "# of at least 1.\n",
    "\n",
    "# The objective function essentially seeks to find the optimal hyperplane that maximizes the margin while correctly classifying the training data. This\n",
    "# is achieved by simultaneously minimizing the magnitude of the weight vector w and satisfying the classification constraints."
   ]
  },
  {
   "cell_type": "code",
   "execution_count": 5,
   "id": "63e054f4-5051-4a73-b269-a43aac33e0a5",
   "metadata": {},
   "outputs": [],
   "source": [
    "#############################################################################################################\n",
    "# Ans 03:"
   ]
  },
  {
   "cell_type": "code",
   "execution_count": 6,
   "id": "1ecfa460-d285-4419-b11d-82de2ef799c9",
   "metadata": {},
   "outputs": [],
   "source": [
    "# The kernel trick is a concept in Support Vector Machines (SVMs) that allows for nonlinear decision boundaries by implicitly mapping\n",
    "# the input data into a higher-dimensional space. It enables SVMs to efficiently handle complex datasets that are not linearly separable in the\n",
    "# original feature space.\n",
    "\n",
    "# Here's how the kernel trick works:\n",
    "\n",
    "# 1. Nonlinear Mapping:\n",
    "# Instead of directly operating in the original feature space, the kernel trick maps the input data into a higher-dimensional\n",
    "# feature space using a mathematical function called a kernel. This mapping allows for nonlinear transformations of the input data.\n",
    "\n",
    "# 2. Inner Products:\n",
    "# In the higher-dimensional feature space, SVM constructs a linear decision boundary (hyperplane). The decision boundary is determined\n",
    "# by the inner products of the mapped data points, which are computationally efficient to calculate even in high-dimensional spaces.\n",
    "\n",
    "# 3. Kernel Functions:\n",
    "# Kernel functions are mathematical functions that compute the inner product of the mapped data points without explicitly transforming\n",
    "# them into the higher-dimensional space. This avoids the computational cost and potential storage issues associated with explicitly working in\n",
    "# high-dimensional spaces.\n",
    "\n",
    "# 4. Common Kernel Functions: Some commonly used kernel functions include:\n",
    "# a. Linear Kernel: K(x, x′) = x^T * x′\n",
    "# b. Polynomial Kernel: K(x, x′) = ((x^T * x′) + c)^d\n",
    "# c. Gaussian (RBF) Kernel: K(x, x′) = exp(−(||x-x′||^2)/2σ^2) \n",
    "# d. Sigmoid Kernel: K(x, x′) = tanh((αx^T * x′) + c)\n",
    "\n",
    "# 5. Flexibility:\n",
    "# The choice of kernel function determines the shape of the decision boundary and the classifier's ability to capture complex patterns in the data.\n",
    "# Different kernel functions are suitable for different types of datasets and learning tasks.\n",
    "\n",
    "# In summary, the kernel trick allows SVMs to effectively handle nonlinear relationships in data by implicitly mapping them into a higher-dimensional\n",
    "# space, where linear separation becomes possible, without explicitly computing the transformation. This makes SVMs powerful for a wide range of\n",
    "# classification tasks, including those with complex decision boundaries."
   ]
  },
  {
   "cell_type": "code",
   "execution_count": 7,
   "id": "026b70e4-7569-405b-acae-8f2641fb54e8",
   "metadata": {},
   "outputs": [],
   "source": [
    "#############################################################################################################\n",
    "# Ans 04:"
   ]
  },
  {
   "cell_type": "code",
   "execution_count": 8,
   "id": "b6cd40b3-2689-460b-b6ff-3a2a213a3efd",
   "metadata": {},
   "outputs": [],
   "source": [
    "# Support vectors play a crucial role in Support Vector Machines (SVMs). They are the data points that lie closest to the decision\n",
    "# boundary (hyperplane) and significantly influence the position and orientation of the decision boundary. These vectors support the\n",
    "# definition of the decision boundary and are instrumental in determining the optimal hyperplane that maximizes the margin between\n",
    "# classes.\n",
    "\n",
    "# Here's an explanation with an example:\n",
    "\n",
    "# Let's consider a simple binary classification problem with two classes: red squares and blue circles. We want to find the optimal decision\n",
    "# boundary (hyperplane) that separates these classes.\n",
    "\n",
    "# 1. Training Data: Suppose we have the following training dataset:\n",
    "# Red squares:\n",
    "# a. (-1, 1)\n",
    "# b. (-2, 2)\n",
    "# c. (-2, -1)\n",
    "\n",
    "# Blue circles:\n",
    "# a. (1, 0)\n",
    "# b. (2, 1)\n",
    "# c. (2, -1)\n",
    "\n",
    "# 2. Finding the Optimal Hyperplane: In SVM, the goal is to find the hyperplane that maximizes the margin between the classes while minimizing\n",
    "# classification error.\n",
    "\n",
    "# 3. Support Vectors: After training the SVM, we identify the support vectors, which are the data points closest to the decision boundary. In this\n",
    "# example, the support vectors are:\n",
    "# Red squares:\n",
    "# a. (-1, 1)\n",
    "# b. (-2, -1)\n",
    "# Blue circles:\n",
    "# a. (1, 0)\n",
    "# b. (2, 1)\n",
    "\n",
    "# 4. Decision Boundary: The decision boundary is determined by the support vectors. In a linear SVM, the decision boundary is a hyperplane defined by\n",
    "# the support vectors. In this case, the decision boundary lies equidistant between the support vectors from each class.\n",
    "\n",
    "\n",
    "# 5. Margin: The margin is the distance between the decision boundary and the nearest support vectors from each class. Maximizing this margin leads to\n",
    "# better generalization and robustness of the classifier.\n",
    "\n",
    "# In summary, support vectors are the critical data points that define the decision boundary in SVM. They are essential for determining the optimal\n",
    "# hyperplane and maximizing the margin between classes. By focusing on these key data points, SVM achieves effective classification even in\n",
    "# high-dimensional spaces and with complex decision boundaries."
   ]
  },
  {
   "cell_type": "code",
   "execution_count": 9,
   "id": "22db1104-97cd-4d4c-bd3c-8a2c1185e8c8",
   "metadata": {},
   "outputs": [],
   "source": [
    "#############################################################################################################\n",
    "# Ans 05:"
   ]
  },
  {
   "cell_type": "code",
   "execution_count": 10,
   "id": "f68eede7-0955-47d1-850c-b17a2fc285db",
   "metadata": {},
   "outputs": [],
   "source": [
    "# Certainly! Let's illustrate the concepts of Hyperplane, Marginal plane, Soft margin, and Hard margin in SVM with examples and graphs.\n",
    "\n",
    "# 1. Hyperplane:\n",
    "# a. The hyperplane is the decision boundary that separates the classes in SVM.\n",
    "# b. In a 2D space, the hyperplane is a straight line. In higher dimensions, it becomes a hyperplane.\n",
    "# c. Example: Consider a simple linearly separable dataset with two classes: red squares and blue circles.\n",
    "\n",
    "# 2. Marginal plane:\n",
    "# a. The marginal plane is a parallel plane to the hyperplane that passes through the support vectors.\n",
    "# b. It helps in defining the margin, which is the distance between the hyperplane and the marginal plane.\n",
    "# c. Example: Using the same dataset as above, the marginal planes are shown as dashed lines parallel to the hyperplane.\n",
    "\n",
    "# 3. Hard margin:\n",
    "# a. Hard margin SVM aims to find the hyperplane that perfectly separates the classes without any misclassification.\n",
    "# b. It works well when the data is linearly separable and there is no noise.\n",
    "# c. Example: In the graph below, the solid line represents the hard margin hyperplane separating the classes without any misclassification.\n",
    "\n",
    "# 4. Soft margin:\n",
    "# a. Soft margin SVM allows for some misclassification to handle noisy or overlapping data.\n",
    "# b. It introduces a slack variable that allows some data points to be on the wrong side of the margin or even on the wrong side of the hyperplane.\n",
    "# c. Example: In the graph below, the dashed lines represent the soft margin hyperplane, allowing for a certain degree of misclassification.\n",
    "\n",
    "# In summary, understanding the concepts of hyperplane, marginal plane, soft margin, and hard margin in SVM is crucial for effectively utilizing SVM\n",
    "# for classification tasks. These concepts help in defining the decision boundary and handling different types of datasets, ranging from perfectly\n",
    "# separable to noisy or overlapping."
   ]
  },
  {
   "cell_type": "code",
   "execution_count": 11,
   "id": "d92df9e6-e652-4fc2-8bed-51827156a71b",
   "metadata": {},
   "outputs": [],
   "source": [
    "#############################################################################################################\n",
    "# Ans 06:"
   ]
  },
  {
   "cell_type": "code",
   "execution_count": 12,
   "id": "aabcfa19-c179-4823-a5dd-67469cc4470e",
   "metadata": {},
   "outputs": [],
   "source": [
    "import numpy as np\n",
    "import matplotlib.pyplot as plt\n",
    "from sklearn.datasets import load_iris\n",
    "from sklearn.model_selection import train_test_split\n",
    "from sklearn.svm import SVC\n",
    "from sklearn.metrics import accuracy_score"
   ]
  },
  {
   "cell_type": "code",
   "execution_count": 13,
   "id": "6c4f65fa-c1f2-436b-8253-044bc49422bd",
   "metadata": {},
   "outputs": [
    {
     "name": "stdout",
     "output_type": "stream",
     "text": [
      "Accuracy of the model: 0.8\n"
     ]
    },
    {
     "data": {
      "image/png": "[encoded data removed]",
      "text/plain": [
       "<Figure size 640x480 with 1 Axes>"
      ]
     },
     "metadata": {},
     "output_type": "display_data"
    },
    {
     "name": "stdout",
     "output_type": "stream",
     "text": [
      "Accuracy with C=0.1: 0.82\n",
      "Accuracy with C=1: 0.80\n",
      "Accuracy with C=10: 0.80\n",
      "Accuracy with C=100: 0.80\n"
     ]
    }
   ],
   "source": [
    "# Load the Iris dataset\n",
    "iris = load_iris()\n",
    "X = iris.data[:, :2]  # Considering only the first two features for visualization purposes\n",
    "y = iris.target\n",
    "\n",
    "# Split the dataset into training and testing sets\n",
    "X_train, X_test, y_train, y_test = train_test_split(X, y, test_size=0.3, random_state=42)\n",
    "\n",
    "# Train a linear SVM classifier\n",
    "svm_classifier = SVC(kernel='linear')\n",
    "svm_classifier.fit(X_train, y_train)\n",
    "\n",
    "# Predict labels for the testing set\n",
    "y_pred = svm_classifier.predict(X_test)\n",
    "\n",
    "# Compute the accuracy of the model\n",
    "accuracy = accuracy_score(y_test, y_pred)\n",
    "print(\"Accuracy of the model:\", accuracy)\n",
    "\n",
    "# Plot the decision boundaries of the trained model\n",
    "def plot_decision_boundary(X, y, classifier):\n",
    "    x_min, x_max = X[:, 0].min() - 1, X[:, 0].max() + 1\n",
    "    y_min, y_max = X[:, 1].min() - 1, X[:, 1].max() + 1\n",
    "    xx, yy = np.meshgrid(np.arange(x_min, x_max, 0.1),\n",
    "                         np.arange(y_min, y_max, 0.1))\n",
    "    Z = classifier.predict(np.c_[xx.ravel(), yy.ravel()])\n",
    "    Z = Z.reshape(xx.shape)\n",
    "    plt.contourf(xx, yy, Z, alpha=0.4)\n",
    "    plt.scatter(X[:, 0], X[:, 1], c=y, s=20, edgecolor='k')\n",
    "    plt.xlabel('Feature 1')\n",
    "    plt.ylabel('Feature 2')\n",
    "    plt.title('Decision Boundaries of SVM')\n",
    "    plt.show()\n",
    "\n",
    "plot_decision_boundary(X_train, y_train, svm_classifier)\n",
    "\n",
    "# Try different values of the regularization parameter C\n",
    "C_values = [0.1, 1, 10, 100]\n",
    "for C in C_values:\n",
    "    svm_classifier = SVC(kernel='linear', C=C)\n",
    "    svm_classifier.fit(X_train, y_train)\n",
    "    y_pred = svm_classifier.predict(X_test)\n",
    "    accuracy = accuracy_score(y_test, y_pred)\n",
    "    print(\"Accuracy with C={}: {:.2f}\".format(C, accuracy))"
   ]
  },
  {
   "cell_type": "code",
   "execution_count": 14,
   "id": "f8f235ce-c51f-42e4-8b98-294e06c05c62",
   "metadata": {},
   "outputs": [
    {
     "name": "stdout",
     "output_type": "stream",
     "text": [
      "Accuracy of scikit-learn SVM: 1.0\n",
      "Accuracy of custom SVM: 0.28888888888888886\n"
     ]
    }
   ],
   "source": [
    "import numpy as np\n",
    "\n",
    "class LinearSVM:\n",
    "    def __init__(self, learning_rate=0.001, lambda_param=0.01, n_iters=1000):\n",
    "        self.learning_rate = learning_rate\n",
    "        self.lambda_param = lambda_param\n",
    "        self.n_iters = n_iters\n",
    "        self.weights = None\n",
    "        self.bias = None\n",
    "\n",
    "    def fit(self, X, y):\n",
    "        n_samples, n_features = X.shape\n",
    "        y_ = np.where(y <= 0, -1, 1)\n",
    "        self.weights = np.zeros(n_features)\n",
    "        self.bias = 0\n",
    "\n",
    "        for _ in range(self.n_iters):\n",
    "            for idx, x_i in enumerate(X):\n",
    "                condition = y_[idx] * (np.dot(x_i, self.weights) - self.bias) >= 1\n",
    "                if condition:\n",
    "                    self.weights -= self.learning_rate * (2 * self.lambda_param * self.weights)\n",
    "                else:\n",
    "                    self.weights -= self.learning_rate * (2 * self.lambda_param * self.weights - np.dot(x_i, y_[idx]))\n",
    "                    self.bias -= self.learning_rate * y_[idx]\n",
    "\n",
    "    def predict(self, X):\n",
    "        approx = np.dot(X, self.weights) - self.bias\n",
    "        return np.sign(approx)\n",
    "\n",
    "# Comparison with scikit-learn implementation\n",
    "from sklearn.datasets import load_iris\n",
    "from sklearn.model_selection import train_test_split\n",
    "from sklearn.svm import SVC\n",
    "from sklearn.metrics import accuracy_score\n",
    "\n",
    "# Load the Iris dataset\n",
    "iris = load_iris()\n",
    "X = iris.data\n",
    "y = iris.target\n",
    "\n",
    "# Split the dataset into training and testing sets\n",
    "X_train, X_test, y_train, y_test = train_test_split(X, y, test_size=0.3, random_state=42)\n",
    "\n",
    "# Linear SVM using scikit-learn\n",
    "svm_sklearn = SVC(kernel='linear')\n",
    "svm_sklearn.fit(X_train, y_train)\n",
    "y_pred_sklearn = svm_sklearn.predict(X_test)\n",
    "accuracy_sklearn = accuracy_score(y_test, y_pred_sklearn)\n",
    "print(\"Accuracy of scikit-learn SVM:\", accuracy_sklearn)\n",
    "\n",
    "# Linear SVM from scratch\n",
    "svm_custom = LinearSVM()\n",
    "svm_custom.fit(X_train, y_train)\n",
    "y_pred_custom = svm_custom.predict(X_test)\n",
    "accuracy_custom = accuracy_score(y_test, y_pred_custom)\n",
    "print(\"Accuracy of custom SVM:\", accuracy_custom)"
   ]
  },
  {
   "cell_type": "code",
   "execution_count": 16,
   "id": "a9ae8868-aa34-4a64-a239-f3c25bc9c597",
   "metadata": {},
   "outputs": [],
   "source": [
    "#############################################################################################################"
   ]
  }
 ],
 "metadata": {
  "kernelspec": {
   "display_name": "Python 3 (ipykernel)",
   "language": "python",
   "name": "python3"
  },
  "language_info": {
   "codemirror_mode": {
    "name": "ipython",
    "version": 3
   },
   "file_extension": ".py",
   "mimetype": "text/x-python",
   "name": "python",
   "nbconvert_exporter": "python",
   "pygments_lexer": "ipython3",
   "version": "3.11.7"
  }
 },
 "nbformat": 4,
 "nbformat_minor": 5
}
