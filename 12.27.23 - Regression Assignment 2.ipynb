{
 "cells": [
  {
   "cell_type": "code",
   "execution_count": 1,
   "id": "75380118-fdd0-4734-86ef-a58316e5ce6b",
   "metadata": {
    "tags": []
   },
   "outputs": [],
   "source": [
    "#Ans 01:"
   ]
  },
  {
   "cell_type": "code",
   "execution_count": 2,
   "id": "9dfcde1a-6482-4883-86ba-6c89d02cc942",
   "metadata": {
    "tags": []
   },
   "outputs": [],
   "source": [
    "# R-squared, often denoted as R^2 , is a statistical measure used to assess how well a regression model fits the observed\n",
    "# data. It signifies the proportion of the variance in the dependent variable that is predictable from the independent variable(s).\n",
    "\n",
    "# The calculation of R^2 involves:\n",
    "\n",
    "# 1. Sum of Squares Total (SST): It measures the total variance of the dependent variable. It's the sum of the squared differences\n",
    "# between each observed dependent variable value and the mean of the dependent variable.\n",
    "\n",
    "# 2. Sum of Squares Residual (SSR): It represents the variance that the model doesn't explain. It's the sum of the squared differences\n",
    "# between the observed dependent variable values and the predicted values from the regression model.\n",
    "\n",
    "# The formula for �2R 2  is:\n",
    "#     R^2 = 1 - (SSR/SST)\n",
    "\n",
    "# This value ranges from 0 to 1.\n",
    "\n",
    "# R^2 = 0 indicates that the model does not explain any of the variance in the dependent variable around its mean.\n",
    "# R^2 = 1 implies that the model explains all the variance in the dependent variable around its mean.\n",
    "\n",
    "# In essence, R^2 represents the goodness of fit of the regression model. It doesn't indicate whether the coefficient estimates are biased\n",
    "# or unbiased, nor does it indicate if the model is well-specified in terms of its predictors.\n",
    "\n",
    "# While it's a useful measure for understanding how well the model fits the data, it should be used cautiously and in conjunction with\n",
    "# other evaluation metrics to fully assess a model's performance."
   ]
  },
  {
   "cell_type": "code",
   "execution_count": 3,
   "id": "5206f155-b898-454b-948d-e0ac45f4dfe8",
   "metadata": {
    "tags": []
   },
   "outputs": [],
   "source": [
    "##############################################################################"
   ]
  },
  {
   "cell_type": "code",
   "execution_count": 4,
   "id": "e872f835-47b5-4ffa-ad05-8f1b9036b2d1",
   "metadata": {
    "tags": []
   },
   "outputs": [],
   "source": [
    "#Ans 02:"
   ]
  },
  {
   "cell_type": "code",
   "execution_count": 5,
   "id": "2607c89e-9a4e-4357-a125-5c36d353afcd",
   "metadata": {
    "tags": []
   },
   "outputs": [],
   "source": [
    "# Adjusted R^2 is a modified version of the regular R^2 that accounts for the number of predictors in a regression model.\n",
    "# While R^2 tends to increase as more predictors are added, even if those predictors add little value to the model, adjusted R^2\n",
    "# adjusts for this tendency by penalizing excessive use of variables that don't significantly improve the model.\n",
    "\n",
    "# The formula for adjusted R^2 is:\n",
    "    \n",
    "#     Adjusted R^2 = 1 - ((1-R^2)*(n-1))/n-k-1\n",
    "\n",
    "# Where:\n",
    "# R^2 is the regular coefficient of determination.\n",
    "# n is the number of observations.\n",
    "# k is the number of predictors in the model.\n",
    "\n",
    "# The key differences between R^2 and adjusted R^2 are:\n",
    "# 1. Penalization for Additional Predictors: Adjusted R^2 penalizes the inclusion of unnecessary predictors by considering the number\n",
    "# of predictors used in the model. It accounts for the potential chance improvement in R^2 as more predictors are added.\n",
    "\n",
    "# 2. Scale: Adjusted R^2 can be smaller than R^2 and can even decrease when adding irrelevant variables, reflecting a more accurate\n",
    "# estimation of the model's goodness of fit.\n",
    "\n",
    "# 3. Interpretation: While R^2 tends to increase with additional predictors (even if they add little value), adjusted R^2 may decrease\n",
    "# if the added predictors don't contribute meaningfully to the model.\n",
    "\n",
    "# Adjusted R^2 is particularly valuable in comparing models with different numbers of predictors, aiding in the selection of the most\n",
    "# parsimonious and effective model that strikes a balance between simplicity and explanatory power."
   ]
  },
  {
   "cell_type": "code",
   "execution_count": 6,
   "id": "28227454-7e86-4781-9be6-c1ed1454739a",
   "metadata": {
    "tags": []
   },
   "outputs": [],
   "source": [
    "##############################################################################"
   ]
  },
  {
   "cell_type": "code",
   "execution_count": 7,
   "id": "7770e406-f5ad-49fd-a359-ff0e95b99b36",
   "metadata": {
    "tags": []
   },
   "outputs": [],
   "source": [
    "#Ans 03:"
   ]
  },
  {
   "cell_type": "code",
   "execution_count": 8,
   "id": "c725a278-c449-4271-a3c3-42444cadbbe7",
   "metadata": {
    "tags": []
   },
   "outputs": [],
   "source": [
    "# Adjusted R^2 is especially useful in scenarios where you're working with regression models with multiple predictors or\n",
    "# independent variables. Here are some instances where adjusted R^2 is more appropriate:\n",
    "\n",
    "# 1. Comparing Models: When comparing multiple regression models with different numbers of predictors, adjusted R^2 helps in identifying\n",
    "# the most suitable model. It accounts for the trade-off between model complexity (number of predictors) and goodness of fit.\n",
    "\n",
    "# 2. Variable Selection: In situations where you're performing variable selection or feature engineering, adjusted R^2 aids in identifying\n",
    "# the subset of predictors that significantly contribute to the model's performance. It penalizes the addition of irrelevant or redundant\n",
    "# predictors.\n",
    "\n",
    "# 3. Avoiding Overfitting: Adjusted R^2 is valuable in guarding against overfitting. It penalizes the inclusion of unnecessary variables that\n",
    "# might overinflate the regular R^2 but don't truly improve the model's predictive power.\n",
    "\n",
    "# 4. Complex Models: In cases where the number of predictors is relatively large compared to the number of observations, adjusted R^2 becomes\n",
    "# more valuable. It helps in assessing model performance without being overly influenced by the sheer number of predictors.\n",
    "\n",
    "# Overall, adjusted R^2 serves as a more reliable measure for model evaluation and comparison when dealing with multiple predictors, as it\n",
    "# considers the model's complexity and guards against the inclusion of irrelevant variables that might artificially inflate regular R^2."
   ]
  },
  {
   "cell_type": "code",
   "execution_count": 9,
   "id": "f59a28d9-1822-405f-a19d-81624fa03029",
   "metadata": {
    "tags": []
   },
   "outputs": [],
   "source": [
    "##############################################################################"
   ]
  },
  {
   "cell_type": "code",
   "execution_count": 10,
   "id": "02d539f7-c91a-4cd9-ac0c-2c2fb8a45429",
   "metadata": {
    "tags": []
   },
   "outputs": [],
   "source": [
    "#Ans 04:"
   ]
  },
  {
   "cell_type": "code",
   "execution_count": 11,
   "id": "391ef494-d1e5-4f0d-a293-cd7b5d8777d3",
   "metadata": {
    "tags": []
   },
   "outputs": [],
   "source": [
    "# In regression analysis, RMSE (Root Mean Squared Error), MSE (Mean Squared Error), and MAE (Mean Absolute Error) are\n",
    "# commonly used metrics to assess the performance of a regression model in predicting numerical outcomes.\n",
    "\n",
    "# 1. Mean Absolute Error (MAE):\n",
    "# Calculation: MAE = 1/n ∑i=1 to n|yi - yi_hat|\n",
    "# MAE represents the average of the absolute differences between predicted values (yi_hat) and actual observed values (yi). It\n",
    "# measures the average magnitude of errors in the predictions without considering their direction.\n",
    "\n",
    "# 2. Mean Squared Error (MSE):\n",
    "# Calculation: MSE = 1/n ∑i=1 to n(yi-yi_hat)^2\n",
    "# MSE computes the average of the squared differences between predicted values (yi_hat) and actual observed values (yi). Squaring\n",
    "# the errors emphasizes larger errors more than smaller ones.\n",
    "\n",
    "# 3. Root Mean Squared Error (RMSE):\n",
    "# Calculation: RMSE = sqrt(MSE)\n",
    "# RMSE is the square root of MSE and represents the standard deviation of the residuals, providing a measure of the typical magnitude\n",
    "# of error in the predictions.\n",
    "\n",
    "# These metrics serve different purposes in evaluating a regression model:\n",
    "# 1. MAE is robust against outliers and gives an average error magnitude.\n",
    "# 2. MSE amplifies larger errors due to the squared terms and penalizes them more heavily, making it more sensitive to outliers.\n",
    "# 3. RMSE provides an easily interpretable standard deviation-like measure in the same units as the dependent variable.\n",
    "\n",
    "# Choosing which metric to use depends on the specific context and the nature of the problem. For instance, if outliers are a concern,\n",
    "# MAE might be preferred, whereas MSE or RMSE could be more appropriate when larger errors need to be penalized more heavily."
   ]
  },
  {
   "cell_type": "code",
   "execution_count": 12,
   "id": "67f4dd03-2b46-4498-8565-be0c66d75dd5",
   "metadata": {
    "tags": []
   },
   "outputs": [],
   "source": [
    "##############################################################################"
   ]
  },
  {
   "cell_type": "code",
   "execution_count": 13,
   "id": "6fd00fd1-ab2d-4146-816e-3130073f7b58",
   "metadata": {
    "tags": []
   },
   "outputs": [],
   "source": [
    "#Ans 05:"
   ]
  },
  {
   "cell_type": "code",
   "execution_count": 14,
   "id": "1dea685a-e4d8-4a75-9d3a-d4944028fcc5",
   "metadata": {
    "tags": []
   },
   "outputs": [],
   "source": [
    "# Each evaluation metric—RMSE, MSE, and MAE—has its own set of advantages and disadvantages in the context of\n",
    "# regression analysis.\n",
    "\n",
    "\n",
    "# Advantages:\n",
    "\n",
    "# 1. RMSE:\n",
    "# Sensitive to Variance: RMSE penalizes larger errors more heavily due to the squared term, making it more sensitive to outliers\n",
    "# or larger deviations.\n",
    "# Standard Deviation Interpretation: As it's akin to standard deviation, it's more easily interpretable in the same units as the\n",
    "# target variable.\n",
    "\n",
    "# 2. MSE:\n",
    "# Mathematically Convenient: Squaring errors makes the calculation of gradients easier in optimization algorithms, especially in\n",
    "# gradient-based optimization methods.\n",
    "# Emphasizes Larger Errors: MSE gives more weight to larger errors due to the squared terms, effectively penalizing them more.\n",
    "\n",
    "# 3. MAE:\n",
    "# Robustness to Outliers: MAE is less sensitive to outliers compared to RMSE and MSE because it doesn't involve squaring errors. It\n",
    "# reflects the average magnitude of errors without considering their direction.\n",
    "\n",
    "\n",
    "# Disadvantages:\n",
    "\n",
    "# 1. RMSE:\n",
    "# Sensitive to Outliers: Due to its squaring of errors, RMSE can heavily emphasize outliers, making the evaluation overly sensitive\n",
    "# to extreme values.\n",
    "# Complex Interpretation: While RMSE is interpretable in the same units as the target variable, its interpretation might not be as\n",
    "# intuitive as simpler metrics.\n",
    "\n",
    "# 2. MSE:\n",
    "# Outlier Sensitivity: Like RMSE, MSE is also highly sensitive to outliers due to the squaring of errors, which might adversely affect\n",
    "# model evaluation.\n",
    "# Units Squared: Since MSE involves squaring errors, its unit is squared, which might not align with the original unit of the target\n",
    "# variable.\n",
    "\n",
    "# 3. MAE:\n",
    "# Lacks Sensitivity to Larger Errors: MAE treats all errors equally, which might not be desirable if larger errors need more attention.\n",
    "# Optimization Challenges: Due to the absolute values, MAE can pose optimization challenges, especially in gradient-based optimization\n",
    "# algorithms.\n",
    "\n",
    "\n",
    "# Choosing the appropriate metric depends on the specific characteristics of the dataset, the presence of outliers, and the objectives\n",
    "# of the analysis. RMSE and MSE might be suitable when larger errors need more attention, while MAE could be more appropriate when\n",
    "# robustness to outliers is essential. It's often beneficial to consider multiple metrics and their implications in different scenarios\n",
    "# to gain a comprehensive understanding of model performance."
   ]
  },
  {
   "cell_type": "code",
   "execution_count": 15,
   "id": "9eb7437e-3b32-4a57-834b-a193306a335d",
   "metadata": {
    "tags": []
   },
   "outputs": [],
   "source": [
    "##############################################################################"
   ]
  },
  {
   "cell_type": "code",
   "execution_count": 16,
   "id": "a6e3724f-778a-4f52-8646-6a0d5c7cce8e",
   "metadata": {
    "tags": []
   },
   "outputs": [],
   "source": [
    "#Ans 06:"
   ]
  },
  {
   "cell_type": "code",
   "execution_count": 17,
   "id": "33a4ca8e-c874-4c90-9a92-565b62df19ba",
   "metadata": {
    "tags": []
   },
   "outputs": [],
   "source": [
    "# Lasso (Least Absolute Shrinkage and Selection Operator) regularization, like Ridge regularization, is a technique used\n",
    "# in linear regression to prevent overfitting by adding a penalty term to the regression equation's coefficients.\n",
    "\n",
    "# The key difference between Lasso and Ridge regularization lies in the penalty term they add to the ordinary least squares (OLS)\n",
    "# objective function:\n",
    "    \n",
    "# 1. Lasso Regularization:\n",
    "# Penalty Term: Lasso adds the absolute values of the coefficients (L1 norm) as the penalty term to the OLS objective function.\n",
    "# Objective Function: minimize(SSE + ∑j=1 to p|Bj|)\n",
    "# Effect: Lasso encourages sparsity by shrinking some coefficients to exactly zero, effectively performing feature selection by\n",
    "# eliminating less important variables from the model.\n",
    "\n",
    "# 2. Ridge Regularization:\n",
    "# Penalty Term: Ridge adds the squared values of the coefficients (L2 norm) as the penalty term to the OLS objective function.\n",
    "# Objective Function: minimize(SSE + ∑j=1 to p Bj^2)\n",
    "# Effect: Ridge doesn't enforce sparsity as aggressively as Lasso; instead, it shrinks coefficients towards zero, but they rarely\n",
    "# become exactly zero. It reduces the impact of less important variables but keeps them in the model.\n",
    "\n",
    "# When to Use Lasso vs. Ridge:\n",
    "\n",
    "# 1. Feature Selection: Lasso tends to be more appropriate when feature selection is crucial. If you suspect that many predictors are\n",
    "# irrelevant or redundant, Lasso can effectively eliminate some of them by driving their coefficients to zero.\n",
    "\n",
    "# 2. Sparse Models: When aiming for a simpler and more interpretable model with fewer predictors, Lasso's ability to create sparse models\n",
    "# by removing less important variables makes it a suitable choice.\n",
    "\n",
    "# 3. Multicollinearity: Ridge is better suited when dealing with multicollinearity (high correlation among predictors) since it doesn't\n",
    "# completely eliminate variables but rather reduces their impact. It can handle correlated predictors more effectively than Lasso, which\n",
    "# tends to arbitrarily select one among highly correlated variables and discard the rest.\n",
    "\n",
    "\n",
    "# Choosing between Lasso and Ridge regularization often involves a trade-off between model interpretability (Lasso) and handling\n",
    "# multicollinearity (Ridge). Sometimes, using a combination of both techniques (Elastic Net) might be beneficial to leverage the strengths\n",
    "# of both regularization methods."
   ]
  },
  {
   "cell_type": "code",
   "execution_count": 18,
   "id": "2262d1ad-d853-43ad-83e1-63522956fb09",
   "metadata": {
    "tags": []
   },
   "outputs": [],
   "source": [
    "##############################################################################"
   ]
  },
  {
   "cell_type": "code",
   "execution_count": 19,
   "id": "82709d33-0967-4df1-b98d-e5b01d2d8c3a",
   "metadata": {
    "tags": []
   },
   "outputs": [],
   "source": [
    "#Ans 07:"
   ]
  },
  {
   "cell_type": "code",
   "execution_count": 20,
   "id": "7c0c0ed5-0080-4e72-bb6c-55de880dfff2",
   "metadata": {},
   "outputs": [],
   "source": [
    "# Regularized linear models, such as Ridge Regression and Lasso Regression, help prevent overfitting by imposing\n",
    "# constraints on the coefficients of the regression equation, thus reducing model complexity.\n",
    "\n",
    "\n",
    "# Preventing Overfitting:\n",
    "# 1. Penalizing Complexity: Regularization techniques add penalty terms to the ordinary least squares (OLS) objective function. These\n",
    "# penalty terms are based on the magnitude of coefficients, discouraging overly complex models by penalizing large coefficient values.\n",
    "# 2. Bias-Variance Trade-off: By penalizing large coefficients, regularization controls model complexity. It helps strike a balance\n",
    "# between bias (underfitting) and variance (overfitting), preventing the model from fitting too closely to the training data while still\n",
    "# capturing essential patterns.\n",
    "\n",
    "# Illustrative Example:\n",
    "# Let's consider a scenario with a linear regression model where we have a small dataset with a single predictor (feature) and a target\n",
    "# variable."
   ]
  },
  {
   "cell_type": "code",
   "execution_count": 21,
   "id": "b40e8a73-e368-4a17-a967-08357d5a7438",
   "metadata": {
    "tags": []
   },
   "outputs": [
    {
     "name": "stderr",
     "output_type": "stream",
     "text": [
      "D:\\Users\\MY PC\\anaconda3\\Lib\\site-packages\\sklearn\\linear_model\\_coordinate_descent.py:628: ConvergenceWarning: Objective did not converge. You might want to increase the number of iterations, check the scale of the features or consider increasing regularisation. Duality gap: 5.310e-01, tolerance: 1.775e-03\n",
      "  model = cd_fast.enet_coordinate_descent(\n"
     ]
    },
    {
     "data": {
      "image/png": "[encoded data removed]",
      "text/plain": [
       "<Figure size 1000x600 with 1 Axes>"
      ]
     },
     "metadata": {},
     "output_type": "display_data"
    }
   ],
   "source": [
    "import numpy as np\n",
    "from sklearn.linear_model import Ridge, Lasso\n",
    "from sklearn.preprocessing import PolynomialFeatures\n",
    "from sklearn.model_selection import train_test_split\n",
    "import matplotlib.pyplot as plt\n",
    "\n",
    "# Generating synthetic data\n",
    "np.random.seed(0)\n",
    "X = np.sort(5 * np.random.rand(40, 1), axis=0)\n",
    "y = np.sin(X).ravel() + np.random.randn(40) * 0.1  # True function: sin(x)\n",
    "\n",
    "# Splitting the data into training and test sets\n",
    "X_train, X_test, y_train, y_test = train_test_split(X, y, test_size=0.3, random_state=0)\n",
    "\n",
    "# Creating polynomial features up to degree 10\n",
    "poly = PolynomialFeatures(degree=10)\n",
    "X_poly = poly.fit_transform(X)\n",
    "\n",
    "# Ridge Regression\n",
    "ridge = Ridge(alpha=0.1)  # Low regularization strength\n",
    "ridge.fit(X_poly, y)\n",
    "\n",
    "# Lasso Regression\n",
    "lasso = Lasso(alpha=0.01)  # Low regularization strength\n",
    "lasso.fit(X_poly, y)\n",
    "\n",
    "# Plotting the results\n",
    "plt.figure(figsize=(10, 6))\n",
    "plt.scatter(X, y, color='blue', label='Actual data')\n",
    "plt.plot(X, ridge.predict(poly.transform(X)), color='red', label='Ridge Regression')\n",
    "plt.plot(X, lasso.predict(poly.transform(X)), color='green', label='Lasso Regression')\n",
    "plt.xlabel('X')\n",
    "plt.ylabel('y')\n",
    "plt.title('Regularization in Linear Models')\n",
    "plt.legend()\n",
    "plt.show()"
   ]
  },
  {
   "cell_type": "code",
   "execution_count": 22,
   "id": "5b3e0ccf-a1c8-4e3f-9d82-f22db9e45415",
   "metadata": {
    "tags": []
   },
   "outputs": [],
   "source": [
    "# In this example, we use polynomial features up to degree 10 to fit the sine function with added noise. Both Ridge and\n",
    "# Lasso regressions are applied with low regularization strengths (alpha values).\n",
    "\n",
    "# 1. Ridge Regression with a small alpha value slightly smoothens the curve but doesn't eliminate any coefficients.\n",
    "# 2. Lasso Regression with a low alpha value not only smoothens the curve but also forces some coefficients to become zero, effectively\n",
    "# performing feature selection and simplifying the model.\n",
    "\n",
    "# This illustrates how regularization, through Ridge and Lasso regression, can control the complexity of the model and prevent overfitting\n",
    "# by either reducing the impact of less important variables (Ridge) or eliminating them entirely (Lasso). Adjusting the regularization\n",
    "# strength (alpha) allows controlling the degree of regularization applied."
   ]
  },
  {
   "cell_type": "code",
   "execution_count": 25,
   "id": "fea13f44-4f0c-4458-bbc7-5893b30ca3b9",
   "metadata": {
    "tags": []
   },
   "outputs": [],
   "source": [
    "##############################################################################"
   ]
  },
  {
   "cell_type": "code",
   "execution_count": 26,
   "id": "02b1e010-ca3a-4c3b-8f8c-d374b2ce5dfa",
   "metadata": {
    "tags": []
   },
   "outputs": [],
   "source": [
    "#Ans 08:"
   ]
  },
  {
   "cell_type": "code",
   "execution_count": 27,
   "id": "75d635ed-f1dc-4822-b008-714907b36bc1",
   "metadata": {
    "tags": []
   },
   "outputs": [],
   "source": [
    "# Regularized linear models like Ridge and Lasso regressions offer valuable tools for preventing overfitting and handling\n",
    "# multicollinearity. However, they do have limitations that might make them less suitable in certain scenarios:\n",
    "\n",
    "# 1. Feature Selection Bias: While Lasso performs feature selection by driving some coefficients to zero, it might introduce bias by\n",
    "# arbitrarily selecting one variable among highly correlated predictors and discarding others. This could lead to information loss if\n",
    "# important predictors are incorrectly excluded.\n",
    "\n",
    "# 2. Sensitivity to Hyperparameters: Regularized models have hyperparameters (e.g., alpha in Ridge and Lasso) that need to be tuned.\n",
    "# Selecting the right hyperparameters can be challenging and might heavily impact model performance. Inadequate tuning might lead to\n",
    "# suboptimal results.\n",
    "\n",
    "# 3. Assumption of Linearity: Regularized linear models assume a linear relationship between predictors and the target variable. If the\n",
    "# underlying relationship is highly nonlinear, these models might not capture complex patterns effectively, leading to underperformance.\n",
    "\n",
    "# 4. Scaling Sensitivity: Regularization techniques are sensitive to the scale of predictors. If predictors are not appropriately scaled,\n",
    "# the impact of regularization might be skewed, leading to suboptimal results.\n",
    "\n",
    "# 5. Limited Handling of Outliers: While Ridge and Lasso help in reducing the impact of outliers to some extent, they might not robustly\n",
    "# handle outliers compared to other techniques designed explicitly for outlier detection and mitigation.\n",
    "\n",
    "# 6. Not Suitable for High-Dimensional Data: In extremely high-dimensional datasets (with a large number of predictors), regularization\n",
    "# might struggle to provide significant feature selection or might not efficiently reduce model complexity.\n",
    "\n",
    "# 7. Interpretability Trade-off: While Ridge maintains all predictors in the model (albeit with reduced impact), Lasso's feature selection\n",
    "# might compromise the interpretability of the model by excluding variables that might be important for understanding the relationship\n",
    "# between predictors and the target variable.\n",
    "\n",
    "\n",
    "# In scenarios where linearity assumptions hold, and there's a need for regularization to prevent overfitting or handle multicollinearity,\n",
    "# these techniques can be valuable. However, they're not always the best choice, especially when dealing with highly nonlinear relationships,\n",
    "# when interpretability is crucial, or when the dataset has features that do not adhere to the assumptions of linear models. In such cases,\n",
    "# alternative algorithms like decision trees, ensemble methods, or nonlinear models might offer better performance."
   ]
  },
  {
   "cell_type": "code",
   "execution_count": 28,
   "id": "366c8955-101e-40b8-b077-e1931bd2558d",
   "metadata": {
    "tags": []
   },
   "outputs": [],
   "source": [
    "##############################################################################"
   ]
  },
  {
   "cell_type": "code",
   "execution_count": 29,
   "id": "113e8a8d-ef0f-4abd-99f7-8078b255ae87",
   "metadata": {
    "tags": []
   },
   "outputs": [],
   "source": [
    "#Ans 09:"
   ]
  },
  {
   "cell_type": "code",
   "execution_count": 30,
   "id": "c2ff58b2-e22c-4c69-be2c-51a45b855758",
   "metadata": {
    "tags": []
   },
   "outputs": [],
   "source": [
    "# Choosing between models based solely on different evaluation metrics depends on the specific context and priorities of\n",
    "# the problem at hand.\n",
    "\n",
    "# In the scenario provided:\n",
    "# 1. Model A has an RMSE of 10.\n",
    "# 2. Model B has an MAE of 8.\n",
    "\n",
    "# Interpreting the Results:\n",
    "# RMSE (Root Mean Squared Error): It penalizes larger errors more heavily due to the squared term. An RMSE of 10 means, on average,\n",
    "# the model's predictions deviate from the actual values by around 10 units.\n",
    "# MAE (Mean Absolute Error): It measures the average magnitude of errors without considering their direction. An MAE of 8 indicates an\n",
    "# average absolute error of 8 units.\n",
    "\n",
    "# Choosing the Better Performer:\n",
    "# In this scenario, the lower error metric suggests better performance. Therefore, Model B with an MAE of 8 would be considered the better\n",
    "# performer compared to Model A with an RMSE of 10.\n",
    "\n",
    "# Limitations and Considerations:\n",
    "# 1. Sensitivity to Outliers: RMSE can be heavily influenced by outliers due to squaring errors, while MAE is more robust against outliers.\n",
    "# If the dataset contains outliers, RMSE might not accurately represent the model's overall performance.\n",
    "# 2. Scale of the Target Variable: RMSE and MAE are in the same units as the target variable. However, RMSE might be more sensitive to large\n",
    "# errors due to the squaring, potentially making it less desirable if larger errors need to be avoided.\n",
    "# 3. Context and Business Impact: The choice might also depend on the specific application and the cost or impact of different types of errors.\n",
    "# For example, in some cases, larger errors might be more detrimental, making RMSE a preferred metric.\n",
    "\n",
    "# It's essential to consider the nature of the problem, the characteristics of the dataset, and the consequences of different types of\n",
    "# errors when selecting the most appropriate evaluation metric for model comparison. Sometimes, using multiple metrics or domain-specific\n",
    "# considerations can offer a more comprehensive understanding of model performance."
   ]
  },
  {
   "cell_type": "code",
   "execution_count": 31,
   "id": "a9482f8f-778e-4687-b47b-520c4641b976",
   "metadata": {
    "tags": []
   },
   "outputs": [],
   "source": [
    "##############################################################################"
   ]
  },
  {
   "cell_type": "code",
   "execution_count": 32,
   "id": "0a12a035-2d1d-4e15-b44e-758cccf6ecf6",
   "metadata": {
    "tags": []
   },
   "outputs": [],
   "source": [
    "#Ans 10:"
   ]
  },
  {
   "cell_type": "code",
   "execution_count": 33,
   "id": "e468781a-54cf-48f2-8906-6551897ff2d9",
   "metadata": {
    "tags": []
   },
   "outputs": [],
   "source": [
    "# In comparing regularized linear models using different types of regularization, the choice of the better performer\n",
    "# depends on various factors, including the context of the problem, the specific goals, and the characteristics of the dataset.\n",
    "\n",
    "# In this scenario:\n",
    "# 1. Model A uses Ridge regularization with a regularization parameter (alpha) of 0.1.\n",
    "# 2. Model B uses Lasso regularization with a regularization parameter (alpha) of 0.5.\n",
    "\n",
    "\n",
    "# Considerations:\n",
    "\n",
    "# 1. Ridge Regularization (Model A):\n",
    "# Effect: Ridge regression shrinks the coefficients towards zero but rarely to exactly zero. It reduces the impact of less important\n",
    "# variables while keeping them in the model.\n",
    "# Regularization Parameter: A small alpha (0.1) implies moderate regularization.\n",
    "\n",
    "# 2. Lasso Regularization (Model B):\n",
    "# Effect: Lasso regression aggressively shrinks coefficients, potentially driving some to exactly zero, effectively performing feature\n",
    "# selection and creating sparsity.\n",
    "# Regularization Parameter: A larger alpha (0.5) implies stronger regularization.\n",
    "\n",
    "\n",
    "# Choosing the Better Performer:\n",
    "# Selecting the better performer between the models involves considering various factors:\n",
    "\n",
    "# 1. Sparsity vs. Retention of Features: Lasso (Model B) might perform better if feature selection is crucial, as it can drive some\n",
    "# coefficients to zero and provide a more interpretable and simpler model.\n",
    "\n",
    "# 2. Handling Multicollinearity: Ridge (Model A) might perform better when dealing with multicollinearity, as it doesn't completely\n",
    "# eliminate variables but reduces their impact.\n",
    "\n",
    "\n",
    "# Trade-offs and Limitations:\n",
    "# 1. Bias-Variance Trade-off: Stronger regularization (higher alpha) reduces variance (overfitting) but might increase bias (underfitting).\n",
    "# The choice of alpha should balance these trade-offs.\n",
    "\n",
    "# 2. Sensitivity to Hyperparameters: The choice of the regularization parameter (alpha) requires tuning. Suboptimal values might lead to\n",
    "# subpar model performance.\n",
    "\n",
    "# 3. Interpretability: Lasso might perform better in creating interpretable models by selecting a subset of features, but Ridge might\n",
    "# maintain all predictors in the model with reduced impact.\n",
    "\n",
    "\n",
    "# The choice between Ridge and Lasso regularization depends on the specific objectives of the analysis. If interpretability and feature\n",
    "# selection are crucial, Lasso might be preferred. However, if multicollinearity is a concern or maintaining all predictors with reduced\n",
    "# impact is essential, Ridge might be a better choice. It might also be beneficial to consider techniques like Elastic Net, which combines\n",
    "# both Ridge and Lasso penalties, offering a balance between the two approaches."
   ]
  },
  {
   "cell_type": "code",
   "execution_count": 34,
   "id": "a7266cc1-3013-41ba-a579-19ec19386dc1",
   "metadata": {
    "tags": []
   },
   "outputs": [],
   "source": [
    "##############################################################################"
   ]
  }
 ],
 "metadata": {
  "kernelspec": {
   "display_name": "Python 3 (ipykernel)",
   "language": "python",
   "name": "python3"
  },
  "language_info": {
   "codemirror_mode": {
    "name": "ipython",
    "version": 3
   },
   "file_extension": ".py",
   "mimetype": "text/x-python",
   "name": "python",
   "nbconvert_exporter": "python",
   "pygments_lexer": "ipython3",
   "version": "3.11.5"
  }
 },
 "nbformat": 4,
 "nbformat_minor": 5
}
