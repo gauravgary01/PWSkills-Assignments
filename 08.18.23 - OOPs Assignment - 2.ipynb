{
 "cells": [
  {
   "cell_type": "code",
   "execution_count": 1,
   "id": "a6a998f4-e19c-4a0d-bc58-9a1dd46b6cbd",
   "metadata": {},
   "outputs": [],
   "source": [
    "# Ans 01:"
   ]
  },
  {
   "cell_type": "code",
   "execution_count": 2,
   "id": "f94d42fb-f246-4326-934c-923d84f12bdc",
   "metadata": {},
   "outputs": [],
   "source": [
    "# Abstraction is one of the fundamental principles of Object-Oriented Programming (OOP). It refers to the process of hiding complex implementation details\n",
    "# while exposing only the necessary and relevant information to the user. Abstraction allows you to create a simplified interface for interacting with\n",
    "# objects, making the code more manageable and understandable."
   ]
  },
  {
   "cell_type": "code",
   "execution_count": 3,
   "id": "65ef9a9e-87df-4713-8202-1924612a836b",
   "metadata": {},
   "outputs": [],
   "source": [
    "from abc import ABC, abstractmethod\n",
    "\n",
    "class Shape(ABC):\n",
    "    @abstractmethod\n",
    "    def calculate_area(self):\n",
    "        pass"
   ]
  },
  {
   "cell_type": "code",
   "execution_count": 4,
   "id": "9d7af9f8-8b00-434c-8326-2a386b4a336c",
   "metadata": {},
   "outputs": [],
   "source": [
    "class Circle(Shape):\n",
    "    def __init__(self, radius):\n",
    "        self.radius = radius\n",
    "    \n",
    "    def calculate_area(self):\n",
    "        return 3.14 * self.radius ** 2"
   ]
  },
  {
   "cell_type": "code",
   "execution_count": 5,
   "id": "43ebe274-37dc-4911-9ce2-80bb07bcb5f1",
   "metadata": {},
   "outputs": [],
   "source": [
    "class Rectangle(Shape):\n",
    "    def __init__(self, width, height):\n",
    "        self.width = width\n",
    "        self.height = height\n",
    "    \n",
    "    def calculate_area(self):\n",
    "        return self.width * self.height"
   ]
  },
  {
   "cell_type": "code",
   "execution_count": 6,
   "id": "9dbca76c-4d84-407e-ab06-2ed470d14708",
   "metadata": {},
   "outputs": [
    {
     "name": "stdout",
     "output_type": "stream",
     "text": [
      "Circle Area: 78.5\n"
     ]
    }
   ],
   "source": [
    "circle = Circle(5)\n",
    "print(\"Circle Area:\", circle.calculate_area())"
   ]
  },
  {
   "cell_type": "code",
   "execution_count": 7,
   "id": "556ae4d9-c126-47c4-9bee-89670980fbf8",
   "metadata": {},
   "outputs": [
    {
     "name": "stdout",
     "output_type": "stream",
     "text": [
      "Rectangle Area: 24\n"
     ]
    }
   ],
   "source": [
    "rectangle = Rectangle(4, 6)\n",
    "print(\"Rectangle Area:\", rectangle.calculate_area())"
   ]
  },
  {
   "cell_type": "code",
   "execution_count": 8,
   "id": "98d132fc-2780-4234-96f0-895c998ef5d3",
   "metadata": {},
   "outputs": [],
   "source": [
    "#################################################################################################"
   ]
  },
  {
   "cell_type": "code",
   "execution_count": 9,
   "id": "3cb930dc-5bdc-4516-8892-60258d64dc24",
   "metadata": {},
   "outputs": [],
   "source": [
    "# Ans 02:"
   ]
  },
  {
   "cell_type": "code",
   "execution_count": 10,
   "id": "93464d51-9499-41ba-bc46-9d2eab02e4aa",
   "metadata": {},
   "outputs": [],
   "source": [
    "# Abstraction is the process of hiding complex implementation details and showing only the necessary features of an object. It aims to simplify complex reality\n",
    "# by modeling classes based on their essential characteristics. Abstraction provides a clear separation between what something does (interface) and how it does\n",
    "# it (implementation). It helps in managing complexity and making code more understandable."
   ]
  },
  {
   "cell_type": "code",
   "execution_count": 11,
   "id": "0d93a42d-d256-4b05-a812-06283548aba2",
   "metadata": {},
   "outputs": [],
   "source": [
    "class Animal(ABC):\n",
    "    @abstractmethod\n",
    "    def make_sound(self):\n",
    "        pass"
   ]
  },
  {
   "cell_type": "code",
   "execution_count": 12,
   "id": "1ac0d0a1-e3b5-4362-ab05-44877bd181d5",
   "metadata": {},
   "outputs": [],
   "source": [
    "class Dog(Animal):\n",
    "    def make_sound(self):\n",
    "        return \"Woof!\""
   ]
  },
  {
   "cell_type": "code",
   "execution_count": 13,
   "id": "f1a4d171-1065-4d18-8a7b-7a5ef5483ba1",
   "metadata": {},
   "outputs": [],
   "source": [
    "class Cat(Animal):\n",
    "    def make_sound(self):\n",
    "        return \"Meow!\""
   ]
  },
  {
   "cell_type": "code",
   "execution_count": 14,
   "id": "32599474-7703-4f51-9ae6-be135bb7ffd4",
   "metadata": {},
   "outputs": [],
   "source": [
    "tom = Cat()"
   ]
  },
  {
   "cell_type": "code",
   "execution_count": 15,
   "id": "789fb5cd-49a4-4565-b10f-e6bce0dc73ce",
   "metadata": {},
   "outputs": [
    {
     "data": {
      "text/plain": [
       "'Meow!'"
      ]
     },
     "execution_count": 15,
     "metadata": {},
     "output_type": "execute_result"
    }
   ],
   "source": [
    "tom.make_sound()"
   ]
  },
  {
   "cell_type": "code",
   "execution_count": 16,
   "id": "068e17d1-de66-4c42-9315-58131e458351",
   "metadata": {},
   "outputs": [],
   "source": [
    "dick = Dog()"
   ]
  },
  {
   "cell_type": "code",
   "execution_count": 17,
   "id": "c84b8f6b-5bf0-4572-aee4-7fc79002f3de",
   "metadata": {},
   "outputs": [
    {
     "data": {
      "text/plain": [
       "'Woof!'"
      ]
     },
     "execution_count": 17,
     "metadata": {},
     "output_type": "execute_result"
    }
   ],
   "source": [
    "dick.make_sound()"
   ]
  },
  {
   "cell_type": "code",
   "execution_count": 18,
   "id": "0752c2af-f114-4536-a432-fad7b7df1859",
   "metadata": {},
   "outputs": [],
   "source": [
    "# Encapsulation refers to the practice of bundling the data (attributes) and methods (functions) that operate on the data into a single unit, known as a class.\n",
    "# It restricts direct access to some of the object's components and provides a controlled way to access and modify the data. Encapsulation helps in data hiding,\n",
    "# maintaining data integrity, and preventing unintended interference with the internal state of an object."
   ]
  },
  {
   "cell_type": "code",
   "execution_count": 19,
   "id": "4f9f4503-2388-434c-b793-5f679d47ffc6",
   "metadata": {},
   "outputs": [],
   "source": [
    "class BankAccount:\n",
    "    def __init__(self, balance):\n",
    "        self.__balance = balance\n",
    "    \n",
    "    def deposit(self, amount):\n",
    "        if amount > 0:\n",
    "            self.__balance += amount\n",
    "    \n",
    "    def withdraw(self, amount):\n",
    "        if 0 < amount <= self.__balance:\n",
    "            self.__balance -= amount\n",
    "        else:\n",
    "            print(\"Insufficient funds\")\n",
    "\n",
    "    def get_balance(self):\n",
    "        return self.__balance"
   ]
  },
  {
   "cell_type": "code",
   "execution_count": 20,
   "id": "54469aa2-b036-48c1-a88e-52ca1ff1f4ba",
   "metadata": {},
   "outputs": [],
   "source": [
    "Gaurav = BankAccount(1000)"
   ]
  },
  {
   "cell_type": "code",
   "execution_count": 21,
   "id": "b8f9ec3e-1fc2-4b1f-8094-83ceca22f16b",
   "metadata": {},
   "outputs": [],
   "source": [
    "Gaurav.deposit(500)"
   ]
  },
  {
   "cell_type": "code",
   "execution_count": 22,
   "id": "323b15d6-41ab-4d54-8f2a-acf36013d95a",
   "metadata": {},
   "outputs": [],
   "source": [
    "Gaurav.withdraw(100)"
   ]
  },
  {
   "cell_type": "code",
   "execution_count": 23,
   "id": "5c5299c9-ecb9-4d4c-b2c8-881420e23087",
   "metadata": {},
   "outputs": [
    {
     "ename": "AttributeError",
     "evalue": "'BankAccount' object has no attribute 'balance'",
     "output_type": "error",
     "traceback": [
      "\u001b[0;31m---------------------------------------------------------------------------\u001b[0m",
      "\u001b[0;31mAttributeError\u001b[0m                            Traceback (most recent call last)",
      "Cell \u001b[0;32mIn[23], line 1\u001b[0m\n\u001b[0;32m----> 1\u001b[0m \u001b[43mGaurav\u001b[49m\u001b[38;5;241;43m.\u001b[39;49m\u001b[43mbalance\u001b[49m(\u001b[38;5;241m2000\u001b[39m)\n",
      "\u001b[0;31mAttributeError\u001b[0m: 'BankAccount' object has no attribute 'balance'"
     ]
    }
   ],
   "source": [
    "Gaurav.balance(2000)"
   ]
  },
  {
   "cell_type": "code",
   "execution_count": null,
   "id": "1ab1d3be-b177-4dd3-890b-dbe2e760ba17",
   "metadata": {},
   "outputs": [],
   "source": [
    "Gaurav.get_balance()"
   ]
  },
  {
   "cell_type": "code",
   "execution_count": 24,
   "id": "423ea92a-4193-46f6-9298-f992d095aa95",
   "metadata": {},
   "outputs": [],
   "source": [
    "#################################################################################################"
   ]
  },
  {
   "cell_type": "code",
   "execution_count": 25,
   "id": "35142a0d-5776-4f7c-8aff-6512fc8c50c0",
   "metadata": {},
   "outputs": [],
   "source": [
    "# Ans 03:"
   ]
  },
  {
   "cell_type": "code",
   "execution_count": 26,
   "id": "f9b7b90a-165e-495e-b4e1-7d602416d2fe",
   "metadata": {},
   "outputs": [],
   "source": [
    "# In Python, the abc module stands for \"Abstract Base Classes.\" It provides a way to define abstract classes and interfaces, which are classes meant to be\n",
    "# subclassed but cannot be instantiated on their own. Abstract base classes help enforce a certain structure and contract among subclasses, ensuring that\n",
    "# they implement specific methods or adhere to certain behavior."
   ]
  },
  {
   "cell_type": "code",
   "execution_count": 27,
   "id": "619648e1-99a4-4c61-bc23-0003e6800538",
   "metadata": {},
   "outputs": [],
   "source": [
    "# The primary purpose of the abc module is to support abstraction and to encourage a consistent structure in object-oriented programming. It allows you to\n",
    "# define abstract methods (methods without implementations) that must be overridden by concrete subclasses. This helps in creating a clear and well-defined\n",
    "# interface for classes to adhere to, enhancing code organization, maintainability, and readability."
   ]
  },
  {
   "cell_type": "code",
   "execution_count": 28,
   "id": "b55209b0-b15d-4e51-8583-c2c01f53f6e9",
   "metadata": {},
   "outputs": [],
   "source": [
    "#################################################################################################"
   ]
  },
  {
   "cell_type": "code",
   "execution_count": 29,
   "id": "306e058a-578b-4a35-a8d6-5487b506af55",
   "metadata": {},
   "outputs": [],
   "source": [
    "# Ans 04:"
   ]
  },
  {
   "cell_type": "code",
   "execution_count": 30,
   "id": "836a0696-177c-4571-97da-c53ad2e251f7",
   "metadata": {},
   "outputs": [],
   "source": [
    "# Data abstraction is a concept in object-oriented programming that allows you to expose only the necessary details and hide the implementation complexity\n",
    "# of data from the outside world. It focuses on defining a clear and simplified interface for interacting with data, while keeping the internal implementation\n",
    "# details hidden."
   ]
  },
  {
   "cell_type": "code",
   "execution_count": 31,
   "id": "7d699eb0-4724-44e6-abef-189385ea678e",
   "metadata": {},
   "outputs": [],
   "source": [
    "# In Python, you can achieve data abstraction through a combination of techniques:"
   ]
  },
  {
   "cell_type": "code",
   "execution_count": 32,
   "id": "23b9dd68-75dc-42d5-ae9b-f6bfcdf2270e",
   "metadata": {},
   "outputs": [],
   "source": [
    "# Encapsulation: Encapsulation is a key aspect of achieving data abstraction. It involves bundling the data (attributes) and the methods (functions)\n",
    "# that operate on that data into a single unit (class). By controlling access to the data and providing well-defined methods to interact with it, you can\n",
    "# abstract away the underlying data storage and manipulation."
   ]
  },
  {
   "cell_type": "code",
   "execution_count": 33,
   "id": "17083a0b-cb87-4918-9668-a77ed15e0375",
   "metadata": {},
   "outputs": [],
   "source": [
    "# Private and Protected Attributes: In Python, you can use naming conventions to achieve a degree of encapsulation. Attributes prefixed with a single underscore _ are\n",
    "# considered \"protected,\" implying that they should not be accessed outside the class. Attributes prefixed with double underscores __ (name mangling) are considered\n",
    "# \"private,\" and their names are modified to include the class name, making them less likely to be accidentally accessed from outside the class."
   ]
  },
  {
   "cell_type": "code",
   "execution_count": 34,
   "id": "9a2df965-e045-4ed1-a323-98533e0c561a",
   "metadata": {},
   "outputs": [],
   "source": [
    "# Property Methods: Property methods provide a way to expose class attributes as if they were normal instance variables while allowing you to control access\n",
    "# and potentially perform additional actions when getting or setting the attribute. This helps in abstracting the actual attribute storage and allows you to\n",
    "# maintain control over access."
   ]
  },
  {
   "cell_type": "code",
   "execution_count": 35,
   "id": "912aa1e5-6f76-429e-bb1e-032e151eb90e",
   "metadata": {},
   "outputs": [],
   "source": [
    "#################################################################################################"
   ]
  },
  {
   "cell_type": "code",
   "execution_count": 36,
   "id": "655336e7-fe2a-4d58-bc0b-336c15bb47a8",
   "metadata": {},
   "outputs": [],
   "source": [
    "# Ans 05:"
   ]
  },
  {
   "cell_type": "code",
   "execution_count": 37,
   "id": "133909e6-ae76-4d26-9ae5-939b41eb0a4f",
   "metadata": {},
   "outputs": [],
   "source": [
    "# No, we cannot create an instance of an abstract class in most programming languages that support abstract classes, including Python. Abstract classes are\n",
    "# designed to be incomplete and serve as blueprints for more specialized classes (concrete subclasses) that inherit from them. They define methods that must\n",
    "# be overridden by the concrete subclasses."
   ]
  },
  {
   "cell_type": "code",
   "execution_count": 38,
   "id": "4807b621-cd98-4ab4-81b1-6d340e69f007",
   "metadata": {},
   "outputs": [],
   "source": [
    "# In Python, if we attempt to create an instance of an abstract class that contains abstract methods, we will encounter a TypeError indicating that the class\n",
    "# cannot be instantiated. To create objects, we need to create concrete subclasses that provide implementations for the abstract methods defined in the abstract base class."
   ]
  },
  {
   "cell_type": "code",
   "execution_count": null,
   "id": "492f5a8c-1a5a-4439-9dcc-118432d297d0",
   "metadata": {},
   "outputs": [],
   "source": [
    "#################################################################################################"
   ]
  }
 ],
 "metadata": {
  "kernelspec": {
   "display_name": "Python 3 (ipykernel)",
   "language": "python",
   "name": "python3"
  },
  "language_info": {
   "codemirror_mode": {
    "name": "ipython",
    "version": 3
   },
   "file_extension": ".py",
   "mimetype": "text/x-python",
   "name": "python",
   "nbconvert_exporter": "python",
   "pygments_lexer": "ipython3",
   "version": "3.10.8"
  }
 },
 "nbformat": 4,
 "nbformat_minor": 5
}
