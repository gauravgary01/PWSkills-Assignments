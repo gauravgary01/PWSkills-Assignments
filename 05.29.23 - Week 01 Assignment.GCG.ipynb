{
 "cells": [
  {
   "cell_type": "code",
   "execution_count": 1,
   "id": "adb6c4d9-6fbf-4b19-afb8-611146ec9c78",
   "metadata": {},
   "outputs": [],
   "source": [
    "#Ans 01:"
   ]
  },
  {
   "cell_type": "code",
   "execution_count": 2,
   "id": "f18ebe17-60d7-4f19-acc7-906ea3d50aaf",
   "metadata": {},
   "outputs": [],
   "source": [
    "var = [\"Alice\", [1,2,3,4,5], 92.29, (9,2,2,9)]"
   ]
  },
  {
   "cell_type": "code",
   "execution_count": null,
   "id": "404ecb35-9881-4e37-9bc8-4436754a37d0",
   "metadata": {},
   "outputs": [],
   "source": []
  },
  {
   "cell_type": "code",
   "execution_count": 3,
   "id": "2af39922-0846-4256-a4f3-454574db86ee",
   "metadata": {},
   "outputs": [],
   "source": [
    "#Ans 02:"
   ]
  },
  {
   "cell_type": "code",
   "execution_count": 4,
   "id": "423c4352-77cc-41f4-992a-44c46aea2d4d",
   "metadata": {},
   "outputs": [],
   "source": [
    "var1 = ''\n",
    "var2 = '[DS, ML, Python]'\n",
    "var3 = ['DS', 'ML', 'Python']\n",
    "var4 = 1"
   ]
  },
  {
   "cell_type": "code",
   "execution_count": 5,
   "id": "e3e0fb20-e153-49a7-85df-e41e0d858aa4",
   "metadata": {},
   "outputs": [
    {
     "data": {
      "text/plain": [
       "str"
      ]
     },
     "execution_count": 5,
     "metadata": {},
     "output_type": "execute_result"
    }
   ],
   "source": [
    "type(var1)"
   ]
  },
  {
   "cell_type": "code",
   "execution_count": 6,
   "id": "d597c91a-5a61-467f-a5c8-c96b43a422ba",
   "metadata": {},
   "outputs": [
    {
     "data": {
      "text/plain": [
       "str"
      ]
     },
     "execution_count": 6,
     "metadata": {},
     "output_type": "execute_result"
    }
   ],
   "source": [
    "type(var2)"
   ]
  },
  {
   "cell_type": "code",
   "execution_count": 7,
   "id": "024bc1b3-dd03-4fe3-af80-8435dce8d11b",
   "metadata": {},
   "outputs": [
    {
     "data": {
      "text/plain": [
       "list"
      ]
     },
     "execution_count": 7,
     "metadata": {},
     "output_type": "execute_result"
    }
   ],
   "source": [
    "type(var3)"
   ]
  },
  {
   "cell_type": "code",
   "execution_count": 8,
   "id": "318256bf-4331-4fc0-8908-9b6e3cc5a802",
   "metadata": {},
   "outputs": [
    {
     "data": {
      "text/plain": [
       "int"
      ]
     },
     "execution_count": 8,
     "metadata": {},
     "output_type": "execute_result"
    }
   ],
   "source": [
    "type(var4)"
   ]
  },
  {
   "cell_type": "code",
   "execution_count": null,
   "id": "d151bc1a-8c0e-412c-8482-2bad231d4679",
   "metadata": {},
   "outputs": [],
   "source": []
  },
  {
   "cell_type": "code",
   "execution_count": 9,
   "id": "36d0371b-31e7-433c-b6dc-37d7db2a1e62",
   "metadata": {},
   "outputs": [],
   "source": [
    "#Ans 03:"
   ]
  },
  {
   "cell_type": "code",
   "execution_count": 10,
   "id": "a95b1c48-43c0-4147-a1ca-41750a1a8f7e",
   "metadata": {},
   "outputs": [],
   "source": [
    "#These are arithmetic operators."
   ]
  },
  {
   "cell_type": "code",
   "execution_count": 11,
   "id": "ab128b78-6810-427e-9ecb-84343c7c38eb",
   "metadata": {},
   "outputs": [],
   "source": [
    "a = 10\n",
    "b = 3"
   ]
  },
  {
   "cell_type": "code",
   "execution_count": 12,
   "id": "49ebb0dd-abd0-4853-b9ac-fe169200c86e",
   "metadata": {},
   "outputs": [
    {
     "data": {
      "text/plain": [
       "3.3333333333333335"
      ]
     },
     "execution_count": 12,
     "metadata": {},
     "output_type": "execute_result"
    }
   ],
   "source": [
    "a/b #division"
   ]
  },
  {
   "cell_type": "code",
   "execution_count": 13,
   "id": "ddb76224-20d2-4987-8c49-421f77a275df",
   "metadata": {},
   "outputs": [
    {
     "data": {
      "text/plain": [
       "1"
      ]
     },
     "execution_count": 13,
     "metadata": {},
     "output_type": "execute_result"
    }
   ],
   "source": [
    "a%b #modulo"
   ]
  },
  {
   "cell_type": "code",
   "execution_count": 14,
   "id": "ace0b238-d081-48a2-924f-0a341e8b6d69",
   "metadata": {},
   "outputs": [
    {
     "data": {
      "text/plain": [
       "3"
      ]
     },
     "execution_count": 14,
     "metadata": {},
     "output_type": "execute_result"
    }
   ],
   "source": [
    "a//b #floor division"
   ]
  },
  {
   "cell_type": "code",
   "execution_count": 15,
   "id": "5914506c-4bfb-426f-855c-0210ebb45f44",
   "metadata": {},
   "outputs": [
    {
     "data": {
      "text/plain": [
       "1000"
      ]
     },
     "execution_count": 15,
     "metadata": {},
     "output_type": "execute_result"
    }
   ],
   "source": [
    "a**b #exponentiation"
   ]
  },
  {
   "cell_type": "code",
   "execution_count": null,
   "id": "61df71e8-f259-491a-95ba-aa9962538e2a",
   "metadata": {},
   "outputs": [],
   "source": []
  },
  {
   "cell_type": "code",
   "execution_count": 16,
   "id": "df6b8b2f-0d5a-494a-b544-e54b568fe810",
   "metadata": {},
   "outputs": [],
   "source": [
    "#Ans 04:"
   ]
  },
  {
   "cell_type": "code",
   "execution_count": 17,
   "id": "0b86a951-513b-47bd-8071-396a30007d44",
   "metadata": {},
   "outputs": [
    {
     "name": "stdout",
     "output_type": "stream",
     "text": [
      "3690\n",
      "<class 'int'>\n",
      "alice\n",
      "<class 'str'>\n",
      "[1, 2, 3, 4, 5]\n",
      "<class 'list'>\n",
      "(5, 4, 3, 2, 1)\n",
      "<class 'tuple'>\n",
      "36.09\n",
      "<class 'float'>\n",
      "{5, 6, 7, 8, 9}\n",
      "<class 'set'>\n",
      "{'name': 'bob'}\n",
      "<class 'dict'>\n",
      "369\n",
      "<class 'int'>\n",
      "True\n",
      "<class 'bool'>\n",
      "123.321\n",
      "<class 'float'>\n"
     ]
    }
   ],
   "source": [
    "list_01 = [3690, 'alice', [1,2,3,4,5], (5,4,3,2,1), 36.09, {9,8,7,6,5}, {'name': 'bob'}, 369, True, 123.321]\n",
    "for i in list_01:\n",
    "    print(i)\n",
    "    print(type(i))"
   ]
  },
  {
   "cell_type": "code",
   "execution_count": null,
   "id": "f70055ed-16a3-432f-b948-0c8bb02abaad",
   "metadata": {},
   "outputs": [],
   "source": []
  },
  {
   "cell_type": "code",
   "execution_count": 18,
   "id": "a1498ac8-67af-4aa8-9c62-af826866383a",
   "metadata": {},
   "outputs": [],
   "source": [
    "#Ans 05:"
   ]
  },
  {
   "cell_type": "code",
   "execution_count": 19,
   "id": "11c2732c-56c2-49f8-a4bd-51cca0748de7",
   "metadata": {},
   "outputs": [
    {
     "name": "stdin",
     "output_type": "stream",
     "text": [
      "PLease enter dividend(i.e 'a'): 1000\n",
      "PLease enter divisor(i.e 'b'): 50\n"
     ]
    },
    {
     "name": "stdout",
     "output_type": "stream",
     "text": [
      "a is purely divisible by b in 20 times.\n"
     ]
    },
    {
     "name": "stdin",
     "output_type": "stream",
     "text": [
      "PLease enter dividend(i.e 'a'): -1\n"
     ]
    }
   ],
   "source": [
    "exitValue = -1\n",
    "\n",
    "while True:\n",
    "    a = int(input(\"PLease enter dividend(i.e 'a'):\"))\n",
    "    if a == exitValue:\n",
    "        break\n",
    "    elif a != exitValue:\n",
    "        b = int(input(\"PLease enter divisor(i.e 'b'):\"))\n",
    "    if a%b == 0:\n",
    "        print(\"a is purely divisible by b in\", a//b, \"times.\")\n",
    "    else:\n",
    "        print(\"a is not purely divisible b\")"
   ]
  },
  {
   "cell_type": "code",
   "execution_count": null,
   "id": "4abc2d04-f552-466d-a8e5-c9d0557d9930",
   "metadata": {},
   "outputs": [],
   "source": []
  },
  {
   "cell_type": "code",
   "execution_count": 20,
   "id": "75e70a44-f74f-4cc4-860d-bb923e391626",
   "metadata": {},
   "outputs": [],
   "source": [
    "#Ans 06:"
   ]
  },
  {
   "cell_type": "code",
   "execution_count": 21,
   "id": "a3d73803-8c37-4220-9c0c-2dd12910cc62",
   "metadata": {},
   "outputs": [
    {
     "name": "stdin",
     "output_type": "stream",
     "text": [
      "Enter 1st integer: 12\n",
      "Enter next integer: 23\n",
      "Enter next integer: 34\n",
      "Enter next integer: 45\n",
      "Enter next integer: 56\n",
      "Enter next integer: 67\n",
      "Enter next integer: 78\n",
      "Enter next integer: 89\n",
      "Enter next integer: 90\n",
      "Enter next integer: 98\n",
      "Enter next integer: 87\n",
      "Enter next integer: 76\n",
      "Enter next integer: 65\n",
      "Enter next integer: 54\n",
      "Enter next integer: 43\n",
      "Enter next integer: 32\n",
      "Enter next integer: 21\n",
      "Enter next integer: 13\n",
      "Enter next integer: 24\n",
      "Enter next integer: 35\n",
      "Enter next integer: 46\n",
      "Enter next integer: 57\n",
      "Enter next integer: 68\n",
      "Enter next integer: 79\n",
      "Enter next integer: 80\n"
     ]
    },
    {
     "name": "stdout",
     "output_type": "stream",
     "text": [
      "The integers purely divisible by 3 are: [12, 45, 78, 90, 87, 54, 21, 24, 57]\n"
     ]
    }
   ],
   "source": [
    "exitValue = -1\n",
    "list_int = []\n",
    "list_int3 = []\n",
    "count = 0\n",
    "a = int(input(\"Enter 1st integer:\"))\n",
    "list_int.append(a)\n",
    "while count < 24:\n",
    "    b = int(input(\"Enter next integer:\"))\n",
    "    list_int.append(b)\n",
    "    count += 1\n",
    "for i in list_int:\n",
    "    if i % 3 == 0:\n",
    "        list_int3.append(i)\n",
    "print(\"The integers purely divisible by 3 are:\", list_int3)"
   ]
  },
  {
   "cell_type": "code",
   "execution_count": null,
   "id": "85fb1c46-dc30-4048-8451-678371bb32ea",
   "metadata": {},
   "outputs": [],
   "source": []
  },
  {
   "cell_type": "code",
   "execution_count": 22,
   "id": "c6f3c776-6e78-42a5-9f49-3d70c38d0bf9",
   "metadata": {},
   "outputs": [],
   "source": [
    "#Ans 07:"
   ]
  },
  {
   "cell_type": "code",
   "execution_count": 23,
   "id": "34997e9d-8e24-47e3-bcf1-801afe1b92e1",
   "metadata": {},
   "outputs": [],
   "source": [
    "# In Python, data types can be categorized as either mutable or immutable. Mutable data types are the ones that can be changed after they are created,\n",
    "# while immutable data types cannot be modified once they are created.\n",
    "\n",
    "# Immutable Data Types:\n",
    "# 1. Numbers (int, float, complex)\n",
    "# 2. Strings\n",
    "# 3. Tuples\n",
    "# 4. Frozen sets\n",
    "# 5. Bytes\n",
    "\n",
    "# Mutable Data Types:\n",
    "\n",
    "# 1. Lists\n",
    "# 2. Sets\n",
    "# 3. Dictionaries\n",
    "# 4. Byte arrays"
   ]
  },
  {
   "cell_type": "code",
   "execution_count": null,
   "id": "fa818336-b26e-440c-b585-43c81065fe32",
   "metadata": {},
   "outputs": [],
   "source": []
  }
 ],
 "metadata": {
  "kernelspec": {
   "display_name": "Python 3 (ipykernel)",
   "language": "python",
   "name": "python3"
  },
  "language_info": {
   "codemirror_mode": {
    "name": "ipython",
    "version": 3
   },
   "file_extension": ".py",
   "mimetype": "text/x-python",
   "name": "python",
   "nbconvert_exporter": "python",
   "pygments_lexer": "ipython3",
   "version": "3.10.8"
  }
 },
 "nbformat": 4,
 "nbformat_minor": 5
}
