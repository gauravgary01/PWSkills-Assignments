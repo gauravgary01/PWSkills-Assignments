{
 "cells": [
  {
   "cell_type": "code",
   "execution_count": 1,
   "id": "1070b557-121f-4117-b590-9fe6bb097031",
   "metadata": {
    "tags": []
   },
   "outputs": [],
   "source": [
    "#Ans 01:"
   ]
  },
  {
   "cell_type": "code",
   "execution_count": 2,
   "id": "ae2a6246-79fd-4319-bd23-199ca0d5bf7e",
   "metadata": {
    "tags": []
   },
   "outputs": [],
   "source": [
    "# Estimation statistics is a branch of statistics that deals with making inferences or predictions about population parameters\n",
    "# (such as means, variances, proportions, etc.) based on sample data. Estimation involves using information from a sample to estimate\n",
    "# or guess what the corresponding parameter is in the entire population. There are two primary methods of estimation: point estimation\n",
    "# and interval estimation.\n",
    "\n",
    "# Point Estimate:\n",
    "# A point estimate is a single value that is used to estimate a population parameter. It provides a \"best guess\" or the most likely value\n",
    "# for the parameter based on the sample data.\n",
    "# The point estimate is usually calculated as a function of the sample data. Common point estimates include the sample mean (to estimate\n",
    "# the population mean), the sample proportion (to estimate the population proportion), or the sample standard deviation (to estimate the\n",
    "# population standard deviation).\n",
    "# Point estimates are simple and easy to calculate but do not provide information about the precision or uncertainty of the estimate.\n",
    "\n",
    "# Interval Estimate:\n",
    "# An interval estimate, also known as a confidence interval, provides a range of values within which the population parameter is likely to\n",
    "# fall, along with a level of confidence.\n",
    "# Interval estimates are more informative than point estimates because they incorporate a measure of uncertainty. They convey both the estimate\n",
    "# of the parameter and the degree of confidence in that estimate.\n",
    "# The width of the confidence interval is determined by the confidence level chosen by the researcher (e.g., 95% confidence, 99% confidence). \n",
    "# wider interval implies greater confidence, but it may be less precise.\n",
    "# The formula for constructing a confidence interval depends on the type of parameter being estimated (e.g., mean, proportion) and the sample\n",
    "# size. For example, for estimating a population mean with a known standard deviation, the confidence interval can be calculated using the\n",
    "# Z-score or T-score, depending on the sample size and known population parameters."
   ]
  },
  {
   "cell_type": "code",
   "execution_count": 3,
   "id": "374f11d9-fd20-4b52-afef-255646a97050",
   "metadata": {
    "tags": []
   },
   "outputs": [],
   "source": [
    "#####################################################################################################\n",
    "#Ans 02:"
   ]
  },
  {
   "cell_type": "code",
   "execution_count": 4,
   "id": "4d087902-07c1-4b07-a02f-68d9e485c102",
   "metadata": {
    "tags": []
   },
   "outputs": [
    {
     "name": "stdout",
     "output_type": "stream",
     "text": [
      "Estimated population mean (95% confidence interval): (94.63, 105.37)\n"
     ]
    }
   ],
   "source": [
    "import scipy.stats as stats\n",
    "import math\n",
    "\n",
    "def estimate_population_mean(sample_mean, sample_std_dev, sample_size, confidence_level=0.95):\n",
    "    \"\"\"\n",
    "    Estimate the population mean using a sample mean and standard deviation.\n",
    "\n",
    "    Parameters:\n",
    "    - sample_mean: The sample mean.\n",
    "    - sample_std_dev: The sample standard deviation.\n",
    "    - sample_size: The sample size.\n",
    "    - confidence_level: The desired confidence level (default is 0.95 for a 95% confidence interval).\n",
    "\n",
    "    Returns:\n",
    "    - lower_bound: Lower bound of the confidence interval.\n",
    "    - upper_bound: Upper bound of the confidence interval.\n",
    "    \"\"\"\n",
    "\n",
    "    # Calculate the critical value (Z-score) based on the desired confidence level\n",
    "    alpha = 1 - confidence_level\n",
    "    z = stats.norm.ppf(1 - alpha / 2)\n",
    "\n",
    "    # Calculate the margin of error\n",
    "    margin_of_error = z * (sample_std_dev / math.sqrt(sample_size))\n",
    "\n",
    "    # Calculate the lower and upper bounds of the confidence interval\n",
    "    lower_bound = sample_mean - margin_of_error\n",
    "    upper_bound = sample_mean + margin_of_error\n",
    "\n",
    "    return lower_bound, upper_bound\n",
    "\n",
    "# Example usage:\n",
    "sample_mean = 100\n",
    "sample_std_dev = 15\n",
    "sample_size = 30\n",
    "confidence_level = 0.95\n",
    "\n",
    "lower, upper = estimate_population_mean(sample_mean, sample_std_dev, sample_size, confidence_level)\n",
    "print(f\"Estimated population mean (95% confidence interval): ({lower:.2f}, {upper:.2f})\")"
   ]
  },
  {
   "cell_type": "code",
   "execution_count": 5,
   "id": "85a48a00-ee12-47cf-858f-599549cd1e82",
   "metadata": {
    "tags": []
   },
   "outputs": [],
   "source": [
    "#####################################################################################################\n",
    "#Ans 03:"
   ]
  },
  {
   "cell_type": "code",
   "execution_count": 6,
   "id": "3cd0da58-8800-42c9-8ef0-1d1983c3c3c4",
   "metadata": {
    "tags": []
   },
   "outputs": [],
   "source": [
    "# Hypothesis testing is a fundamental statistical technique used to make inferences about populations or data based on sample\n",
    "# observations. It involves systematically evaluating two competing statements, or hypotheses, about a population to determine\n",
    "# which one is more likely to be true. The primary purposes of hypothesis testing are to make informed decisions, draw conclusions,\n",
    "# and assess the significance of observed effects or relationships in data.\n",
    "\n",
    "\n",
    "# Hypothesis testing typically involves two hypotheses:\n",
    "\n",
    "# Null Hypothesis (H0): The null hypothesis is a statement of no effect or no difference. It represents the status quo or the default\n",
    "# assumption. It is the hypothesis that the researcher seeks to test against to determine if there is enough evidence to reject it.\n",
    "\n",
    "# Alternative Hypothesis (Ha or H1): The alternative hypothesis is a statement that contradicts the null hypothesis. It represents what\n",
    "# the researcher is trying to find evidence for. If the null hypothesis is rejected, support for the alternative hypothesis is typically inferred.\n",
    "\n",
    "\n",
    "# The steps involved in hypothesis testing are as follows:\n",
    "\n",
    "# Formulate Hypotheses: Clearly state the null hypothesis (H0) and the alternative hypothesis (Ha) based on the research question.\n",
    "\n",
    "# Collect Data: Obtain a sample of data relevant to the research question.\n",
    "\n",
    "# Choose a Significance Level (α): Decide on the level of significance, denoted as α, which represents the acceptable probability of making\n",
    "# a Type I error (incorrectly rejecting the null hypothesis). Common significance levels are 0.05 or 0.01.\n",
    "\n",
    "# Conduct a Statistical Test: Select an appropriate statistical test (e.g., t-test, chi-squared test, ANOVA) based on the nature of the data and\n",
    "# the research question. Perform the test to calculate a test statistic.\n",
    "\n",
    "# Calculate the P-value: The P-value is the probability of observing the sample data or more extreme results under the assumption that the null\n",
    "# hypothesis is true. A smaller P-value suggests stronger evidence against the null hypothesis.\n",
    "\n",
    "# Compare the P-value to α: If the P-value is less than or equal to the chosen significance level (α), you reject the null hypothesis.\n",
    "# If the P-value is greater than α, you fail to reject the null hypothesis.\n",
    "\n",
    "# Draw Conclusions: Based on the comparison of the P-value and α, you make a decision regarding the null hypothesis. If you reject the\n",
    "# null hypothesis, you conclude in favor of the alternative hypothesis.\n",
    "\n",
    "\n",
    "# Importance of Hypothesis Testing:\n",
    "# Hypothesis testing is crucial in statistics and scientific research for several reasons:\n",
    "\n",
    "# Informed Decision-Making: Hypothesis testing provides a systematic and objective method for making informed decisions about the relationships,\n",
    "# effects, or differences in data.\n",
    "\n",
    "# Statistical Significance: It helps determine whether observed effects or relationships are statistically significant or if they could have\n",
    "# occurred by chance.\n",
    "\n",
    "# Scientific Validity: Hypothesis testing is essential for testing scientific theories, validating experimental results, and drawing conclusions\n",
    "# based on evidence.\n",
    "\n",
    "# Policy and Business Decisions: In fields like business and public policy, hypothesis testing is used to assess the effectiveness of strategies,\n",
    "# policies, and interventions.\n",
    "\n",
    "# Quality Control: In manufacturing and quality control, hypothesis testing is used to maintain product quality and identify defects or deviations\n",
    "# from standards.\n",
    "\n",
    "# Research and Innovation: It drives research and innovation by allowing researchers to test new ideas, theories, and hypotheses.\n",
    "\n",
    "# Replication and Peer Review: Hypothesis testing is a critical component of the scientific method and the process of peer review, ensuring the\n",
    "# reliability of research findings.\n",
    "\n",
    "# In summary, hypothesis testing plays a central role in making data-driven decisions, validating research findings, and contributing to the\n",
    "# advancement of science and knowledge in various fields. It is a fundamental tool for drawing meaningful conclusions from data and testing\n",
    "# the validity of research hypotheses."
   ]
  },
  {
   "cell_type": "code",
   "execution_count": 7,
   "id": "60328211-eee7-45ac-8c41-a9340da3ab51",
   "metadata": {
    "tags": []
   },
   "outputs": [],
   "source": [
    "#####################################################################################################\n",
    "#Ans 04:"
   ]
  },
  {
   "cell_type": "code",
   "execution_count": 8,
   "id": "c5945f10-04bd-4b59-8892-b5f10bfbdaef",
   "metadata": {
    "tags": []
   },
   "outputs": [],
   "source": [
    "# Hypothesis testing often involves two competing hypotheses: the null hypothesis (H0) and the alternative hypothesis (H1). In this case,\n",
    "# you want to test whether the average weight of male college students is greater than the average weight of female college students. Here\n",
    "# are the null and alternative hypotheses:\n",
    "\n",
    "# Null Hypothesis (H0): There is no significant difference in the average weight of male and female college students.\n",
    "\n",
    "# H0: μ_male = μ_female\n",
    "\n",
    "# Alternative Hypothesis (H1): The average weight of male college students is greater than the average weight of female college students.\n",
    "\n",
    "# Ha: μ_male > μ_female\n",
    "\n",
    "# In these hypotheses:\n",
    "# μ_male represents the population mean weight of male college students.\n",
    "# μ_female represents the population mean weight of female college students."
   ]
  },
  {
   "cell_type": "code",
   "execution_count": 9,
   "id": "36fab852-e777-4ccb-97d9-e100cad3389a",
   "metadata": {
    "tags": []
   },
   "outputs": [],
   "source": [
    "#####################################################################################################\n",
    "#Ans 05:"
   ]
  },
  {
   "cell_type": "code",
   "execution_count": 12,
   "id": "36f546b2-0e9d-416f-aebf-2162e1564795",
   "metadata": {
    "tags": []
   },
   "outputs": [
    {
     "name": "stdout",
     "output_type": "stream",
     "text": [
      "Sample 1 Mean: 54.43\n",
      "Sample 2 Mean: 51.53\n",
      "Test Statistic (t): 1.0233\n",
      "P-value: 0.3104\n",
      "Fail to reject the null hypothesis: There is no significant difference between the means.\n"
     ]
    }
   ],
   "source": [
    "import numpy as np\n",
    "from scipy import stats\n",
    "\n",
    "# Generate two random samples (replace with your own data)\n",
    "np.random.seed(0)  # For reproducibility\n",
    "sample1 = np.random.normal(loc=50, scale=10, size=30)  # Sample 1\n",
    "sample2 = np.random.normal(loc=55, scale=12, size=30)  # Sample 2\n",
    "\n",
    "# Define the significance level (alpha)\n",
    "alpha = 0.05\n",
    "\n",
    "# Perform a two-sample t-test\n",
    "t_stat, p_value = stats.ttest_ind(sample1, sample2, equal_var=False)\n",
    "\n",
    "# Print the results\n",
    "print(f\"Sample 1 Mean: {np.mean(sample1):.2f}\")\n",
    "print(f\"Sample 2 Mean: {np.mean(sample2):.2f}\")\n",
    "print(f\"Test Statistic (t): {t_stat:.4f}\")\n",
    "print(f\"P-value: {p_value:.4f}\")\n",
    "\n",
    "# Determine whether to reject the null hypothesis\n",
    "if p_value < alpha:\n",
    "    print(\"Reject the null hypothesis: There is a significant difference between the means.\")\n",
    "else:\n",
    "    print(\"Fail to reject the null hypothesis: There is no significant difference between the means.\")"
   ]
  },
  {
   "cell_type": "code",
   "execution_count": 13,
   "id": "985eaf2d-10c0-49a0-8cfe-e6986cf2139d",
   "metadata": {
    "tags": []
   },
   "outputs": [],
   "source": [
    "#####################################################################################################\n",
    "#Ans 06:"
   ]
  },
  {
   "cell_type": "code",
   "execution_count": 14,
   "id": "d5c021da-1ca6-462f-a84b-63fcd3700a99",
   "metadata": {
    "tags": []
   },
   "outputs": [],
   "source": [
    "# In hypothesis testing, the null hypothesis (H0) and the alternative hypothesis (Ha) are two competing statements or claims\n",
    "# about a population or a phenomenon. These hypotheses are used to make inferences and draw conclusions based on sample data.\n",
    "# The null hypothesis represents the status quo or the default assumption, while the alternative hypothesis represents what the\n",
    "# researcher is trying to find evidence for.\n",
    "\n",
    "# Here are some examples of null and alternative hypotheses:\n",
    "\n",
    "# Example 1: Mean Test\n",
    "\n",
    "# Null Hypothesis (H0): The mean weight of a product produced by a machine is 100 grams.\n",
    "# Alternative Hypothesis (Ha): The mean weight of a product produced by a machine is not 100 grams.\n",
    "# In this case, the null hypothesis suggests that the machine is producing products with a mean weight of 100 grams, while the\n",
    "# alternative hypothesis suggests that the mean weight is different from 100 grams.\n",
    "\n",
    "# Example 2: Proportion Test\n",
    "\n",
    "# Null Hypothesis (H0): The proportion of customers who prefer Product A is 0.6.\n",
    "# Alternative Hypothesis (Ha): The proportion of customers who prefer Product A is not equal to 0.6.\n",
    "# Here, the null hypothesis states that 60% of customers prefer Product A, while the alternative hypothesis suggests that the proportion\n",
    "# of customers who prefer Product A is different from 60%.\n",
    "\n",
    "# Example 3: Equality Test\n",
    "\n",
    "# Null Hypothesis (H0): The mean salary of male employees is equal to the mean salary of female employees.\n",
    "# Alternative Hypothesis (Ha): The mean salary of male employees is not equal to the mean salary of female employees.\n",
    "# In this scenario, the null hypothesis assumes that there is no difference in the mean salaries of male and female employees, while\n",
    "# the alternative hypothesis suggests that there is a difference.\n",
    "\n",
    "# Example 4: Directional Test\n",
    "\n",
    "# Null Hypothesis (H0): The new marketing campaign does not increase sales.\n",
    "# Alternative Hypothesis (Ha): The new marketing campaign increases sales.\n",
    "# Here, the null hypothesis states that the marketing campaign has no effect on sales, while the alternative hypothesis asserts that the\n",
    "# campaign increases sales.\n",
    "\n",
    "# Example 5: One-Sided Test\n",
    "\n",
    "# Null Hypothesis (H0): The new drug does not reduce cholesterol levels.\n",
    "# Alternative Hypothesis (Ha): The new drug reduces cholesterol levels.\n",
    "# In this case, the null hypothesis claims that the drug has no effect on cholesterol levels, while the alternative hypothesis states that\n",
    "# the drug reduces cholesterol levels."
   ]
  },
  {
   "cell_type": "code",
   "execution_count": 15,
   "id": "7d80f064-44ec-4170-af2e-ca999c6d485f",
   "metadata": {
    "tags": []
   },
   "outputs": [],
   "source": [
    "#####################################################################################################\n",
    "#Ans 07:"
   ]
  },
  {
   "cell_type": "code",
   "execution_count": 16,
   "id": "ce4f40e8-a850-4acc-a724-528e91ae5def",
   "metadata": {
    "tags": []
   },
   "outputs": [],
   "source": [
    "# Hypothesis testing is a systematic and structured process used to make inferences about populations based on sample data.\n",
    "# It involves comparing two competing hypotheses: the null hypothesis (H0) and the alternative hypothesis (Ha). Here are the\n",
    "# general steps involved in hypothesis testing:\n",
    "\n",
    "# Formulate Hypotheses:\n",
    "# Define the null hypothesis (H0): This represents the default or status quo assumption. It often states that there is no effect,\n",
    "# no difference, or no relationship in the population.\n",
    "# Define the alternative hypothesis (Ha): This represents what you are trying to find evidence for. It may state that there is an\n",
    "# effect, a difference, or a relationship in the population.\n",
    "\n",
    "# Set Significance Level (α):\n",
    "# Choose the level of significance, denoted as α, which represents the acceptable probability of making a Type I error (incorrectly\n",
    "# rejecting the null hypothesis). Common significance levels include 0.05 (5%) or 0.01 (1%).\n",
    "\n",
    "# Collect Data:\n",
    "# Collect a sample of data relevant to the research question or hypothesis.\n",
    "\n",
    "# Select a Statistical Test:\n",
    "# Choose an appropriate statistical test based on the type of data and research question. The choice of test depends on whether you are\n",
    "# comparing means, proportions, variances, or other parameters, and whether the samples are dependent or independent.\n",
    "\n",
    "# Calculate Test Statistic:\n",
    "# Perform the selected statistical test using the sample data to calculate a test statistic (e.g., t-statistic, chi-squared statistic, F-statistic).\n",
    "\n",
    "# Calculate P-value:\n",
    "# Calculate the probability of obtaining the observed results (or more extreme results) if the null hypothesis is true. This is known\n",
    "# as the p-value. A smaller p-value indicates stronger evidence against the null hypothesis.\n",
    "\n",
    "# Compare P-value and α:\n",
    "# Compare the calculated p-value to the chosen significance level (α).\n",
    "# If p-value ≤ α: Reject the null hypothesis. There is enough evidence to conclude that the alternative hypothesis is true.\n",
    "# If p-value > α: Fail to reject the null hypothesis. There is not enough evidence to support the alternative hypothesis.\n",
    "\n",
    "# Draw Conclusions:\n",
    "# Based on the comparison of the p-value and α, make a decision regarding the null hypothesis. Clearly state the results of the test, including\n",
    "# whether the null hypothesis is rejected or not.\n",
    "\n",
    "# Interpret Results:\n",
    "# Interpret the practical and statistical significance of the findings. Explain what the results mean in the context of the research question.\n",
    "\n",
    "# Report Findings:\n",
    "# Present the results and conclusions in a clear and organized manner in a research report or paper.\n",
    "\n",
    "# Consider Limitations:\n",
    "# Acknowledge any limitations of the study and the assumptions made in the hypothesis testing process.\n",
    "\n",
    "# Make Recommendations:\n",
    "# If applicable, make recommendations or suggestions based on the research findings."
   ]
  },
  {
   "cell_type": "code",
   "execution_count": 17,
   "id": "940c4048-582c-4007-912d-3c0847dc1351",
   "metadata": {
    "tags": []
   },
   "outputs": [],
   "source": [
    "#####################################################################################################\n",
    "#Ans 08:"
   ]
  },
  {
   "cell_type": "code",
   "execution_count": 18,
   "id": "afac5659-e541-4214-8953-d52c675e91ef",
   "metadata": {
    "tags": []
   },
   "outputs": [],
   "source": [
    "# The p-value, short for \"probability value,\" is a statistical measure that quantifies the strength of evidence against the\n",
    "# null hypothesis (H0) in hypothesis testing. It represents the probability of obtaining the observed results, or results more\n",
    "# extreme, when the null hypothesis is true. In other words, the p-value tells you the likelihood of seeing the sample data if\n",
    "# there were no true effect, difference, or relationship in the population being studied.\n",
    "\n",
    "\n",
    "# Significance of the p-value in Hypothesis Testing:\n",
    "# The p-value plays a crucial role in hypothesis testing and can be interpreted as follows:\n",
    "\n",
    "# Small p-value (p ≤ α): When the p-value is small (typically less than or equal to the chosen significance level, α), it indicates\n",
    "# strong evidence against the null hypothesis. This suggests that the observed results are unlikely to have occurred by chance, and it\n",
    "# is more reasonable to reject the null hypothesis in favor of the alternative hypothesis (Ha). In other words, a small p-value suggests\n",
    "# a significant effect or difference.\n",
    "\n",
    "# Large p-value (p > α): A large p-value suggests that the observed results are consistent with what would be expected under the null hypothesis.\n",
    "# It implies weak evidence against the null hypothesis. In this case, you may fail to reject the null hypothesis, as the data does not provide\n",
    "# enough evidence to support the alternative hypothesis.\n",
    "\n",
    "# The p-value serves as a threshold for decision-making in hypothesis testing. The significance level (α) is chosen before conducting the test\n",
    "# and represents the maximum acceptable probability of making a Type I error (rejecting the null hypothesis when it is true). By comparing the\n",
    "# p-value to α, you make a decision:\n",
    "\n",
    "# If p-value ≤ α: Reject the null hypothesis.\n",
    "# If p-value > α: Fail to reject the null hypothesis.\n",
    "\n",
    "\n",
    "# Additional points to consider:\n",
    "\n",
    "# The smaller the p-value, the stronger the evidence against the null hypothesis.\n",
    "# The larger the chosen α (e.g., α = 0.10), the greater the tolerance for Type I errors, making it easier to reject the null hypothesis.\n",
    "# The p-value does not provide information about the effect size or the practical significance of the findings. Even with a small p-value,\n",
    "# the effect may be small or negligible.\n",
    "\n",
    "\n",
    "# Interpreting the p-value correctly is essential in hypothesis testing, as it helps researchers draw meaningful conclusions based on\n",
    "# statistical evidence. It is a key tool for making informed decisions, validating research results, and assessing the significance of\n",
    "# observed effects or relationships in data."
   ]
  },
  {
   "cell_type": "code",
   "execution_count": 19,
   "id": "8972d9d5-6c66-4a68-ab0a-c73af1e5bb47",
   "metadata": {
    "tags": []
   },
   "outputs": [],
   "source": [
    "#####################################################################################################\n",
    "#Ans 09:"
   ]
  },
  {
   "cell_type": "code",
   "execution_count": 20,
   "id": "25d3c47e-928c-4334-a0c2-b28bc638e70e",
   "metadata": {
    "tags": []
   },
   "outputs": [
    {
     "data": {
      "image/png": "[encoded data removed]",
      "text/plain": [
       "<Figure size 640x480 with 1 Axes>"
      ]
     },
     "metadata": {},
     "output_type": "display_data"
    }
   ],
   "source": [
    "import numpy as np\n",
    "import matplotlib.pyplot as plt\n",
    "import scipy.stats as stats\n",
    "\n",
    "# Degrees of freedom\n",
    "df = 10\n",
    "\n",
    "# Generate x values\n",
    "x = np.linspace(-4, 4, 400)\n",
    "\n",
    "# Calculate the probability density function (PDF) for the t-distribution\n",
    "pdf = stats.t.pdf(x, df)\n",
    "\n",
    "# Create a plot\n",
    "plt.plot(x, pdf, label=f\"t-Distribution (df={df})\")\n",
    "\n",
    "# Add labels and a legend\n",
    "plt.xlabel(\"X\")\n",
    "plt.ylabel(\"Probability Density\")\n",
    "plt.title(f\"Student's t-Distribution (df={df})\")\n",
    "plt.legend()\n",
    "\n",
    "# Display the plot\n",
    "plt.grid(True)\n",
    "plt.show()"
   ]
  },
  {
   "cell_type": "code",
   "execution_count": 21,
   "id": "83ae0533-ee18-450d-8980-9d41cf7ec1dd",
   "metadata": {
    "tags": []
   },
   "outputs": [],
   "source": [
    "#####################################################################################################\n",
    "#Ans 10:"
   ]
  },
  {
   "cell_type": "code",
   "execution_count": 22,
   "id": "086f1a86-2e3b-47e2-af1b-53065592a7b1",
   "metadata": {
    "tags": []
   },
   "outputs": [
    {
     "name": "stdout",
     "output_type": "stream",
     "text": [
      "Sample 1 Mean: 54.43\n",
      "Sample 2 Mean: 51.53\n",
      "Test Statistic (t): 1.0233\n",
      "P-value: 0.3104\n",
      "Fail to reject the null hypothesis: The population means are equal.\n"
     ]
    }
   ],
   "source": [
    "import numpy as np\n",
    "import scipy.stats as stats\n",
    "\n",
    "# Generate two random samples (replace with your own data)\n",
    "np.random.seed(0)  # For reproducibility\n",
    "sample1 = np.random.normal(loc=50, scale=10, size=30)\n",
    "sample2 = np.random.normal(loc=55, scale=12, size=30)\n",
    "\n",
    "# Perform a two-sample t-test with the null hypothesis that population means are equal\n",
    "t_stat, p_value = stats.ttest_ind(sample1, sample2)\n",
    "\n",
    "# Define the significance level (alpha)\n",
    "alpha = 0.05\n",
    "\n",
    "# Print the results\n",
    "print(f\"Sample 1 Mean: {np.mean(sample1):.2f}\")\n",
    "print(f\"Sample 2 Mean: {np.mean(sample2):.2f}\")\n",
    "print(f\"Test Statistic (t): {t_stat:.4f}\")\n",
    "print(f\"P-value: {p_value:.4f}\")\n",
    "\n",
    "# Determine whether to reject the null hypothesis\n",
    "if p_value < alpha:\n",
    "    print(\"Reject the null hypothesis: The population means are not equal.\")\n",
    "else:\n",
    "    print(\"Fail to reject the null hypothesis: The population means are equal.\")"
   ]
  },
  {
   "cell_type": "code",
   "execution_count": 23,
   "id": "f69fe7c4-238d-4c0f-980a-28aa621bafe0",
   "metadata": {
    "tags": []
   },
   "outputs": [],
   "source": [
    "#####################################################################################################\n",
    "#Ans 11:"
   ]
  },
  {
   "cell_type": "code",
   "execution_count": 25,
   "id": "d10383c9-a159-47d2-82ef-6cda545db3b0",
   "metadata": {
    "tags": []
   },
   "outputs": [],
   "source": [
    "# Student's t-distribution, often simply referred to as the t-distribution, is a probability distribution that is similar\n",
    "# in shape to the normal distribution but has heavier tails. It is named after the pseudonym \"Student,\" used by William Sealy Gosset,\n",
    "# a statistician who developed the distribution in the early 20th century while working for the Guinness Brewery. The t-distribution\n",
    "# is used for making inferences about population parameters, particularly when the sample size is small, and the population standard\n",
    "# deviation is unknown.\n",
    "\n",
    "# Key characteristics of the t-distribution include:\n",
    "\n",
    "# Shape: The t-distribution is bell-shaped and symmetrical, like the normal distribution, but it has thicker tails. As the degrees of freedom increase,\n",
    "# the t-distribution approaches the shape of the normal distribution.\n",
    "\n",
    "# Degrees of Freedom (df): The shape of the t-distribution is determined by the degrees of freedom, denoted as \"df.\" The degrees of freedom are related\n",
    "# to the sample size and play a significant role in shaping the distribution. The larger the degrees of freedom, the closer the t-distribution resembles\n",
    "# the normal distribution.\n",
    "\n",
    "# Tails: The t-distribution has heavier tails than the normal distribution. This means that extreme values are more likely to occur, making it more\n",
    "# appropriate for dealing with uncertainty when the sample size is small.\n",
    "\n",
    "\n",
    "# When to Use the t-Distribution:\n",
    "# The t-distribution is used in various situations where the underlying population distribution is approximately normal, but specific\n",
    "# conditions necessitate the use of the t-distribution. You should consider using the t-distribution in the following cases:\n",
    "\n",
    "# Small Sample Size: When working with small sample sizes (typically less than 30), the t-distribution is preferred because it accounts for the\n",
    "# increased uncertainty due to limited data.\n",
    "\n",
    "# Unknown Population Standard Deviation: If the population standard deviation is unknown and must be estimated from the sample, the t-distribution\n",
    "# is used. The t-distribution provides a way to account for the uncertainty in the estimate.\n",
    "\n",
    "# Confidence Intervals: When calculating confidence intervals for population parameters (e.g., population mean) based on sample data, you should\n",
    "# use the t-distribution, especially when the sample size is small and the population standard deviation is unknown.\n",
    "\n",
    "# Hypothesis Testing: In hypothesis testing, if the sample size is small and the population standard deviation is unknown, the t-distribution is\n",
    "# used for tests involving means and differences between means.\n",
    "\n",
    "# Quality Control: In quality control and manufacturing, the t-distribution is used for control charts and process capability analysis when dealing\n",
    "# with small sample sizes.\n",
    "\n",
    "\n",
    "# In summary, the t-distribution is a valuable tool in statistics for handling situations where the sample size is small or the population \n",
    "# standard deviation is uncertain. It accounts for the added variability associated with smaller samples, making it a better choice in such\n",
    "# cases. However, as the sample size increases, the t-distribution converges to the normal distribution, and there is less need to use it."
   ]
  },
  {
   "cell_type": "code",
   "execution_count": 26,
   "id": "aa5473b1-ef5d-4998-8ede-7966b312c1c8",
   "metadata": {
    "tags": []
   },
   "outputs": [],
   "source": [
    "#####################################################################################################\n",
    "#Ans 12:"
   ]
  },
  {
   "cell_type": "code",
   "execution_count": 27,
   "id": "df2d34b7-61b6-4516-8a97-bd0abae6ac05",
   "metadata": {
    "tags": []
   },
   "outputs": [],
   "source": [
    "# The t-statistic, also known as the Student's t-statistic, is a measure used in hypothesis testing to assess whether there is a\n",
    "# significant difference between the means of two independent samples or to test whether a sample mean is significantly different\n",
    "# from a population mean. It helps determine if the observed difference is likely to have occurred by chance or if it is\n",
    "# statistically\n",
    "# significant.\n",
    "\n",
    "# The formula for the t-statistic depends on the context in which it is used. Here are the common formulas for two scenarios:\n",
    "\n",
    "# One-Sample t-Test:\n",
    "\n",
    "# Used when comparing the sample mean to a known population mean or testing whether the sample mean is significantly different\n",
    "# from a hypothesized population mean.\n",
    "# Formula for a one-sample t-test:\n",
    "    \n",
    "#     t= (x̄-μ)/(s/sqrt.n)\n",
    "\n",
    "# Where:\n",
    "# x̄ is the sample mean.\n",
    "# μ is the hypothesized population mean.\n",
    "# s is the sample standard deviation.\n",
    "# n is the sample size.\n",
    "\n",
    "# Two-Sample t-Test:\n",
    "\n",
    "# Used when comparing the means of two independent samples to test if they are significantly different from each other.\n",
    "# Formula for a two-sample t-test (unpooled, assuming unequal variances):\n",
    "    \n",
    "#     t=(x̄1-x̄2)/sqrt.[(s1**2/n1)+(s2**2/n2)]\n",
    "\n",
    "# Where:\n",
    "# x̄1 is the sample mean of sample 1\n",
    "# x̄2 is the sample mean of sample 2\n",
    "# s1 is the sample standard deviation of sample 1\n",
    "# s2 is the sample standard deviation of sample 2\n",
    "# n1 is the sample size 1\n",
    "# n2 is the sample size 2"
   ]
  },
  {
   "cell_type": "code",
   "execution_count": 28,
   "id": "6e43d697-840a-4588-a3b4-2b2b86ebe55f",
   "metadata": {
    "tags": []
   },
   "outputs": [],
   "source": [
    "#####################################################################################################\n",
    "#Ans 13:"
   ]
  },
  {
   "cell_type": "code",
   "execution_count": 29,
   "id": "1dadad09-8280-42bf-901c-a67f3aed7bd6",
   "metadata": {
    "tags": []
   },
   "outputs": [
    {
     "name": "stdout",
     "output_type": "stream",
     "text": [
      "Sample Mean: $500.00\n",
      "Sample Standard Deviation: $50.00\n",
      "Sample Size: 50\n",
      "Confidence Level: 95.0%\n",
      "Degrees of Freedom: 49\n",
      "Critical Value: 2.0096\n",
      "Margin of Error: 14.21\n",
      "Confidence Interval: ($485.79, $514.21)\n"
     ]
    }
   ],
   "source": [
    "import scipy.stats as stats\n",
    "\n",
    "# Sample data\n",
    "sample_mean = 500  # Sample mean\n",
    "sample_std = 50    # Sample standard deviation\n",
    "sample_size = 50   # Sample size\n",
    "confidence_level = 0.95  # 95% confidence level\n",
    "\n",
    "# Degrees of freedom\n",
    "degrees_of_freedom = sample_size - 1\n",
    "\n",
    "# Calculate the margin of error\n",
    "critical_value = stats.t.ppf((1 + confidence_level) / 2, df=degrees_of_freedom)\n",
    "margin_of_error = critical_value * (sample_std / (sample_size ** 0.5))\n",
    "\n",
    "# Calculate the confidence interval\n",
    "lower_limit = sample_mean - margin_of_error\n",
    "upper_limit = sample_mean + margin_of_error\n",
    "\n",
    "# Display the results\n",
    "print(f\"Sample Mean: ${sample_mean:.2f}\")\n",
    "print(f\"Sample Standard Deviation: ${sample_std:.2f}\")\n",
    "print(f\"Sample Size: {sample_size}\")\n",
    "print(f\"Confidence Level: {confidence_level * 100}%\")\n",
    "print(f\"Degrees of Freedom: {degrees_of_freedom}\")\n",
    "print(f\"Critical Value: {critical_value:.4f}\")\n",
    "print(f\"Margin of Error: {margin_of_error:.2f}\")\n",
    "print(f\"Confidence Interval: (${lower_limit:.2f}, ${upper_limit:.2f})\")"
   ]
  },
  {
   "cell_type": "code",
   "execution_count": 30,
   "id": "ab443742-5db2-4e27-8111-d489e0b66ad1",
   "metadata": {
    "tags": []
   },
   "outputs": [],
   "source": [
    "#####################################################################################################\n",
    "#Ans 14:"
   ]
  },
  {
   "cell_type": "code",
   "execution_count": 36,
   "id": "be19c0b9-c39a-44d8-864c-486df8273cc9",
   "metadata": {
    "tags": []
   },
   "outputs": [
    {
     "name": "stdout",
     "output_type": "stream",
     "text": [
      "The null hypothesis has been rejected and since the t_stat value is less than the negative critical value, it can be said that the medicine has been less effective that expected.\n"
     ]
    }
   ],
   "source": [
    "import scipy.stats as stats\n",
    "\n",
    "# Sample data\n",
    "sample_mean = 8  # Sample mean decrease in blood pressure (mmHg)\n",
    "sample_std = 3   # Sample standard deviation (mmHg)\n",
    "sample_size = 100  # Sample size\n",
    "hypothesized_mean = 10  # Hypothesized mean decrease in blood pressure (mmHg)\n",
    "confidence_interval = 0.95\n",
    "\n",
    "significance_level = 1- confidence_interval\n",
    "\n",
    "degrees_of_freedom = sample_size - 1\n",
    "\n",
    "standard_error = sample_std / (sample_size ** 0.5)\n",
    "\n",
    "t_stat = (sample_mean - hypothesized_mean) / standard_error\n",
    "\n",
    "critical_value = stats.t.ppf(1 - significance_level / 2, df=degrees_of_freedom)\n",
    "\n",
    "if t_stat <= -critical_value:\n",
    "    print('The null hypothesis has been rejected and since the t_stat value is less than the negative critical value, it can be said that the medicine has been less effective that expected.')\n",
    "elif t_stat > -critical_value and t_stat < critical_value:\n",
    "    print('The null hypothesis cannot be rejected and thereby it is true that the mean decrease in pressure after this medication is about 10 mmHg')\n",
    "else:\n",
    "    print('The null hypothesis has been rejected and since the t_stat value is greater than the positive critical value, it can be said that the medicine has been more effective that expected.')"
   ]
  },
  {
   "cell_type": "code",
   "execution_count": 37,
   "id": "1beb285d-3d6b-4b42-803c-cb8c449e2665",
   "metadata": {
    "tags": []
   },
   "outputs": [],
   "source": [
    "#####################################################################################################\n",
    "#Ans 15:"
   ]
  },
  {
   "cell_type": "code",
   "execution_count": 42,
   "id": "3ecb5f79-c43a-4bae-84ee-0a67484d9017",
   "metadata": {
    "tags": []
   },
   "outputs": [
    {
     "name": "stdout",
     "output_type": "stream",
     "text": [
      "-2.0000000000000018\n",
      "-2.3263478740408408\n",
      "Failed to reject null hypothesis. Thus, true mean is close to 5 pounds \n"
     ]
    }
   ],
   "source": [
    "import scipy.stats as stats\n",
    "\n",
    "pop_mean = 5\n",
    "pop_std = 0.5\n",
    "\n",
    "sample_mean = 4.8\n",
    "sample_size = 25\n",
    "\n",
    "alpha = 0.01\n",
    "\n",
    "standard_error = population_stddev/(sample_size ** 0.5)\n",
    "z_statistic = (sample_mean - pop_mean) / standard_error\n",
    "\n",
    "critical_value = stats.norm.ppf(alpha)\n",
    "\n",
    "print(z_statistic)\n",
    "print(critical_value)\n",
    "\n",
    "if z_statistic <= critical_value:\n",
    "    print('Null hypothesis rejected. Thus, true mean is less than 5 pounds')\n",
    "else:\n",
    "    print('Failed to reject null hypothesis. Thus, true mean is close to 5 pounds ')"
   ]
  },
  {
   "cell_type": "code",
   "execution_count": 43,
   "id": "644a3bbc-c394-4eb0-a49b-498eb17ab436",
   "metadata": {
    "tags": []
   },
   "outputs": [],
   "source": [
    "#####################################################################################################\n",
    "#Ans 16:"
   ]
  },
  {
   "cell_type": "code",
   "execution_count": 46,
   "id": "23cd595c-b2b0-4861-adf0-576b47717051",
   "metadata": {
    "tags": []
   },
   "outputs": [
    {
     "name": "stdout",
     "output_type": "stream",
     "text": [
      "2.6500812928169553\n",
      "2.3239677296992913\n",
      "we fail to reject the null hypothesis\n"
     ]
    }
   ],
   "source": [
    "from scipy.stats import t\n",
    "import math\n",
    "\n",
    "x_bar1 = 80\n",
    "n1 = 30\n",
    "s1 = 10\n",
    "\n",
    "x_bar2 = 75\n",
    "n2 = 40\n",
    "s2 = 8\n",
    "\n",
    "alpha = 0.01\n",
    "df = (n1 - 1) + (n2 - 1)\n",
    "\n",
    "critical_value = t.ppf(1 - alpha / 2, df)\n",
    "\n",
    "print(critical_value)\n",
    "\n",
    "df1 = n1-1\n",
    "df2 = n2-1\n",
    "\n",
    "ss1 = (s1**2) * (df1)\n",
    "ss2 = (s2**2) * (df2)\n",
    "\n",
    "sp = math.sqrt((ss1 + ss2)/(df1 + df2))\n",
    "\n",
    "t = (x_bar1-x_bar2)/(math.sqrt(((sp**2)/n1)+((sp**2)/n2)))\n",
    "\n",
    "print(t)\n",
    "\n",
    "if t < -critical_value or t > critical_value:\n",
    "    print('we reject the null hyouthesis')\n",
    "else:\n",
    "    print('we fail to reject the null hypothesis')"
   ]
  },
  {
   "cell_type": "code",
   "execution_count": 47,
   "id": "b554a023-1689-4379-a3fa-a559533fdfba",
   "metadata": {
    "tags": []
   },
   "outputs": [],
   "source": [
    "#####################################################################################################\n",
    "#Ans 17:"
   ]
  },
  {
   "cell_type": "code",
   "execution_count": 49,
   "id": "90729cf6-188f-4b15-aeda-0e397e8dfec0",
   "metadata": {
    "tags": []
   },
   "outputs": [
    {
     "name": "stdout",
     "output_type": "stream",
     "text": [
      "Sample Mean: 4.00\n",
      "Sample Standard Deviation: 1.50\n",
      "Sample Size: 50\n",
      "Confidence Level: 99.0%\n",
      "Degrees of Freedom: 49\n",
      "Critical Value: 2.6800\n",
      "Margin of Error: 0.57\n",
      "Confidence Interval: (3.43, 4.57)\n"
     ]
    }
   ],
   "source": [
    "import scipy.stats as stats\n",
    "\n",
    "# Sample data\n",
    "sample_mean = 4  # Sample mean\n",
    "sample_std = 1.5    # Sample standard deviation\n",
    "sample_size = 50   # Sample size\n",
    "confidence_level = 0.99  # 99% confidence interval\n",
    "\n",
    "# Degrees of freedom\n",
    "degrees_of_freedom = sample_size - 1\n",
    "\n",
    "# Calculate the margin of error\n",
    "critical_value = stats.t.ppf((1 + confidence_level) / 2, df=degrees_of_freedom)\n",
    "margin_of_error = critical_value * (sample_std / (sample_size ** 0.5))\n",
    "\n",
    "# Calculate the confidence interval\n",
    "lower_limit = sample_mean - margin_of_error\n",
    "upper_limit = sample_mean + margin_of_error\n",
    "\n",
    "# Display the results\n",
    "print(f\"Sample Mean: {sample_mean:.2f}\")\n",
    "print(f\"Sample Standard Deviation: {sample_std:.2f}\")\n",
    "print(f\"Sample Size: {sample_size}\")\n",
    "print(f\"Confidence Level: {confidence_level * 100}%\")\n",
    "print(f\"Degrees of Freedom: {degrees_of_freedom}\")\n",
    "print(f\"Critical Value: {critical_value:.4f}\")\n",
    "print(f\"Margin of Error: {margin_of_error:.2f}\")\n",
    "print(f\"Confidence Interval: ({lower_limit:.2f}, {upper_limit:.2f})\")"
   ]
  },
  {
   "cell_type": "code",
   "execution_count": 50,
   "id": "f1fcbaaf-4a5d-40ac-94f5-a242adbbccd5",
   "metadata": {
    "tags": []
   },
   "outputs": [],
   "source": [
    "#####################################################################################################"
   ]
  }
 ],
 "metadata": {
  "kernelspec": {
   "display_name": "Python 3 (ipykernel)",
   "language": "python",
   "name": "python3"
  },
  "language_info": {
   "codemirror_mode": {
    "name": "ipython",
    "version": 3
   },
   "file_extension": ".py",
   "mimetype": "text/x-python",
   "name": "python",
   "nbconvert_exporter": "python",
   "pygments_lexer": "ipython3",
   "version": "3.11.5"
  }
 },
 "nbformat": 4,
 "nbformat_minor": 5
}
