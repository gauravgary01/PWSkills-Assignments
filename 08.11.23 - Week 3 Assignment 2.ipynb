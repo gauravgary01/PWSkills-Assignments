{
 "cells": [
  {
   "cell_type": "code",
   "execution_count": 6,
   "id": "70f3f1a6-600c-4547-94ab-602262643a50",
   "metadata": {},
   "outputs": [],
   "source": [
    "#Ans 01:"
   ]
  },
  {
   "cell_type": "code",
   "execution_count": 3,
   "id": "921463f0-2ff1-4ed1-b453-81edd6e374e6",
   "metadata": {},
   "outputs": [
    {
     "name": "stdout",
     "output_type": "stream",
     "text": [
      "('Sachin Tendulkar', 34357)\n",
      "('Ricky Ponting', 27483)\n",
      "('Jack Kallis', 25534)\n",
      "('Virat Kohli', 24936)\n"
     ]
    }
   ],
   "source": [
    "data = [('Ricky Ponting', 27483), ('Sachin Tendulkar', 34357), ('Virat Kohli', 24936), ('Jack Kallis', 25534)]\n",
    "\n",
    "sorted_data = sorted(data, key=lambda x: x[1])\n",
    "\n",
    "for item in sorted_data:\n",
    "    print(item)"
   ]
  },
  {
   "cell_type": "code",
   "execution_count": null,
   "id": "50020601-415d-4d8f-8082-d1302a8e6828",
   "metadata": {},
   "outputs": [],
   "source": [
    "##################################################################################"
   ]
  },
  {
   "cell_type": "code",
   "execution_count": 7,
   "id": "268b9071-6125-40a6-b0b5-6b440a3473fc",
   "metadata": {},
   "outputs": [],
   "source": [
    "#Ans 02:"
   ]
  },
  {
   "cell_type": "code",
   "execution_count": 8,
   "id": "9c4cb2a6-ad36-42b4-853e-589e572aea83",
   "metadata": {},
   "outputs": [],
   "source": [
    "l = [1,2,3,4,5,6,7,8,9,10]"
   ]
  },
  {
   "cell_type": "code",
   "execution_count": 9,
   "id": "a3ba3850-1161-4aa7-83dd-9a9d0d9734f4",
   "metadata": {},
   "outputs": [
    {
     "data": {
      "text/plain": [
       "[1, 4, 9, 16, 25, 36, 49, 64, 81, 100]"
      ]
     },
     "execution_count": 9,
     "metadata": {},
     "output_type": "execute_result"
    }
   ],
   "source": [
    "list(map(lambda x: x**2,l))"
   ]
  },
  {
   "cell_type": "code",
   "execution_count": null,
   "id": "430e6775-6d75-497a-8366-9e3e57b30547",
   "metadata": {},
   "outputs": [],
   "source": [
    "##################################################################################"
   ]
  },
  {
   "cell_type": "code",
   "execution_count": 10,
   "id": "127d83ed-f626-4a2c-8a4c-2701e92787cf",
   "metadata": {},
   "outputs": [],
   "source": [
    "#Ans 03:"
   ]
  },
  {
   "cell_type": "code",
   "execution_count": 11,
   "id": "00fc3300-426b-4a38-8eb0-21e7cca6d47a",
   "metadata": {},
   "outputs": [],
   "source": [
    "l2 = [1,2,3,4,5,6,7,8,9,10]"
   ]
  },
  {
   "cell_type": "code",
   "execution_count": 12,
   "id": "e2250293-ea95-4add-a8f0-f2d91c5f0a52",
   "metadata": {},
   "outputs": [
    {
     "data": {
      "text/plain": [
       "('1', '2', '3', '4', '5', '6', '7', '8', '9', '10')"
      ]
     },
     "execution_count": 12,
     "metadata": {},
     "output_type": "execute_result"
    }
   ],
   "source": [
    "tuple(map(lambda x: str(x), l2))"
   ]
  },
  {
   "cell_type": "code",
   "execution_count": 13,
   "id": "48e97124-fac5-4afc-bfae-707603ee31c7",
   "metadata": {},
   "outputs": [],
   "source": [
    "##################################################################################"
   ]
  },
  {
   "cell_type": "code",
   "execution_count": 14,
   "id": "536415ec-aae5-497d-b1f1-2ae501804452",
   "metadata": {},
   "outputs": [],
   "source": [
    "#Ans 04:"
   ]
  },
  {
   "cell_type": "code",
   "execution_count": 15,
   "id": "07cd755b-2bf5-430d-b684-fd007f2ef3d5",
   "metadata": {},
   "outputs": [],
   "source": [
    "from functools import reduce"
   ]
  },
  {
   "cell_type": "code",
   "execution_count": 16,
   "id": "eb6b3759-63ef-41e8-ba09-e2731b6145e7",
   "metadata": {},
   "outputs": [],
   "source": [
    "l3 = list(range(1,26))"
   ]
  },
  {
   "cell_type": "code",
   "execution_count": 17,
   "id": "bdd46e0f-9a0d-4332-829a-6f00c56ae6ec",
   "metadata": {},
   "outputs": [
    {
     "data": {
      "text/plain": [
       "15511210043330985984000000"
      ]
     },
     "execution_count": 17,
     "metadata": {},
     "output_type": "execute_result"
    }
   ],
   "source": [
    "reduce(lambda x,y: x*y, l3)"
   ]
  },
  {
   "cell_type": "code",
   "execution_count": 18,
   "id": "c0366be7-b04b-486c-8b0e-12a421ccd80e",
   "metadata": {},
   "outputs": [],
   "source": [
    "##################################################################################"
   ]
  },
  {
   "cell_type": "code",
   "execution_count": 19,
   "id": "fc5644ea-73b7-4ded-befe-d93d8fe9510c",
   "metadata": {},
   "outputs": [],
   "source": [
    "#Ans 05:"
   ]
  },
  {
   "cell_type": "code",
   "execution_count": 20,
   "id": "132c330c-c1b5-404e-a352-f056c1cc4e4c",
   "metadata": {},
   "outputs": [],
   "source": [
    "l4 = [2,3,6,9,27,60,90,120,55,46]"
   ]
  },
  {
   "cell_type": "code",
   "execution_count": 21,
   "id": "1f984317-77d5-4305-a883-340421c389d2",
   "metadata": {},
   "outputs": [
    {
     "data": {
      "text/plain": [
       "[2, 3, 6, 9, 27, 60, 90, 120, 46]"
      ]
     },
     "execution_count": 21,
     "metadata": {},
     "output_type": "execute_result"
    }
   ],
   "source": [
    "list(filter(lambda x: x%2 == 0 or x%3 == 0, l4))"
   ]
  },
  {
   "cell_type": "code",
   "execution_count": 22,
   "id": "c78a9931-92b7-44e7-8078-2f510e68bffc",
   "metadata": {},
   "outputs": [],
   "source": [
    "##################################################################################"
   ]
  },
  {
   "cell_type": "code",
   "execution_count": 23,
   "id": "f75e3d89-bb57-4bd7-ba07-2ed0376e73aa",
   "metadata": {},
   "outputs": [],
   "source": [
    "#Ans 06:"
   ]
  },
  {
   "cell_type": "code",
   "execution_count": 24,
   "id": "8d2f3874-2adb-4814-81a6-cc595eafdba9",
   "metadata": {},
   "outputs": [],
   "source": [
    "l5 = ['python', 'php', 'radar', 'level']"
   ]
  },
  {
   "cell_type": "code",
   "execution_count": 25,
   "id": "a3223fb7-69b2-4cd6-869a-4dfd3e93b3f2",
   "metadata": {},
   "outputs": [
    {
     "data": {
      "text/plain": [
       "['php', 'radar', 'level']"
      ]
     },
     "execution_count": 25,
     "metadata": {},
     "output_type": "execute_result"
    }
   ],
   "source": [
    "list(filter(lambda x: x == x[::-1], l5))"
   ]
  },
  {
   "cell_type": "code",
   "execution_count": null,
   "id": "99fa4588-d30b-499d-bc15-fd7c0a27bbda",
   "metadata": {},
   "outputs": [],
   "source": [
    "##################################################################################"
   ]
  }
 ],
 "metadata": {
  "kernelspec": {
   "display_name": "Python 3 (ipykernel)",
   "language": "python",
   "name": "python3"
  },
  "language_info": {
   "codemirror_mode": {
    "name": "ipython",
    "version": 3
   },
   "file_extension": ".py",
   "mimetype": "text/x-python",
   "name": "python",
   "nbconvert_exporter": "python",
   "pygments_lexer": "ipython3",
   "version": "3.10.8"
  }
 },
 "nbformat": 4,
 "nbformat_minor": 5
}
