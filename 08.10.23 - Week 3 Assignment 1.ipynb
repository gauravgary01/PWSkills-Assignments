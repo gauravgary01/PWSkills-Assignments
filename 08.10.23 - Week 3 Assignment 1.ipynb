{
 "cells": [
  {
   "cell_type": "code",
   "execution_count": 1,
   "id": "bd6023d4-320b-4802-bcd3-e815082daced",
   "metadata": {},
   "outputs": [],
   "source": [
    "# Ans 01:"
   ]
  },
  {
   "cell_type": "code",
   "execution_count": 2,
   "id": "cce3e4a1-e987-4e9b-bc8c-f26b8559ef6e",
   "metadata": {},
   "outputs": [],
   "source": [
    "#The keyword used to create a function is 'def'."
   ]
  },
  {
   "cell_type": "code",
   "execution_count": 3,
   "id": "91d38acd-a748-4002-98ad-95baf7da4ee3",
   "metadata": {},
   "outputs": [],
   "source": [
    "def find_odd(n):\n",
    "    l2 = [1]\n",
    "    for i in range(2,n+1):\n",
    "        if i%2 != 0:\n",
    "            l2.append(i)\n",
    "    return l2"
   ]
  },
  {
   "cell_type": "code",
   "execution_count": 4,
   "id": "4525c5b6-c34c-4cce-993c-593d43a45a38",
   "metadata": {},
   "outputs": [
    {
     "data": {
      "text/plain": [
       "[1, 3, 5, 7, 9, 11, 13, 15, 17, 19, 21, 23, 25]"
      ]
     },
     "execution_count": 4,
     "metadata": {},
     "output_type": "execute_result"
    }
   ],
   "source": [
    "find_odd(25)"
   ]
  },
  {
   "cell_type": "code",
   "execution_count": 5,
   "id": "ba53a1f2-0e2b-4f28-994b-405a77dcc346",
   "metadata": {},
   "outputs": [],
   "source": [
    "##########################################################################################"
   ]
  },
  {
   "cell_type": "code",
   "execution_count": 6,
   "id": "36997e71-97f0-463a-a562-fdc3251d34dc",
   "metadata": {},
   "outputs": [],
   "source": [
    "#Ans 02:"
   ]
  },
  {
   "cell_type": "code",
   "execution_count": 7,
   "id": "ecc09cea-516d-479a-a62c-5ba4a94c49af",
   "metadata": {},
   "outputs": [],
   "source": [
    "# In Python, *args and **kwargs are used to handle a variable number of arguments passed to a function. They allow us to work with arbitrary numbers of positional\n",
    "# arguments and keyword arguments, respectively."
   ]
  },
  {
   "cell_type": "code",
   "execution_count": 8,
   "id": "34e79d83-07d0-4299-89e7-a9c2aed4255c",
   "metadata": {},
   "outputs": [],
   "source": [
    "# The *args parameter in a function allows us to pass a variable number of positional arguments. These arguments are collected into a tuple within the function."
   ]
  },
  {
   "cell_type": "code",
   "execution_count": 9,
   "id": "e8647c15-846b-4e94-b998-32abec8847c9",
   "metadata": {},
   "outputs": [],
   "source": [
    "def print_args(*args):\n",
    "    for arg in args:\n",
    "        print(arg)"
   ]
  },
  {
   "cell_type": "code",
   "execution_count": 10,
   "id": "5d5293c8-70f4-4b49-b7fd-9446f5e64720",
   "metadata": {},
   "outputs": [
    {
     "name": "stdout",
     "output_type": "stream",
     "text": [
      "1\n",
      "2\n",
      "3\n",
      "hello\n",
      "world\n"
     ]
    }
   ],
   "source": [
    "print_args(1, 2, 3)\n",
    "print_args('hello', 'world')"
   ]
  },
  {
   "cell_type": "code",
   "execution_count": 11,
   "id": "4e6737e7-661a-4e72-bd00-063a9281bfe8",
   "metadata": {},
   "outputs": [],
   "source": [
    "# The **kwargs parameter in a function allows us to pass a variable number of keyword arguments. These arguments are collected into a dictionary within the function."
   ]
  },
  {
   "cell_type": "code",
   "execution_count": 12,
   "id": "f6b2b8ce-3ec9-43f9-9b81-e699ffeef185",
   "metadata": {},
   "outputs": [],
   "source": [
    "def print_kwargs(**kwargs):\n",
    "    for key, value in kwargs.items():\n",
    "        print(f\"{key}: {value}\")"
   ]
  },
  {
   "cell_type": "code",
   "execution_count": 13,
   "id": "0ea5d82d-945f-42f6-8ffc-f9c53bf3b586",
   "metadata": {},
   "outputs": [
    {
     "name": "stdout",
     "output_type": "stream",
     "text": [
      "name: Alice\n",
      "age: 30\n",
      "city: New York\n",
      "country: USA\n"
     ]
    }
   ],
   "source": [
    "print_kwargs(name='Alice', age=30)\n",
    "print_kwargs(city='New York', country='USA')"
   ]
  },
  {
   "cell_type": "code",
   "execution_count": 14,
   "id": "2b560afa-7e66-4b4a-b881-bc07c2237ac7",
   "metadata": {},
   "outputs": [],
   "source": [
    "##########################################################################################"
   ]
  },
  {
   "cell_type": "code",
   "execution_count": 15,
   "id": "d86c7635-909b-46f6-93c5-2304708b4de6",
   "metadata": {},
   "outputs": [],
   "source": [
    "#Ans 03:"
   ]
  },
  {
   "cell_type": "code",
   "execution_count": 16,
   "id": "27474b70-fbad-4bc5-996b-2ccb0bbf511b",
   "metadata": {},
   "outputs": [],
   "source": [
    "# Method to Initialize the Iterator Object (__iter__()):\n",
    "# The __iter__() method is used to initialize an iterator object. It should return the iterator object itself (usually self), which is responsible for managing\n",
    "# the state of iteration.\n",
    "# Method for Iteration (__next__()):\n",
    "# The __next__() method is used for iterating through the sequence. It returns the next item in the sequence. If there are no more items, it raises the\n",
    "# StopIteration exception to signal the end of iteration."
   ]
  },
  {
   "cell_type": "code",
   "execution_count": 17,
   "id": "1386ecbd-1869-459c-b2f2-678dc1eb3604",
   "metadata": {},
   "outputs": [],
   "source": [
    "l = [2, 4, 6, 8, 10, 12, 14, 16, 18, 20]"
   ]
  },
  {
   "cell_type": "code",
   "execution_count": 18,
   "id": "6f8a22ef-34db-4e3a-8507-49ee4152f4a2",
   "metadata": {},
   "outputs": [],
   "source": [
    "l2 = iter(l)"
   ]
  },
  {
   "cell_type": "code",
   "execution_count": 19,
   "id": "116bf5ea-a1f5-405f-a171-459cfff369c5",
   "metadata": {},
   "outputs": [
    {
     "data": {
      "text/plain": [
       "2"
      ]
     },
     "execution_count": 19,
     "metadata": {},
     "output_type": "execute_result"
    }
   ],
   "source": [
    "next(l2)"
   ]
  },
  {
   "cell_type": "code",
   "execution_count": 20,
   "id": "752a6aba-c14b-478a-8c22-52331a7fda48",
   "metadata": {},
   "outputs": [
    {
     "data": {
      "text/plain": [
       "4"
      ]
     },
     "execution_count": 20,
     "metadata": {},
     "output_type": "execute_result"
    }
   ],
   "source": [
    "next(l2)"
   ]
  },
  {
   "cell_type": "code",
   "execution_count": 21,
   "id": "4ede878a-22ed-4338-949f-e65f397fe80f",
   "metadata": {},
   "outputs": [
    {
     "data": {
      "text/plain": [
       "6"
      ]
     },
     "execution_count": 21,
     "metadata": {},
     "output_type": "execute_result"
    }
   ],
   "source": [
    "next(l2)"
   ]
  },
  {
   "cell_type": "code",
   "execution_count": 22,
   "id": "975be456-7847-4a43-bcf6-16b2d4dcae90",
   "metadata": {},
   "outputs": [
    {
     "data": {
      "text/plain": [
       "8"
      ]
     },
     "execution_count": 22,
     "metadata": {},
     "output_type": "execute_result"
    }
   ],
   "source": [
    "next(l2)"
   ]
  },
  {
   "cell_type": "code",
   "execution_count": 23,
   "id": "30d0be93-96b1-4520-ad8c-864230b919e6",
   "metadata": {},
   "outputs": [
    {
     "data": {
      "text/plain": [
       "10"
      ]
     },
     "execution_count": 23,
     "metadata": {},
     "output_type": "execute_result"
    }
   ],
   "source": [
    "next(l2)"
   ]
  },
  {
   "cell_type": "code",
   "execution_count": 24,
   "id": "3c90118c-0022-4ad1-84ec-f24024201e06",
   "metadata": {},
   "outputs": [],
   "source": [
    "##########################################################################################"
   ]
  },
  {
   "cell_type": "code",
   "execution_count": 25,
   "id": "0a3400b2-3c11-45bd-b99a-afc17125d224",
   "metadata": {},
   "outputs": [],
   "source": [
    "#Ans 04:"
   ]
  },
  {
   "cell_type": "code",
   "execution_count": 26,
   "id": "e2228611-b9bf-4b00-83c2-69f4229db98d",
   "metadata": {},
   "outputs": [],
   "source": [
    "# In Python, a generator function is a special type of function that returns an iterator, which allows you to iterate over a sequence of values one at a time.\n",
    "# The key feature of a generator function is the use of the yield keyword, which is used to produce values on-the-fly, as opposed to creating a list of all values\n",
    "# at once and returning it."
   ]
  },
  {
   "cell_type": "code",
   "execution_count": 27,
   "id": "ab39195e-aaea-48d7-86d2-734275c8306a",
   "metadata": {},
   "outputs": [],
   "source": [
    "# The yield keyword is used to temporarily suspend the execution of the function, save its state, and allow the caller to retrieve the yielded value. When the\n",
    "# generator function is later resumed, it continues from where it left off, maintaining its internal state."
   ]
  },
  {
   "cell_type": "code",
   "execution_count": 28,
   "id": "8e586baf-b8c2-49e7-b366-04c5e4663301",
   "metadata": {},
   "outputs": [],
   "source": [
    "# The primary advantage of using generator functions and the yield keyword is that they allow you to generate and iterate over large sequences of values without\n",
    "# having to store the entire sequence in memory. This is particularly useful when dealing with very large datasets or when generating an infinite sequence of values."
   ]
  },
  {
   "cell_type": "code",
   "execution_count": 29,
   "id": "0ec1bb66-cd7d-49bb-ad87-6177862f51d2",
   "metadata": {},
   "outputs": [],
   "source": [
    "def square_generator(n):\n",
    "    for i in range(n):\n",
    "        yield i ** 2"
   ]
  },
  {
   "cell_type": "code",
   "execution_count": 30,
   "id": "514fac64-c8d6-4523-a7b2-02f8de2ceef2",
   "metadata": {},
   "outputs": [
    {
     "name": "stdout",
     "output_type": "stream",
     "text": [
      "0\n",
      "1\n",
      "4\n",
      "9\n",
      "16\n"
     ]
    }
   ],
   "source": [
    "squares = square_generator(5)\n",
    "for square in squares:\n",
    "    print(square)"
   ]
  },
  {
   "cell_type": "code",
   "execution_count": 31,
   "id": "d3e4760c-25bc-4cd7-b829-01ee62469bdb",
   "metadata": {},
   "outputs": [],
   "source": [
    "##########################################################################################"
   ]
  },
  {
   "cell_type": "code",
   "execution_count": 32,
   "id": "24ce0821-3076-4ca2-9123-7e6ecb1d0bd9",
   "metadata": {},
   "outputs": [],
   "source": [
    "#Ans 05:"
   ]
  },
  {
   "cell_type": "code",
   "execution_count": 33,
   "id": "8db3ad54-f720-43a1-b21a-7b42b472edfb",
   "metadata": {},
   "outputs": [
    {
     "name": "stdout",
     "output_type": "stream",
     "text": [
      "2\n",
      "3\n",
      "5\n",
      "7\n",
      "11\n",
      "13\n",
      "17\n",
      "19\n",
      "23\n",
      "29\n",
      "31\n",
      "37\n",
      "41\n",
      "43\n",
      "47\n",
      "53\n",
      "59\n",
      "61\n",
      "67\n",
      "71\n"
     ]
    }
   ],
   "source": [
    "def is_prime(num):\n",
    "    if num <= 1:\n",
    "        return False\n",
    "    if num <= 3:\n",
    "        return True\n",
    "    if num % 2 == 0 or num % 3 == 0:\n",
    "        return False\n",
    "    i = 5\n",
    "    while i * i <= num:\n",
    "        if num % i == 0 or num % (i + 2) == 0:\n",
    "            return False\n",
    "        i += 6\n",
    "    return True\n",
    "\n",
    "def prime_generator(limit):\n",
    "    num = 2\n",
    "    while num < limit:\n",
    "        if is_prime(num):\n",
    "            yield num\n",
    "        num += 1\n",
    "\n",
    "\n",
    "prime_gen = prime_generator(1000)\n",
    "\n",
    "\n",
    "for _ in range(20):\n",
    "    prime = next(prime_gen)\n",
    "    print(prime)"
   ]
  },
  {
   "cell_type": "code",
   "execution_count": 34,
   "id": "877cd26e-3034-4d8f-babd-facdd380d02e",
   "metadata": {},
   "outputs": [],
   "source": [
    "##########################################################################################"
   ]
  },
  {
   "cell_type": "code",
   "execution_count": 35,
   "id": "4e2121df-4424-4981-afb2-d0fa072c795a",
   "metadata": {},
   "outputs": [],
   "source": [
    "#Ans 06:"
   ]
  },
  {
   "cell_type": "code",
   "execution_count": 36,
   "id": "7d5afdf1-31c5-4976-83cf-60b5cb624941",
   "metadata": {},
   "outputs": [],
   "source": [
    "def find_fib(n):\n",
    "    a,b = 0,1\n",
    "    for i in range(n):\n",
    "        yield a\n",
    "        a,b = b, a+b"
   ]
  },
  {
   "cell_type": "code",
   "execution_count": 37,
   "id": "c7219dfe-07e1-4907-9b03-a14e8dcbe8fc",
   "metadata": {},
   "outputs": [
    {
     "name": "stdout",
     "output_type": "stream",
     "text": [
      "0\n",
      "1\n",
      "1\n",
      "2\n",
      "3\n",
      "5\n",
      "8\n",
      "13\n",
      "21\n",
      "34\n"
     ]
    }
   ],
   "source": [
    "for i in find_fib(10):\n",
    "    print(i)"
   ]
  },
  {
   "cell_type": "code",
   "execution_count": 38,
   "id": "4d0cd9a7-d2d8-43e6-b6c8-69d2b0c49bfd",
   "metadata": {},
   "outputs": [],
   "source": [
    "##########################################################################################"
   ]
  },
  {
   "cell_type": "code",
   "execution_count": 39,
   "id": "caeca00e-decc-42db-9ff3-dec2f82897e3",
   "metadata": {},
   "outputs": [],
   "source": [
    "#Ans 07:"
   ]
  },
  {
   "cell_type": "code",
   "execution_count": 40,
   "id": "91a6476f-d94d-4ca1-ba9e-1639b66784ba",
   "metadata": {},
   "outputs": [],
   "source": [
    "s = 'pwskills'"
   ]
  },
  {
   "cell_type": "code",
   "execution_count": 41,
   "id": "03fd54e5-a90e-44af-a2ef-9f1d41b8695a",
   "metadata": {},
   "outputs": [
    {
     "data": {
      "text/plain": [
       "['p', 'w', 's', 'k', 'i', 'l', 'l', 's']"
      ]
     },
     "execution_count": 41,
     "metadata": {},
     "output_type": "execute_result"
    }
   ],
   "source": [
    "list(map(lambda x: x.lower(),s))"
   ]
  },
  {
   "cell_type": "code",
   "execution_count": 42,
   "id": "b4b6982e-f70e-443a-8e28-4d10171ab0b1",
   "metadata": {},
   "outputs": [],
   "source": [
    "##########################################################################################"
   ]
  },
  {
   "cell_type": "code",
   "execution_count": 43,
   "id": "f0c83850-62fc-4260-89b5-c442936f9398",
   "metadata": {},
   "outputs": [],
   "source": [
    "#Ans 08:"
   ]
  },
  {
   "cell_type": "code",
   "execution_count": 45,
   "id": "98b2dcc8-080b-46b6-8c7c-9373f3281bfc",
   "metadata": {},
   "outputs": [
    {
     "name": "stdin",
     "output_type": "stream",
     "text": [
      "Enter number 12321\n"
     ]
    },
    {
     "name": "stdout",
     "output_type": "stream",
     "text": [
      "Palindromic number.\n"
     ]
    }
   ],
   "source": [
    "Number = int(input(\"Enter number\"))\n",
    "if str(Number) == str(Number)[::-1]:\n",
    "    print(\"Palindromic number.\")\n",
    "else:\n",
    "    print(\"Not a palindromic number\")"
   ]
  },
  {
   "cell_type": "code",
   "execution_count": 46,
   "id": "9d4e3c17-8a67-4423-b6ba-2a23e8201445",
   "metadata": {},
   "outputs": [],
   "source": [
    "##########################################################################################"
   ]
  },
  {
   "cell_type": "code",
   "execution_count": 47,
   "id": "adb8b3a7-e3fa-45b7-a39e-38cf2079e8db",
   "metadata": {},
   "outputs": [],
   "source": [
    "#Ans 09:"
   ]
  },
  {
   "cell_type": "code",
   "execution_count": 48,
   "id": "68c87dd0-d5d3-466a-8a58-a69980f1ac0a",
   "metadata": {},
   "outputs": [],
   "source": [
    "numbers = [i for i in range(1,101)]"
   ]
  },
  {
   "cell_type": "code",
   "execution_count": 49,
   "id": "8a545766-0d21-41ad-bf3a-e52dbbc0a632",
   "metadata": {},
   "outputs": [],
   "source": [
    "oddNumbers = [j for j in numbers if j%2 !=0]"
   ]
  },
  {
   "cell_type": "code",
   "execution_count": 50,
   "id": "b5c63cbf-81d8-46b0-9114-0ad03b814a63",
   "metadata": {},
   "outputs": [
    {
     "name": "stdout",
     "output_type": "stream",
     "text": [
      "[1, 3, 5, 7, 9, 11, 13, 15, 17, 19, 21, 23, 25, 27, 29, 31, 33, 35, 37, 39, 41, 43, 45, 47, 49, 51, 53, 55, 57, 59, 61, 63, 65, 67, 69, 71, 73, 75, 77, 79, 81, 83, 85, 87, 89, 91, 93, 95, 97, 99]\n"
     ]
    }
   ],
   "source": [
    "print(oddNumbers)"
   ]
  },
  {
   "cell_type": "code",
   "execution_count": 51,
   "id": "b4b2fe90-20fe-4f42-afac-74f9ceff0fd7",
   "metadata": {},
   "outputs": [],
   "source": [
    "##########################################################################################"
   ]
  }
 ],
 "metadata": {
  "kernelspec": {
   "display_name": "Python 3 (ipykernel)",
   "language": "python",
   "name": "python3"
  },
  "language_info": {
   "codemirror_mode": {
    "name": "ipython",
    "version": 3
   },
   "file_extension": ".py",
   "mimetype": "text/x-python",
   "name": "python",
   "nbconvert_exporter": "python",
   "pygments_lexer": "ipython3",
   "version": "3.10.8"
  }
 },
 "nbformat": 4,
 "nbformat_minor": 5
}
