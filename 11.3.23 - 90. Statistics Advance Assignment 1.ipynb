{
 "cells": [
  {
   "cell_type": "code",
   "execution_count": 1,
   "id": "071b58d8-3faa-4552-b7a7-fdfa52a152f1",
   "metadata": {
    "tags": []
   },
   "outputs": [],
   "source": [
    "#Ans 01:"
   ]
  },
  {
   "cell_type": "code",
   "execution_count": 2,
   "id": "b1569e78-e963-4630-be5f-a4a2a2885026",
   "metadata": {
    "tags": []
   },
   "outputs": [],
   "source": [
    "# A probability density function (PDF) is a fundamental concept in probability and statistics. It is used to describe the probability distribution\n",
    "# of a continuous random variable. In other words, a PDF specifies how the probability of the random variable taking on a particular value or falling\n",
    "# within a certain range is distributed across its entire possible range of values.\n",
    "\n",
    "# Here are some key characteristics and properties of a probability density function:\n",
    "\n",
    "# Non-Negative Values: The PDF must be non-negative for all possible values of the random variable. In mathematical terms, for any value \"x,\" the PDF\n",
    "# f(x) is non-negative, i.e., f(x) ≥ 0.\n",
    "\n",
    "# Total Area under the Curve: The area under the PDF curve over the entire range of possible values of the random variable must equal 1. Mathematically,\n",
    "# the integral of the PDF over its entire range is equal to 1. This property ensures that the total probability of all possible outcomes is equal to 1.\n",
    "\n",
    "# Probability within an Interval: The probability of the random variable falling within a specific interval is found by integrating the PDF over that\n",
    "# interval. For example, if you want to find the probability that the random variable falls between \"a\" and \"b,\" you would calculate the integral of\n",
    "# the PDF from \"a\" to \"b.\"\n",
    "\n",
    "# Continuous Random Variables: PDFs are typically used for continuous random variables, such as time, length, temperature, or any other variable that\n",
    "# can take on an infinite number of values within a range.\n",
    "\n",
    "# Probability Density, Not Probability: It's important to note that the PDF itself does not give the probability of a specific value. Instead, it\n",
    "# provides the density of probability at each point. To find the probability of a specific value, you need to integrate the PDF over an infinitesimally\n",
    "# small range around that value."
   ]
  },
  {
   "cell_type": "code",
   "execution_count": 3,
   "id": "575181b7-7c5e-4da5-8394-a9acbeb5a593",
   "metadata": {
    "tags": []
   },
   "outputs": [],
   "source": [
    "#Ans 02:\n",
    "##########################################################################################################"
   ]
  },
  {
   "cell_type": "code",
   "execution_count": 4,
   "id": "d95bee05-e342-4507-9e3d-be1d09379058",
   "metadata": {
    "tags": []
   },
   "outputs": [],
   "source": [
    "# There are several types of probability distributions, each with its own characteristics and applications. Here are some of the most\n",
    "# common probability distributions:\n",
    "\n",
    "# Continuous Distributions:\n",
    "\n",
    "# Normal Distribution (Gaussian Distribution): Often referred to as the bell curve, it is characterized by a symmetric, bell-shaped curve. It is\n",
    "# widely used in statistics and represents many naturally occurring phenomena.\n",
    "# Uniform Distribution: All values in the range have an equal probability of occurring. It is used in scenarios where every outcome is equally likely.\n",
    "# Exponential Distribution: Often used to model the time between events in a Poisson process, where events occur continuously and independently at a\n",
    "# constant average rate.\n",
    "# Log-Normal Distribution: The natural logarithm of the random variable follows a normal distribution. It is used in finance, biology, and other fields.\n",
    "\n",
    "\n",
    "# Discrete Distributions:\n",
    "\n",
    "# Bernoulli Distribution: Represents a binary outcome (e.g., success or failure) with a fixed probability of success (p) and failure (1 - p).\n",
    "# Binomial Distribution: Models the number of successes in a fixed number of independent Bernoulli trials.\n",
    "# Poisson Distribution: Describes the number of events that occur within a fixed interval of time or space, given a known average rate of occurrence.\n",
    "# Geometric Distribution: Models the number of trials needed for the first success in a sequence of Bernoulli trials.\n",
    "# Hypergeometric Distribution: Represents the probability of drawing a specific number of successes from a finite population without replacement.\n",
    "# Multinomial Distribution: Generalization of the binomial distribution for more than two categories or outcomes.\n",
    "\n",
    "\n",
    "# Multivariate Distributions:\n",
    "\n",
    "# Multinomial Distribution: Generalizes the binomial distribution to more than two categories and is used for multiple discrete outcomes.\n",
    "# Multivariate Normal Distribution: Extends the normal distribution to multiple variables and is often used in multivariate statistics.\n",
    "\n",
    "\n",
    "# Special Distributions:\n",
    "\n",
    "# Chi-Square Distribution: Arises in hypothesis testing and confidence interval calculations.\n",
    "# Student's t-Distribution: Used in hypothesis testing for small sample sizes and when the population standard deviation is unknown.\n",
    "# F-Distribution: Typically used in analysis of variance (ANOVA) and regression analysis.\n",
    "# Beta Distribution: Often used to model random variables that are constrained to lie within a fixed interval.\n",
    "# Gamma Distribution: Used in various applications, such as modeling waiting times or event durations.\n",
    "# Weibull Distribution: Commonly used to model reliability and survival data.\n",
    "\n",
    "\n",
    "# These are just some of the many probability distributions that exist. The choice of distribution depends on the specific characteristics of the data\n",
    "# and the problem you are trying to model or analyze. Understanding the properties and applications of these distributions is essential for statistical\n",
    "# analysis and data modeling."
   ]
  },
  {
   "cell_type": "code",
   "execution_count": 5,
   "id": "ed913076-66a7-48fa-953e-cc2634dab00c",
   "metadata": {
    "tags": []
   },
   "outputs": [],
   "source": [
    "#Ans 03:\n",
    "##########################################################################################################"
   ]
  },
  {
   "cell_type": "code",
   "execution_count": 6,
   "id": "445af523-e714-4251-8ac1-ed1cc28a0b7e",
   "metadata": {
    "tags": []
   },
   "outputs": [
    {
     "name": "stdout",
     "output_type": "stream",
     "text": [
      "PDF at x = 1.5: 0.12951759566589174\n"
     ]
    }
   ],
   "source": [
    "import math\n",
    "\n",
    "def normal_pdf(x, mean, std_dev):\n",
    "    \"\"\"\n",
    "    Calculate the Probability Density Function (PDF) of a normal distribution at a given point.\n",
    "\n",
    "    Args:\n",
    "        x (float): The point at which to calculate the PDF.\n",
    "        mean (float): The mean (average) of the normal distribution.\n",
    "        std_dev (float): The standard deviation of the normal distribution.\n",
    "\n",
    "    Returns:\n",
    "        float: The PDF value at the given point.\n",
    "    \"\"\"\n",
    "    # Calculate the PDF using the formula\n",
    "    pdf = (1 / (std_dev * math.sqrt(2 * math.pi))) * math.exp(-((x - mean) ** 2) / (2 * std_dev ** 2))\n",
    "    return pdf\n",
    "\n",
    "# Example usage:\n",
    "mean = 0\n",
    "std_dev = 1\n",
    "x = 1.5\n",
    "pdf_value = normal_pdf(x, mean, std_dev)\n",
    "print(f\"PDF at x = {x}: {pdf_value}\")"
   ]
  },
  {
   "cell_type": "code",
   "execution_count": 7,
   "id": "66ae05ba-c60f-4826-9bd1-298a420f3781",
   "metadata": {
    "tags": []
   },
   "outputs": [],
   "source": [
    "#Ans 04:\n",
    "##########################################################################################################"
   ]
  },
  {
   "cell_type": "code",
   "execution_count": 8,
   "id": "294e24a2-64c1-4bd7-a246-e47d1dbfdbe9",
   "metadata": {
    "tags": []
   },
   "outputs": [],
   "source": [
    "# The binomial distribution is a discrete probability distribution that models the number of successes (or \"positive outcomes\") in a\n",
    "# fixed number of independent and identically distributed Bernoulli trials.\n",
    "\n",
    "# Here are some properties of the binomial distribution:\n",
    "\n",
    "# Fixed Number of Trials (n): The distribution represents a fixed number of trials, denoted as \"n.\" Each trial can result in one of two\n",
    "# outcomes: success or failure.\n",
    "# Independent Trials: Each trial is assumed to be independent, meaning the outcome of one trial does not affect the outcome of another.\n",
    "# Constant Probability of Success (p): The probability of success (often denoted as \"p\") remains constant for all trials. The probability\n",
    "# of failure is then (1 - p).\n",
    "# Discrete Outcomes: The binomial distribution deals with a discrete number of successes (0, 1, 2, ..., n).\n",
    "# Probability Mass Function (PMF): The probability mass function of the binomial distribution is given by:\n",
    "# P(X = k) = C(n, k) * p^k * (1 - p)^(n - k)\n",
    "# where:\n",
    "# P(X = k) is the probability of k successes in n trials.\n",
    "# C(n, k) is the binomial coefficient (n choose k), which represents the number of ways to choose k successes out of n trials.\n",
    "\n",
    "# Mean and Variance: The mean (expected value) of the binomial distribution is μ = np, and the variance is σ^2 = np(1 - p).\n",
    "\n",
    "\n",
    "# Examples of events where the binomial distribution can be applied:\n",
    "\n",
    "# Coin Flips: The outcome of flipping a fair coin (where heads is considered a success) can be modeled using a binomial distribution.\n",
    "# For example, if you flip a coin 10 times and want to know the probability of getting exactly 3 heads, you can use the binomial distribution.\n",
    "\n",
    "# Quality Control: In a manufacturing process, you can use the binomial distribution to model the number of defective products in a sample of\n",
    "# items taken from the production line. For instance, if you take a sample of 100 items and want to know the probability of finding exactly 5\n",
    "# defective items when the probability of any item being defective is known, the binomial distribution can be used."
   ]
  },
  {
   "cell_type": "code",
   "execution_count": 15,
   "id": "fa59373a-1e68-4389-a828-f39aa62380ff",
   "metadata": {
    "tags": []
   },
   "outputs": [],
   "source": [
    "#Ans 05:\n",
    "##########################################################################################################"
   ]
  },
  {
   "cell_type": "code",
   "execution_count": 30,
   "id": "9d91b15c-974c-42b6-b077-79f987369bf7",
   "metadata": {
    "tags": []
   },
   "outputs": [
    {
     "data": {
      "image/png": "[encoded data removed]",
      "text/plain": [
       "<Figure size 640x480 with 1 Axes>"
      ]
     },
     "metadata": {},
     "output_type": "display_data"
    }
   ],
   "source": [
    "import numpy as np\n",
    "import matplotlib.pyplot as plt\n",
    "\n",
    "# Set the parameters\n",
    "n = 1  # Number of trials (1 for a single trial)\n",
    "p = 0.4  # Probability of success on a single trial\n",
    "sample_size = 1000\n",
    "\n",
    "# Generate a random sample from a binomial distribution\n",
    "random_sample = np.random.binomial(n, p, sample_size)\n",
    "\n",
    "# Create a histogram of the results\n",
    "plt.hist(random_sample, bins=range(2), rwidth=0.8, align='left', density=True)\n",
    "plt.xticks([0, 1])\n",
    "plt.xlabel('Number of Successes')\n",
    "plt.ylabel('Probability')\n",
    "plt.title(f'Binomial Distribution (n={n}, p={p}) - Random Sample of Size {sample_size}')\n",
    "plt.show()"
   ]
  },
  {
   "cell_type": "code",
   "execution_count": 25,
   "id": "61a9f272-b5a5-40fc-a642-22a5fef5649d",
   "metadata": {
    "tags": []
   },
   "outputs": [],
   "source": [
    "#Ans 06:\n",
    "##########################################################################################################"
   ]
  },
  {
   "cell_type": "code",
   "execution_count": 26,
   "id": "176e5cf9-bd53-4d95-9c14-8bfe75fb531a",
   "metadata": {
    "tags": []
   },
   "outputs": [
    {
     "name": "stdout",
     "output_type": "stream",
     "text": [
      "CDF at k = 2: 0.3208\n"
     ]
    }
   ],
   "source": [
    "import math\n",
    "\n",
    "def poisson_cdf(k, mean):\n",
    "    \"\"\"\n",
    "    Calculate the Cumulative Distribution Function (CDF) of a Poisson distribution at a given value k.\n",
    "\n",
    "    Args:\n",
    "        k (int): The point at which to calculate the CDF.\n",
    "        mean (float): The mean (average) of the Poisson distribution.\n",
    "\n",
    "    Returns:\n",
    "        float: The CDF value at the given point.\n",
    "    \"\"\"\n",
    "    cdf = 0\n",
    "    for i in range(k + 1):\n",
    "        cdf += (math.exp(-mean) * mean**i) / math.factorial(i)\n",
    "    return cdf\n",
    "\n",
    "# Example usage:\n",
    "mean = 3.5  # Mean of the Poisson distribution\n",
    "k = 2  # Point at which to calculate the CDF\n",
    "\n",
    "cdf_value = poisson_cdf(k, mean)\n",
    "print(f\"CDF at k = {k}: {cdf_value:.4f}\")"
   ]
  },
  {
   "cell_type": "code",
   "execution_count": 31,
   "id": "01e8b7ba-6369-43f4-aa23-739b8cc09401",
   "metadata": {
    "tags": []
   },
   "outputs": [],
   "source": [
    "#Ans 07:\n",
    "##########################################################################################################"
   ]
  },
  {
   "cell_type": "code",
   "execution_count": 32,
   "id": "e6405bfc-3120-4c23-b067-2b9ecac5f808",
   "metadata": {
    "tags": []
   },
   "outputs": [],
   "source": [
    "# The Binomial and Poisson distributions are both probability distributions used to model the number of successes or events in a\n",
    "# series of independent trials, but they differ in their assumptions and characteristics. Here are the key differences between the\n",
    "# Binomial and Poisson distributions:\n",
    "\n",
    "# Number of Trials:\n",
    "# Binomial Distribution: The Binomial distribution is used when there is a fixed number of trials or experiments (denoted as \"n\") and each\n",
    "# trial can result in one of two outcomes: success or failure.\n",
    "# Poisson Distribution: The Poisson distribution is used when the number of trials or events is not fixed and can occur with an unknown,\n",
    "# potentially large, or even infinite number of trials.\n",
    "\n",
    "# Success Probability:\n",
    "# Binomial Distribution: In the Binomial distribution, the probability of success (\"p\") remains constant from trial to trial. The probability\n",
    "# of failure is represented by \"1 - p.\"\n",
    "# Poisson Distribution: In the Poisson distribution, the probability of success is low, but the mean rate of success (λ, lambda) is constant.\n",
    "# It is characterized by a low probability of success in any given trial.\n",
    "\n",
    "# Nature of Events:\n",
    "# Binomial Distribution: The Binomial distribution is suitable for discrete events with clear success/failure outcomes. It's often used when you\n",
    "# have a fixed number of trials, such as coin flips or the number of defective items in a sample.\n",
    "# Poisson Distribution: The Poisson distribution is used for modeling rare and infrequent events with no fixed number of trials. It is common\n",
    "# in scenarios like modeling the number of phone calls received at a call center in a given time period or the number of accidents at an\n",
    "# intersection in a day.\n",
    "\n",
    "# Assumptions:\n",
    "# Binomial Distribution: The Binomial distribution assumes that the trials are independent, the probability of success is the same for\n",
    "# each trial, and the number of trials is fixed and known.\n",
    "# Poisson Distribution: The Poisson distribution assumes that events occur randomly in time or space, events are independent, and\n",
    "# the average rate of occurrence is constant over time or space.\n",
    "\n",
    "# Probability Function:\n",
    "# Binomial Distribution: The probability mass function (PMF) of the Binomial distribution calculates the probability of a specific number\n",
    "# of successes in a fixed number of trials.\n",
    "# Poisson Distribution: The PMF of the Poisson distribution calculates the probability of a specific number of events occurring in a fixed\n",
    "# interval of time or space."
   ]
  },
  {
   "cell_type": "code",
   "execution_count": 33,
   "id": "7593adf2-0ced-427d-8b08-b01dabb34234",
   "metadata": {
    "tags": []
   },
   "outputs": [],
   "source": [
    "#Ans 08:\n",
    "##########################################################################################################"
   ]
  },
  {
   "cell_type": "code",
   "execution_count": 46,
   "id": "ea10b2b2-d9aa-4191-baab-59cbdebda9e4",
   "metadata": {
    "tags": []
   },
   "outputs": [
    {
     "name": "stdout",
     "output_type": "stream",
     "text": [
      "Sample Mean: 5.1630\n",
      "Sample Variance: 5.1944\n"
     ]
    },
    {
     "data": {
      "image/png": "[encoded data removed]",
      "text/plain": [
       "<Figure size 640x480 with 1 Axes>"
      ]
     },
     "metadata": {},
     "output_type": "display_data"
    }
   ],
   "source": [
    "import numpy as np\n",
    "\n",
    "# Set the parameters\n",
    "mean = 5\n",
    "sample_size = 1000\n",
    "\n",
    "# Generate a random sample from a Poisson distribution\n",
    "random_sample2 = np.random.poisson(mean, sample_size)\n",
    "\n",
    "# Calculate the sample mean and sample variance\n",
    "sample_mean = np.mean(random_sample2)\n",
    "sample_variance = np.var(random_sample2, ddof=0)  # ddof=0 for population variance\n",
    "\n",
    "print(f\"Sample Mean: {sample_mean:.4f}\")\n",
    "print(f\"Sample Variance: {sample_variance:.4f}\")\n",
    "\n",
    "\n",
    "# Create a histogram of the results\n",
    "plt.hist(random_sample2, density=True)\n",
    "plt.xlabel('X')\n",
    "plt.ylabel('Probability')\n",
    "plt.title(f'Poisson Distribution (mean={mean}) - Random Sample of Size {sample_size}')\n",
    "plt.show()"
   ]
  },
  {
   "cell_type": "code",
   "execution_count": 37,
   "id": "1fdd910d-a95e-42bc-bed2-ffb01148e594",
   "metadata": {
    "tags": []
   },
   "outputs": [],
   "source": [
    "#Ans 09:\n",
    "##########################################################################################################"
   ]
  },
  {
   "cell_type": "code",
   "execution_count": 39,
   "id": "c61bcde3-efa4-4a71-8e7d-ed15956a236f",
   "metadata": {
    "tags": []
   },
   "outputs": [],
   "source": [
    "# In both the Binomial and Poisson distributions, the mean and variance are related to the parameters of the respective distributions,\n",
    "# but the relationship is different for each distribution.\n",
    "\n",
    "# Binomial Distribution:\n",
    "# Mean (μ): In a Binomial distribution with parameters n (number of trials) and p (probability of success in each trial), the mean is\n",
    "# given by μ = np. This means that the mean is directly proportional to both the number of trials and the probability of success. In other words,\n",
    "# increasing the number of trials or the probability of success will increase the mean.\n",
    "# Variance (σ^2): The variance of a Binomial distribution is given by σ^2 = np(1 - p). It is directly proportional to the product of the number\n",
    "# of trials and the probability of success, but it also depends on the probability of failure (1 - p). The variance increases with larger values\n",
    "# of n and when p is closer to 0.5 (i.e., when the distribution is more spread out).\n",
    "\n",
    "# Poisson Distribution:\n",
    "# Mean (λ, lambda): In a Poisson distribution, the mean is represented by λ (lambda). The mean and the parameter λ are the same. The mean of a\n",
    "# Poisson distribution is given by μ = λ. It's a measure of the average rate of events in a fixed interval of time or space.\n",
    "# Variance (σ^2): The variance of a Poisson distribution is also equal to λ (σ^2 = λ). This means that the variance is equal to the mean in a\n",
    "# Poisson distribution. The Poisson distribution is unique in this regard, as the variance is the same as the mean, and it is not influenced by\n",
    "# any other parameters."
   ]
  },
  {
   "cell_type": "code",
   "execution_count": 40,
   "id": "5141a458-28ed-4725-8567-80d687795c88",
   "metadata": {
    "tags": []
   },
   "outputs": [],
   "source": [
    "#Ans 10:\n",
    "##########################################################################################################"
   ]
  },
  {
   "cell_type": "code",
   "execution_count": 41,
   "id": "70984880-db00-4888-9900-bf6ef124d3d0",
   "metadata": {
    "tags": []
   },
   "outputs": [],
   "source": [
    "# In a normal distribution (also known as a Gaussian distribution), the least frequent data appears in the tails of the distribution,\n",
    "# farthest away from the mean. The normal distribution is symmetric and bell-shaped, with the mean (μ) as the center of the distribution.\n",
    "\n",
    "# The least frequent data is found in the extreme tails of the distribution, which are located far from the mean. The probability of observing\n",
    "# values in the tails of a normal distribution decreases rapidly as you move away from the mean. In fact, the tails of a normal distribution\n",
    "# approach but never reach zero probability, which means that extremely high or low values are possible but highly unlikely.\n",
    "\n",
    "# To be more precise, in a standard normal distribution (with a mean of 0 and a standard deviation of 1), data values that are several standard\n",
    "# deviations away from the mean (e.g., 2 standard deviations or more) are considered to be in the tails of the distribution and represent\n",
    "# the least frequent data. These extreme values are relatively rare in a normal distribution."
   ]
  },
  {
   "cell_type": "code",
   "execution_count": 42,
   "id": "31cdd50c-00cb-4c16-b46b-0a04a7ee12dd",
   "metadata": {
    "tags": []
   },
   "outputs": [],
   "source": [
    "##########################################################################################################"
   ]
  }
 ],
 "metadata": {
  "kernelspec": {
   "display_name": "Python 3 (ipykernel)",
   "language": "python",
   "name": "python3"
  },
  "language_info": {
   "codemirror_mode": {
    "name": "ipython",
    "version": 3
   },
   "file_extension": ".py",
   "mimetype": "text/x-python",
   "name": "python",
   "nbconvert_exporter": "python",
   "pygments_lexer": "ipython3",
   "version": "3.11.5"
  }
 },
 "nbformat": 4,
 "nbformat_minor": 5
}
