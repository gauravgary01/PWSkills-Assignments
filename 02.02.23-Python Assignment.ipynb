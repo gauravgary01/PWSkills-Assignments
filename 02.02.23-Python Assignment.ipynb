{
 "cells": [
  {
   "cell_type": "code",
   "execution_count": 1,
   "id": "3a39daaf-3821-462f-9b5e-bc39f9ae656b",
   "metadata": {},
   "outputs": [],
   "source": [
    "# Ans 01:"
   ]
  },
  {
   "cell_type": "code",
   "execution_count": 2,
   "id": "352cce89-7699-418b-afcb-5ada728a5358",
   "metadata": {},
   "outputs": [],
   "source": [
    "# for loop"
   ]
  },
  {
   "cell_type": "code",
   "execution_count": 3,
   "id": "cd3057af-8572-4e5c-9eb3-0debac06903d",
   "metadata": {},
   "outputs": [],
   "source": [
    "# For loops are used for iterating over a sequence (that is either a list, a tuple, a dictionary, a set, or a string).\n",
    "# In a for loop, we define a variable that takes on each value of the sequence in turn.\n",
    "# Here's an example of a for loop that iterates over a list of numbers:"
   ]
  },
  {
   "cell_type": "code",
   "execution_count": 4,
   "id": "29f64e98-292d-4f7f-a708-545ba700495c",
   "metadata": {},
   "outputs": [
    {
     "name": "stdout",
     "output_type": "stream",
     "text": [
      "1\n",
      "2\n",
      "3\n",
      "4\n",
      "5\n"
     ]
    }
   ],
   "source": [
    "numbers = [1, 2, 3, 4, 5]\n",
    "for num in numbers:\n",
    "    print(num)"
   ]
  },
  {
   "cell_type": "code",
   "execution_count": 5,
   "id": "a69447b3-0478-422a-8b6c-f67806fb08e0",
   "metadata": {},
   "outputs": [],
   "source": [
    "# In this example, we define a list of numbers and use a for loop to iterate over each element in the list. The loop variable\n",
    "# num takes on each value of the list in turn, and we use the print() function to print out each number."
   ]
  },
  {
   "cell_type": "code",
   "execution_count": 6,
   "id": "8d628f19-ea7e-4251-bf72-f41e565cf5dc",
   "metadata": {},
   "outputs": [
    {
     "name": "stdout",
     "output_type": "stream",
     "text": [
      "0\n",
      "1\n",
      "2\n",
      "3\n",
      "4\n"
     ]
    }
   ],
   "source": [
    "for i in range(5):\n",
    "    print(i)"
   ]
  },
  {
   "cell_type": "code",
   "execution_count": 7,
   "id": "5fe57a8b-c26b-4004-8dea-adcb26e5e8f2",
   "metadata": {},
   "outputs": [],
   "source": [
    "# while loop"
   ]
  },
  {
   "cell_type": "code",
   "execution_count": 8,
   "id": "3643f0d7-d625-4925-a1b6-6ae2f3d856e7",
   "metadata": {},
   "outputs": [],
   "source": [
    "# While loops are used to repeatedly execute a block of code as long as a certain condition is true. In a while loop,\n",
    "# you define a condition that must be true in order for the loop to continue.\n",
    "# Here's an example of a while loop that counts up to 5:"
   ]
  },
  {
   "cell_type": "code",
   "execution_count": 9,
   "id": "cde3a819-7241-4f8f-8fbd-38a1148b20c2",
   "metadata": {},
   "outputs": [
    {
     "name": "stdout",
     "output_type": "stream",
     "text": [
      "1\n",
      "2\n",
      "3\n",
      "4\n",
      "5\n"
     ]
    }
   ],
   "source": [
    "i = 1\n",
    "while i <= 5:\n",
    "    print(i)\n",
    "    i += 1"
   ]
  },
  {
   "cell_type": "code",
   "execution_count": 10,
   "id": "66584d2c-8ef3-4f5d-aee2-1dffeeeb2b21",
   "metadata": {},
   "outputs": [],
   "source": [
    "# In this example, we define a variable i with an initial value of 1, and we use a while loop to repeatedly print out the value\n",
    "# of i as long as i is less than or equal to 5. Inside the loop, we increment i by 1 using the += operator."
   ]
  },
  {
   "cell_type": "code",
   "execution_count": 11,
   "id": "ec8f1229-fab4-484f-8321-602039cc9ccb",
   "metadata": {},
   "outputs": [],
   "source": [
    "# We can also use a while loop to repeatedly ask the user for input until they enter a valid value. Here's an example:"
   ]
  },
  {
   "cell_type": "code",
   "execution_count": 12,
   "id": "49b27462-570d-4e21-8634-92b3ac97bc50",
   "metadata": {},
   "outputs": [
    {
     "name": "stdin",
     "output_type": "stream",
     "text": [
      "Enter your age:  19\n"
     ]
    },
    {
     "name": "stdout",
     "output_type": "stream",
     "text": [
      "You are old enough to vote!\n"
     ]
    }
   ],
   "source": [
    "while True:\n",
    "    age = input(\"Enter your age: \")\n",
    "    if age.isdigit() and int(age) >= 18:\n",
    "        print(\"You are old enough to vote!\")\n",
    "        break\n",
    "    else:\n",
    "        print(\"Sorry, you are not old enough to vote.\")"
   ]
  },
  {
   "cell_type": "code",
   "execution_count": 13,
   "id": "ce3bbc60-832d-4f3c-998f-fecf620b1217",
   "metadata": {},
   "outputs": [],
   "source": [
    "# In this example, we use a while loop to repeatedly ask the user to enter their age until they enter a valid value (i.e.,\n",
    "# a non-negative integer). If the user enters an age of 18 or older, we print a message indicating that they are old enough to\n",
    "# vote and exit the loop using the break statement. If the user enters an age that is less than 18 or a non-integer value, we\n",
    "# print a message indicating that they are not old enough to vote and continue the loop."
   ]
  },
  {
   "cell_type": "code",
   "execution_count": 14,
   "id": "f7839233-cccc-4239-96db-0dd7b6614040",
   "metadata": {},
   "outputs": [],
   "source": [
    "# Ans 02:"
   ]
  },
  {
   "cell_type": "code",
   "execution_count": 15,
   "id": "e4d337d9-5775-4698-96c0-fd170447053b",
   "metadata": {},
   "outputs": [],
   "source": [
    "# Using For loop"
   ]
  },
  {
   "cell_type": "code",
   "execution_count": 16,
   "id": "2837c934-a061-4350-b09d-db3ddfd931f1",
   "metadata": {},
   "outputs": [
    {
     "name": "stdout",
     "output_type": "stream",
     "text": [
      "Sum of first 10 natural numbers: 55\n",
      "Product of first 10 natural numbers: 3628800\n"
     ]
    }
   ],
   "source": [
    "Sum = 0\n",
    "Product = 1\n",
    "\n",
    "for i in range(1,11,1):\n",
    "    Sum += i\n",
    "    Product *= i\n",
    "\n",
    "print(\"Sum of first 10 natural numbers:\", Sum)\n",
    "print(\"Product of first 10 natural numbers:\", Product)"
   ]
  },
  {
   "cell_type": "code",
   "execution_count": 17,
   "id": "99472c12-a3d0-4c78-abe0-38d727a1442b",
   "metadata": {},
   "outputs": [],
   "source": [
    "# Using While loop"
   ]
  },
  {
   "cell_type": "code",
   "execution_count": 18,
   "id": "f71e98fc-3952-43a6-8cd3-688664c49597",
   "metadata": {},
   "outputs": [
    {
     "name": "stdout",
     "output_type": "stream",
     "text": [
      "Sum of first 10 natural numbers: 55\n",
      "Product of first 10 natural numbers: 3628800\n"
     ]
    }
   ],
   "source": [
    "Sum = 0\n",
    "Product = 1\n",
    "i = 1\n",
    "\n",
    "while i<=10:\n",
    "    Sum += i\n",
    "    Product *= i\n",
    "    i += 1\n",
    "\n",
    "print(\"Sum of first 10 natural numbers:\", Sum)\n",
    "print(\"Product of first 10 natural numbers:\", Product)"
   ]
  },
  {
   "cell_type": "code",
   "execution_count": 19,
   "id": "2ffbcf8b-768a-470b-a63c-29f74e90aae6",
   "metadata": {},
   "outputs": [],
   "source": [
    "# Ans 03:"
   ]
  },
  {
   "cell_type": "code",
   "execution_count": 20,
   "id": "0f099b92-b7ed-4aec-9c55-4866456f435f",
   "metadata": {},
   "outputs": [
    {
     "name": "stdin",
     "output_type": "stream",
     "text": [
      "please enter your units consumed: 310\n"
     ]
    },
    {
     "name": "stdout",
     "output_type": "stream",
     "text": [
      "Your amount to be paid is: 2250.0\n"
     ]
    }
   ],
   "source": [
    "units = float(input(\"please enter your units consumed:\"))\n",
    "r1 = 4.5\n",
    "r2 = 6\n",
    "r3 = 10\n",
    "r4 = 20\n",
    "\n",
    "if units <= 100:\n",
    "    print(\"Your amount to be paid is:\",(units*r1))\n",
    "if units > 100 and units <=200:\n",
    "    print(\"Your amount to be paid is:\",((100*r1) + ((units - 100)*r2)))\n",
    "if units > 200 and units <=300:\n",
    "    print(\"Your amount to be paid is:\",(((100*r1)+(100*r2)) + ((units - 200)*r3)))\n",
    "if units > 300:\n",
    "    print(\"Your amount to be paid is:\",(((100*r1)+(100*r2)+(100*r3)) + ((units - 300)*r4)))"
   ]
  },
  {
   "cell_type": "code",
   "execution_count": 21,
   "id": "a818b9d4-5a65-49bd-816d-31fe50c08b2b",
   "metadata": {},
   "outputs": [],
   "source": [
    "# Ans 04:"
   ]
  },
  {
   "cell_type": "code",
   "execution_count": 22,
   "id": "eaca5d96-022c-4a0f-9ce1-30f3267e918a",
   "metadata": {},
   "outputs": [
    {
     "name": "stdout",
     "output_type": "stream",
     "text": [
      "[2, 4, 5, 6, 8, 10, 12, 14, 15, 16, 18, 20, 22, 24, 25, 26, 28, 30, 32, 34, 35, 36, 38, 40, 42, 44, 45, 46, 48, 50, 52, 54, 55, 56, 58, 60, 62, 64, 65, 66, 68, 70, 72, 74, 75, 76, 78, 80, 82, 84, 85, 86, 88, 90, 92, 94, 95, 96, 98, 100]\n"
     ]
    }
   ],
   "source": [
    "# Using For loop\n",
    "numbers = list(range(1,101))\n",
    "result_list = []\n",
    "\n",
    "for num in numbers:\n",
    "    cube = num ** 3\n",
    "    if cube % 4 == 0 or cube % 5 == 0:\n",
    "        result_list.append(num)\n",
    "print(result_list)"
   ]
  },
  {
   "cell_type": "code",
   "execution_count": 23,
   "id": "92b99980-6818-408c-8b9f-d4841d12557f",
   "metadata": {},
   "outputs": [
    {
     "name": "stdout",
     "output_type": "stream",
     "text": [
      "[2, 4, 5, 6, 8, 10, 12, 14, 15, 16, 18, 20, 22, 24, 25, 26, 28, 30, 32, 34, 35, 36, 38, 40, 42, 44, 45, 46, 48, 50, 52, 54, 55, 56, 58, 60, 62, 64, 65, 66, 68, 70, 72, 74, 75, 76, 78, 80, 82, 84, 85, 86, 88, 90, 92, 94, 95, 96, 98, 100]\n"
     ]
    }
   ],
   "source": [
    "# Using While Loop\n",
    "numbers = list(range(1, 101))\n",
    "result_list = []\n",
    "i = 0\n",
    "\n",
    "while i < len(numbers):\n",
    "    cube = numbers[i]**3\n",
    "    if cube % 4 == 0 or cube % 5 == 0:\n",
    "        result_list.append(numbers[i])\n",
    "    i += 1\n",
    "\n",
    "print(result_list)"
   ]
  },
  {
   "cell_type": "code",
   "execution_count": null,
   "id": "9b13938f-96ca-455a-ba18-60692baae0fb",
   "metadata": {},
   "outputs": [],
   "source": [
    "# Ans 05:"
   ]
  },
  {
   "cell_type": "code",
   "execution_count": 24,
   "id": "cae73b95-e768-4465-bce3-af8649130250",
   "metadata": {},
   "outputs": [
    {
     "name": "stdout",
     "output_type": "stream",
     "text": [
      "['a', 'o', 'e', 'o', 'e', 'a', 'a', 'a', 'i', 'e', 'i']\n"
     ]
    }
   ],
   "source": [
    "s = \"I want to become a data scientist\"\n",
    "l = []\n",
    "\n",
    "for i in s:\n",
    "    if i == \"a\" or i == \"e\" or i ==\"i\" or i == \"o\" or i == \"u\":\n",
    "        l.append(i)\n",
    "print(l)"
   ]
  },
  {
   "cell_type": "code",
   "execution_count": null,
   "id": "f942d5c5-1e85-4a63-9bfa-cdac8b54d822",
   "metadata": {},
   "outputs": [],
   "source": []
  }
 ],
 "metadata": {
  "kernelspec": {
   "display_name": "Python 3 (ipykernel)",
   "language": "python",
   "name": "python3"
  },
  "language_info": {
   "codemirror_mode": {
    "name": "ipython",
    "version": 3
   },
   "file_extension": ".py",
   "mimetype": "text/x-python",
   "name": "python",
   "nbconvert_exporter": "python",
   "pygments_lexer": "ipython3",
   "version": "3.10.8"
  }
 },
 "nbformat": 4,
 "nbformat_minor": 5
}
