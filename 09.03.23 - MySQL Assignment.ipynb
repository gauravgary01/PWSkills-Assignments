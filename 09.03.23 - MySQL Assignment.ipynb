{
 "cells": [
  {
   "cell_type": "code",
   "execution_count": 1,
   "id": "fbab5ce3-90e1-4f08-94aa-c473c1375dc7",
   "metadata": {
    "tags": []
   },
   "outputs": [],
   "source": [
    "# Ans 01:"
   ]
  },
  {
   "cell_type": "code",
   "execution_count": 2,
   "id": "5194c3bf-2de0-4c5d-8351-d32330bbb651",
   "metadata": {
    "tags": []
   },
   "outputs": [],
   "source": [
    "# A database is a structured collection of data that is organized and stored in a way that allows for efficient retrieval, management, and\n",
    "# manipulation of data. Databases are used to store and manage large amounts of information, making it easier to access and work with data\n",
    "# for various applications and purposes.\n",
    "\n",
    "# There are two main categories of databases: SQL (Structured Query Language) databases and NoSQL (Not Only SQL) databases. Here's a differentiation\n",
    "# between the two:\n",
    "    \n",
    "# SQL Databases:\n",
    "\n",
    "# Structured Data: SQL databases are relational databases that store structured data in tables with predefined schemas. Each table consists\n",
    "# of rows and columns, and the relationships between tables are defined using foreign keys.\n",
    "\n",
    "# ACID Compliance: SQL databases are known for their strong consistency and adherence to the ACID (Atomicity, Consistency, Isolation, Durability)\n",
    "# properties, ensuring data integrity and reliability.\n",
    "\n",
    "# Schema: SQL databases require a fixed schema, which means that the structure of the data (table columns and their types) needs to be defined before\n",
    "# data insertion.\n",
    "\n",
    "# Query Language: SQL databases use a standardized query language called SQL for data manipulation and retrieval. SQL provides powerful capabilities\n",
    "# for complex queries, joins, and data analysis.\n",
    "\n",
    "# Scalability: SQL databases are typically designed for vertical scalability, which means that increasing their performance usually involves upgrading\n",
    "# hardware or adding more powerful servers.\n",
    "\n",
    "# Examples: MySQL, PostgreSQL, Oracle, SQL Server are some popular SQL database management systems.\n",
    "\n",
    "\n",
    "# NoSQL Databases:\n",
    "\n",
    "# Flexible Data Models: NoSQL databases are designed to handle unstructured or semi-structured data, making them suitable for various types of data,\n",
    "# including JSON, XML, key-value pairs, and document-based data.\n",
    "\n",
    "# BASE Semantics: NoSQL databases often follow the BASE (Basically Available, Soft state, Eventually consistent) model, which prioritizes availability\n",
    "# and scalability over strict consistency. This makes them suitable for distributed and highly available systems.\n",
    "\n",
    "# Schema-less: NoSQL databases are schema-less, meaning that you can insert data without a predefined schema. This flexibility allows for agile\n",
    "# development and handling of evolving data structures.\n",
    "\n",
    "# Query Languages: NoSQL databases use different query languages or APIs tailored to the specific database type. These languages may be less expressive\n",
    "# than SQL but are designed to work with the database's data model.\n",
    "\n",
    "# Scalability: NoSQL databases are often designed for horizontal scalability, which involves adding more servers or nodes to distribute the data and\n",
    "# handle increased loads.\n",
    "\n",
    "# Examples: MongoDB, Cassandra, Redis, and Couchbase are some popular NoSQL database systems."
   ]
  },
  {
   "cell_type": "code",
   "execution_count": 3,
   "id": "b662a5d9-5c09-47a8-8013-3dc2854c0582",
   "metadata": {
    "tags": []
   },
   "outputs": [],
   "source": [
    "#################################################################################\n",
    "# Ans 02:"
   ]
  },
  {
   "cell_type": "code",
   "execution_count": 4,
   "id": "cf842e75-5dba-4845-9b90-4f4a848d2f4f",
   "metadata": {
    "tags": []
   },
   "outputs": [],
   "source": [
    "# DDL stands for Data Definition Language, which is a subset of SQL (Structured Query Language) used to define and manage the structure of a\n",
    "# database and its objects. DDL statements are used to create, modify, and delete database objects such as tables, indexes, views, and schemas.\n",
    "# DDL statements do not work with the actual data stored in the database; instead, they focus on defining the structure and organization of the database."
   ]
  },
  {
   "cell_type": "code",
   "execution_count": 5,
   "id": "afdf03a4-9820-4a6f-831d-dc32078e71ff",
   "metadata": {
    "tags": []
   },
   "outputs": [],
   "source": [
    "# CREATE: The CREATE statement is used to create new database objects, such as tables, indexes, views, or schemas. It specifies the structure\n",
    "# of the object, including column names, data types, constraints, and other attributes.\n",
    "\n",
    "# DROP: The DROP statement is used to delete existing database objects. It completely removes the specified object and all its data from the database.\n",
    "\n",
    "# ALTER: The ALTER statement is used to modify the structure of an existing database object. It can be used to add, modify, or remove columns,\n",
    "# constraints, or other properties of a table or other objects.\n",
    "\n",
    "# TRUNCATE: The TRUNCATE statement is used to delete all the rows from a table but retains the table structure. It is faster than the DROP statement,\n",
    "# which deletes the table and its structure."
   ]
  },
  {
   "cell_type": "code",
   "execution_count": 6,
   "id": "2915706a-64f6-441b-9de3-0d852024a9d2",
   "metadata": {
    "tags": []
   },
   "outputs": [],
   "source": [
    "#################################################################################\n",
    "# Ans 03:"
   ]
  },
  {
   "cell_type": "code",
   "execution_count": 7,
   "id": "f0a47774-1df2-430d-9d89-a8b5204899b6",
   "metadata": {
    "tags": []
   },
   "outputs": [],
   "source": [
    "# DML stands for Data Manipulation Language, which is a subset of SQL (Structured Query Language) used to interact with and manipulate data stored\n",
    "# in a database. DML statements are responsible for performing operations on the actual data within the database, such as inserting, updating, and\n",
    "# deleting records"
   ]
  },
  {
   "cell_type": "code",
   "execution_count": 8,
   "id": "0d85fef1-cdfb-4113-8683-12a0ea91a14b",
   "metadata": {
    "tags": []
   },
   "outputs": [],
   "source": [
    "# INSERT: The INSERT statement is used to add new records (rows) into a table. It allows you to specify the values for each column or use a subquery\n",
    "# to insert data from another table.\n",
    "\n",
    "# UPDATE: The UPDATE statement is used to modify existing records in a table. It allows you to change the values of specific columns in one or more\n",
    "# rows based on a condition.\n",
    "\n",
    "# DELETE: The DELETE statement is used to remove one or more records from a table based on a specified condition."
   ]
  },
  {
   "cell_type": "code",
   "execution_count": 9,
   "id": "ba28235d-acdf-46b2-9bcf-0fb02fde2fc4",
   "metadata": {
    "tags": []
   },
   "outputs": [],
   "source": [
    "#################################################################################\n",
    "# Ans 04:"
   ]
  },
  {
   "cell_type": "code",
   "execution_count": 10,
   "id": "4d3f5183-603e-4fd9-91d3-59adef26fa86",
   "metadata": {
    "tags": []
   },
   "outputs": [],
   "source": [
    "# DQL stands for Data Query Language, which is a subset of SQL (Structured Query Language) used for querying and retrieving data from a database.\n",
    "# The primary DQL statement is SELECT, which allows you to specify the data you want to retrieve, filter, and sort from one or more database tables.\n",
    "# SELECT statements are used extensively in database queries to extract information from a database."
   ]
  },
  {
   "cell_type": "code",
   "execution_count": 11,
   "id": "b749ab9d-3152-4ae0-ac51-f02dc94fb165",
   "metadata": {
    "tags": []
   },
   "outputs": [],
   "source": [
    "# The SELECT statement is used to retrieve data from one or more tables in a database. It allows you to specify which columns you want to retrieve,\n",
    "# filter the rows based on conditions, and sort the results in a particular order. The basic syntax of the SELECT statement is as follows:"
   ]
  },
  {
   "cell_type": "code",
   "execution_count": 13,
   "id": "54c1b56b-04c4-4e71-99c5-7fb0c0ca6150",
   "metadata": {
    "tags": []
   },
   "outputs": [
    {
     "ename": "SyntaxError",
     "evalue": "invalid syntax (421428477.py, line 1)",
     "output_type": "error",
     "traceback": [
      "\u001b[1;36m  Cell \u001b[1;32mIn[13], line 1\u001b[1;36m\u001b[0m\n\u001b[1;33m    SELECT column1, column2, ...\u001b[0m\n\u001b[1;37m           ^\u001b[0m\n\u001b[1;31mSyntaxError\u001b[0m\u001b[1;31m:\u001b[0m invalid syntax\n"
     ]
    }
   ],
   "source": [
    "SELECT column1, column2, ...\n",
    "FROM <table_name>\n",
    "WHERE <condition>;"
   ]
  },
  {
   "cell_type": "code",
   "execution_count": 12,
   "id": "7b616c46-41b5-432c-b3d5-ed047f0f15e3",
   "metadata": {
    "tags": []
   },
   "outputs": [],
   "source": [
    "# column1, column2, ...: These are the columns you want to retrieve data from. You can specify one or more columns separated by commas, or\n",
    "# you can use * to select all columns.\n",
    "\n",
    "# table_name: This is the name of the table from which you want to retrieve data.\n",
    "\n",
    "# condition: This is an optional part of the SELECT statement that allows you to specify filtering criteria to retrieve only the rows that\n",
    "# meet certain conditions."
   ]
  },
  {
   "cell_type": "code",
   "execution_count": 13,
   "id": "140069a4-22b5-4e36-9285-4d54e484d6b4",
   "metadata": {
    "tags": []
   },
   "outputs": [
    {
     "ename": "SyntaxError",
     "evalue": "invalid syntax (1733348075.py, line 1)",
     "output_type": "error",
     "traceback": [
      "\u001b[1;36m  Cell \u001b[1;32mIn[13], line 1\u001b[1;36m\u001b[0m\n\u001b[1;33m    SELECT *               #all\u001b[0m\n\u001b[1;37m                           ^\u001b[0m\n\u001b[1;31mSyntaxError\u001b[0m\u001b[1;31m:\u001b[0m invalid syntax\n"
     ]
    }
   ],
   "source": [
    "SELECT *               #all\n",
    "FROM employees         #name of table\n",
    "WHERE salary > 55000;  #condition"
   ]
  },
  {
   "cell_type": "code",
   "execution_count": 14,
   "id": "e83c0d33-6c99-420c-b1b8-17249e5508f1",
   "metadata": {
    "tags": []
   },
   "outputs": [],
   "source": [
    "#################################################################################\n",
    "# Ans 05:"
   ]
  },
  {
   "cell_type": "code",
   "execution_count": 15,
   "id": "abadf0d1-90e0-4548-837a-2b86e5118a17",
   "metadata": {
    "tags": []
   },
   "outputs": [],
   "source": [
    "# A Primary Key is a column or a set of columns in a database table that uniquely identifies each row in that table. It ensures that each row\n",
    "# has a unique identifier, and no two rows can have the same values in the primary key column(s). Here are some key points about primary keys:\n",
    "\n",
    "# Uniqueness: Every value in the primary key column(s) must be unique within the table. This uniqueness constraint ensures that there are no\n",
    "# duplicate rows.\n",
    "\n",
    "# Not Null: A primary key column cannot have a NULL value because NULL represents the absence of a value, and primary keys must uniquely identify\n",
    "# each row.\n",
    "\n",
    "# Index: In most database systems, a primary key is automatically indexed. This index speeds up data retrieval operations on the primary key\n",
    "# column(s).\n",
    "\n",
    "# Relationships: Primary keys are often used as references (foreign keys) in other tables to establish relationships between tables."
   ]
  },
  {
   "cell_type": "code",
   "execution_count": 16,
   "id": "8c1d5b33-e551-4dad-a522-c00f3a904cea",
   "metadata": {
    "tags": []
   },
   "outputs": [
    {
     "ename": "SyntaxError",
     "evalue": "invalid syntax (431275090.py, line 1)",
     "output_type": "error",
     "traceback": [
      "\u001b[1;36m  Cell \u001b[1;32mIn[16], line 1\u001b[1;36m\u001b[0m\n\u001b[1;33m    CREATE TABLE students (\u001b[0m\n\u001b[1;37m           ^\u001b[0m\n\u001b[1;31mSyntaxError\u001b[0m\u001b[1;31m:\u001b[0m invalid syntax\n"
     ]
    }
   ],
   "source": [
    "CREATE TABLE students (\n",
    "    student_id INT PRIMARY KEY,\n",
    "    first_name VARCHAR(50),\n",
    "    last_name VARCHAR(50)\n",
    ");"
   ]
  },
  {
   "cell_type": "code",
   "execution_count": 17,
   "id": "139c0ddc-db96-4376-b67c-e55e75ce56aa",
   "metadata": {
    "tags": []
   },
   "outputs": [],
   "source": [
    "# A Foreign Key is a column or a set of columns in one table that is used to establish a link between the data in two tables. It creates a\n",
    "# relationship between the tables by enforcing referential integrity, which means that values in the foreign key column(s) must match values\n",
    "# in the primary key column(s) of another table. Here are some key points about foreign keys:\n",
    "\n",
    "# Referential Integrity: Foreign keys ensure that data relationships between tables are maintained and that the values in the foreign key\n",
    "# column(s) exist in the referenced primary key column(s).\n",
    "\n",
    "# Relationships: Foreign keys create relationships between tables, defining how records in one table relate to records in another table.\n",
    "\n",
    "# Cascading Actions: Foreign keys can be configured to perform cascading actions when changes are made to the referenced primary key values.\n",
    "# Common cascading actions include CASCADE (automatically update or delete related records), SET NULL (set foreign key values to NULL), and\n",
    "# RESTRICT (prevent changes if related records exist)."
   ]
  },
  {
   "cell_type": "code",
   "execution_count": 18,
   "id": "95f3dade-0c59-4ec4-a519-2f33497f6174",
   "metadata": {
    "tags": []
   },
   "outputs": [
    {
     "ename": "SyntaxError",
     "evalue": "invalid syntax (4205325113.py, line 1)",
     "output_type": "error",
     "traceback": [
      "\u001b[1;36m  Cell \u001b[1;32mIn[18], line 1\u001b[1;36m\u001b[0m\n\u001b[1;33m    CREATE TABLE enrollments (\u001b[0m\n\u001b[1;37m           ^\u001b[0m\n\u001b[1;31mSyntaxError\u001b[0m\u001b[1;31m:\u001b[0m invalid syntax\n"
     ]
    }
   ],
   "source": [
    "CREATE TABLE enrollments (\n",
    "    enrollment_id INT PRIMARY KEY,\n",
    "    course_id INT,\n",
    "    student_id INT,\n",
    "    FOREIGN KEY (student_id) REFERENCES students(student_id)\n",
    ");"
   ]
  },
  {
   "cell_type": "code",
   "execution_count": 19,
   "id": "a76b9254-11ee-4f79-b9ba-7a6c63479dce",
   "metadata": {
    "tags": []
   },
   "outputs": [],
   "source": [
    "#################################################################################\n",
    "# Ans 06:"
   ]
  },
  {
   "cell_type": "code",
   "execution_count": 20,
   "id": "8de4e094-f798-4577-8a1f-a3be99b2af8a",
   "metadata": {
    "tags": []
   },
   "outputs": [],
   "source": [
    "# The cursor is used to execute SQL queries and we can pass the SQL query as a string to The execute() method of the cursor to execute SQL queries."
   ]
  },
  {
   "cell_type": "code",
   "execution_count": 21,
   "id": "fe015fc0-39e0-4fcc-a1e4-7c1591e617fb",
   "metadata": {
    "tags": []
   },
   "outputs": [
    {
     "ename": "DatabaseError",
     "evalue": "2005 (HY000): Unknown MySQL server host 'your_host' (11001)",
     "output_type": "error",
     "traceback": [
      "\u001b[1;31m---------------------------------------------------------------------------\u001b[0m",
      "\u001b[1;31mMySQLInterfaceError\u001b[0m                       Traceback (most recent call last)",
      "File \u001b[1;32mD:\\Users\\MY_PC\\anaconda3\\Lib\\site-packages\\mysql\\connector\\connection_cext.py:302\u001b[0m, in \u001b[0;36mCMySQLConnection._open_connection\u001b[1;34m(self)\u001b[0m\n\u001b[0;32m    301\u001b[0m \u001b[38;5;28;01mtry\u001b[39;00m:\n\u001b[1;32m--> 302\u001b[0m     \u001b[38;5;28mself\u001b[39m\u001b[38;5;241m.\u001b[39m_cmysql\u001b[38;5;241m.\u001b[39mconnect(\u001b[38;5;241m*\u001b[39m\u001b[38;5;241m*\u001b[39mcnx_kwargs)\n\u001b[0;32m    303\u001b[0m     \u001b[38;5;28mself\u001b[39m\u001b[38;5;241m.\u001b[39m_cmysql\u001b[38;5;241m.\u001b[39mconverter_str_fallback \u001b[38;5;241m=\u001b[39m \u001b[38;5;28mself\u001b[39m\u001b[38;5;241m.\u001b[39m_converter_str_fallback\n",
      "\u001b[1;31mMySQLInterfaceError\u001b[0m: Unknown MySQL server host 'your_host' (11001)",
      "\nThe above exception was the direct cause of the following exception:\n",
      "\u001b[1;31mDatabaseError\u001b[0m                             Traceback (most recent call last)",
      "Cell \u001b[1;32mIn[21], line 4\u001b[0m\n\u001b[0;32m      1\u001b[0m \u001b[38;5;28;01mimport\u001b[39;00m \u001b[38;5;21;01mmysql\u001b[39;00m\u001b[38;5;21;01m.\u001b[39;00m\u001b[38;5;21;01mconnector\u001b[39;00m\n\u001b[0;32m      3\u001b[0m \u001b[38;5;66;03m# Establish a connection to the MySQL database\u001b[39;00m\n\u001b[1;32m----> 4\u001b[0m connection \u001b[38;5;241m=\u001b[39m mysql\u001b[38;5;241m.\u001b[39mconnector\u001b[38;5;241m.\u001b[39mconnect(\n\u001b[0;32m      5\u001b[0m     host\u001b[38;5;241m=\u001b[39m\u001b[38;5;124m\"\u001b[39m\u001b[38;5;124myour_host\u001b[39m\u001b[38;5;124m\"\u001b[39m,\n\u001b[0;32m      6\u001b[0m     user\u001b[38;5;241m=\u001b[39m\u001b[38;5;124m\"\u001b[39m\u001b[38;5;124myour_username\u001b[39m\u001b[38;5;124m\"\u001b[39m,\n\u001b[0;32m      7\u001b[0m     password\u001b[38;5;241m=\u001b[39m\u001b[38;5;124m\"\u001b[39m\u001b[38;5;124myour_password\u001b[39m\u001b[38;5;124m\"\u001b[39m,\n\u001b[0;32m      8\u001b[0m     database\u001b[38;5;241m=\u001b[39m\u001b[38;5;124m\"\u001b[39m\u001b[38;5;124myour_database\u001b[39m\u001b[38;5;124m\"\u001b[39m\n\u001b[0;32m      9\u001b[0m )\n\u001b[0;32m     11\u001b[0m \u001b[38;5;66;03m# Create a cursor object to interact with the database\u001b[39;00m\n\u001b[0;32m     12\u001b[0m cursor \u001b[38;5;241m=\u001b[39m connection\u001b[38;5;241m.\u001b[39mcursor()\n",
      "File \u001b[1;32mD:\\Users\\MY_PC\\anaconda3\\Lib\\site-packages\\mysql\\connector\\pooling.py:293\u001b[0m, in \u001b[0;36mconnect\u001b[1;34m(*args, **kwargs)\u001b[0m\n\u001b[0;32m    290\u001b[0m         \u001b[38;5;28;01mraise\u001b[39;00m \u001b[38;5;167;01mImportError\u001b[39;00m(ERROR_NO_CEXT)\n\u001b[0;32m    292\u001b[0m \u001b[38;5;28;01mif\u001b[39;00m CMySQLConnection \u001b[38;5;129;01mand\u001b[39;00m \u001b[38;5;129;01mnot\u001b[39;00m use_pure:\n\u001b[1;32m--> 293\u001b[0m     \u001b[38;5;28;01mreturn\u001b[39;00m CMySQLConnection(\u001b[38;5;241m*\u001b[39margs, \u001b[38;5;241m*\u001b[39m\u001b[38;5;241m*\u001b[39mkwargs)\n\u001b[0;32m    294\u001b[0m \u001b[38;5;28;01mreturn\u001b[39;00m MySQLConnection(\u001b[38;5;241m*\u001b[39margs, \u001b[38;5;241m*\u001b[39m\u001b[38;5;241m*\u001b[39mkwargs)\n",
      "File \u001b[1;32mD:\\Users\\MY_PC\\anaconda3\\Lib\\site-packages\\mysql\\connector\\connection_cext.py:128\u001b[0m, in \u001b[0;36mCMySQLConnection.__init__\u001b[1;34m(self, **kwargs)\u001b[0m\n\u001b[0;32m    126\u001b[0m \u001b[38;5;28;01mif\u001b[39;00m kwargs:\n\u001b[0;32m    127\u001b[0m     \u001b[38;5;28;01mtry\u001b[39;00m:\n\u001b[1;32m--> 128\u001b[0m         \u001b[38;5;28mself\u001b[39m\u001b[38;5;241m.\u001b[39mconnect(\u001b[38;5;241m*\u001b[39m\u001b[38;5;241m*\u001b[39mkwargs)\n\u001b[0;32m    129\u001b[0m     \u001b[38;5;28;01mexcept\u001b[39;00m \u001b[38;5;167;01mException\u001b[39;00m:\n\u001b[0;32m    130\u001b[0m         \u001b[38;5;28mself\u001b[39m\u001b[38;5;241m.\u001b[39mclose()\n",
      "File \u001b[1;32mD:\\Users\\MY_PC\\anaconda3\\Lib\\site-packages\\mysql\\connector\\abstracts.py:1217\u001b[0m, in \u001b[0;36mMySQLConnectionAbstract.connect\u001b[1;34m(self, **kwargs)\u001b[0m\n\u001b[0;32m   1214\u001b[0m     \u001b[38;5;28mself\u001b[39m\u001b[38;5;241m.\u001b[39mconfig(\u001b[38;5;241m*\u001b[39m\u001b[38;5;241m*\u001b[39mkwargs)\n\u001b[0;32m   1216\u001b[0m \u001b[38;5;28mself\u001b[39m\u001b[38;5;241m.\u001b[39mdisconnect()\n\u001b[1;32m-> 1217\u001b[0m \u001b[38;5;28mself\u001b[39m\u001b[38;5;241m.\u001b[39m_open_connection()\n\u001b[0;32m   1218\u001b[0m \u001b[38;5;66;03m# Server does not allow to run any other statement different from ALTER\u001b[39;00m\n\u001b[0;32m   1219\u001b[0m \u001b[38;5;66;03m# when user's password has been expired.\u001b[39;00m\n\u001b[0;32m   1220\u001b[0m \u001b[38;5;28;01mif\u001b[39;00m \u001b[38;5;129;01mnot\u001b[39;00m \u001b[38;5;28mself\u001b[39m\u001b[38;5;241m.\u001b[39m_client_flags \u001b[38;5;241m&\u001b[39m ClientFlag\u001b[38;5;241m.\u001b[39mCAN_HANDLE_EXPIRED_PASSWORDS:\n",
      "File \u001b[1;32mD:\\Users\\MY_PC\\anaconda3\\Lib\\site-packages\\mysql\\connector\\connection_cext.py:307\u001b[0m, in \u001b[0;36mCMySQLConnection._open_connection\u001b[1;34m(self)\u001b[0m\n\u001b[0;32m    305\u001b[0m         \u001b[38;5;28mself\u001b[39m\u001b[38;5;241m.\u001b[39mconverter\u001b[38;5;241m.\u001b[39mstr_fallback \u001b[38;5;241m=\u001b[39m \u001b[38;5;28mself\u001b[39m\u001b[38;5;241m.\u001b[39m_converter_str_fallback\n\u001b[0;32m    306\u001b[0m \u001b[38;5;28;01mexcept\u001b[39;00m MySQLInterfaceError \u001b[38;5;28;01mas\u001b[39;00m err:\n\u001b[1;32m--> 307\u001b[0m     \u001b[38;5;28;01mraise\u001b[39;00m get_mysql_exception(\n\u001b[0;32m    308\u001b[0m         msg\u001b[38;5;241m=\u001b[39merr\u001b[38;5;241m.\u001b[39mmsg, errno\u001b[38;5;241m=\u001b[39merr\u001b[38;5;241m.\u001b[39merrno, sqlstate\u001b[38;5;241m=\u001b[39merr\u001b[38;5;241m.\u001b[39msqlstate\n\u001b[0;32m    309\u001b[0m     ) \u001b[38;5;28;01mfrom\u001b[39;00m \u001b[38;5;21;01merr\u001b[39;00m\n\u001b[0;32m    311\u001b[0m \u001b[38;5;28mself\u001b[39m\u001b[38;5;241m.\u001b[39m_do_handshake()\n",
      "\u001b[1;31mDatabaseError\u001b[0m: 2005 (HY000): Unknown MySQL server host 'your_host' (11001)"
     ]
    }
   ],
   "source": [
    "import mysql.connector\n",
    "\n",
    "# Establish a connection to the MySQL database\n",
    "connection = mysql.connector.connect(\n",
    "    host=\"your_host\",\n",
    "    user=\"your_username\",\n",
    "    password=\"your_password\",\n",
    "    database=\"your_database\"\n",
    ")\n",
    "\n",
    "# Create a cursor object to interact with the database\n",
    "cursor = connection.cursor()\n",
    "\n",
    "# Execute SQL queries using the execute() method of the cursor\n",
    "try:\n",
    "    # Example 1: SELECT statement\n",
    "    cursor.execute(\"SELECT * FROM your_table\")\n",
    "    result = cursor.fetchall()\n",
    "    for row in result:\n",
    "        print(row)\n",
    "\n",
    "    # Example 2: INSERT statement\n",
    "    insert_query = \"INSERT INTO your_table (column1, column2) VALUES (%s, %s)\"\n",
    "    values = (\"value1\", \"value2\")\n",
    "    cursor.execute(insert_query, values)\n",
    "    connection.commit()  # Commit the changes to the database\n",
    "\n",
    "    # Example 3: UPDATE statement\n",
    "    update_query = \"UPDATE your_table SET column1 = %s WHERE column2 = %s\"\n",
    "    new_value = \"new_value\"\n",
    "    old_value = \"value2\"\n",
    "    cursor.execute(update_query, (new_value, old_value))\n",
    "    connection.commit()\n",
    "\n",
    "    # Example 4: DELETE statement\n",
    "    delete_query = \"DELETE FROM your_table WHERE column1 = %s\"\n",
    "    value_to_delete = \"value1\"\n",
    "    cursor.execute(delete_query, (value_to_delete,))\n",
    "    connection.commit()\n",
    "    \n",
    "except mysql.connector.Error as error:\n",
    "    print(\"Error:\", error)\n",
    "\n",
    "# Close the cursor and the database connection\n",
    "cursor.close()\n",
    "connection.close()"
   ]
  },
  {
   "cell_type": "code",
   "execution_count": null,
   "id": "f7858af9-db27-4e17-bc5d-deb52e37d673",
   "metadata": {
    "tags": []
   },
   "outputs": [],
   "source": [
    "#################################################################################\n",
    "# Ans 07:"
   ]
  },
  {
   "cell_type": "code",
   "execution_count": null,
   "id": "aefdb2f7-9419-4df4-8722-88e5d9514d7a",
   "metadata": {
    "tags": []
   },
   "outputs": [],
   "source": [
    "# In SQL, a query typically consists of several clauses that are executed in a specific order. The order of execution of SQL clauses in a\n",
    "# query generally follows this sequence:\n",
    "\n",
    "# FROM: The FROM clause specifies the tables from which you are retrieving data. It is the first clause in the query and defines the source\n",
    "# tables for the query.\n",
    "\n",
    "# JOIN: If your query involves multiple tables and requires combining data from these tables, the JOIN clause is used to establish the relationships\n",
    "# between the tables. JOINs can be INNER JOIN, LEFT JOIN, RIGHT JOIN, or FULL JOIN, depending on how you want to join the tables.\n",
    "\n",
    "# WHERE: The WHERE clause is used to filter rows from the tables specified in the FROM clause. It defines the conditions that rows must meet\n",
    "# to be included in the result set. Rows that don't satisfy the WHERE conditions are excluded.\n",
    "\n",
    "# GROUP BY: If you need to group rows based on one or more columns, you can use the GROUP BY clause. It is typically followed by aggregate\n",
    "# functions (e.g., COUNT, SUM, AVG) to perform calculations on groups of rows.\n",
    "\n",
    "# HAVING: The HAVING clause is used in conjunction with the GROUP BY clause to filter grouped rows based on aggregate values. It specifies\n",
    "# conditions that apply to groups, similar to the WHERE clause for individual rows.\n",
    "\n",
    "# SELECT: The SELECT clause determines which columns from the tables and expressions should be included in the result set. It follows the\n",
    "# previous clauses and specifies what data you want to retrieve.\n",
    "\n",
    "# DISTINCT: If you want to remove duplicate rows from the result set, you can use the DISTINCT keyword in the SELECT clause. It ensures that\n",
    "# only unique rows are returned.\n",
    "\n",
    "# ORDER BY: The ORDER BY clause is used to sort the result set based on one or more columns. You can specify the sorting order (ASC for ascending\n",
    "# or DESC for descending).\n",
    "\n",
    "# LIMIT/OFFSET: If you want to limit the number of rows returned or skip a certain number of rows, you can use the LIMIT and OFFSET clauses.\n",
    "# These are often used for pagination or restricting query results to a specific range.\n",
    "\n",
    "# UNION/INTERSECT/EXCEPT: If you need to combine results from multiple queries, you can use UNION (to combine and remove duplicates), INTERSECT\n",
    "# (to return common rows), or EXCEPT (to return rows from the first query that are not in the second query).\n",
    "\n",
    "# Parentheses: Parentheses can be used to group conditions and subqueries within the clauses, controlling the order of evaluation when complex\n",
    "# queries are involved."
   ]
  },
  {
   "cell_type": "code",
   "execution_count": 22,
   "id": "1a5bdcf7-924f-4f05-a3e6-0c623e30a728",
   "metadata": {
    "tags": []
   },
   "outputs": [],
   "source": [
    "#################################################################################"
   ]
  }
 ],
 "metadata": {
  "kernelspec": {
   "display_name": "Python 3 (ipykernel)",
   "language": "python",
   "name": "python3"
  },
  "language_info": {
   "codemirror_mode": {
    "name": "ipython",
    "version": 3
   },
   "file_extension": ".py",
   "mimetype": "text/x-python",
   "name": "python",
   "nbconvert_exporter": "python",
   "pygments_lexer": "ipython3",
   "version": "3.11.4"
  }
 },
 "nbformat": 4,
 "nbformat_minor": 5
}
