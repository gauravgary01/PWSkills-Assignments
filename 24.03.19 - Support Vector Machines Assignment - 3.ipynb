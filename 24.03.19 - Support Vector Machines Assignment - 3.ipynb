{
 "cells": [
  {
   "cell_type": "code",
   "execution_count": 1,
   "id": "35e17b51-6bc4-4170-a768-892d4fea6878",
   "metadata": {},
   "outputs": [],
   "source": [
    "import numpy as np\n",
    "import pandas as pd\n",
    "import matplotlib.pyplot as plt\n",
    "import seaborn as sns"
   ]
  },
  {
   "cell_type": "code",
   "execution_count": 2,
   "id": "c44bc194-4a18-4f34-a7cd-ecec48a89faf",
   "metadata": {},
   "outputs": [],
   "source": [
    "df = pd.read_csv('Bengaluru_House_Data.csv')"
   ]
  },
  {
   "cell_type": "code",
   "execution_count": 3,
   "id": "30f3c214-6896-4d7f-ac61-09e640a707f7",
   "metadata": {},
   "outputs": [
    {
     "data": {
      "text/html": [
       "<div>\n",
       "<style scoped>\n",
       "    .dataframe tbody tr th:only-of-type {\n",
       "        vertical-align: middle;\n",
       "    }\n",
       "\n",
       "    .dataframe tbody tr th {\n",
       "        vertical-align: top;\n",
       "    }\n",
       "\n",
       "    .dataframe thead th {\n",
       "        text-align: right;\n",
       "    }\n",
       "</style>\n",
       "<table border=\"1\" class=\"dataframe\">\n",
       "  <thead>\n",
       "    <tr style=\"text-align: right;\">\n",
       "      <th></th>\n",
       "      <th>area_type</th>\n",
       "      <th>availability</th>\n",
       "      <th>location</th>\n",
       "      <th>size</th>\n",
       "      <th>society</th>\n",
       "      <th>total_sqft</th>\n",
       "      <th>bath</th>\n",
       "      <th>balcony</th>\n",
       "      <th>price</th>\n",
       "    </tr>\n",
       "  </thead>\n",
       "  <tbody>\n",
       "    <tr>\n",
       "      <th>0</th>\n",
       "      <td>Super built-up  Area</td>\n",
       "      <td>19-Dec</td>\n",
       "      <td>Electronic City Phase II</td>\n",
       "      <td>2 BHK</td>\n",
       "      <td>Coomee</td>\n",
       "      <td>1056</td>\n",
       "      <td>2.0</td>\n",
       "      <td>1.0</td>\n",
       "      <td>39.07</td>\n",
       "    </tr>\n",
       "    <tr>\n",
       "      <th>1</th>\n",
       "      <td>Plot  Area</td>\n",
       "      <td>Ready To Move</td>\n",
       "      <td>Chikka Tirupathi</td>\n",
       "      <td>4 Bedroom</td>\n",
       "      <td>Theanmp</td>\n",
       "      <td>2600</td>\n",
       "      <td>5.0</td>\n",
       "      <td>3.0</td>\n",
       "      <td>120.00</td>\n",
       "    </tr>\n",
       "    <tr>\n",
       "      <th>2</th>\n",
       "      <td>Built-up  Area</td>\n",
       "      <td>Ready To Move</td>\n",
       "      <td>Uttarahalli</td>\n",
       "      <td>3 BHK</td>\n",
       "      <td>NaN</td>\n",
       "      <td>1440</td>\n",
       "      <td>2.0</td>\n",
       "      <td>3.0</td>\n",
       "      <td>62.00</td>\n",
       "    </tr>\n",
       "    <tr>\n",
       "      <th>3</th>\n",
       "      <td>Super built-up  Area</td>\n",
       "      <td>Ready To Move</td>\n",
       "      <td>Lingadheeranahalli</td>\n",
       "      <td>3 BHK</td>\n",
       "      <td>Soiewre</td>\n",
       "      <td>1521</td>\n",
       "      <td>3.0</td>\n",
       "      <td>1.0</td>\n",
       "      <td>95.00</td>\n",
       "    </tr>\n",
       "    <tr>\n",
       "      <th>4</th>\n",
       "      <td>Super built-up  Area</td>\n",
       "      <td>Ready To Move</td>\n",
       "      <td>Kothanur</td>\n",
       "      <td>2 BHK</td>\n",
       "      <td>NaN</td>\n",
       "      <td>1200</td>\n",
       "      <td>2.0</td>\n",
       "      <td>1.0</td>\n",
       "      <td>51.00</td>\n",
       "    </tr>\n",
       "    <tr>\n",
       "      <th>...</th>\n",
       "      <td>...</td>\n",
       "      <td>...</td>\n",
       "      <td>...</td>\n",
       "      <td>...</td>\n",
       "      <td>...</td>\n",
       "      <td>...</td>\n",
       "      <td>...</td>\n",
       "      <td>...</td>\n",
       "      <td>...</td>\n",
       "    </tr>\n",
       "    <tr>\n",
       "      <th>13315</th>\n",
       "      <td>Built-up  Area</td>\n",
       "      <td>Ready To Move</td>\n",
       "      <td>Whitefield</td>\n",
       "      <td>5 Bedroom</td>\n",
       "      <td>ArsiaEx</td>\n",
       "      <td>3453</td>\n",
       "      <td>4.0</td>\n",
       "      <td>0.0</td>\n",
       "      <td>231.00</td>\n",
       "    </tr>\n",
       "    <tr>\n",
       "      <th>13316</th>\n",
       "      <td>Super built-up  Area</td>\n",
       "      <td>Ready To Move</td>\n",
       "      <td>Richards Town</td>\n",
       "      <td>4 BHK</td>\n",
       "      <td>NaN</td>\n",
       "      <td>3600</td>\n",
       "      <td>5.0</td>\n",
       "      <td>NaN</td>\n",
       "      <td>400.00</td>\n",
       "    </tr>\n",
       "    <tr>\n",
       "      <th>13317</th>\n",
       "      <td>Built-up  Area</td>\n",
       "      <td>Ready To Move</td>\n",
       "      <td>Raja Rajeshwari Nagar</td>\n",
       "      <td>2 BHK</td>\n",
       "      <td>Mahla T</td>\n",
       "      <td>1141</td>\n",
       "      <td>2.0</td>\n",
       "      <td>1.0</td>\n",
       "      <td>60.00</td>\n",
       "    </tr>\n",
       "    <tr>\n",
       "      <th>13318</th>\n",
       "      <td>Super built-up  Area</td>\n",
       "      <td>18-Jun</td>\n",
       "      <td>Padmanabhanagar</td>\n",
       "      <td>4 BHK</td>\n",
       "      <td>SollyCl</td>\n",
       "      <td>4689</td>\n",
       "      <td>4.0</td>\n",
       "      <td>1.0</td>\n",
       "      <td>488.00</td>\n",
       "    </tr>\n",
       "    <tr>\n",
       "      <th>13319</th>\n",
       "      <td>Super built-up  Area</td>\n",
       "      <td>Ready To Move</td>\n",
       "      <td>Doddathoguru</td>\n",
       "      <td>1 BHK</td>\n",
       "      <td>NaN</td>\n",
       "      <td>550</td>\n",
       "      <td>1.0</td>\n",
       "      <td>1.0</td>\n",
       "      <td>17.00</td>\n",
       "    </tr>\n",
       "  </tbody>\n",
       "</table>\n",
       "<p>13320 rows × 9 columns</p>\n",
       "</div>"
      ],
      "text/plain": [
       "                  area_type   availability                  location  \\\n",
       "0      Super built-up  Area         19-Dec  Electronic City Phase II   \n",
       "1                Plot  Area  Ready To Move          Chikka Tirupathi   \n",
       "2            Built-up  Area  Ready To Move               Uttarahalli   \n",
       "3      Super built-up  Area  Ready To Move        Lingadheeranahalli   \n",
       "4      Super built-up  Area  Ready To Move                  Kothanur   \n",
       "...                     ...            ...                       ...   \n",
       "13315        Built-up  Area  Ready To Move                Whitefield   \n",
       "13316  Super built-up  Area  Ready To Move             Richards Town   \n",
       "13317        Built-up  Area  Ready To Move     Raja Rajeshwari Nagar   \n",
       "13318  Super built-up  Area         18-Jun           Padmanabhanagar   \n",
       "13319  Super built-up  Area  Ready To Move              Doddathoguru   \n",
       "\n",
       "            size  society total_sqft  bath  balcony   price  \n",
       "0          2 BHK  Coomee        1056   2.0      1.0   39.07  \n",
       "1      4 Bedroom  Theanmp       2600   5.0      3.0  120.00  \n",
       "2          3 BHK      NaN       1440   2.0      3.0   62.00  \n",
       "3          3 BHK  Soiewre       1521   3.0      1.0   95.00  \n",
       "4          2 BHK      NaN       1200   2.0      1.0   51.00  \n",
       "...          ...      ...        ...   ...      ...     ...  \n",
       "13315  5 Bedroom  ArsiaEx       3453   4.0      0.0  231.00  \n",
       "13316      4 BHK      NaN       3600   5.0      NaN  400.00  \n",
       "13317      2 BHK  Mahla T       1141   2.0      1.0   60.00  \n",
       "13318      4 BHK  SollyCl       4689   4.0      1.0  488.00  \n",
       "13319      1 BHK      NaN        550   1.0      1.0   17.00  \n",
       "\n",
       "[13320 rows x 9 columns]"
      ]
     },
     "execution_count": 3,
     "metadata": {},
     "output_type": "execute_result"
    }
   ],
   "source": [
    "df"
   ]
  },
  {
   "cell_type": "code",
   "execution_count": 4,
   "id": "1f2e127c-54ca-4d45-9f2c-b6dd576626c8",
   "metadata": {},
   "outputs": [
    {
     "data": {
      "text/html": [
       "<div>\n",
       "<style scoped>\n",
       "    .dataframe tbody tr th:only-of-type {\n",
       "        vertical-align: middle;\n",
       "    }\n",
       "\n",
       "    .dataframe tbody tr th {\n",
       "        vertical-align: top;\n",
       "    }\n",
       "\n",
       "    .dataframe thead th {\n",
       "        text-align: right;\n",
       "    }\n",
       "</style>\n",
       "<table border=\"1\" class=\"dataframe\">\n",
       "  <thead>\n",
       "    <tr style=\"text-align: right;\">\n",
       "      <th></th>\n",
       "      <th>location</th>\n",
       "      <th>size</th>\n",
       "      <th>total_sqft</th>\n",
       "      <th>bath</th>\n",
       "      <th>balcony</th>\n",
       "      <th>price</th>\n",
       "    </tr>\n",
       "  </thead>\n",
       "  <tbody>\n",
       "    <tr>\n",
       "      <th>0</th>\n",
       "      <td>Electronic City Phase II</td>\n",
       "      <td>2 BHK</td>\n",
       "      <td>1056</td>\n",
       "      <td>2.0</td>\n",
       "      <td>1.0</td>\n",
       "      <td>39.07</td>\n",
       "    </tr>\n",
       "    <tr>\n",
       "      <th>1</th>\n",
       "      <td>Chikka Tirupathi</td>\n",
       "      <td>4 Bedroom</td>\n",
       "      <td>2600</td>\n",
       "      <td>5.0</td>\n",
       "      <td>3.0</td>\n",
       "      <td>120.00</td>\n",
       "    </tr>\n",
       "    <tr>\n",
       "      <th>2</th>\n",
       "      <td>Uttarahalli</td>\n",
       "      <td>3 BHK</td>\n",
       "      <td>1440</td>\n",
       "      <td>2.0</td>\n",
       "      <td>3.0</td>\n",
       "      <td>62.00</td>\n",
       "    </tr>\n",
       "    <tr>\n",
       "      <th>3</th>\n",
       "      <td>Lingadheeranahalli</td>\n",
       "      <td>3 BHK</td>\n",
       "      <td>1521</td>\n",
       "      <td>3.0</td>\n",
       "      <td>1.0</td>\n",
       "      <td>95.00</td>\n",
       "    </tr>\n",
       "    <tr>\n",
       "      <th>4</th>\n",
       "      <td>Kothanur</td>\n",
       "      <td>2 BHK</td>\n",
       "      <td>1200</td>\n",
       "      <td>2.0</td>\n",
       "      <td>1.0</td>\n",
       "      <td>51.00</td>\n",
       "    </tr>\n",
       "    <tr>\n",
       "      <th>...</th>\n",
       "      <td>...</td>\n",
       "      <td>...</td>\n",
       "      <td>...</td>\n",
       "      <td>...</td>\n",
       "      <td>...</td>\n",
       "      <td>...</td>\n",
       "    </tr>\n",
       "    <tr>\n",
       "      <th>13315</th>\n",
       "      <td>Whitefield</td>\n",
       "      <td>5 Bedroom</td>\n",
       "      <td>3453</td>\n",
       "      <td>4.0</td>\n",
       "      <td>0.0</td>\n",
       "      <td>231.00</td>\n",
       "    </tr>\n",
       "    <tr>\n",
       "      <th>13316</th>\n",
       "      <td>Richards Town</td>\n",
       "      <td>4 BHK</td>\n",
       "      <td>3600</td>\n",
       "      <td>5.0</td>\n",
       "      <td>NaN</td>\n",
       "      <td>400.00</td>\n",
       "    </tr>\n",
       "    <tr>\n",
       "      <th>13317</th>\n",
       "      <td>Raja Rajeshwari Nagar</td>\n",
       "      <td>2 BHK</td>\n",
       "      <td>1141</td>\n",
       "      <td>2.0</td>\n",
       "      <td>1.0</td>\n",
       "      <td>60.00</td>\n",
       "    </tr>\n",
       "    <tr>\n",
       "      <th>13318</th>\n",
       "      <td>Padmanabhanagar</td>\n",
       "      <td>4 BHK</td>\n",
       "      <td>4689</td>\n",
       "      <td>4.0</td>\n",
       "      <td>1.0</td>\n",
       "      <td>488.00</td>\n",
       "    </tr>\n",
       "    <tr>\n",
       "      <th>13319</th>\n",
       "      <td>Doddathoguru</td>\n",
       "      <td>1 BHK</td>\n",
       "      <td>550</td>\n",
       "      <td>1.0</td>\n",
       "      <td>1.0</td>\n",
       "      <td>17.00</td>\n",
       "    </tr>\n",
       "  </tbody>\n",
       "</table>\n",
       "<p>13320 rows × 6 columns</p>\n",
       "</div>"
      ],
      "text/plain": [
       "                       location       size total_sqft  bath  balcony   price\n",
       "0      Electronic City Phase II      2 BHK       1056   2.0      1.0   39.07\n",
       "1              Chikka Tirupathi  4 Bedroom       2600   5.0      3.0  120.00\n",
       "2                   Uttarahalli      3 BHK       1440   2.0      3.0   62.00\n",
       "3            Lingadheeranahalli      3 BHK       1521   3.0      1.0   95.00\n",
       "4                      Kothanur      2 BHK       1200   2.0      1.0   51.00\n",
       "...                         ...        ...        ...   ...      ...     ...\n",
       "13315                Whitefield  5 Bedroom       3453   4.0      0.0  231.00\n",
       "13316             Richards Town      4 BHK       3600   5.0      NaN  400.00\n",
       "13317     Raja Rajeshwari Nagar      2 BHK       1141   2.0      1.0   60.00\n",
       "13318           Padmanabhanagar      4 BHK       4689   4.0      1.0  488.00\n",
       "13319              Doddathoguru      1 BHK        550   1.0      1.0   17.00\n",
       "\n",
       "[13320 rows x 6 columns]"
      ]
     },
     "execution_count": 4,
     "metadata": {},
     "output_type": "execute_result"
    }
   ],
   "source": [
    "df = df[['location', 'size', 'total_sqft', 'bath', 'balcony', 'price']]\n",
    "df"
   ]
  },
  {
   "cell_type": "code",
   "execution_count": 5,
   "id": "31926f68-6f8a-4b07-9da1-f6750aebc3fd",
   "metadata": {},
   "outputs": [
    {
     "name": "stderr",
     "output_type": "stream",
     "text": [
      "C:\\Users\\MY PC\\AppData\\Local\\Temp\\ipykernel_25568\\23399775.py:2: SettingWithCopyWarning: \n",
      "A value is trying to be set on a copy of a slice from a DataFrame.\n",
      "Try using .loc[row_indexer,col_indexer] = value instead\n",
      "\n",
      "See the caveats in the documentation: https://pandas.pydata.org/pandas-docs/stable/user_guide/indexing.html#returning-a-view-versus-a-copy\n",
      "  df['size'] = df['size'].fillna('0')\n",
      "C:\\Users\\MY PC\\AppData\\Local\\Temp\\ipykernel_25568\\23399775.py:5: SettingWithCopyWarning: \n",
      "A value is trying to be set on a copy of a slice from a DataFrame.\n",
      "Try using .loc[row_indexer,col_indexer] = value instead\n",
      "\n",
      "See the caveats in the documentation: https://pandas.pydata.org/pandas-docs/stable/user_guide/indexing.html#returning-a-view-versus-a-copy\n",
      "  df['size'] = df['size'].astype(str).str.extract('(\\d+)').astype(float).astype(int)\n"
     ]
    },
    {
     "data": {
      "text/html": [
       "<div>\n",
       "<style scoped>\n",
       "    .dataframe tbody tr th:only-of-type {\n",
       "        vertical-align: middle;\n",
       "    }\n",
       "\n",
       "    .dataframe tbody tr th {\n",
       "        vertical-align: top;\n",
       "    }\n",
       "\n",
       "    .dataframe thead th {\n",
       "        text-align: right;\n",
       "    }\n",
       "</style>\n",
       "<table border=\"1\" class=\"dataframe\">\n",
       "  <thead>\n",
       "    <tr style=\"text-align: right;\">\n",
       "      <th></th>\n",
       "      <th>location</th>\n",
       "      <th>size</th>\n",
       "      <th>total_sqft</th>\n",
       "      <th>bath</th>\n",
       "      <th>balcony</th>\n",
       "      <th>price</th>\n",
       "    </tr>\n",
       "  </thead>\n",
       "  <tbody>\n",
       "    <tr>\n",
       "      <th>0</th>\n",
       "      <td>Electronic City Phase II</td>\n",
       "      <td>2</td>\n",
       "      <td>1056</td>\n",
       "      <td>2.0</td>\n",
       "      <td>1.0</td>\n",
       "      <td>39.07</td>\n",
       "    </tr>\n",
       "    <tr>\n",
       "      <th>1</th>\n",
       "      <td>Chikka Tirupathi</td>\n",
       "      <td>4</td>\n",
       "      <td>2600</td>\n",
       "      <td>5.0</td>\n",
       "      <td>3.0</td>\n",
       "      <td>120.00</td>\n",
       "    </tr>\n",
       "    <tr>\n",
       "      <th>2</th>\n",
       "      <td>Uttarahalli</td>\n",
       "      <td>3</td>\n",
       "      <td>1440</td>\n",
       "      <td>2.0</td>\n",
       "      <td>3.0</td>\n",
       "      <td>62.00</td>\n",
       "    </tr>\n",
       "    <tr>\n",
       "      <th>3</th>\n",
       "      <td>Lingadheeranahalli</td>\n",
       "      <td>3</td>\n",
       "      <td>1521</td>\n",
       "      <td>3.0</td>\n",
       "      <td>1.0</td>\n",
       "      <td>95.00</td>\n",
       "    </tr>\n",
       "    <tr>\n",
       "      <th>4</th>\n",
       "      <td>Kothanur</td>\n",
       "      <td>2</td>\n",
       "      <td>1200</td>\n",
       "      <td>2.0</td>\n",
       "      <td>1.0</td>\n",
       "      <td>51.00</td>\n",
       "    </tr>\n",
       "    <tr>\n",
       "      <th>...</th>\n",
       "      <td>...</td>\n",
       "      <td>...</td>\n",
       "      <td>...</td>\n",
       "      <td>...</td>\n",
       "      <td>...</td>\n",
       "      <td>...</td>\n",
       "    </tr>\n",
       "    <tr>\n",
       "      <th>13315</th>\n",
       "      <td>Whitefield</td>\n",
       "      <td>5</td>\n",
       "      <td>3453</td>\n",
       "      <td>4.0</td>\n",
       "      <td>0.0</td>\n",
       "      <td>231.00</td>\n",
       "    </tr>\n",
       "    <tr>\n",
       "      <th>13316</th>\n",
       "      <td>Richards Town</td>\n",
       "      <td>4</td>\n",
       "      <td>3600</td>\n",
       "      <td>5.0</td>\n",
       "      <td>NaN</td>\n",
       "      <td>400.00</td>\n",
       "    </tr>\n",
       "    <tr>\n",
       "      <th>13317</th>\n",
       "      <td>Raja Rajeshwari Nagar</td>\n",
       "      <td>2</td>\n",
       "      <td>1141</td>\n",
       "      <td>2.0</td>\n",
       "      <td>1.0</td>\n",
       "      <td>60.00</td>\n",
       "    </tr>\n",
       "    <tr>\n",
       "      <th>13318</th>\n",
       "      <td>Padmanabhanagar</td>\n",
       "      <td>4</td>\n",
       "      <td>4689</td>\n",
       "      <td>4.0</td>\n",
       "      <td>1.0</td>\n",
       "      <td>488.00</td>\n",
       "    </tr>\n",
       "    <tr>\n",
       "      <th>13319</th>\n",
       "      <td>Doddathoguru</td>\n",
       "      <td>1</td>\n",
       "      <td>550</td>\n",
       "      <td>1.0</td>\n",
       "      <td>1.0</td>\n",
       "      <td>17.00</td>\n",
       "    </tr>\n",
       "  </tbody>\n",
       "</table>\n",
       "<p>13320 rows × 6 columns</p>\n",
       "</div>"
      ],
      "text/plain": [
       "                       location  size total_sqft  bath  balcony   price\n",
       "0      Electronic City Phase II     2       1056   2.0      1.0   39.07\n",
       "1              Chikka Tirupathi     4       2600   5.0      3.0  120.00\n",
       "2                   Uttarahalli     3       1440   2.0      3.0   62.00\n",
       "3            Lingadheeranahalli     3       1521   3.0      1.0   95.00\n",
       "4                      Kothanur     2       1200   2.0      1.0   51.00\n",
       "...                         ...   ...        ...   ...      ...     ...\n",
       "13315                Whitefield     5       3453   4.0      0.0  231.00\n",
       "13316             Richards Town     4       3600   5.0      NaN  400.00\n",
       "13317     Raja Rajeshwari Nagar     2       1141   2.0      1.0   60.00\n",
       "13318           Padmanabhanagar     4       4689   4.0      1.0  488.00\n",
       "13319              Doddathoguru     1        550   1.0      1.0   17.00\n",
       "\n",
       "[13320 rows x 6 columns]"
      ]
     },
     "execution_count": 5,
     "metadata": {},
     "output_type": "execute_result"
    }
   ],
   "source": [
    "# Replace missing values with a default value (e.g., '0')\n",
    "df['size'] = df['size'].fillna('0')\n",
    "\n",
    "# Extract digits from 'size' column and convert to integer\n",
    "df['size'] = df['size'].astype(str).str.extract('(\\d+)').astype(float).astype(int)\n",
    "\n",
    "# Create a copy of the DataFrame to avoid SettingWithCopyWarning\n",
    "df = df.dropna(subset=['size']).copy()\n",
    "\n",
    "df"
   ]
  },
  {
   "cell_type": "code",
   "execution_count": 6,
   "id": "47c3b410-3f33-4c98-b860-6c5068d77152",
   "metadata": {},
   "outputs": [
    {
     "data": {
      "text/html": [
       "<div>\n",
       "<style scoped>\n",
       "    .dataframe tbody tr th:only-of-type {\n",
       "        vertical-align: middle;\n",
       "    }\n",
       "\n",
       "    .dataframe tbody tr th {\n",
       "        vertical-align: top;\n",
       "    }\n",
       "\n",
       "    .dataframe thead th {\n",
       "        text-align: right;\n",
       "    }\n",
       "</style>\n",
       "<table border=\"1\" class=\"dataframe\">\n",
       "  <thead>\n",
       "    <tr style=\"text-align: right;\">\n",
       "      <th></th>\n",
       "      <th>location</th>\n",
       "      <th>size</th>\n",
       "      <th>total_sqft</th>\n",
       "      <th>bath</th>\n",
       "      <th>balcony</th>\n",
       "      <th>price</th>\n",
       "    </tr>\n",
       "  </thead>\n",
       "  <tbody>\n",
       "    <tr>\n",
       "      <th>0</th>\n",
       "      <td>Electronic City Phase II</td>\n",
       "      <td>2</td>\n",
       "      <td>1056</td>\n",
       "      <td>2.0</td>\n",
       "      <td>1.0</td>\n",
       "      <td>39.07</td>\n",
       "    </tr>\n",
       "    <tr>\n",
       "      <th>1</th>\n",
       "      <td>Chikka Tirupathi</td>\n",
       "      <td>4</td>\n",
       "      <td>2600</td>\n",
       "      <td>5.0</td>\n",
       "      <td>3.0</td>\n",
       "      <td>120.00</td>\n",
       "    </tr>\n",
       "    <tr>\n",
       "      <th>2</th>\n",
       "      <td>Uttarahalli</td>\n",
       "      <td>3</td>\n",
       "      <td>1440</td>\n",
       "      <td>2.0</td>\n",
       "      <td>3.0</td>\n",
       "      <td>62.00</td>\n",
       "    </tr>\n",
       "    <tr>\n",
       "      <th>3</th>\n",
       "      <td>Lingadheeranahalli</td>\n",
       "      <td>3</td>\n",
       "      <td>1521</td>\n",
       "      <td>3.0</td>\n",
       "      <td>1.0</td>\n",
       "      <td>95.00</td>\n",
       "    </tr>\n",
       "    <tr>\n",
       "      <th>4</th>\n",
       "      <td>Kothanur</td>\n",
       "      <td>2</td>\n",
       "      <td>1200</td>\n",
       "      <td>2.0</td>\n",
       "      <td>1.0</td>\n",
       "      <td>51.00</td>\n",
       "    </tr>\n",
       "    <tr>\n",
       "      <th>...</th>\n",
       "      <td>...</td>\n",
       "      <td>...</td>\n",
       "      <td>...</td>\n",
       "      <td>...</td>\n",
       "      <td>...</td>\n",
       "      <td>...</td>\n",
       "    </tr>\n",
       "    <tr>\n",
       "      <th>13315</th>\n",
       "      <td>Whitefield</td>\n",
       "      <td>5</td>\n",
       "      <td>3453</td>\n",
       "      <td>4.0</td>\n",
       "      <td>0.0</td>\n",
       "      <td>231.00</td>\n",
       "    </tr>\n",
       "    <tr>\n",
       "      <th>13316</th>\n",
       "      <td>Richards Town</td>\n",
       "      <td>4</td>\n",
       "      <td>3600</td>\n",
       "      <td>5.0</td>\n",
       "      <td>NaN</td>\n",
       "      <td>400.00</td>\n",
       "    </tr>\n",
       "    <tr>\n",
       "      <th>13317</th>\n",
       "      <td>Raja Rajeshwari Nagar</td>\n",
       "      <td>2</td>\n",
       "      <td>1141</td>\n",
       "      <td>2.0</td>\n",
       "      <td>1.0</td>\n",
       "      <td>60.00</td>\n",
       "    </tr>\n",
       "    <tr>\n",
       "      <th>13318</th>\n",
       "      <td>Padmanabhanagar</td>\n",
       "      <td>4</td>\n",
       "      <td>4689</td>\n",
       "      <td>4.0</td>\n",
       "      <td>1.0</td>\n",
       "      <td>488.00</td>\n",
       "    </tr>\n",
       "    <tr>\n",
       "      <th>13319</th>\n",
       "      <td>Doddathoguru</td>\n",
       "      <td>1</td>\n",
       "      <td>550</td>\n",
       "      <td>1.0</td>\n",
       "      <td>1.0</td>\n",
       "      <td>17.00</td>\n",
       "    </tr>\n",
       "  </tbody>\n",
       "</table>\n",
       "<p>13304 rows × 6 columns</p>\n",
       "</div>"
      ],
      "text/plain": [
       "                       location  size total_sqft  bath  balcony   price\n",
       "0      Electronic City Phase II     2       1056   2.0      1.0   39.07\n",
       "1              Chikka Tirupathi     4       2600   5.0      3.0  120.00\n",
       "2                   Uttarahalli     3       1440   2.0      3.0   62.00\n",
       "3            Lingadheeranahalli     3       1521   3.0      1.0   95.00\n",
       "4                      Kothanur     2       1200   2.0      1.0   51.00\n",
       "...                         ...   ...        ...   ...      ...     ...\n",
       "13315                Whitefield     5       3453   4.0      0.0  231.00\n",
       "13316             Richards Town     4       3600   5.0      NaN  400.00\n",
       "13317     Raja Rajeshwari Nagar     2       1141   2.0      1.0   60.00\n",
       "13318           Padmanabhanagar     4       4689   4.0      1.0  488.00\n",
       "13319              Doddathoguru     1        550   1.0      1.0   17.00\n",
       "\n",
       "[13304 rows x 6 columns]"
      ]
     },
     "execution_count": 6,
     "metadata": {},
     "output_type": "execute_result"
    }
   ],
   "source": [
    "df = df[df['size'] != 0].copy()\n",
    "df"
   ]
  },
  {
   "cell_type": "code",
   "execution_count": 7,
   "id": "0f109e32-42db-460b-a4dd-5157a1297317",
   "metadata": {},
   "outputs": [],
   "source": [
    "# Remove non-numeric characters from 'total_sqft' column\n",
    "df['total_sqft'] = df['total_sqft'].str.replace(r'\\D', '', regex=True)\n",
    "\n",
    "# Convert 'total_sqft' column to integer type\n",
    "df['total_sqft'] = pd.to_numeric(df['total_sqft'], errors='coerce')"
   ]
  },
  {
   "cell_type": "code",
   "execution_count": 8,
   "id": "19ea8534-b81d-4cd3-8a20-8fa4682e1996",
   "metadata": {},
   "outputs": [],
   "source": [
    "df['bath'].replace(np.nan, int(df['bath'].mode()[0]), inplace=True)"
   ]
  },
  {
   "cell_type": "code",
   "execution_count": 9,
   "id": "b6ed73b7-9635-410c-a606-2cd5bc80e142",
   "metadata": {},
   "outputs": [],
   "source": [
    "df['bath'] = df['bath'].astype(int)"
   ]
  },
  {
   "cell_type": "code",
   "execution_count": 10,
   "id": "3856879d-147c-43c0-93fe-3599cfee959c",
   "metadata": {},
   "outputs": [],
   "source": [
    "df['balcony'].replace(np.nan, int(df['balcony'].mode()[0]), inplace=True)\n",
    "df['balcony'] = df['balcony'].astype(int)"
   ]
  },
  {
   "cell_type": "code",
   "execution_count": 11,
   "id": "7055329f-d509-4714-b138-9751dc06ef5a",
   "metadata": {},
   "outputs": [],
   "source": [
    "df['price'] = df['price'].astype(int)"
   ]
  },
  {
   "cell_type": "code",
   "execution_count": 12,
   "id": "441df96b-0f6d-4549-aa71-ad9de59a67f6",
   "metadata": {},
   "outputs": [
    {
     "name": "stdout",
     "output_type": "stream",
     "text": [
      "<class 'pandas.core.frame.DataFrame'>\n",
      "Index: 13304 entries, 0 to 13319\n",
      "Data columns (total 6 columns):\n",
      " #   Column      Non-Null Count  Dtype \n",
      "---  ------      --------------  ----- \n",
      " 0   location    13303 non-null  object\n",
      " 1   size        13304 non-null  int32 \n",
      " 2   total_sqft  13304 non-null  int64 \n",
      " 3   bath        13304 non-null  int32 \n",
      " 4   balcony     13304 non-null  int32 \n",
      " 5   price       13304 non-null  int32 \n",
      "dtypes: int32(4), int64(1), object(1)\n",
      "memory usage: 519.7+ KB\n"
     ]
    }
   ],
   "source": [
    "df.info()"
   ]
  },
  {
   "cell_type": "code",
   "execution_count": 13,
   "id": "22da9026-2100-4960-9f77-20de290398cd",
   "metadata": {},
   "outputs": [],
   "source": [
    "from sklearn.preprocessing import LabelEncoder"
   ]
  },
  {
   "cell_type": "code",
   "execution_count": 14,
   "id": "5b73a1b1-d2c1-4343-b5be-43492fbcbac1",
   "metadata": {},
   "outputs": [],
   "source": [
    "label_encoder = LabelEncoder()\n",
    "df['location_encoded'] = label_encoder.fit_transform(df['location'])"
   ]
  },
  {
   "cell_type": "code",
   "execution_count": 15,
   "id": "1bba9d7b-7189-47ab-98b3-de3d8b56dfcf",
   "metadata": {},
   "outputs": [],
   "source": [
    "df2 = df.copy()"
   ]
  },
  {
   "cell_type": "code",
   "execution_count": 16,
   "id": "56404617-76f6-48bf-acc9-44f652738c7a",
   "metadata": {},
   "outputs": [],
   "source": [
    "df2['location'] = df2['location_encoded']"
   ]
  },
  {
   "cell_type": "code",
   "execution_count": 17,
   "id": "ad9b03a2-f0f3-4137-b2a3-a3231c95916e",
   "metadata": {},
   "outputs": [
    {
     "data": {
      "text/html": [
       "<div>\n",
       "<style scoped>\n",
       "    .dataframe tbody tr th:only-of-type {\n",
       "        vertical-align: middle;\n",
       "    }\n",
       "\n",
       "    .dataframe tbody tr th {\n",
       "        vertical-align: top;\n",
       "    }\n",
       "\n",
       "    .dataframe thead th {\n",
       "        text-align: right;\n",
       "    }\n",
       "</style>\n",
       "<table border=\"1\" class=\"dataframe\">\n",
       "  <thead>\n",
       "    <tr style=\"text-align: right;\">\n",
       "      <th></th>\n",
       "      <th>location</th>\n",
       "      <th>size</th>\n",
       "      <th>total_sqft</th>\n",
       "      <th>bath</th>\n",
       "      <th>balcony</th>\n",
       "      <th>price</th>\n",
       "      <th>location_encoded</th>\n",
       "    </tr>\n",
       "  </thead>\n",
       "  <tbody>\n",
       "    <tr>\n",
       "      <th>0</th>\n",
       "      <td>419</td>\n",
       "      <td>2</td>\n",
       "      <td>1056</td>\n",
       "      <td>2</td>\n",
       "      <td>1</td>\n",
       "      <td>39</td>\n",
       "      <td>419</td>\n",
       "    </tr>\n",
       "    <tr>\n",
       "      <th>1</th>\n",
       "      <td>317</td>\n",
       "      <td>4</td>\n",
       "      <td>2600</td>\n",
       "      <td>5</td>\n",
       "      <td>3</td>\n",
       "      <td>120</td>\n",
       "      <td>317</td>\n",
       "    </tr>\n",
       "    <tr>\n",
       "      <th>2</th>\n",
       "      <td>1178</td>\n",
       "      <td>3</td>\n",
       "      <td>1440</td>\n",
       "      <td>2</td>\n",
       "      <td>3</td>\n",
       "      <td>62</td>\n",
       "      <td>1178</td>\n",
       "    </tr>\n",
       "    <tr>\n",
       "      <th>3</th>\n",
       "      <td>756</td>\n",
       "      <td>3</td>\n",
       "      <td>1521</td>\n",
       "      <td>3</td>\n",
       "      <td>1</td>\n",
       "      <td>95</td>\n",
       "      <td>756</td>\n",
       "    </tr>\n",
       "    <tr>\n",
       "      <th>4</th>\n",
       "      <td>715</td>\n",
       "      <td>2</td>\n",
       "      <td>1200</td>\n",
       "      <td>2</td>\n",
       "      <td>1</td>\n",
       "      <td>51</td>\n",
       "      <td>715</td>\n",
       "    </tr>\n",
       "    <tr>\n",
       "      <th>...</th>\n",
       "      <td>...</td>\n",
       "      <td>...</td>\n",
       "      <td>...</td>\n",
       "      <td>...</td>\n",
       "      <td>...</td>\n",
       "      <td>...</td>\n",
       "      <td>...</td>\n",
       "    </tr>\n",
       "    <tr>\n",
       "      <th>13315</th>\n",
       "      <td>1251</td>\n",
       "      <td>5</td>\n",
       "      <td>3453</td>\n",
       "      <td>4</td>\n",
       "      <td>0</td>\n",
       "      <td>231</td>\n",
       "      <td>1251</td>\n",
       "    </tr>\n",
       "    <tr>\n",
       "      <th>13316</th>\n",
       "      <td>1003</td>\n",
       "      <td>4</td>\n",
       "      <td>3600</td>\n",
       "      <td>5</td>\n",
       "      <td>2</td>\n",
       "      <td>400</td>\n",
       "      <td>1003</td>\n",
       "    </tr>\n",
       "    <tr>\n",
       "      <th>13317</th>\n",
       "      <td>971</td>\n",
       "      <td>2</td>\n",
       "      <td>1141</td>\n",
       "      <td>2</td>\n",
       "      <td>1</td>\n",
       "      <td>60</td>\n",
       "      <td>971</td>\n",
       "    </tr>\n",
       "    <tr>\n",
       "      <th>13318</th>\n",
       "      <td>906</td>\n",
       "      <td>4</td>\n",
       "      <td>4689</td>\n",
       "      <td>4</td>\n",
       "      <td>1</td>\n",
       "      <td>488</td>\n",
       "      <td>906</td>\n",
       "    </tr>\n",
       "    <tr>\n",
       "      <th>13319</th>\n",
       "      <td>396</td>\n",
       "      <td>1</td>\n",
       "      <td>550</td>\n",
       "      <td>1</td>\n",
       "      <td>1</td>\n",
       "      <td>17</td>\n",
       "      <td>396</td>\n",
       "    </tr>\n",
       "  </tbody>\n",
       "</table>\n",
       "<p>13304 rows × 7 columns</p>\n",
       "</div>"
      ],
      "text/plain": [
       "       location  size  total_sqft  bath  balcony  price  location_encoded\n",
       "0           419     2        1056     2        1     39               419\n",
       "1           317     4        2600     5        3    120               317\n",
       "2          1178     3        1440     2        3     62              1178\n",
       "3           756     3        1521     3        1     95               756\n",
       "4           715     2        1200     2        1     51               715\n",
       "...         ...   ...         ...   ...      ...    ...               ...\n",
       "13315      1251     5        3453     4        0    231              1251\n",
       "13316      1003     4        3600     5        2    400              1003\n",
       "13317       971     2        1141     2        1     60               971\n",
       "13318       906     4        4689     4        1    488               906\n",
       "13319       396     1         550     1        1     17               396\n",
       "\n",
       "[13304 rows x 7 columns]"
      ]
     },
     "execution_count": 17,
     "metadata": {},
     "output_type": "execute_result"
    }
   ],
   "source": [
    "df2"
   ]
  },
  {
   "cell_type": "code",
   "execution_count": 18,
   "id": "359ab712-e074-4148-9fad-37975afa2487",
   "metadata": {},
   "outputs": [
    {
     "name": "stdout",
     "output_type": "stream",
     "text": [
      "Encoding Mapping:\n",
      "{' Anekal': 0, ' Banaswadi': 1, ' Basavangudi': 2, ' Bhoganhalli': 3, ' Devarabeesana Halli': 4, ' Devarachikkanahalli': 5, ' Electronic City': 6, ' Mysore Highway': 7, ' Rachenahalli': 8, ' Sector 1 HSR Layout': 9, ' Thanisandra': 10, ' Whitefield': 11, ' ittamadu': 12, ' south': 13, '1 Annasandrapalya': 14, '1 Giri Nagar': 15, '1 Immadihalli': 16, '1 Ramamurthy Nagar': 17, '12th cross srinivas nagar banshankari 3rd stage': 18, '1A Block Koramangala': 19, '1Channasandra': 20, '1Hanuman Nagar': 21, '1Hoysalanagar': 22, '1Kasavanhalli': 23, '1st Block BEL Layout': 24, '1st Block HBR Layout': 25, '1st Block HRBR Layout': 26, '1st Block Jayanagar': 27, '1st Block Koramangala': 28, '1st Phase JP Nagar': 29, '1st Stage Domlur': 30, '1st Stage Indira Nagar': 31, '1st Stage Radha Krishna Layout': 32, '2 Bedroom Furnished Farm House in Kolar Road': 33, '2Electronic City Phase II': 34, '2nd Block Bel Layout': 35, '2nd Block Hbr Layout': 36, '2nd Block Hrbr Layout': 37, '2nd Block Jayanagar': 38, '2nd Block Koramangala': 39, '2nd Phase JP Nagar': 40, '2nd Phase Judicial Layout': 41, '2nd Stage Arekere Mico Layout': 42, '2nd Stage Nagarbhavi': 43, '2nd phase jp nagar, jp nagar': 44, '3rd Block Banashankari': 45, '3rd Block HBR Layout': 46, '3rd Block Hrbr Layout': 47, '3rd Block Jayanagar': 48, '3rd Block Koramangala': 49, '3rd Phase Iti Layout': 50, '3rd Phase JP Nagar': 51, '3rd Stage Raja Rajeshwari Nagar': 52, '4 Bedroom Farm House in Bagalur': 53, '4th Block HBR Layout': 54, '4th Block Jayanagar': 55, '4th Block Koramangala': 56, '4th Phase JP Nagar': 57, '4th T block Jayanagar': 58, '5 Bedroom Farm House in Lakshmipura': 59, '5th Block Hbr Layout': 60, '5th Block Jayanagar': 61, '5th Phase JP Nagar': 62, '5th Stage BEML Layout': 63, '5th block Koramangala': 64, '6th Block Jayanagar': 65, '6th Block Rajaji Nagar': 66, '6th Phase JP Nagar': 67, '6th block Koramangala': 68, '6th block banashankari 3rd stage, 100 feet ORR': 69, '7th Block Jayanagar': 70, '7th Block Koramangala': 71, '7th Phase JP Nagar': 72, '8th Block Jayanagar': 73, '8th Phase JP Nagar': 74, '8th block Koramangala': 75, '9th Block Jayanagar': 76, '9th Phase JP Nagar': 77, 'A Narayanapura': 78, 'AECS LAYOUT A-BLOCK Singasandra': 79, 'AECS Layout': 80, 'AGB Layout': 81, 'AGS Layout': 82, 'AMS Layout': 83, 'Aavalahalli': 84, 'Abbaiah Reddy Layout': 85, 'Abbigere': 86, 'Abshot Layout': 87, 'Achins Road': 88, 'Adarsh Nagar': 89, 'Addischetan Layout': 90, 'Adityanagar': 91, 'Adugodi': 92, 'Agara Village': 93, 'Agrahara Dasarahalli': 94, 'Air View Colony': 95, 'Aishwarya Crystal Layout': 96, 'Akash Nagar': 97, 'Akshaya Nagar': 98, 'Akshaya Vana': 99, 'Akshayanagara East': 100, 'Akshayanagara West': 101, 'Akshya Nagar': 102, 'Alfa Garden Layout': 103, 'Allalasandra': 104, 'Alur': 105, 'Amam Enclave Layout': 106, 'Amarjyothi Colony': 107, 'Ambalipura': 108, 'Ambedkar Colony': 109, 'Ambedkar Nagar': 110, 'Amblipura': 111, 'Amco Colony': 112, 'Amrita Nagar': 113, 'Amruthahalli': 114, 'Amruthnagar': 115, 'Anand Nagar': 116, 'Anand nagar': 117, 'Anandapura': 118, 'Anantapura': 119, 'Anantapuram': 120, 'Ananth Nagar': 121, 'Ananthanagar Phase 1,Electronic City , phase 2': 122, 'Ananthapura, T C palaya Main Road': 123, 'Anathanagar': 124, 'Andrahalli': 125, 'Anekal': 126, 'Anekal - Hosur Road': 127, 'Anjana Nagar': 128, 'Anjanapura': 129, 'Anjappa Layout': 130, 'Ankappa Layout': 131, 'Annaiah Reddy Layout': 132, 'Annapoorneshwari Layout, JP nagar 7th phase': 133, 'Annapurneshwari Nagar': 134, 'Annasandrapalya': 135, 'Anugrah Layout': 136, 'Anwar Layout': 137, 'Arasanakunte': 138, 'Ardendale': 139, 'Arehalli': 140, 'Arekempanahalli': 141, 'Arekere': 142, 'Arishinakunte': 143, 'Ashirvad Colony': 144, 'Ashok Nagar': 145, 'Ashraya Layout': 146, 'Ashwath Nagar': 147, 'Ashwathnagar': 148, 'Ashwini layout': 149, 'Asthagrama Layout': 150, 'Atmananda Colony': 151, 'Attibele': 152, 'Attiguppe': 153, 'Attur Layout': 154, 'Austin Town': 155, 'Avalahalli': 156, 'Ayappa Nagar': 157, 'B Channasandra': 158, 'B K Nagar': 159, 'B Narayanapura': 160, 'B Y Raveshwara Nagar': 161, 'BAGUR': 162, 'BAGUR ROAD': 163, 'BCC Layout': 164, 'BCMC Layout': 165, 'BDS Layout': 166, 'BEL Layout': 167, 'BEL Road': 168, 'BEML Layout': 169, 'BEML Layout 5th Stage': 170, 'BEML Layout 5th stage': 171, 'BHEL Layout': 172, 'BSM Extension': 173, 'BTM 1st Stage': 174, 'BTM 2nd Stage': 175, 'BTM 4th Stage': 176, 'BTM Layout': 177, 'BTM Layout 1stage 9th Main': 178, 'BTM Layout 2nd Stage 1st Phase': 179, 'Baba Nagar': 180, 'Babusapalaya': 181, 'Badavala Nagar': 182, 'Badrappa Layout': 183, 'Bagalakunte': 184, 'Bagalur': 185, 'Bagalur Main Road': 186, 'Bahubali Nagar': 187, 'Balagere': 188, 'Balaji Gardens Layout': 189, 'Balepet': 190, 'Banagiri Nagar': 191, 'Banagirinagar': 192, 'Banasawadi, ': 193, 'Banashankari': 194, 'Banashankari 2 nd Stage': 195, 'Banashankari 2nd Stage': 196, 'Banashankari 3rd stage, Vivekanandanagar': 197, 'Banashankari 6th Stage': 198, 'Banashankari 6th Stage ,Subramanyapura': 199, 'Banashankari 6th stage , 2nd block': 200, 'Banashankari Stage I': 201, 'Banashankari Stage II': 202, 'Banashankari Stage III': 203, 'Banashankari Stage V': 204, 'Banashankari Stage VI': 205, 'Banashankari stage 2': 206, 'Banashankari3rd stage bigbazar': 207, 'Banaswadi': 208, 'Banaswadi, ': 209, 'Bande Nallasandra': 210, 'Bandepalya': 211, 'Banjara Layout': 212, 'Bank Avenue': 213, 'Bank Of Baroda Colony': 214, 'Bannerghatta': 215, 'Bannerghatta Road': 216, 'Bapuji Layout': 217, 'Bapuji Nagar': 218, 'Basapura': 219, 'Basava Nagar': 220, 'Basavanagara': 221, 'Basavanapura': 222, 'Basavangudi': 223, 'Basavanna Nagar': 224, 'Basaveshwara Nagar': 225, 'Basaveshwara Nagar Yelahanka': 226, 'Basaveswarnagar': 227, 'Basnashankari,6th stage,': 228, 'Basvasamithi Layout Vidyaranyapura': 229, 'Battarahalli': 230, 'Begur': 231, 'Begur Road': 232, 'Behind Don Bosco Church': 233, 'Belathur': 234, 'Belatur': 235, 'Bellandur': 236, 'Bellandur, ': 237, 'Bellari Road': 238, 'Beml layout, Rajarajeshwari nagar': 239, 'Bendiganahalli': 240, 'Bennigana Halli': 241, 'Benson Town': 242, 'Bethel Nagar': 243, 'Bettadasanapura': 244, 'Bettahalsoor': 245, 'Bhagyalakshmi Avenue': 246, 'Bharat Nagar': 247, 'Bharath Housing Society Layout': 248, 'Bharathi Nagar': 249, 'Bharathnagar': 250, 'Bhattarahalli': 251, 'Bhoganhalli': 252, 'Bhoopsandra': 253, 'Bhuvaneshwari Nagar': 254, 'Bhuvaneswari Nagar': 255, 'Bidadi': 256, 'Bidere Agarahara, Behind Safal market': 257, 'Bidrahalli': 258, 'Bikasipura': 259, 'Bilal Nagar': 260, 'Bileshivale': 261, 'Billamaranahalli': 262, 'Billapura': 263, 'Billekahalli': 264, 'Binnamangala': 265, 'Binny Mills Employees Colony': 266, 'Binny Pete': 267, 'Bisuvanahalli': 268, 'Bommanahalli': 269, 'Bommasandra': 270, 'Bommasandra Industrial Area': 271, 'Bommenahalli': 272, 'Brigade Road': 273, 'Brindavan Layout': 274, 'Brindavan Nagar': 275, 'Brooke Bond First Cross': 276, 'Brookefield': 277, 'Budigere': 278, 'Bull Temple Road': 279, 'Byadarahalli': 280, 'Byagadadhenahalli': 281, 'Byappanahalli': 282, 'Byatarayanapura': 283, 'Byrasandra': 284, 'Byrasandra Extension': 285, 'Byrathi Village': 286, 'CHIKKATIRUPATHI': 287, 'CMH Road': 288, 'CQAL LAYOUT C BLOCK': 289, 'CQAL Layout': 290, 'CR Layout': 291, 'CV Raman Nagar': 292, 'Cambridge  road': 293, 'Cambridge Layout': 294, 'Canara Bank Colony': 295, 'Canara Bank Layout': 296, 'Carmelaram': 297, 'Celebrity Paradise Layout': 298, 'Chaitanya Ananya': 299, 'Challaghatta': 300, 'Chambenahalli': 301, 'Chamrajpet': 302, 'Chamundi Nagar': 303, 'Chandapura': 304, 'Chandra Layout': 305, 'Channasandra': 306, 'Channasandra Layout': 307, 'Chelekare': 308, 'Chellikere': 309, 'Chennammana Kere': 310, 'Chennammanakere Achukattu': 311, 'Chennappa Layout': 312, 'Chickpet': 313, 'Chikbasavanapura': 314, 'Chikka Banaswadi': 315, 'Chikka Gowdanapalya.': 316, 'Chikka Tirupathi': 317, 'Chikkaballapur': 318, 'Chikkabanavar': 319, 'Chikkabettahalli': 320, 'Chikkabidarakallu': 321, 'Chikkadunnasandra': 322, 'Chikkagubbi': 323, 'Chikkajala': 324, 'Chikkakannalli': 325, 'Chikkalasandra': 326, 'Chikkanahalli': 327, 'Chikkasandra': 328, 'Chikkathoguru': 329, 'Chikku Lakshmaiah Layout': 330, 'Chinnapanahalli': 331, 'Chokkahalli': 332, 'Chokkanahalli': 333, 'Chokkasandra': 334, 'Cholanayakanahalli': 335, 'Choodasandra': 336, 'Chowdeshwari Layout': 337, 'Chuchangatta Colony': 338, 'Church Street': 339, 'Ckikkakammana Halli': 340, 'Classic Paradise Layout': 341, 'Cleveland Town': 342, 'Coconut Garden': 343, 'Coconut Grove Layout': 344, 'Coffee Board Layout': 345, 'Cooke Town': 346, 'Cottonpet': 347, 'Cox Town': 348, 'Craig Park Layout': 349, 'Crimson Layout': 350, 'Cubbon Road': 351, 'Cunningham Road': 352, 'D Group Employees Layout': 353, 'D Souza Layout': 354, 'DUO Layout': 355, 'Daadys Gaarden Layout': 356, 'Dairy Circle': 357, 'Dasanapura': 358, 'Dasappa Layout': 359, 'Dasarahalli': 360, 'Deepanjali Nagar': 361, 'Defence Colony': 362, 'Defence Layout': 363, 'Dena Bank Colony': 364, 'Devanahalli': 365, 'Devanahalli Int. Airport': 366, 'Devanahalli Road': 367, 'Devara Jeevanahalli': 368, 'Devarabeesana Halli': 369, 'Devarabisanahalli': 370, 'Devarachikkanahalli': 371, 'Devasandra Extension': 372, 'Devasthanagalu': 373, 'Devi Nagar': 374, 'Dhanalakshmi Layout': 375, 'Dinnur': 376, 'Divya Unnathi Layout': 377, 'Doctor Layout Rayasandra': 378, 'Doctors Layout': 379, 'Dodda Banaswadi': 380, 'Dodda Kempaiah Layout': 381, 'Dodda Nekkundi': 382, 'Dodda Nekkundi Extension': 383, 'Doddaballapur': 384, 'Doddabanahalli': 385, 'Doddabele': 386, 'Doddabidrakallu': 387, 'Doddabommasandra': 388, 'Doddagubbi': 389, 'Doddakallasandra': 390, 'Doddakammanahalli': 391, 'Doddakannelli': 392, 'Doddanakundi Industrial Area 2': 393, 'Doddanakunte': 394, 'Doddanekundi': 395, 'Doddathoguru': 396, 'Dodsworth Layout': 397, 'Dollar Scheme Colony': 398, 'Dollars Colony': 399, 'Dollars Layout': 400, 'Dominic Layout': 401, 'Domlur': 402, 'Domlur Layout': 403, 'Dommasandra': 404, 'Doopanahalli': 405, 'Dooravani Nagar': 406, 'Double Road': 407, 'Dr Shivarama Karantha Nagar': 408, 'Duddanahalli': 409, 'Duvasapalya': 410, 'Dwaraka Nagar': 411, 'Dwarka Nagar': 412, 'ECC Road, Whitefield, ': 413, 'EPIP AREA, WHITEFIELD': 414, 'EPIP Zone': 415, 'Ejipura': 416, 'Electronic City': 417, 'Electronic City Phase 1, ': 418, 'Electronic City Phase II': 419, 'Electronic city Phase 1, ': 420, 'Electronic city phase 1, ': 421, 'Electronics City Phase 1': 422, 'Escorts Colony': 423, 'Esther Enclave Layout': 424, 'Ex-Servicemen Colony Dinnur Main Road R.T.Nagar': 425, 'Ferrar Nagar': 426, 'Fraser town': 427, 'Frazer Town': 428, 'Friends Colony': 429, 'GB Palya': 430, 'GD Layout': 431, 'GKW Layout': 432, 'GM Palaya': 433, 'Gandhi Bazar': 434, 'Gandhi Nagar': 435, 'Ganesha Block': 436, 'Ganga Nagar': 437, 'Ganga Nagar Extension': 438, 'Ganganahalli': 439, 'Gangondanahalli': 440, 'Garden Layout': 441, 'Garebhavipalya': 442, 'Garudachar Palya': 443, 'Gattahalli': 444, 'Gattigere': 445, 'Gaundanapalya': 446, 'Gaurava Nagar': 447, 'Gayathri Nagar': 448, 'Geddalahalli': 449, 'Geetanjali Layout': 450, 'Geleyara Balaga Layout': 451, 'Gidada Konnenahalli': 452, 'Giri Nagar': 453, 'Gkvk Layout': 454, 'Glass Factory Layout': 455, 'Gnana Bharathi': 456, 'Gokaula Extension': 457, 'Gokula Extension': 458, 'Gollahalli': 459, 'Gollarahatti': 460, 'Gollarapalya Hosahalli': 461, 'Gopal Reddy Layout': 462, 'Gopalapura': 463, 'Gopalkrishna Nagar': 464, 'Goraguntepalya': 465, 'Gottigere': 466, 'Govindapura': 467, 'Govindaraja Nagar Ward': 468, 'Govindpura': 469, 'Govindraja Nagar': 470, 'Gowdanapalya': 471, 'Green Domain Layout': 472, 'Green Garden Layout': 473, 'Green Glen Layout': 474, 'Green View Layout': 475, 'Green Woods Layout': 476, 'Grihalakshmi Layout': 477, 'Gubbalala': 478, 'Gubbi Cross, Hennur Main Road': 479, 'Guddadahalli': 480, 'Gulakamale': 481, 'Gulimangala': 482, 'Guni Agrahara': 483, 'Gunjur': 484, 'Gunjur Palya': 485, 'HAL 2nd Stage': 486, 'HAL 3rd Stage': 487, 'HAL Layout': 488, 'HBR Layout': 489, 'HMT Layout': 490, 'HOSUR MAIN ROAD': 491, 'HOSUR RMAIN ROAD': 492, 'HRBR Layout': 493, 'HSR Layout': 494, 'HSR Layout 7th sector, ': 495, 'Hadosiddapura': 496, 'Hagadur': 497, 'Hal old airport road': 498, 'Halanayakanahalli': 499, 'Hallehalli': 500, 'Handenahalli': 501, 'Hanumagiri': 502, 'Hanuman Nagar': 503, 'Hanumanth Nagar': 504, 'Hanumantha Nagar': 505, 'Haralur Road': 506, 'Haralur Road, ': 507, 'Harappanahalli': 508, 'Harlur': 509, 'Harohalli': 510, 'Harsha Layout': 511, 'Havanur extension': 512, 'Hebbal': 513, 'Hebbal Kempapura': 514, 'Hegde Nagar': 515, 'Hegganahalli': 516, 'Hennagara': 517, 'Hennur': 518, 'Hennur Bande': 519, 'Hennur Busstop': 520, 'Hennur Gardens': 521, 'Hennur Road': 522, 'Herohalli': 523, 'Hessarghatta': 524, 'High grounds': 525, 'Himagiri Meadows': 526, 'Hiremath Layout': 527, 'Hommadevanahalli': 528, 'Hongasandra': 529, 'Hoodi': 530, 'Hoodi Circle, ': 531, 'Hoodi Layout': 532, 'Horamavu Agara': 533, 'Horamavu Banaswadi': 534, 'Hormavu': 535, 'Hosa Road': 536, 'Hosahalli': 537, 'Hosahalli Extension': 538, 'Hosakerehalli': 539, 'Hosakerehalli Layout': 540, 'Hosapalya': 541, 'Hoskote': 542, 'Hoskote near': 543, 'Hosur Road': 544, 'Housing Board Layout Vijay Nagar': 545, 'Howthinarayanappa Garden': 546, 'Hoysalanagar': 547, 'Hsr layout sector3': 548, 'Hulimavu': 549, 'Hullahalli': 550, 'Hunasamaranahalli': 551, 'Huskur': 552, 'Huttanahalli': 553, 'ISRO Layout': 554, 'ITI Employees Layout': 555, 'ITI Layout': 556, 'ITPL': 557, 'Iblur Village': 558, 'Iggalur': 559, 'Ilyas Nagar': 560, 'Immadihalli': 561, 'Indira Nagar': 562, 'Indira Nagar 3rd Stage': 563, 'Indira Nagar Stage 2': 564, 'Indiranagar HAL 2nd Stage': 565, 'Indra Nagar': 566, 'Indranagar  100ft road defence colony': 567, 'Infantry Road': 568, 'Ittamadu': 569, 'J C Nagar': 570, 'J P Nagar 7th Phase Ramayya City': 571, 'J.P.nagar 6th Phase.Sarakki Nagar': 572, 'JCR Layout': 573, 'JP Nagar': 574, 'JP Nagar 7th Phase, ': 575, 'JP Nagar 8th Phase, ': 576, 'JP nagar 9th Phase, ': 577, 'Jagadish Nagar': 578, 'Jagajyothi layout': 579, 'Jai Bheema Nagar': 580, 'Jakkasandra': 581, 'Jakkasandra Extension': 582, 'Jakkur': 583, 'Jakkur Plantation': 584, 'JakkurYelahanka': 585, 'Jakkuru Layout': 586, 'Jaladarsini Layout': 587, 'Jalahalli': 588, 'Jalahalli East': 589, 'Jalahalli West': 590, 'Janatha Colony': 591, 'Jaraganahalli Jp Nagar Post': 592, 'Javarandoddi': 593, 'Jay an agar 4 T Block': 594, 'Jaya Mahal layout': 595, 'Jaya Nagar East': 596, 'Jayamahal': 597, 'Jayamahal Extension': 598, 'Jayanagar': 599, 'Jayanagar, ': 600, 'Jayanti Nagar': 601, 'Jaymahal Road': 602, 'Jeevan bima nagar': 603, 'Jeevanhalli': 604, 'Jigani': 605, 'Jinkethimmanahalli': 606, 'Jnana Ganga Nagar': 607, 'Jnanabharathi Layout': 608, 'Jogupalya': 609, 'Jp nagar 8th Phase .': 610, 'Judicial Layout': 611, 'Judicial Layout, Kanakapura Road, ': 612, 'Junnasandra': 613, 'Jyothi Nagar': 614, 'K G Colony': 615, 'K N Extension': 616, 'K R C kothanur': 617, 'KAMAKIYA': 618, 'KEB Colony': 619, 'KG Halli': 620, 'KHB Colony Extension': 621, 'KPC Layout': 622, 'KR Garden': 623, 'KR Layout': 624, 'KR Puram': 625, 'KSRTC Layout': 626, 'KUDLU MAIN ROAD': 627, 'Kachanayakanahalli': 628, 'Kacharakanahalli': 629, 'Kada Agrahara': 630, 'Kadabagere': 631, 'Kadarenahalli': 632, 'Kadubeesanahalli': 633, 'Kadugodi': 634, 'Kadugondanahalli': 635, 'Kaggadasapura': 636, 'Kaggalipura': 637, 'Kaikondrahalli': 638, 'Kalasipalya': 639, 'Kalena Agrahara': 640, 'Kalhalli': 641, 'Kalkere': 642, 'Kalkere Channasandra': 643, 'Kallumantapa': 644, 'Kalyan nagar': 645, 'Kamakshipalya': 646, 'Kamakya Layout': 647, 'Kamala Nagar': 648, 'Kambipura': 649, 'Kamdhenu Nagar': 650, 'Kammagondahalli': 651, 'Kammanahalli': 652, 'Kammasandra': 653, 'Kanaka Nagar': 654, 'Kanakadasa Layout': 655, 'Kanakapur main road': 656, 'Kanakapura': 657, 'Kanakapura  Rod': 658, 'Kanakapura Main Road': 659, 'Kanakapura Road': 660, 'Kanakapura Road, ': 661, 'Kanakapura main  Road': 662, 'Kanakpura Road': 663, 'Kannamangala': 664, 'Kannur': 665, 'Kariyammana Agrahara': 666, 'Karnataka Shabarimala': 667, 'Karuna Nagar': 668, 'Kasavanhalli': 669, 'Kashi Nagar': 670, 'Kasthuri Nagar East Of NGEF': 671, 'Kasturi Nagar': 672, 'Kathreguppe': 673, 'Kathriguppe': 674, 'Kathriguppe IV Phase': 675, 'Kattigenahalli': 676, 'Kaval Byrasandra': 677, 'Kaverappa Layout': 678, 'Kaveri Nagar': 679, 'Kavika Layout': 680, 'Keerthi Layout': 681, 'Kempapura': 682, 'Kempegowda Nagar': 683, 'Kenchanehalli R R Nagar': 684, 'Kenchenahalli': 685, 'Kenchenhalli': 686, 'Kengeri': 687, 'Kengeri Hobli': 688, 'Kengeri Satellite Town': 689, 'Kengeri Satellite Town ( BDA SITE)': 690, 'Kengeri Satellite Town KHB Apartment': 691, 'Kengeri Satellite Town Stage II': 692, 'Kereguddadahalli': 693, 'Keshava Nagar': 694, 'Kirloskar Layout': 695, 'Kirloskar layout, Basaveshwarnagar': 696, 'Kithaganur': 697, 'Kodanda Reddy Layout': 698, 'Kodathi': 699, 'Kodbisanhalli': 700, 'Kodichikkanahalli': 701, 'Kodigehaali': 702, 'Kodigehalli': 703, 'Kodihalli': 704, 'Kodipalya': 705, 'Kogilu': 706, 'Konanakunte': 707, 'Konanakunte Cross': 708, 'Konappana Agrahara': 709, 'Konena Agrahara': 710, 'Koppa': 711, 'Koramangala': 712, 'Koramangala Industrial Layout': 713, 'Kothannur': 714, 'Kothanur': 715, 'Kothnoor Dinne': 716, 'Kothnur Narayanapura': 717, 'Krishna Nagar': 718, 'Krishna Reddy Layout': 719, 'Kudlu': 720, 'Kudlu Gate': 721, 'Kudlu Village, ': 722, 'Kullappa Colony': 723, 'Kumara Park': 724, 'Kumarapalli': 725, 'Kumaraswami Layout': 726, 'Kumbalgodu': 727, 'Kumbena Agrahara': 728, 'Kumbhena Agrahara': 729, 'Kundalahalli': 730, 'Kundalahalli Colony': 731, 'Kurubarahalli': 732, 'Kuvempu Layout': 733, 'Kuvempu Nagar': 734, 'Kyalasanahalli': 735, 'LB Shastri Nagar': 736, 'LIC Colony': 737, 'Laggere': 738, 'Lake City': 739, 'Lakkasandra': 740, 'Lakkasandra Extension': 741, 'Lakshmi Layout': 742, 'Lakshmiamma Garden': 743, 'Lakshminarayana Pura': 744, 'Lakshminarayanapura, Electronic City Phase 2': 745, 'Lakshmipura': 746, 'Lakshmipura Vidyaanyapura': 747, 'Lal Bahadur Shastri Nagar': 748, 'Lalbagh Road': 749, 'Langford Gardens': 750, 'Langford Town': 751, 'Lavakusha Nagar': 752, 'Lavelle Road': 753, 'Laxmi Sagar Layout': 754, 'Laxminarayana Layout': 755, 'Lingadheeranahalli': 756, 'Lingarajapuram': 757, 'Lottegolla Halli': 758, 'M C Layout': 759, 'M V Extenstion': 760, 'M.G Road': 761, 'MCECHS  layout': 762, 'MEI layout, Bagalgunte': 763, 'MLA Layout': 764, 'MM Layout': 765, 'MRCR Layout': 766, 'MS Pallya': 767, 'Madanayakahalli': 768, 'Madavara': 769, 'Madiwala': 770, 'Magadi Road': 771, 'Mahadevpura': 772, 'Mahaganapathy Nagar': 773, 'Mahalakshmi Layout': 774, 'Mahalakshmi Puram': 775, 'Maheswari Nagar': 776, 'Mailasandra': 777, 'Maithri Layout': 778, 'Makali': 779, 'Malimakanapura': 780, 'Mallappa Layout': 781, 'Mallasandra': 782, 'Mallathahalli': 783, 'Malleshpalya': 784, 'Malleshwaram': 785, 'Malur Hosur Road': 786, 'Manayata Tech Park': 787, 'Mangammanapalya': 788, 'Manganahalli': 789, 'Mango Garden Layout': 790, 'Manjunath Nagar': 791, 'Manjunatha Layout': 792, 'Manonarayanapalya': 793, 'Manorayana Palya': 794, 'Maragondana Halli, kr puram, old madras road': 795, 'Maragondanahalli': 796, 'Marasandra': 797, 'Marathahalli': 798, 'Marathalli bridge': 799, 'Marathi Layout': 800, 'Marenahalli': 801, 'Margondanahalli': 802, 'Mariyannapalya': 803, 'Marsur': 804, 'Maruthi Extension': 805, 'Maruthi HBCS Layout': 806, 'Maruthi Layout': 807, 'Maruthi Nagar': 808, 'Maruthi Sevanagar': 809, 'Maruthi nagar kogilu': 810, 'Masjid e Alkareem': 811, 'Mathikere': 812, 'Mathikere Extension': 813, 'Mathikere SBM colony': 814, 'Medahalli': 815, 'Medaralli': 816, 'Medi Agrahara': 817, 'Meenakshi Layout': 818, 'Meenakunte': 819, 'Michael Palaya': 820, 'Mico Layout': 821, 'Milk Colony': 822, 'Millers Road': 823, 'Moodalapalya': 824, 'Motappa Layout': 825, 'Mudalpalaya': 826, 'Mukkutam Nagar': 827, 'Mullur': 828, 'Muneshwara Nagar': 829, 'Munivenkatppa Layout': 830, 'Munnekollal': 831, 'Murugeshpalya': 832, 'Muthurayya Swamy Layout': 833, 'Muthyala Nagar': 834, 'Mylasandra': 835, 'Mysore Road': 836, 'N R Layout': 837, 'NGR Layout': 838, 'NR Colony': 839, 'NRI Layout': 840, 'NS Palya': 841, 'NTI Layout': 842, 'Nagadevanahalli': 843, 'Naganathapura': 844, 'Nagappa Reddy Layout': 845, 'Nagaraja Garden': 846, 'Nagarbhavi': 847, 'Nagarbhavi  BDA Complex': 848, 'Nagarbhavi Garden Villas Layout': 849, 'Nagasandra': 850, 'Nagashetty Halli': 851, 'Nagavara': 852, 'Nagavarapalya': 853, 'Nagawara Junction': 854, 'Nagondanahalli': 855, 'Naidu Layout': 856, 'Nallurhalli': 857, 'Nandi Durga Road': 858, 'Nandi Hills': 859, 'Nandini Layout': 860, 'Nanjappa Garden': 861, 'Nanjappa Layout': 862, 'Nanjappa Layout Vidyaranyapura': 863, 'Narasapura': 864, 'Narayana Nagar 1st Block': 865, 'Narayanappa Garden': 866, 'Narayanappa Layout': 867, 'Narayanapura': 868, 'Navodaya Nagar': 869, 'Nayandanahalli': 870, 'Ncpr Industrial Layout': 871, 'Near Electronic City, ': 872, 'Near International Airport': 873, 'Near ullas theater': 874, 'Neeladri Nagar': 875, 'Neelamangala': 876, 'Neelasandra': 877, 'Nehru Nagar': 878, 'Nelamangala': 879, 'New Gurappana Palya': 880, 'New Thippasandra': 881, 'Ngef Layout': 882, 'Nirman Layout': 883, 'Nobo Nagar': 884, 'Nrupathunga Nagar': 885, 'Nyanappana Halli': 886, 'OLd Gurappanapalya': 887, 'OMBR Layout': 888, 'Off Bannergatta Road': 889, 'Off Bannergatta road': 890, 'Off Sarjapur Road, ': 891, 'Off Sarjapur road, ': 892, 'Okalipura': 893, 'Old Airport Road': 894, 'Old Madras Road': 895, 'Old Mangammanapalya Road': 896, 'Old Town': 897, 'Omarbagh Layout': 898, 'Omkar Nagar': 899, 'Outer Ring Road East': 900, 'P Krishnappa Layout': 901, 'P&T Colony': 902, 'P&T Layout': 903, 'PC Palaya': 904, 'PNS Layout': 905, 'Padmanabhanagar': 906, 'Pai Layout': 907, 'Pai layout , Mahadevapura': 908, 'Palace Guttahalli': 909, 'Palace Road': 910, 'Palanahalli': 911, 'Pampa Extension': 912, 'Panathur': 913, 'Panathur Road, ': 914, 'Panduranga Nagar': 915, 'Papareddipalya': 916, 'Parappana Agrahara': 917, 'Park View Layout': 918, 'Patelappa Layout': 919, 'Pattanagere': 920, 'Pattandur Agrahara': 921, 'Pattegarhpalya': 922, 'Peenya': 923, 'Phase 1 Kammasandra': 924, 'Pillahalli': 925, 'Pillanna Gardens': 926, 'Poorna Pragna Layout': 927, 'Poornapragna Housing Society Layout': 928, 'Popular Colony': 929, 'Postal Colony': 930, 'Pragathi Nagar': 931, 'Prakash Nagar': 932, 'Prakruthi Nagar': 933, 'Prakruthi Township': 934, 'Prasanna layout Herohalli': 935, 'Prasanth Extension': 936, 'Prasanti Nagar': 937, 'Prashanth Nagar': 938, 'Prestige Sunrise': 939, 'Prithvi Layout': 940, 'Pulikeshi Nagar': 941, 'Pulkeshi Nagar': 942, 'Punappa Layout': 943, 'Puttanahalli': 944, 'Puttappa Layout': 945, 'Queens Road': 946, 'R.T. Nagar': 947, 'RBI Layout': 948, 'RK Colony': 949, 'RK Layout 2nd Stage': 950, 'RMC YARD': 951, 'RMV': 952, 'RMV 2nd Stage': 953, 'RMV Extension': 954, 'RMV Extension Stage 2': 955, 'RMV extension stage 2, rmv extension': 956, 'RPC layout': 957, 'RR Layout': 958, 'RR Nagar': 959, 'RTO ullalu': 960, 'RWF West Colony': 961, 'Race Course Road': 962, 'Rachenahalli': 963, 'Raghavendra Layout': 964, 'Raghavendra Nagar': 965, 'Raghuvanahalli': 966, 'Rahat Bagh': 967, 'Rahmath Nagar': 968, 'Rainbow Drive': 969, 'Raja Rajashweri Nagar': 970, 'Raja Rajeshwari Nagar': 971, 'Raja Rajeshwari Nagar 5th Stage': 972, 'Raja Rajeshwari Nagara': 973, 'Rajagopala Nagar': 974, 'Rajaji Nagar': 975, 'Rajankunte': 976, 'Rajanna Layout': 977, 'Rajapura': 978, 'Rajarajesheari nagar': 979, 'Rajarajeshwari Nagara': 980, 'Rajarajeshwari nagar': 981, 'Rajarajeshwarinagar': 982, 'Rajasree Layout': 983, 'Rajiv Gandhi Nagar': 984, 'Rajiv Nagar': 985, 'Ramagondanahalli': 986, 'Ramakrishnappa Layout': 987, 'Ramamohanapuram': 988, 'Ramamurthy Nagar': 989, 'Ramamurthy Nagar Extension': 990, 'Ramanagara Channapatna': 991, 'Ramanashree Enclave': 992, 'Ramanjaneyanagar': 993, 'Ramaswamy Palya - Kammanahalli Main Road': 994, 'Ramchandrapuram': 995, 'Ramesh Nagar': 996, 'Rammana Layout': 997, 'Rayasandra': 998, 'Reliaable Tranquil Layout': 999, 'Reliable Woods Layout': 1000, 'Remco Bhel Layout': 1001, 'Rest House Road': 1002, 'Richards Town': 1003, 'Richmond Road': 1004, 'Richmond Town': 1005, 'Ring Road Nagarbhavi': 1006, 'Roopena Agrahara': 1007, 'Rukmaiah Layout': 1008, 'Rustam Bagh Layout': 1009, 'S R Layout': 1010, 'SARJAPUR BAGALUR ROAD': 1011, 'SBM Colony': 1012, 'SHANTHINAGAR': 1013, 'SK Garden': 1014, 'SMV layout': 1015, 'SRINIVASAPURA': 1016, 'Sabari Nagar': 1017, 'Sadahalli': 1018, 'Sadanand Nagar': 1019, 'Sadaramangala': 1020, 'Sadashiva Nagar': 1021, 'Sadduguntepalya': 1022, 'Sadhguru Layout': 1023, 'Sahakara Nagar': 1024, 'Sahyadri Layout': 1025, 'Sai Gardens': 1026, 'Samethanahalli': 1027, 'Sampangi Rama Nagar': 1028, 'Sampangirama Nagar': 1029, 'Sampige Layout': 1030, 'Sampigehalli': 1031, 'Sanjay nagar': 1032, 'Sanjeevini Nagar': 1033, 'Sanne Amanikere': 1034, 'Saptagiri Layout': 1035, 'Sarakki Nagar': 1036, 'Sarjapur': 1037, 'Sarjapur  Road': 1038, 'Sarjapur Road, ': 1039, 'Sarjapura - Attibele Road': 1040, 'Sarvabhouma Nagar': 1041, 'Sarvobhogam Nagar': 1042, 'Sathanur': 1043, 'Sathya Layout': 1044, 'Sathya Sai Layout': 1045, 'Satyasaibaba Layout': 1046, 'Sector 1 HSR Layout': 1047, 'Sector 2 HSR Layout': 1048, 'Sector 3 HSR Layout': 1049, 'Sector 4 HSR Layout': 1050, 'Sector 6 HSR Layout': 1051, 'Sector 7 HSR Layout': 1052, 'Seegehalli': 1053, 'Seethappa Layout': 1054, 'Seetharampalya': 1055, 'Seshadripuram': 1056, 'Shakthi Nagar': 1057, 'Shampura': 1058, 'Shankarapuram': 1059, 'Shanthala Nagar': 1060, 'Shanthi Layout': 1061, 'Shanthi Pura': 1062, 'Shanti Nagar': 1063, 'Shantiniketan Layout': 1064, 'Shauhardha Layout': 1065, 'Shettigere': 1066, 'Shettihalli': 1067, 'Shetty Halli': 1068, 'Shikaripalya': 1069, 'Shingapura': 1070, 'Shirdi Sai Layout': 1071, 'Shirdi Sai Nagar': 1072, 'Shivaji Nagar': 1073, 'Shivanagar': 1074, 'Shree Ananth Nagar Layout': 1075, 'Siddapura': 1076, 'Sidedahalli': 1077, 'Silk Board': 1078, 'Silver Springs Layout': 1079, 'Sindhi Colony': 1080, 'Singanayakanahalli': 1081, 'Singapura Village': 1082, 'Singasandra': 1083, 'Singena Agrahara': 1084, 'Sir M V Nagar': 1085, 'Sneha Colony': 1086, 'Somanna Garden': 1087, 'Somasundara Palya': 1088, 'Someshwara Layout': 1089, 'Sompura': 1090, 'Sonam Layout': 1091, 'Sonnenahalli': 1092, 'Soppahalli': 1093, 'Soundarya Layout': 1094, 'Sree Narayana Nagar': 1095, 'Sri Balaji Krupa Layout': 1096, 'Sri Kanteshwara Nagar': 1097, 'Sri Sai Layout': 1098, 'Sri Venkateshpura Layout': 1099, 'Srigandada Kaval': 1100, 'Srinagar': 1101, 'Srinivas Colony': 1102, 'Srinivasa Nagar': 1103, 'Srirampura': 1104, 'Srirampuram': 1105, 'St Thomas Town': 1106, \"St. John's Road\": 1107, 'Stage-4 Bommanahalli': 1108, 'Subash Nagar': 1109, 'Subbannaiah Palya': 1110, 'Subhash Nagar': 1111, 'Subramanya Nagar': 1112, 'Subramanyanagar': 1113, 'Subramanyapura': 1114, 'Suddaguntepalya': 1115, 'Sugama Layout': 1116, 'Sultan Palaya': 1117, 'Sulthangunta': 1118, 'Sundar Ram Shetty Nagar': 1119, 'Sundara Nagar': 1120, 'Sunder Ram Shetty Nagar': 1121, 'Sunkadakatte': 1122, 'Sunkan palya': 1123, 'Surabhi Layout': 1124, 'Suragajakkanahalli': 1125, 'Suraksha Nagar': 1126, 'Suryanagar': 1127, 'Syndicate Bank Colony': 1128, 'T C Palya main Road': 1129, 'T Dasarahalli': 1130, 'T G extension': 1131, 'T K Reddy Layout': 1132, 'T R Mill Road': 1133, 'T c palya': 1134, 'T.C PALYA': 1135, 'T.C. Palya': 1136, 'TC Palaya': 1137, 'TR Mill Road, Chamarajpet': 1138, 'Tala Cauvery Layout': 1139, 'Talaghattapura': 1140, 'Tasker Town': 1141, 'Tata Nagar': 1142, 'Tavarekere': 1143, 'Teachers Colony': 1144, 'Tejaswini Nagar': 1145, 'Telecom Layout': 1146, 'Thanisandra': 1147, 'Thanisandra Main Road, ': 1148, 'Thanisandra main road': 1149, 'Tharabanahalli': 1150, 'Thavarekere': 1151, 'Thigalarapalya': 1152, 'Thippasandra': 1153, 'Thirumalashettyhally': 1154, 'Thirumenahalli': 1155, 'Thirupalya': 1156, 'Thomas Town': 1157, 'Thubarahalli': 1158, 'Thurahalli': 1159, 'Thyagaraja Nagar': 1160, 'Thyagraj Nagar': 1161, 'Tigalarpalya': 1162, 'Tilak Nagar': 1163, 'Tindlu': 1164, 'Tippenahalli': 1165, 'Tirumanahalli': 1166, 'Tumkur Road': 1167, 'Tunganagara': 1168, 'Uday Nagar': 1169, 'Udaya Nagar': 1170, 'Udayagiri': 1171, 'Udayapur Village': 1172, 'Ullal Road': 1173, 'Ullal Uppanagar': 1174, 'Ulsoor': 1175, 'Upadhyaya Layout': 1176, 'Upkar Layout': 1177, 'Uttarahalli': 1178, 'Uvce Layout': 1179, 'V.V Puram': 1180, 'VGP Layout': 1181, 'VHBCS Layout': 1182, 'Vadarpalya': 1183, 'Vaderahalli': 1184, 'Vaishnavi Layout': 1185, 'Vajarahalli': 1186, 'Varanasi': 1187, 'Varsova Layout': 1188, 'Varthur': 1189, 'Varthur Road': 1190, 'Varthur Road, ': 1191, 'Vasantapura main road': 1192, 'Vasanth nagar': 1193, 'Vasantha Vallabha Nagar': 1194, 'Vasanthapura': 1195, 'Vasanthpura': 1196, 'Vasatha Vallbha Nagar': 1197, 'Vayunandana Layout': 1198, 'Veer Sandra': 1199, 'Veerabhadra Nagar': 1200, 'Veerannapalya': 1201, 'Veersandra': 1202, 'Venkatadri Layout': 1203, 'Venkatapura': 1204, 'Venkateshpuram': 1205, 'Venkateswara Nagar': 1206, 'Venugopal Reddy Layout': 1207, 'Versova Layout': 1208, 'Vibhutipura Extension': 1209, 'Vibuthipura': 1210, 'Victoria Layout': 1211, 'Vidhyanagar Cross': 1212, 'Vidya Nagar': 1213, 'Vidyapeeta': 1214, 'Vidyaranyapura': 1215, 'Vignana Nagar': 1216, 'Vijay Nagar': 1217, 'Vijaya Bank Colony': 1218, 'Vijaya Bank Layout': 1219, 'Vijayabank bank layout': 1220, 'Vijayanagar': 1221, 'Vijaypura': 1222, 'Vijinapura': 1223, 'Vikram Nagar': 1224, 'Vimanapura': 1225, 'Vinayak Nagar': 1226, 'Vinayaka Layout': 1227, 'Vinayaka Nagar': 1228, 'Virat Nagar': 1229, 'Virgonagar': 1230, 'Virudhu Nagar': 1231, 'Virupakshapura': 1232, 'Vishveshwarya Layout': 1233, 'Vishwanatha Nagenahalli': 1234, 'Vishwapriya Layout': 1235, 'Vishwapriya Nagar': 1236, 'Viswajit Layout': 1237, 'Viswapriyanagar.begur Road.bommanahalli.': 1238, 'Vittal Mallya Road': 1239, 'Vittal Nagar': 1240, 'Vittasandra': 1241, 'Vivek Nagar': 1242, 'Viviani Road': 1243, 'Volagerekallahalli': 1244, 'Vyalikaval': 1245, 'Wajid layout thanisandra': 1246, 'Weavers Colony': 1247, 'West of Chord Road': 1248, 'Wheelers Road': 1249, 'Whietfield, ': 1250, 'Whitefield': 1251, 'Whitefield ECC Road': 1252, 'Whitefield, ': 1253, 'Williams Town': 1254, 'Wilson Garden': 1255, 'Xavier Layout': 1256, 'Yarandahalli': 1257, 'Yediyur': 1258, 'Yelachenahalli': 1259, 'Yelahanka': 1260, 'Yelahanka New Town': 1261, 'Yelahanka,MVIT college': 1262, 'Yelenahalli': 1263, 'Yemlur': 1264, 'Yemlur, Old Airport Road, ': 1265, 'Yeshwanthpur': 1266, 'Yeshwanthpur Industrial Suburb': 1267, 'Zuzuvadi': 1268, 'adigondanhalli': 1269, 'akshaya nagar t c palya': 1270, 'anjananager magdi road': 1271, 'arudi': 1272, 'asha township, off hennur road': 1273, 'banashankari stage iii sa': 1274, 'basaveshwarnagar': 1275, 'beml layout, basaveshwara nagar': 1276, 'bsk 6th stage 2ad block near sri conversation hall': 1277, 'cooketown': 1278, 'elachenahalli': 1279, 'frazertown': 1280, 'kadubisnahalli': 1281, 'kamanahalli main road': 1282, 'kanakapura main road': 1283, 'kanakapura road': 1284, 'kg halli jalhalli west': 1285, 'manyata': 1286, 'manyata park': 1287, 'manyata tech park': 1288, 'mvj engineering college': 1289, 'near Ramanashree California resort': 1290, 'pavitra paradise': 1291, 'poornaprajna layout': 1292, 'ravindra nagar, T.dasarahalli peenya': 1293, 'rr nagar': 1294, 'sankeswari': 1295, 'sapthagiri Layout': 1296, 'sarjapura main road': 1297, 'singapura paradise': 1298, 't.c palya': 1299, 'tc.palya': 1300, 'vinayakanagar': 1301, 'white field,kadugodi': 1302, 'whitefiled': 1303, nan: 1304}\n"
     ]
    }
   ],
   "source": [
    "# Get the mapping between original categorical values and encoded numerical labels\n",
    "label_mapping = dict(zip(label_encoder.classes_, label_encoder.transform(label_encoder.classes_)))\n",
    "\n",
    "print(\"Encoding Mapping:\")\n",
    "print(label_mapping)"
   ]
  },
  {
   "cell_type": "code",
   "execution_count": 19,
   "id": "3b0b9331-9399-4ec6-8c6b-e890bea3bcc4",
   "metadata": {},
   "outputs": [],
   "source": [
    "df2.drop('location_encoded', axis=1, inplace=True)"
   ]
  },
  {
   "cell_type": "code",
   "execution_count": 20,
   "id": "71e137a7-cd06-4b87-b979-0d82dfe90f77",
   "metadata": {},
   "outputs": [
    {
     "name": "stdout",
     "output_type": "stream",
     "text": [
      "<class 'pandas.core.frame.DataFrame'>\n",
      "Index: 13304 entries, 0 to 13319\n",
      "Data columns (total 6 columns):\n",
      " #   Column      Non-Null Count  Dtype\n",
      "---  ------      --------------  -----\n",
      " 0   location    13304 non-null  int32\n",
      " 1   size        13304 non-null  int32\n",
      " 2   total_sqft  13304 non-null  int64\n",
      " 3   bath        13304 non-null  int32\n",
      " 4   balcony     13304 non-null  int32\n",
      " 5   price       13304 non-null  int32\n",
      "dtypes: int32(5), int64(1)\n",
      "memory usage: 467.7 KB\n"
     ]
    }
   ],
   "source": [
    "df2.info()"
   ]
  },
  {
   "cell_type": "code",
   "execution_count": 21,
   "id": "eac5ba6d-47e5-42ab-ac40-1687ab603c0e",
   "metadata": {},
   "outputs": [
    {
     "data": {
      "text/html": [
       "<div>\n",
       "<style scoped>\n",
       "    .dataframe tbody tr th:only-of-type {\n",
       "        vertical-align: middle;\n",
       "    }\n",
       "\n",
       "    .dataframe tbody tr th {\n",
       "        vertical-align: top;\n",
       "    }\n",
       "\n",
       "    .dataframe thead th {\n",
       "        text-align: right;\n",
       "    }\n",
       "</style>\n",
       "<table border=\"1\" class=\"dataframe\">\n",
       "  <thead>\n",
       "    <tr style=\"text-align: right;\">\n",
       "      <th></th>\n",
       "      <th>location</th>\n",
       "      <th>size</th>\n",
       "      <th>total_sqft</th>\n",
       "      <th>bath</th>\n",
       "      <th>balcony</th>\n",
       "      <th>price</th>\n",
       "    </tr>\n",
       "  </thead>\n",
       "  <tbody>\n",
       "    <tr>\n",
       "      <th>0</th>\n",
       "      <td>419</td>\n",
       "      <td>2</td>\n",
       "      <td>1056</td>\n",
       "      <td>2</td>\n",
       "      <td>1</td>\n",
       "      <td>39</td>\n",
       "    </tr>\n",
       "    <tr>\n",
       "      <th>1</th>\n",
       "      <td>317</td>\n",
       "      <td>4</td>\n",
       "      <td>2600</td>\n",
       "      <td>5</td>\n",
       "      <td>3</td>\n",
       "      <td>120</td>\n",
       "    </tr>\n",
       "    <tr>\n",
       "      <th>2</th>\n",
       "      <td>1178</td>\n",
       "      <td>3</td>\n",
       "      <td>1440</td>\n",
       "      <td>2</td>\n",
       "      <td>3</td>\n",
       "      <td>62</td>\n",
       "    </tr>\n",
       "    <tr>\n",
       "      <th>3</th>\n",
       "      <td>756</td>\n",
       "      <td>3</td>\n",
       "      <td>1521</td>\n",
       "      <td>3</td>\n",
       "      <td>1</td>\n",
       "      <td>95</td>\n",
       "    </tr>\n",
       "    <tr>\n",
       "      <th>4</th>\n",
       "      <td>715</td>\n",
       "      <td>2</td>\n",
       "      <td>1200</td>\n",
       "      <td>2</td>\n",
       "      <td>1</td>\n",
       "      <td>51</td>\n",
       "    </tr>\n",
       "    <tr>\n",
       "      <th>...</th>\n",
       "      <td>...</td>\n",
       "      <td>...</td>\n",
       "      <td>...</td>\n",
       "      <td>...</td>\n",
       "      <td>...</td>\n",
       "      <td>...</td>\n",
       "    </tr>\n",
       "    <tr>\n",
       "      <th>13315</th>\n",
       "      <td>1251</td>\n",
       "      <td>5</td>\n",
       "      <td>3453</td>\n",
       "      <td>4</td>\n",
       "      <td>0</td>\n",
       "      <td>231</td>\n",
       "    </tr>\n",
       "    <tr>\n",
       "      <th>13316</th>\n",
       "      <td>1003</td>\n",
       "      <td>4</td>\n",
       "      <td>3600</td>\n",
       "      <td>5</td>\n",
       "      <td>2</td>\n",
       "      <td>400</td>\n",
       "    </tr>\n",
       "    <tr>\n",
       "      <th>13317</th>\n",
       "      <td>971</td>\n",
       "      <td>2</td>\n",
       "      <td>1141</td>\n",
       "      <td>2</td>\n",
       "      <td>1</td>\n",
       "      <td>60</td>\n",
       "    </tr>\n",
       "    <tr>\n",
       "      <th>13318</th>\n",
       "      <td>906</td>\n",
       "      <td>4</td>\n",
       "      <td>4689</td>\n",
       "      <td>4</td>\n",
       "      <td>1</td>\n",
       "      <td>488</td>\n",
       "    </tr>\n",
       "    <tr>\n",
       "      <th>13319</th>\n",
       "      <td>396</td>\n",
       "      <td>1</td>\n",
       "      <td>550</td>\n",
       "      <td>1</td>\n",
       "      <td>1</td>\n",
       "      <td>17</td>\n",
       "    </tr>\n",
       "  </tbody>\n",
       "</table>\n",
       "<p>13304 rows × 6 columns</p>\n",
       "</div>"
      ],
      "text/plain": [
       "       location  size  total_sqft  bath  balcony  price\n",
       "0           419     2        1056     2        1     39\n",
       "1           317     4        2600     5        3    120\n",
       "2          1178     3        1440     2        3     62\n",
       "3           756     3        1521     3        1     95\n",
       "4           715     2        1200     2        1     51\n",
       "...         ...   ...         ...   ...      ...    ...\n",
       "13315      1251     5        3453     4        0    231\n",
       "13316      1003     4        3600     5        2    400\n",
       "13317       971     2        1141     2        1     60\n",
       "13318       906     4        4689     4        1    488\n",
       "13319       396     1         550     1        1     17\n",
       "\n",
       "[13304 rows x 6 columns]"
      ]
     },
     "execution_count": 21,
     "metadata": {},
     "output_type": "execute_result"
    }
   ],
   "source": [
    "df2"
   ]
  },
  {
   "cell_type": "code",
   "execution_count": 22,
   "id": "48d2144f-fd47-4bb9-a033-1641fbd1b435",
   "metadata": {},
   "outputs": [],
   "source": [
    "minimum,Q1,median,Q3,maximum=np.quantile(df2['size'], [0,0.25,0.50,0.75,1.0])"
   ]
  },
  {
   "cell_type": "code",
   "execution_count": 23,
   "id": "ed261d28-5756-48f2-bbda-e1ee3e18679b",
   "metadata": {},
   "outputs": [
    {
     "name": "stdout",
     "output_type": "stream",
     "text": [
      "0.5 4.5\n"
     ]
    }
   ],
   "source": [
    "IQR = Q3-Q1\n",
    "lower_fence=Q1-1.5*(IQR)\n",
    "higher_fence=Q3+1.5*(IQR)\n",
    "print(lower_fence, higher_fence)"
   ]
  },
  {
   "cell_type": "code",
   "execution_count": 24,
   "id": "462735e1-9ac5-416d-9b51-545f4c00e5a1",
   "metadata": {},
   "outputs": [],
   "source": [
    "df2 = df2[df2['size'] < 5]"
   ]
  },
  {
   "cell_type": "code",
   "execution_count": 25,
   "id": "2afd0233-9c99-4b01-a3e1-654d2a653a38",
   "metadata": {},
   "outputs": [
    {
     "name": "stdout",
     "output_type": "stream",
     "text": [
      "237.5 2537.5\n"
     ]
    }
   ],
   "source": [
    "minimum,Q1,median,Q3,maximum=np.quantile(df2['total_sqft'], [0,0.25,0.50,0.75,1.0])\n",
    "IQR = Q3-Q1\n",
    "lower_fence=Q1-1.5*(IQR)\n",
    "higher_fence=Q3+1.5*(IQR)\n",
    "print(lower_fence, higher_fence)"
   ]
  },
  {
   "cell_type": "code",
   "execution_count": 26,
   "id": "cfc08562-c12a-459c-96da-3828ff92deee",
   "metadata": {},
   "outputs": [],
   "source": [
    "df2 = df2[(df2['total_sqft'] > 230) & (df2['total_sqft'] < 2600)]"
   ]
  },
  {
   "cell_type": "code",
   "execution_count": 27,
   "id": "adc0ba27-962e-460f-8a82-e35a1aa139e5",
   "metadata": {},
   "outputs": [
    {
     "name": "stdout",
     "output_type": "stream",
     "text": [
      "0.5 4.5\n"
     ]
    }
   ],
   "source": [
    "minimum,Q1,median,Q3,maximum=np.quantile(df2['bath'], [0,0.25,0.50,0.75,1.0])\n",
    "IQR = Q3-Q1\n",
    "lower_fence=Q1-1.5*(IQR)\n",
    "higher_fence=Q3+1.5*(IQR)\n",
    "print(lower_fence, higher_fence)"
   ]
  },
  {
   "cell_type": "code",
   "execution_count": 28,
   "id": "37901557-a20e-4a76-a87a-b0a9d35e38a4",
   "metadata": {},
   "outputs": [],
   "source": [
    "df2 = df2[df2['bath'] < 5]"
   ]
  },
  {
   "cell_type": "code",
   "execution_count": 29,
   "id": "1b2d49e9-edf2-4337-9539-699acd0007d7",
   "metadata": {},
   "outputs": [
    {
     "name": "stdout",
     "output_type": "stream",
     "text": [
      "-0.5 3.5\n"
     ]
    }
   ],
   "source": [
    "minimum,Q1,median,Q3,maximum=np.quantile(df2['balcony'], [0,0.25,0.50,0.75,1.0])\n",
    "IQR = Q3-Q1\n",
    "lower_fence=Q1-1.5*(IQR)\n",
    "higher_fence=Q3+1.5*(IQR)\n",
    "print(lower_fence, higher_fence)"
   ]
  },
  {
   "cell_type": "code",
   "execution_count": 30,
   "id": "de2fdce2-8877-4f0a-b443-14e973ceb1d2",
   "metadata": {},
   "outputs": [],
   "source": [
    "df2 = df2[df2['balcony'] < 4]"
   ]
  },
  {
   "cell_type": "code",
   "execution_count": 31,
   "id": "44d53aea-7763-4d65-9f16-e736fdf0a4e0",
   "metadata": {},
   "outputs": [
    {
     "data": {
      "text/html": [
       "<div>\n",
       "<style scoped>\n",
       "    .dataframe tbody tr th:only-of-type {\n",
       "        vertical-align: middle;\n",
       "    }\n",
       "\n",
       "    .dataframe tbody tr th {\n",
       "        vertical-align: top;\n",
       "    }\n",
       "\n",
       "    .dataframe thead th {\n",
       "        text-align: right;\n",
       "    }\n",
       "</style>\n",
       "<table border=\"1\" class=\"dataframe\">\n",
       "  <thead>\n",
       "    <tr style=\"text-align: right;\">\n",
       "      <th></th>\n",
       "      <th>location</th>\n",
       "      <th>size</th>\n",
       "      <th>total_sqft</th>\n",
       "      <th>bath</th>\n",
       "      <th>balcony</th>\n",
       "      <th>price</th>\n",
       "    </tr>\n",
       "  </thead>\n",
       "  <tbody>\n",
       "    <tr>\n",
       "      <th>0</th>\n",
       "      <td>419</td>\n",
       "      <td>2</td>\n",
       "      <td>1056</td>\n",
       "      <td>2</td>\n",
       "      <td>1</td>\n",
       "      <td>39</td>\n",
       "    </tr>\n",
       "    <tr>\n",
       "      <th>2</th>\n",
       "      <td>1178</td>\n",
       "      <td>3</td>\n",
       "      <td>1440</td>\n",
       "      <td>2</td>\n",
       "      <td>3</td>\n",
       "      <td>62</td>\n",
       "    </tr>\n",
       "    <tr>\n",
       "      <th>3</th>\n",
       "      <td>756</td>\n",
       "      <td>3</td>\n",
       "      <td>1521</td>\n",
       "      <td>3</td>\n",
       "      <td>1</td>\n",
       "      <td>95</td>\n",
       "    </tr>\n",
       "    <tr>\n",
       "      <th>4</th>\n",
       "      <td>715</td>\n",
       "      <td>2</td>\n",
       "      <td>1200</td>\n",
       "      <td>2</td>\n",
       "      <td>1</td>\n",
       "      <td>51</td>\n",
       "    </tr>\n",
       "    <tr>\n",
       "      <th>5</th>\n",
       "      <td>1251</td>\n",
       "      <td>2</td>\n",
       "      <td>1170</td>\n",
       "      <td>2</td>\n",
       "      <td>1</td>\n",
       "      <td>38</td>\n",
       "    </tr>\n",
       "    <tr>\n",
       "      <th>...</th>\n",
       "      <td>...</td>\n",
       "      <td>...</td>\n",
       "      <td>...</td>\n",
       "      <td>...</td>\n",
       "      <td>...</td>\n",
       "      <td>...</td>\n",
       "    </tr>\n",
       "    <tr>\n",
       "      <th>13312</th>\n",
       "      <td>236</td>\n",
       "      <td>2</td>\n",
       "      <td>1262</td>\n",
       "      <td>2</td>\n",
       "      <td>2</td>\n",
       "      <td>47</td>\n",
       "    </tr>\n",
       "    <tr>\n",
       "      <th>13313</th>\n",
       "      <td>1178</td>\n",
       "      <td>3</td>\n",
       "      <td>1345</td>\n",
       "      <td>2</td>\n",
       "      <td>1</td>\n",
       "      <td>57</td>\n",
       "    </tr>\n",
       "    <tr>\n",
       "      <th>13314</th>\n",
       "      <td>474</td>\n",
       "      <td>3</td>\n",
       "      <td>1715</td>\n",
       "      <td>3</td>\n",
       "      <td>3</td>\n",
       "      <td>112</td>\n",
       "    </tr>\n",
       "    <tr>\n",
       "      <th>13317</th>\n",
       "      <td>971</td>\n",
       "      <td>2</td>\n",
       "      <td>1141</td>\n",
       "      <td>2</td>\n",
       "      <td>1</td>\n",
       "      <td>60</td>\n",
       "    </tr>\n",
       "    <tr>\n",
       "      <th>13319</th>\n",
       "      <td>396</td>\n",
       "      <td>1</td>\n",
       "      <td>550</td>\n",
       "      <td>1</td>\n",
       "      <td>1</td>\n",
       "      <td>17</td>\n",
       "    </tr>\n",
       "  </tbody>\n",
       "</table>\n",
       "<p>11186 rows × 6 columns</p>\n",
       "</div>"
      ],
      "text/plain": [
       "       location  size  total_sqft  bath  balcony  price\n",
       "0           419     2        1056     2        1     39\n",
       "2          1178     3        1440     2        3     62\n",
       "3           756     3        1521     3        1     95\n",
       "4           715     2        1200     2        1     51\n",
       "5          1251     2        1170     2        1     38\n",
       "...         ...   ...         ...   ...      ...    ...\n",
       "13312       236     2        1262     2        2     47\n",
       "13313      1178     3        1345     2        1     57\n",
       "13314       474     3        1715     3        3    112\n",
       "13317       971     2        1141     2        1     60\n",
       "13319       396     1         550     1        1     17\n",
       "\n",
       "[11186 rows x 6 columns]"
      ]
     },
     "execution_count": 31,
     "metadata": {},
     "output_type": "execute_result"
    }
   ],
   "source": [
    "df2"
   ]
  },
  {
   "cell_type": "code",
   "execution_count": 32,
   "id": "2e9292fb-be69-45a0-bd5e-8e05e27d7775",
   "metadata": {},
   "outputs": [],
   "source": [
    "X = df2.iloc[:,:-1]\n",
    "y = df2.iloc[:,-1]"
   ]
  },
  {
   "cell_type": "code",
   "execution_count": 33,
   "id": "5c6a157b-b346-4f70-8d9c-037337877aac",
   "metadata": {},
   "outputs": [],
   "source": [
    "from sklearn.model_selection import train_test_split\n",
    "X_train, X_test, y_train, y_test = train_test_split(X, y, test_size=0.25, random_state=42)"
   ]
  },
  {
   "cell_type": "code",
   "execution_count": 34,
   "id": "756c3575-c2ce-4c11-8894-b70121c99224",
   "metadata": {},
   "outputs": [],
   "source": [
    "from sklearn.preprocessing import StandardScaler\n",
    "scaler=StandardScaler()\n",
    "X_train_scaled=scaler.fit_transform(X_train)\n",
    "X_test_scaled=scaler.transform(X_test)"
   ]
  },
  {
   "cell_type": "code",
   "execution_count": 35,
   "id": "eef7b04f-f111-413f-917f-1330986608c9",
   "metadata": {},
   "outputs": [
    {
     "data": {
      "text/plain": [
       "Text(0.5, 1.0, 'X_train After Scaling')"
      ]
     },
     "execution_count": 35,
     "metadata": {},
     "output_type": "execute_result"
    },
    {
     "data": {
      "image/png": "[encoded data removed]",
      "text/plain": [
       "<Figure size 1500x500 with 3 Axes>"
      ]
     },
     "metadata": {},
     "output_type": "display_data"
    }
   ],
   "source": [
    "plt.subplots(figsize=(15, 5))\n",
    "plt.subplot(1, 2, 1)\n",
    "sns.boxplot(data=X_train)\n",
    "plt.title('X_train Before Scaling')\n",
    "plt.subplot(1, 2, 2)\n",
    "sns.boxplot(data=X_train_scaled)\n",
    "plt.title('X_train After Scaling')"
   ]
  },
  {
   "cell_type": "code",
   "execution_count": 36,
   "id": "ccc60095-5394-494a-be8c-3219040c172f",
   "metadata": {},
   "outputs": [],
   "source": [
    "from sklearn.svm import SVR"
   ]
  },
  {
   "cell_type": "code",
   "execution_count": 37,
   "id": "ce3e12f9-3171-46d9-bcb3-5f7292deefff",
   "metadata": {},
   "outputs": [
    {
     "data": {
      "text/html": [
       "<style>#sk-container-id-1 {color: black;background-color: white;}#sk-container-id-1 pre{padding: 0;}#sk-container-id-1 div.sk-toggleable {background-color: white;}#sk-container-id-1 label.sk-toggleable__label {cursor: pointer;display: block;width: 100%;margin-bottom: 0;padding: 0.3em;box-sizing: border-box;text-align: center;}#sk-container-id-1 label.sk-toggleable__label-arrow:before {content: \"▸\";float: left;margin-right: 0.25em;color: #696969;}#sk-container-id-1 label.sk-toggleable__label-arrow:hover:before {color: black;}#sk-container-id-1 div.sk-estimator:hover label.sk-toggleable__label-arrow:before {color: black;}#sk-container-id-1 div.sk-toggleable__content {max-height: 0;max-width: 0;overflow: hidden;text-align: left;background-color: #f0f8ff;}#sk-container-id-1 div.sk-toggleable__content pre {margin: 0.2em;color: black;border-radius: 0.25em;background-color: #f0f8ff;}#sk-container-id-1 input.sk-toggleable__control:checked~div.sk-toggleable__content {max-height: 200px;max-width: 100%;overflow: auto;}#sk-container-id-1 input.sk-toggleable__control:checked~label.sk-toggleable__label-arrow:before {content: \"▾\";}#sk-container-id-1 div.sk-estimator input.sk-toggleable__control:checked~label.sk-toggleable__label {background-color: #d4ebff;}#sk-container-id-1 div.sk-label input.sk-toggleable__control:checked~label.sk-toggleable__label {background-color: #d4ebff;}#sk-container-id-1 input.sk-hidden--visually {border: 0;clip: rect(1px 1px 1px 1px);clip: rect(1px, 1px, 1px, 1px);height: 1px;margin: -1px;overflow: hidden;padding: 0;position: absolute;width: 1px;}#sk-container-id-1 div.sk-estimator {font-family: monospace;background-color: #f0f8ff;border: 1px dotted black;border-radius: 0.25em;box-sizing: border-box;margin-bottom: 0.5em;}#sk-container-id-1 div.sk-estimator:hover {background-color: #d4ebff;}#sk-container-id-1 div.sk-parallel-item::after {content: \"\";width: 100%;border-bottom: 1px solid gray;flex-grow: 1;}#sk-container-id-1 div.sk-label:hover label.sk-toggleable__label {background-color: #d4ebff;}#sk-container-id-1 div.sk-serial::before {content: \"\";position: absolute;border-left: 1px solid gray;box-sizing: border-box;top: 0;bottom: 0;left: 50%;z-index: 0;}#sk-container-id-1 div.sk-serial {display: flex;flex-direction: column;align-items: center;background-color: white;padding-right: 0.2em;padding-left: 0.2em;position: relative;}#sk-container-id-1 div.sk-item {position: relative;z-index: 1;}#sk-container-id-1 div.sk-parallel {display: flex;align-items: stretch;justify-content: center;background-color: white;position: relative;}#sk-container-id-1 div.sk-item::before, #sk-container-id-1 div.sk-parallel-item::before {content: \"\";position: absolute;border-left: 1px solid gray;box-sizing: border-box;top: 0;bottom: 0;left: 50%;z-index: -1;}#sk-container-id-1 div.sk-parallel-item {display: flex;flex-direction: column;z-index: 1;position: relative;background-color: white;}#sk-container-id-1 div.sk-parallel-item:first-child::after {align-self: flex-end;width: 50%;}#sk-container-id-1 div.sk-parallel-item:last-child::after {align-self: flex-start;width: 50%;}#sk-container-id-1 div.sk-parallel-item:only-child::after {width: 0;}#sk-container-id-1 div.sk-dashed-wrapped {border: 1px dashed gray;margin: 0 0.4em 0.5em 0.4em;box-sizing: border-box;padding-bottom: 0.4em;background-color: white;}#sk-container-id-1 div.sk-label label {font-family: monospace;font-weight: bold;display: inline-block;line-height: 1.2em;}#sk-container-id-1 div.sk-label-container {text-align: center;}#sk-container-id-1 div.sk-container {/* jupyter's `normalize.less` sets `[hidden] { display: none; }` but bootstrap.min.css set `[hidden] { display: none !important; }` so we also need the `!important` here to be able to override the default hidden behavior on the sphinx rendered scikit-learn.org. See: https://github.com/scikit-learn/scikit-learn/issues/21755 */display: inline-block !important;position: relative;}#sk-container-id-1 div.sk-text-repr-fallback {display: none;}</style><div id=\"sk-container-id-1\" class=\"sk-top-container\"><div class=\"sk-text-repr-fallback\"><pre>SVR(kernel=&#x27;linear&#x27;)</pre><b>In a Jupyter environment, please rerun this cell to show the HTML representation or trust the notebook. <br />On GitHub, the HTML representation is unable to render, please try loading this page with nbviewer.org.</b></div><div class=\"sk-container\" hidden><div class=\"sk-item\"><div class=\"sk-estimator sk-toggleable\"><input class=\"sk-toggleable__control sk-hidden--visually\" id=\"sk-estimator-id-1\" type=\"checkbox\" checked><label for=\"sk-estimator-id-1\" class=\"sk-toggleable__label sk-toggleable__label-arrow\">SVR</label><div class=\"sk-toggleable__content\"><pre>SVR(kernel=&#x27;linear&#x27;)</pre></div></div></div></div></div>"
      ],
      "text/plain": [
       "SVR(kernel='linear')"
      ]
     },
     "execution_count": 37,
     "metadata": {},
     "output_type": "execute_result"
    }
   ],
   "source": [
    "svr = SVR(kernel='linear')\n",
    "svr.fit(X_train_scaled, y_train)"
   ]
  },
  {
   "cell_type": "code",
   "execution_count": 39,
   "id": "f2722691-e30e-4571-8f40-8fb205d409ab",
   "metadata": {},
   "outputs": [],
   "source": [
    "y_pred = svr.predict(X_test_scaled)"
   ]
  },
  {
   "cell_type": "code",
   "execution_count": 40,
   "id": "6a41c5f7-5c58-4224-b47a-087adefbd388",
   "metadata": {},
   "outputs": [
    {
     "name": "stdout",
     "output_type": "stream",
     "text": [
      "1777.7826689428846\n",
      "23.217722321245247\n",
      "-1.1124083862644842\n"
     ]
    }
   ],
   "source": [
    "from sklearn.metrics import r2_score, mean_squared_error, mean_absolute_error\n",
    "print(mean_squared_error(y_pred, y_test))\n",
    "print(mean_absolute_error(y_pred, y_test))\n",
    "print(r2_score(y_pred, y_test))"
   ]
  },
  {
   "cell_type": "code",
   "execution_count": 51,
   "id": "927316d9-719e-4459-912b-6822cfab8756",
   "metadata": {},
   "outputs": [],
   "source": [
    "from sklearn.model_selection import GridSearchCV\n",
    "parameters = {\n",
    "    'kernel': ['linear', 'poly', 'rbf'],\n",
    "    'degree': [3,4,5],\n",
    "    'C': [.1,1,10,100],\n",
    "    'epsilon': [0.1, 0.2, 0.3]\n",
    "}"
   ]
  },
  {
   "cell_type": "code",
   "execution_count": 52,
   "id": "730bb2af-6bef-49e4-89b2-98c667c5cb87",
   "metadata": {},
   "outputs": [],
   "source": [
    "grid = GridSearchCV(SVR(), scoring='neg_mean_absolute_error', param_grid=parameters, refit=True, cv=5, n_jobs=5)"
   ]
  },
  {
   "cell_type": "code",
   "execution_count": 53,
   "id": "c656069c-3f11-4e27-b5e4-5b90dc22f02b",
   "metadata": {},
   "outputs": [
    {
     "data": {
      "text/html": [
       "<style>#sk-container-id-4 {color: black;background-color: white;}#sk-container-id-4 pre{padding: 0;}#sk-container-id-4 div.sk-toggleable {background-color: white;}#sk-container-id-4 label.sk-toggleable__label {cursor: pointer;display: block;width: 100%;margin-bottom: 0;padding: 0.3em;box-sizing: border-box;text-align: center;}#sk-container-id-4 label.sk-toggleable__label-arrow:before {content: \"▸\";float: left;margin-right: 0.25em;color: #696969;}#sk-container-id-4 label.sk-toggleable__label-arrow:hover:before {color: black;}#sk-container-id-4 div.sk-estimator:hover label.sk-toggleable__label-arrow:before {color: black;}#sk-container-id-4 div.sk-toggleable__content {max-height: 0;max-width: 0;overflow: hidden;text-align: left;background-color: #f0f8ff;}#sk-container-id-4 div.sk-toggleable__content pre {margin: 0.2em;color: black;border-radius: 0.25em;background-color: #f0f8ff;}#sk-container-id-4 input.sk-toggleable__control:checked~div.sk-toggleable__content {max-height: 200px;max-width: 100%;overflow: auto;}#sk-container-id-4 input.sk-toggleable__control:checked~label.sk-toggleable__label-arrow:before {content: \"▾\";}#sk-container-id-4 div.sk-estimator input.sk-toggleable__control:checked~label.sk-toggleable__label {background-color: #d4ebff;}#sk-container-id-4 div.sk-label input.sk-toggleable__control:checked~label.sk-toggleable__label {background-color: #d4ebff;}#sk-container-id-4 input.sk-hidden--visually {border: 0;clip: rect(1px 1px 1px 1px);clip: rect(1px, 1px, 1px, 1px);height: 1px;margin: -1px;overflow: hidden;padding: 0;position: absolute;width: 1px;}#sk-container-id-4 div.sk-estimator {font-family: monospace;background-color: #f0f8ff;border: 1px dotted black;border-radius: 0.25em;box-sizing: border-box;margin-bottom: 0.5em;}#sk-container-id-4 div.sk-estimator:hover {background-color: #d4ebff;}#sk-container-id-4 div.sk-parallel-item::after {content: \"\";width: 100%;border-bottom: 1px solid gray;flex-grow: 1;}#sk-container-id-4 div.sk-label:hover label.sk-toggleable__label {background-color: #d4ebff;}#sk-container-id-4 div.sk-serial::before {content: \"\";position: absolute;border-left: 1px solid gray;box-sizing: border-box;top: 0;bottom: 0;left: 50%;z-index: 0;}#sk-container-id-4 div.sk-serial {display: flex;flex-direction: column;align-items: center;background-color: white;padding-right: 0.2em;padding-left: 0.2em;position: relative;}#sk-container-id-4 div.sk-item {position: relative;z-index: 1;}#sk-container-id-4 div.sk-parallel {display: flex;align-items: stretch;justify-content: center;background-color: white;position: relative;}#sk-container-id-4 div.sk-item::before, #sk-container-id-4 div.sk-parallel-item::before {content: \"\";position: absolute;border-left: 1px solid gray;box-sizing: border-box;top: 0;bottom: 0;left: 50%;z-index: -1;}#sk-container-id-4 div.sk-parallel-item {display: flex;flex-direction: column;z-index: 1;position: relative;background-color: white;}#sk-container-id-4 div.sk-parallel-item:first-child::after {align-self: flex-end;width: 50%;}#sk-container-id-4 div.sk-parallel-item:last-child::after {align-self: flex-start;width: 50%;}#sk-container-id-4 div.sk-parallel-item:only-child::after {width: 0;}#sk-container-id-4 div.sk-dashed-wrapped {border: 1px dashed gray;margin: 0 0.4em 0.5em 0.4em;box-sizing: border-box;padding-bottom: 0.4em;background-color: white;}#sk-container-id-4 div.sk-label label {font-family: monospace;font-weight: bold;display: inline-block;line-height: 1.2em;}#sk-container-id-4 div.sk-label-container {text-align: center;}#sk-container-id-4 div.sk-container {/* jupyter's `normalize.less` sets `[hidden] { display: none; }` but bootstrap.min.css set `[hidden] { display: none !important; }` so we also need the `!important` here to be able to override the default hidden behavior on the sphinx rendered scikit-learn.org. See: https://github.com/scikit-learn/scikit-learn/issues/21755 */display: inline-block !important;position: relative;}#sk-container-id-4 div.sk-text-repr-fallback {display: none;}</style><div id=\"sk-container-id-4\" class=\"sk-top-container\"><div class=\"sk-text-repr-fallback\"><pre>GridSearchCV(cv=5, estimator=SVR(), n_jobs=5,\n",
       "             param_grid={&#x27;C&#x27;: [0.1, 1, 10, 100], &#x27;degree&#x27;: [3, 4, 5],\n",
       "                         &#x27;epsilon&#x27;: [0.1, 0.2, 0.3],\n",
       "                         &#x27;kernel&#x27;: [&#x27;linear&#x27;, &#x27;poly&#x27;, &#x27;rbf&#x27;]},\n",
       "             scoring=&#x27;neg_mean_absolute_error&#x27;)</pre><b>In a Jupyter environment, please rerun this cell to show the HTML representation or trust the notebook. <br />On GitHub, the HTML representation is unable to render, please try loading this page with nbviewer.org.</b></div><div class=\"sk-container\" hidden><div class=\"sk-item sk-dashed-wrapped\"><div class=\"sk-label-container\"><div class=\"sk-label sk-toggleable\"><input class=\"sk-toggleable__control sk-hidden--visually\" id=\"sk-estimator-id-6\" type=\"checkbox\" ><label for=\"sk-estimator-id-6\" class=\"sk-toggleable__label sk-toggleable__label-arrow\">GridSearchCV</label><div class=\"sk-toggleable__content\"><pre>GridSearchCV(cv=5, estimator=SVR(), n_jobs=5,\n",
       "             param_grid={&#x27;C&#x27;: [0.1, 1, 10, 100], &#x27;degree&#x27;: [3, 4, 5],\n",
       "                         &#x27;epsilon&#x27;: [0.1, 0.2, 0.3],\n",
       "                         &#x27;kernel&#x27;: [&#x27;linear&#x27;, &#x27;poly&#x27;, &#x27;rbf&#x27;]},\n",
       "             scoring=&#x27;neg_mean_absolute_error&#x27;)</pre></div></div></div><div class=\"sk-parallel\"><div class=\"sk-parallel-item\"><div class=\"sk-item\"><div class=\"sk-label-container\"><div class=\"sk-label sk-toggleable\"><input class=\"sk-toggleable__control sk-hidden--visually\" id=\"sk-estimator-id-7\" type=\"checkbox\" ><label for=\"sk-estimator-id-7\" class=\"sk-toggleable__label sk-toggleable__label-arrow\">estimator: SVR</label><div class=\"sk-toggleable__content\"><pre>SVR()</pre></div></div></div><div class=\"sk-serial\"><div class=\"sk-item\"><div class=\"sk-estimator sk-toggleable\"><input class=\"sk-toggleable__control sk-hidden--visually\" id=\"sk-estimator-id-8\" type=\"checkbox\" ><label for=\"sk-estimator-id-8\" class=\"sk-toggleable__label sk-toggleable__label-arrow\">SVR</label><div class=\"sk-toggleable__content\"><pre>SVR()</pre></div></div></div></div></div></div></div></div></div></div>"
      ],
      "text/plain": [
       "GridSearchCV(cv=5, estimator=SVR(), n_jobs=5,\n",
       "             param_grid={'C': [0.1, 1, 10, 100], 'degree': [3, 4, 5],\n",
       "                         'epsilon': [0.1, 0.2, 0.3],\n",
       "                         'kernel': ['linear', 'poly', 'rbf']},\n",
       "             scoring='neg_mean_absolute_error')"
      ]
     },
     "execution_count": 53,
     "metadata": {},
     "output_type": "execute_result"
    }
   ],
   "source": [
    "grid.fit(X_train_scaled, y_train)"
   ]
  },
  {
   "cell_type": "code",
   "execution_count": 54,
   "id": "c079817f-ed8b-4555-bd15-e0fa04efe38d",
   "metadata": {},
   "outputs": [
    {
     "data": {
      "text/plain": [
       "{'C': 100, 'degree': 3, 'epsilon': 0.3, 'kernel': 'rbf'}"
      ]
     },
     "execution_count": 54,
     "metadata": {},
     "output_type": "execute_result"
    }
   ],
   "source": [
    "grid.best_params_"
   ]
  },
  {
   "cell_type": "code",
   "execution_count": 55,
   "id": "4074a7c9-90c8-4ff3-938a-9a72f3407e95",
   "metadata": {},
   "outputs": [],
   "source": [
    "svr = SVR(kernel='rbf', C=100, epsilon=0.3, degree=3)"
   ]
  },
  {
   "cell_type": "code",
   "execution_count": 57,
   "id": "aecc4823-a171-4aa5-9ed4-0d905bbac93f",
   "metadata": {},
   "outputs": [
    {
     "data": {
      "text/html": [
       "<style>#sk-container-id-5 {color: black;background-color: white;}#sk-container-id-5 pre{padding: 0;}#sk-container-id-5 div.sk-toggleable {background-color: white;}#sk-container-id-5 label.sk-toggleable__label {cursor: pointer;display: block;width: 100%;margin-bottom: 0;padding: 0.3em;box-sizing: border-box;text-align: center;}#sk-container-id-5 label.sk-toggleable__label-arrow:before {content: \"▸\";float: left;margin-right: 0.25em;color: #696969;}#sk-container-id-5 label.sk-toggleable__label-arrow:hover:before {color: black;}#sk-container-id-5 div.sk-estimator:hover label.sk-toggleable__label-arrow:before {color: black;}#sk-container-id-5 div.sk-toggleable__content {max-height: 0;max-width: 0;overflow: hidden;text-align: left;background-color: #f0f8ff;}#sk-container-id-5 div.sk-toggleable__content pre {margin: 0.2em;color: black;border-radius: 0.25em;background-color: #f0f8ff;}#sk-container-id-5 input.sk-toggleable__control:checked~div.sk-toggleable__content {max-height: 200px;max-width: 100%;overflow: auto;}#sk-container-id-5 input.sk-toggleable__control:checked~label.sk-toggleable__label-arrow:before {content: \"▾\";}#sk-container-id-5 div.sk-estimator input.sk-toggleable__control:checked~label.sk-toggleable__label {background-color: #d4ebff;}#sk-container-id-5 div.sk-label input.sk-toggleable__control:checked~label.sk-toggleable__label {background-color: #d4ebff;}#sk-container-id-5 input.sk-hidden--visually {border: 0;clip: rect(1px 1px 1px 1px);clip: rect(1px, 1px, 1px, 1px);height: 1px;margin: -1px;overflow: hidden;padding: 0;position: absolute;width: 1px;}#sk-container-id-5 div.sk-estimator {font-family: monospace;background-color: #f0f8ff;border: 1px dotted black;border-radius: 0.25em;box-sizing: border-box;margin-bottom: 0.5em;}#sk-container-id-5 div.sk-estimator:hover {background-color: #d4ebff;}#sk-container-id-5 div.sk-parallel-item::after {content: \"\";width: 100%;border-bottom: 1px solid gray;flex-grow: 1;}#sk-container-id-5 div.sk-label:hover label.sk-toggleable__label {background-color: #d4ebff;}#sk-container-id-5 div.sk-serial::before {content: \"\";position: absolute;border-left: 1px solid gray;box-sizing: border-box;top: 0;bottom: 0;left: 50%;z-index: 0;}#sk-container-id-5 div.sk-serial {display: flex;flex-direction: column;align-items: center;background-color: white;padding-right: 0.2em;padding-left: 0.2em;position: relative;}#sk-container-id-5 div.sk-item {position: relative;z-index: 1;}#sk-container-id-5 div.sk-parallel {display: flex;align-items: stretch;justify-content: center;background-color: white;position: relative;}#sk-container-id-5 div.sk-item::before, #sk-container-id-5 div.sk-parallel-item::before {content: \"\";position: absolute;border-left: 1px solid gray;box-sizing: border-box;top: 0;bottom: 0;left: 50%;z-index: -1;}#sk-container-id-5 div.sk-parallel-item {display: flex;flex-direction: column;z-index: 1;position: relative;background-color: white;}#sk-container-id-5 div.sk-parallel-item:first-child::after {align-self: flex-end;width: 50%;}#sk-container-id-5 div.sk-parallel-item:last-child::after {align-self: flex-start;width: 50%;}#sk-container-id-5 div.sk-parallel-item:only-child::after {width: 0;}#sk-container-id-5 div.sk-dashed-wrapped {border: 1px dashed gray;margin: 0 0.4em 0.5em 0.4em;box-sizing: border-box;padding-bottom: 0.4em;background-color: white;}#sk-container-id-5 div.sk-label label {font-family: monospace;font-weight: bold;display: inline-block;line-height: 1.2em;}#sk-container-id-5 div.sk-label-container {text-align: center;}#sk-container-id-5 div.sk-container {/* jupyter's `normalize.less` sets `[hidden] { display: none; }` but bootstrap.min.css set `[hidden] { display: none !important; }` so we also need the `!important` here to be able to override the default hidden behavior on the sphinx rendered scikit-learn.org. See: https://github.com/scikit-learn/scikit-learn/issues/21755 */display: inline-block !important;position: relative;}#sk-container-id-5 div.sk-text-repr-fallback {display: none;}</style><div id=\"sk-container-id-5\" class=\"sk-top-container\"><div class=\"sk-text-repr-fallback\"><pre>SVR(C=100, epsilon=0.3)</pre><b>In a Jupyter environment, please rerun this cell to show the HTML representation or trust the notebook. <br />On GitHub, the HTML representation is unable to render, please try loading this page with nbviewer.org.</b></div><div class=\"sk-container\" hidden><div class=\"sk-item\"><div class=\"sk-estimator sk-toggleable\"><input class=\"sk-toggleable__control sk-hidden--visually\" id=\"sk-estimator-id-9\" type=\"checkbox\" checked><label for=\"sk-estimator-id-9\" class=\"sk-toggleable__label sk-toggleable__label-arrow\">SVR</label><div class=\"sk-toggleable__content\"><pre>SVR(C=100, epsilon=0.3)</pre></div></div></div></div></div>"
      ],
      "text/plain": [
       "SVR(C=100, epsilon=0.3)"
      ]
     },
     "execution_count": 57,
     "metadata": {},
     "output_type": "execute_result"
    }
   ],
   "source": [
    "svr.fit(X_train_scaled, y_train)"
   ]
  },
  {
   "cell_type": "code",
   "execution_count": 59,
   "id": "fa084cb6-6f28-4c58-bda1-d0c6b47efa4c",
   "metadata": {},
   "outputs": [],
   "source": [
    "y_pred =svr.predict(X_test_scaled)"
   ]
  },
  {
   "cell_type": "code",
   "execution_count": 60,
   "id": "7e347e21-ad30-41fb-998b-cce271170b74",
   "metadata": {},
   "outputs": [
    {
     "name": "stdout",
     "output_type": "stream",
     "text": [
      "1389.882539861502\n",
      "20.679911241969954\n",
      "-0.020475595611312736\n"
     ]
    }
   ],
   "source": [
    "print(mean_squared_error(y_pred, y_test))\n",
    "print(mean_absolute_error(y_pred, y_test))\n",
    "print(r2_score(y_pred, y_test))"
   ]
  },
  {
   "cell_type": "code",
   "execution_count": 44,
   "id": "c51fe091-f8e4-49b7-aeaf-95985378b1a6",
   "metadata": {},
   "outputs": [
    {
     "data": {
      "text/html": [
       "<div>\n",
       "<style scoped>\n",
       "    .dataframe tbody tr th:only-of-type {\n",
       "        vertical-align: middle;\n",
       "    }\n",
       "\n",
       "    .dataframe tbody tr th {\n",
       "        vertical-align: top;\n",
       "    }\n",
       "\n",
       "    .dataframe thead th {\n",
       "        text-align: right;\n",
       "    }\n",
       "</style>\n",
       "<table border=\"1\" class=\"dataframe\">\n",
       "  <thead>\n",
       "    <tr style=\"text-align: right;\">\n",
       "      <th></th>\n",
       "      <th>location</th>\n",
       "      <th>size</th>\n",
       "      <th>total_sqft</th>\n",
       "      <th>bath</th>\n",
       "      <th>balcony</th>\n",
       "      <th>price</th>\n",
       "    </tr>\n",
       "  </thead>\n",
       "  <tbody>\n",
       "    <tr>\n",
       "      <th>0</th>\n",
       "      <td>419</td>\n",
       "      <td>2</td>\n",
       "      <td>1056</td>\n",
       "      <td>2</td>\n",
       "      <td>1</td>\n",
       "      <td>39</td>\n",
       "    </tr>\n",
       "    <tr>\n",
       "      <th>2</th>\n",
       "      <td>1178</td>\n",
       "      <td>3</td>\n",
       "      <td>1440</td>\n",
       "      <td>2</td>\n",
       "      <td>3</td>\n",
       "      <td>62</td>\n",
       "    </tr>\n",
       "    <tr>\n",
       "      <th>3</th>\n",
       "      <td>756</td>\n",
       "      <td>3</td>\n",
       "      <td>1521</td>\n",
       "      <td>3</td>\n",
       "      <td>1</td>\n",
       "      <td>95</td>\n",
       "    </tr>\n",
       "    <tr>\n",
       "      <th>4</th>\n",
       "      <td>715</td>\n",
       "      <td>2</td>\n",
       "      <td>1200</td>\n",
       "      <td>2</td>\n",
       "      <td>1</td>\n",
       "      <td>51</td>\n",
       "    </tr>\n",
       "    <tr>\n",
       "      <th>5</th>\n",
       "      <td>1251</td>\n",
       "      <td>2</td>\n",
       "      <td>1170</td>\n",
       "      <td>2</td>\n",
       "      <td>1</td>\n",
       "      <td>38</td>\n",
       "    </tr>\n",
       "    <tr>\n",
       "      <th>...</th>\n",
       "      <td>...</td>\n",
       "      <td>...</td>\n",
       "      <td>...</td>\n",
       "      <td>...</td>\n",
       "      <td>...</td>\n",
       "      <td>...</td>\n",
       "    </tr>\n",
       "    <tr>\n",
       "      <th>13312</th>\n",
       "      <td>236</td>\n",
       "      <td>2</td>\n",
       "      <td>1262</td>\n",
       "      <td>2</td>\n",
       "      <td>2</td>\n",
       "      <td>47</td>\n",
       "    </tr>\n",
       "    <tr>\n",
       "      <th>13313</th>\n",
       "      <td>1178</td>\n",
       "      <td>3</td>\n",
       "      <td>1345</td>\n",
       "      <td>2</td>\n",
       "      <td>1</td>\n",
       "      <td>57</td>\n",
       "    </tr>\n",
       "    <tr>\n",
       "      <th>13314</th>\n",
       "      <td>474</td>\n",
       "      <td>3</td>\n",
       "      <td>1715</td>\n",
       "      <td>3</td>\n",
       "      <td>3</td>\n",
       "      <td>112</td>\n",
       "    </tr>\n",
       "    <tr>\n",
       "      <th>13317</th>\n",
       "      <td>971</td>\n",
       "      <td>2</td>\n",
       "      <td>1141</td>\n",
       "      <td>2</td>\n",
       "      <td>1</td>\n",
       "      <td>60</td>\n",
       "    </tr>\n",
       "    <tr>\n",
       "      <th>13319</th>\n",
       "      <td>396</td>\n",
       "      <td>1</td>\n",
       "      <td>550</td>\n",
       "      <td>1</td>\n",
       "      <td>1</td>\n",
       "      <td>17</td>\n",
       "    </tr>\n",
       "  </tbody>\n",
       "</table>\n",
       "<p>11186 rows × 6 columns</p>\n",
       "</div>"
      ],
      "text/plain": [
       "       location  size  total_sqft  bath  balcony  price\n",
       "0           419     2        1056     2        1     39\n",
       "2          1178     3        1440     2        3     62\n",
       "3           756     3        1521     3        1     95\n",
       "4           715     2        1200     2        1     51\n",
       "5          1251     2        1170     2        1     38\n",
       "...         ...   ...         ...   ...      ...    ...\n",
       "13312       236     2        1262     2        2     47\n",
       "13313      1178     3        1345     2        1     57\n",
       "13314       474     3        1715     3        3    112\n",
       "13317       971     2        1141     2        1     60\n",
       "13319       396     1         550     1        1     17\n",
       "\n",
       "[11186 rows x 6 columns]"
      ]
     },
     "execution_count": 44,
     "metadata": {},
     "output_type": "execute_result"
    }
   ],
   "source": [
    "df2"
   ]
  },
  {
   "cell_type": "code",
   "execution_count": 45,
   "id": "0ac5a566-4b6c-4572-a138-007afd2f7c24",
   "metadata": {},
   "outputs": [],
   "source": [
    "param_grid = {\n",
    "    'C': [0.1, 1, 10, 100], \n",
    "    'epsilon': [0.01, 0.1, 0.5, 1],\n",
    "    'kernel': ['linear', 'rbf']\n",
    "}"
   ]
  },
  {
   "cell_type": "code",
   "execution_count": 46,
   "id": "6f23eee7-ca90-4986-a23a-e060298aa9b3",
   "metadata": {},
   "outputs": [
    {
     "data": {
      "text/html": [
       "<style>#sk-container-id-2 {color: black;background-color: white;}#sk-container-id-2 pre{padding: 0;}#sk-container-id-2 div.sk-toggleable {background-color: white;}#sk-container-id-2 label.sk-toggleable__label {cursor: pointer;display: block;width: 100%;margin-bottom: 0;padding: 0.3em;box-sizing: border-box;text-align: center;}#sk-container-id-2 label.sk-toggleable__label-arrow:before {content: \"▸\";float: left;margin-right: 0.25em;color: #696969;}#sk-container-id-2 label.sk-toggleable__label-arrow:hover:before {color: black;}#sk-container-id-2 div.sk-estimator:hover label.sk-toggleable__label-arrow:before {color: black;}#sk-container-id-2 div.sk-toggleable__content {max-height: 0;max-width: 0;overflow: hidden;text-align: left;background-color: #f0f8ff;}#sk-container-id-2 div.sk-toggleable__content pre {margin: 0.2em;color: black;border-radius: 0.25em;background-color: #f0f8ff;}#sk-container-id-2 input.sk-toggleable__control:checked~div.sk-toggleable__content {max-height: 200px;max-width: 100%;overflow: auto;}#sk-container-id-2 input.sk-toggleable__control:checked~label.sk-toggleable__label-arrow:before {content: \"▾\";}#sk-container-id-2 div.sk-estimator input.sk-toggleable__control:checked~label.sk-toggleable__label {background-color: #d4ebff;}#sk-container-id-2 div.sk-label input.sk-toggleable__control:checked~label.sk-toggleable__label {background-color: #d4ebff;}#sk-container-id-2 input.sk-hidden--visually {border: 0;clip: rect(1px 1px 1px 1px);clip: rect(1px, 1px, 1px, 1px);height: 1px;margin: -1px;overflow: hidden;padding: 0;position: absolute;width: 1px;}#sk-container-id-2 div.sk-estimator {font-family: monospace;background-color: #f0f8ff;border: 1px dotted black;border-radius: 0.25em;box-sizing: border-box;margin-bottom: 0.5em;}#sk-container-id-2 div.sk-estimator:hover {background-color: #d4ebff;}#sk-container-id-2 div.sk-parallel-item::after {content: \"\";width: 100%;border-bottom: 1px solid gray;flex-grow: 1;}#sk-container-id-2 div.sk-label:hover label.sk-toggleable__label {background-color: #d4ebff;}#sk-container-id-2 div.sk-serial::before {content: \"\";position: absolute;border-left: 1px solid gray;box-sizing: border-box;top: 0;bottom: 0;left: 50%;z-index: 0;}#sk-container-id-2 div.sk-serial {display: flex;flex-direction: column;align-items: center;background-color: white;padding-right: 0.2em;padding-left: 0.2em;position: relative;}#sk-container-id-2 div.sk-item {position: relative;z-index: 1;}#sk-container-id-2 div.sk-parallel {display: flex;align-items: stretch;justify-content: center;background-color: white;position: relative;}#sk-container-id-2 div.sk-item::before, #sk-container-id-2 div.sk-parallel-item::before {content: \"\";position: absolute;border-left: 1px solid gray;box-sizing: border-box;top: 0;bottom: 0;left: 50%;z-index: -1;}#sk-container-id-2 div.sk-parallel-item {display: flex;flex-direction: column;z-index: 1;position: relative;background-color: white;}#sk-container-id-2 div.sk-parallel-item:first-child::after {align-self: flex-end;width: 50%;}#sk-container-id-2 div.sk-parallel-item:last-child::after {align-self: flex-start;width: 50%;}#sk-container-id-2 div.sk-parallel-item:only-child::after {width: 0;}#sk-container-id-2 div.sk-dashed-wrapped {border: 1px dashed gray;margin: 0 0.4em 0.5em 0.4em;box-sizing: border-box;padding-bottom: 0.4em;background-color: white;}#sk-container-id-2 div.sk-label label {font-family: monospace;font-weight: bold;display: inline-block;line-height: 1.2em;}#sk-container-id-2 div.sk-label-container {text-align: center;}#sk-container-id-2 div.sk-container {/* jupyter's `normalize.less` sets `[hidden] { display: none; }` but bootstrap.min.css set `[hidden] { display: none !important; }` so we also need the `!important` here to be able to override the default hidden behavior on the sphinx rendered scikit-learn.org. See: https://github.com/scikit-learn/scikit-learn/issues/21755 */display: inline-block !important;position: relative;}#sk-container-id-2 div.sk-text-repr-fallback {display: none;}</style><div id=\"sk-container-id-2\" class=\"sk-top-container\"><div class=\"sk-text-repr-fallback\"><pre>GridSearchCV(cv=5, estimator=SVR(kernel=&#x27;linear&#x27;),\n",
       "             param_grid={&#x27;C&#x27;: [0.1, 1, 10, 100], &#x27;epsilon&#x27;: [0.01, 0.1, 0.5, 1],\n",
       "                         &#x27;kernel&#x27;: [&#x27;linear&#x27;, &#x27;rbf&#x27;]},\n",
       "             scoring=&#x27;neg_mean_squared_error&#x27;)</pre><b>In a Jupyter environment, please rerun this cell to show the HTML representation or trust the notebook. <br />On GitHub, the HTML representation is unable to render, please try loading this page with nbviewer.org.</b></div><div class=\"sk-container\" hidden><div class=\"sk-item sk-dashed-wrapped\"><div class=\"sk-label-container\"><div class=\"sk-label sk-toggleable\"><input class=\"sk-toggleable__control sk-hidden--visually\" id=\"sk-estimator-id-2\" type=\"checkbox\" ><label for=\"sk-estimator-id-2\" class=\"sk-toggleable__label sk-toggleable__label-arrow\">GridSearchCV</label><div class=\"sk-toggleable__content\"><pre>GridSearchCV(cv=5, estimator=SVR(kernel=&#x27;linear&#x27;),\n",
       "             param_grid={&#x27;C&#x27;: [0.1, 1, 10, 100], &#x27;epsilon&#x27;: [0.01, 0.1, 0.5, 1],\n",
       "                         &#x27;kernel&#x27;: [&#x27;linear&#x27;, &#x27;rbf&#x27;]},\n",
       "             scoring=&#x27;neg_mean_squared_error&#x27;)</pre></div></div></div><div class=\"sk-parallel\"><div class=\"sk-parallel-item\"><div class=\"sk-item\"><div class=\"sk-label-container\"><div class=\"sk-label sk-toggleable\"><input class=\"sk-toggleable__control sk-hidden--visually\" id=\"sk-estimator-id-3\" type=\"checkbox\" ><label for=\"sk-estimator-id-3\" class=\"sk-toggleable__label sk-toggleable__label-arrow\">estimator: SVR</label><div class=\"sk-toggleable__content\"><pre>SVR(kernel=&#x27;linear&#x27;)</pre></div></div></div><div class=\"sk-serial\"><div class=\"sk-item\"><div class=\"sk-estimator sk-toggleable\"><input class=\"sk-toggleable__control sk-hidden--visually\" id=\"sk-estimator-id-4\" type=\"checkbox\" ><label for=\"sk-estimator-id-4\" class=\"sk-toggleable__label sk-toggleable__label-arrow\">SVR</label><div class=\"sk-toggleable__content\"><pre>SVR(kernel=&#x27;linear&#x27;)</pre></div></div></div></div></div></div></div></div></div></div>"
      ],
      "text/plain": [
       "GridSearchCV(cv=5, estimator=SVR(kernel='linear'),\n",
       "             param_grid={'C': [0.1, 1, 10, 100], 'epsilon': [0.01, 0.1, 0.5, 1],\n",
       "                         'kernel': ['linear', 'rbf']},\n",
       "             scoring='neg_mean_squared_error')"
      ]
     },
     "execution_count": 46,
     "metadata": {},
     "output_type": "execute_result"
    }
   ],
   "source": [
    "grid_search = GridSearchCV(svr, param_grid, cv=5, scoring='neg_mean_squared_error')\n",
    "grid_search.fit(X_train_scaled, y_train)"
   ]
  },
  {
   "cell_type": "code",
   "execution_count": 47,
   "id": "70aa8dfd-ed0d-4cd7-9768-d53984bad77e",
   "metadata": {},
   "outputs": [
    {
     "data": {
      "text/plain": [
       "{'C': 100, 'epsilon': 1, 'kernel': 'rbf'}"
      ]
     },
     "execution_count": 47,
     "metadata": {},
     "output_type": "execute_result"
    }
   ],
   "source": [
    "grid_search.best_params_"
   ]
  },
  {
   "cell_type": "code",
   "execution_count": 48,
   "id": "a199dfa2-ce77-45f6-b7db-4322907fbb29",
   "metadata": {},
   "outputs": [
    {
     "data": {
      "text/html": [
       "<style>#sk-container-id-3 {color: black;background-color: white;}#sk-container-id-3 pre{padding: 0;}#sk-container-id-3 div.sk-toggleable {background-color: white;}#sk-container-id-3 label.sk-toggleable__label {cursor: pointer;display: block;width: 100%;margin-bottom: 0;padding: 0.3em;box-sizing: border-box;text-align: center;}#sk-container-id-3 label.sk-toggleable__label-arrow:before {content: \"▸\";float: left;margin-right: 0.25em;color: #696969;}#sk-container-id-3 label.sk-toggleable__label-arrow:hover:before {color: black;}#sk-container-id-3 div.sk-estimator:hover label.sk-toggleable__label-arrow:before {color: black;}#sk-container-id-3 div.sk-toggleable__content {max-height: 0;max-width: 0;overflow: hidden;text-align: left;background-color: #f0f8ff;}#sk-container-id-3 div.sk-toggleable__content pre {margin: 0.2em;color: black;border-radius: 0.25em;background-color: #f0f8ff;}#sk-container-id-3 input.sk-toggleable__control:checked~div.sk-toggleable__content {max-height: 200px;max-width: 100%;overflow: auto;}#sk-container-id-3 input.sk-toggleable__control:checked~label.sk-toggleable__label-arrow:before {content: \"▾\";}#sk-container-id-3 div.sk-estimator input.sk-toggleable__control:checked~label.sk-toggleable__label {background-color: #d4ebff;}#sk-container-id-3 div.sk-label input.sk-toggleable__control:checked~label.sk-toggleable__label {background-color: #d4ebff;}#sk-container-id-3 input.sk-hidden--visually {border: 0;clip: rect(1px 1px 1px 1px);clip: rect(1px, 1px, 1px, 1px);height: 1px;margin: -1px;overflow: hidden;padding: 0;position: absolute;width: 1px;}#sk-container-id-3 div.sk-estimator {font-family: monospace;background-color: #f0f8ff;border: 1px dotted black;border-radius: 0.25em;box-sizing: border-box;margin-bottom: 0.5em;}#sk-container-id-3 div.sk-estimator:hover {background-color: #d4ebff;}#sk-container-id-3 div.sk-parallel-item::after {content: \"\";width: 100%;border-bottom: 1px solid gray;flex-grow: 1;}#sk-container-id-3 div.sk-label:hover label.sk-toggleable__label {background-color: #d4ebff;}#sk-container-id-3 div.sk-serial::before {content: \"\";position: absolute;border-left: 1px solid gray;box-sizing: border-box;top: 0;bottom: 0;left: 50%;z-index: 0;}#sk-container-id-3 div.sk-serial {display: flex;flex-direction: column;align-items: center;background-color: white;padding-right: 0.2em;padding-left: 0.2em;position: relative;}#sk-container-id-3 div.sk-item {position: relative;z-index: 1;}#sk-container-id-3 div.sk-parallel {display: flex;align-items: stretch;justify-content: center;background-color: white;position: relative;}#sk-container-id-3 div.sk-item::before, #sk-container-id-3 div.sk-parallel-item::before {content: \"\";position: absolute;border-left: 1px solid gray;box-sizing: border-box;top: 0;bottom: 0;left: 50%;z-index: -1;}#sk-container-id-3 div.sk-parallel-item {display: flex;flex-direction: column;z-index: 1;position: relative;background-color: white;}#sk-container-id-3 div.sk-parallel-item:first-child::after {align-self: flex-end;width: 50%;}#sk-container-id-3 div.sk-parallel-item:last-child::after {align-self: flex-start;width: 50%;}#sk-container-id-3 div.sk-parallel-item:only-child::after {width: 0;}#sk-container-id-3 div.sk-dashed-wrapped {border: 1px dashed gray;margin: 0 0.4em 0.5em 0.4em;box-sizing: border-box;padding-bottom: 0.4em;background-color: white;}#sk-container-id-3 div.sk-label label {font-family: monospace;font-weight: bold;display: inline-block;line-height: 1.2em;}#sk-container-id-3 div.sk-label-container {text-align: center;}#sk-container-id-3 div.sk-container {/* jupyter's `normalize.less` sets `[hidden] { display: none; }` but bootstrap.min.css set `[hidden] { display: none !important; }` so we also need the `!important` here to be able to override the default hidden behavior on the sphinx rendered scikit-learn.org. See: https://github.com/scikit-learn/scikit-learn/issues/21755 */display: inline-block !important;position: relative;}#sk-container-id-3 div.sk-text-repr-fallback {display: none;}</style><div id=\"sk-container-id-3\" class=\"sk-top-container\"><div class=\"sk-text-repr-fallback\"><pre>SVR(C=100, epsilon=1)</pre><b>In a Jupyter environment, please rerun this cell to show the HTML representation or trust the notebook. <br />On GitHub, the HTML representation is unable to render, please try loading this page with nbviewer.org.</b></div><div class=\"sk-container\" hidden><div class=\"sk-item\"><div class=\"sk-estimator sk-toggleable\"><input class=\"sk-toggleable__control sk-hidden--visually\" id=\"sk-estimator-id-5\" type=\"checkbox\" checked><label for=\"sk-estimator-id-5\" class=\"sk-toggleable__label sk-toggleable__label-arrow\">SVR</label><div class=\"sk-toggleable__content\"><pre>SVR(C=100, epsilon=1)</pre></div></div></div></div></div>"
      ],
      "text/plain": [
       "SVR(C=100, epsilon=1)"
      ]
     },
     "execution_count": 48,
     "metadata": {},
     "output_type": "execute_result"
    }
   ],
   "source": [
    "svr = SVR(C=100, epsilon=1, kernel='rbf')\n",
    "svr.fit(X_train_scaled, y_train)"
   ]
  },
  {
   "cell_type": "code",
   "execution_count": 49,
   "id": "cdfcaa47-5c61-4058-b80a-52b8b597e72a",
   "metadata": {},
   "outputs": [],
   "source": [
    "y_pred = svr.predict(X_test_scaled)"
   ]
  },
  {
   "cell_type": "code",
   "execution_count": 50,
   "id": "a3742eed-d8a0-4f76-9877-75231592fc45",
   "metadata": {},
   "outputs": [
    {
     "name": "stdout",
     "output_type": "stream",
     "text": [
      "1391.0893317683242\n",
      "20.68556000397674\n",
      "-0.019035821860018398\n"
     ]
    }
   ],
   "source": [
    "print(mean_squared_error(y_pred, y_test))\n",
    "print(mean_absolute_error(y_pred, y_test))\n",
    "print(r2_score(y_pred, y_test))"
   ]
  },
  {
   "cell_type": "code",
   "execution_count": 1,
   "id": "3b52938a-d94c-41bb-b387-20a15b6b37ca",
   "metadata": {},
   "outputs": [],
   "source": [
    "##########################################################################################################################\n",
    "# Ans 01:"
   ]
  },
  {
   "cell_type": "code",
   "execution_count": 15,
   "id": "cfd18ae8-cab9-46f9-afd4-a8031ad03400",
   "metadata": {},
   "outputs": [],
   "source": [
    "# The best metric for this case would  be mean squared error"
   ]
  },
  {
   "cell_type": "code",
   "execution_count": 3,
   "id": "944abf11-7128-499b-91c1-689343b5c7c1",
   "metadata": {},
   "outputs": [],
   "source": [
    "##########################################################################################################################\n",
    "# Ans 02:"
   ]
  },
  {
   "cell_type": "code",
   "execution_count": 4,
   "id": "4a423207-7fb0-479d-9ed3-820fd47f0ab0",
   "metadata": {},
   "outputs": [],
   "source": [
    "# If the goal is to predict the actual price of a house as accurately as possible, MSE (Mean Squared Error) would be the more appropriate\n",
    "# evaluation metric to use.\n",
    "\n",
    "# Here's why:\n",
    "# 1. Mean Squared Error (MSE): MSE measures the average squared difference between the predicted values and the actual values. It penalizes larger errors more heavily\n",
    "# than smaller errors. In the context of predicting house prices, MSE directly reflects how close the predicted prices are to the actual prices. Lower MSE indicates\n",
    "# better predictive accuracy.\n",
    "# 2. R-squared (Coefficient of Determination): R-squared measures the proportion of the variance in the dependent variable (house prices) that is predictable from the\n",
    "# independent variables (features) in the model. While R-squared is useful for understanding how well the independent variables explain the variation in the dependent\n",
    "# variable, it may not directly reflect the accuracy of individual predictions. Moreover, high R-squared doesn't necessarily mean that individual predictions are accurate.\n",
    "\n",
    "# In summary, while R-squared provides information about the overall fit of the model, MSE gives a more direct measure of prediction accuracy for individual hous\n",
    "# prices. Therefore, MSE would be the more appropriate metric for your goal of predicting house prices as accurately as possible."
   ]
  },
  {
   "cell_type": "code",
   "execution_count": 5,
   "id": "ca69b36a-8018-4425-a308-d32547c99ecc",
   "metadata": {},
   "outputs": [],
   "source": [
    "##########################################################################################################################\n",
    "# Ans 03:"
   ]
  },
  {
   "cell_type": "code",
   "execution_count": 6,
   "id": "a8daad62-c5c5-40b8-b33c-ecea0cbf8b04",
   "metadata": {},
   "outputs": [],
   "source": [
    "# When dealing with a dataset that contains a significant number of outliers, it's important to choose a regression metric that is robust to outliers. In\n",
    "# this scenario, the Mean Absolute Error (MAE) would be the most appropriate metric to use with your SVM model.\n",
    "\n",
    "# Here's why:\n",
    "# 1. Robustness to Outliers: MAE is less sensitive to outliers compared to other metrics like Mean Squared Error (MSE) or R-squared. Outliers have a significant impact\n",
    "# on MSE because it squares the errors, magnifying the effect of large errors. On the other hand, MAE calculates the average absolute difference between the predicted\n",
    "# values and the actual values, making it less affected by outliers.\n",
    "# 2. Interpretability: MAE provides a straightforward interpretation as it represents the average magnitude of errors in the predictions. This makes it easier to understand\n",
    "# and communicate the model's performance, especially in the presence of outliers.\n",
    "# 3. Model Stability: Since MAE treats all errors equally regardless of their magnitude, it can lead to more stable model performance, particularly in the presence of\n",
    "# outliers. This stability is beneficial for assessing the model's consistency across different subsets of data.\n",
    "\n",
    "# Therefore, when dealing with a dataset containing a significant number of outliers, using MAE as the evaluation metric for your SVM regression model would be the most\n",
    "# appropriate choice."
   ]
  },
  {
   "cell_type": "code",
   "execution_count": 7,
   "id": "eeb30b07-d07e-43cc-9f54-318008ac6306",
   "metadata": {},
   "outputs": [],
   "source": [
    "##########################################################################################################################\n",
    "# Ans 04:"
   ]
  },
  {
   "cell_type": "code",
   "execution_count": 10,
   "id": "3078dec1-7175-410e-abe5-5fe073c55ccc",
   "metadata": {},
   "outputs": [],
   "source": [
    "# When both Mean Squared Error (MSE) and Root Mean Squared Error (RMSE) values are very close, it indicates that the differences between predicted and\n",
    "# actual values are relatively consistent across the dataset. In such cases, it's generally more common to use RMSE as the evaluation metric. \n",
    "\n",
    "# Here's why:\n",
    "# 1. Interpretability: RMSE is interpreted in the same units as the target variable, which in your case is likely the house prices. This makes it easier to understand\n",
    "# and communicate the magnitude of the prediction errors in a more intuitive manner.\n",
    "# 2. Sensitivity to Scale: RMSE is sensitive to the scale of the target variable, whereas MSE is not. By taking the square root of MSE, RMSE provides a measure of the\n",
    "# average magnitude of the errors in the same units as the target variable. This ensures that the evaluation metric is more aligned with the problem domain.\n",
    "# 3. Penalization of Large Errors: RMSE penalizes larger errors more heavily than smaller errors due to the square root transformation. This can be beneficial in scenarios\n",
    "# where you want to prioritize reducing the impact of larger errors in your predictions.\n",
    "\n",
    "# Therefore, when MSE and RMSE values are very close and considering the factors mentioned above, using RMSE as the evaluation metric for your SVM regression model with a\n",
    "# polynomial kernel would be the preferred choice."
   ]
  },
  {
   "cell_type": "code",
   "execution_count": 11,
   "id": "cc2d4963-fd3a-48fb-9574-c189f42d4585",
   "metadata": {},
   "outputs": [],
   "source": [
    "##########################################################################################################################\n",
    "# Ans 05:"
   ]
  },
  {
   "cell_type": "code",
   "execution_count": 12,
   "id": "a3853c22-5fdb-4bc5-89ad-b42048ae06bb",
   "metadata": {},
   "outputs": [],
   "source": [
    "# When comparing the performance of different SVM regression models using different kernels and aiming to measure how well the models explain the variance\n",
    "# in the target variable, the most appropriate evaluation metric would be the coefficient of determination, commonly known as R-squared.\n",
    "\n",
    "# Here's why R-squared is the most suitable metric for this goal:\n",
    "# 1. Measuring Explained Variance: R-squared quantifies the proportion of the variance in the target variable that is explained by the independent variables (features)\n",
    "# included in the model. In other words, it assesses the goodness of fit of the model to the data by measuring how well the model captures the variability in the\n",
    "# target variable.\n",
    "# 2. Comparison Across Models: R-squared allows for direct comparison of the explanatory power of different SVM regression models with different kernels. A higher R-squared\n",
    "# value indicates that a larger proportion of the variance in the target variable is explained by the model, suggesting better performance in capturing the underlying\n",
    "# patterns in the data.\n",
    "# 3. Interpretability: R-squared has a straightforward interpretation, as it represents the percentage of variance in the target variable that is accounted for by the\n",
    "# independent variables in the model. This makes it easy to understand and communicate the model's explanatory power to stakeholders.\n",
    "\n",
    "# Therefore, when the goal is to measure how well SVM regression models with different kernels explain the variance in the target variable, R-squared would be the most\n",
    "# appropriate evaluation metric to use."
   ]
  },
  {
   "cell_type": "code",
   "execution_count": 14,
   "id": "d0c7b765-8c92-47a3-a2a0-d59d67461d12",
   "metadata": {},
   "outputs": [],
   "source": [
    "##########################################################################################################################"
   ]
  }
 ],
 "metadata": {
  "kernelspec": {
   "display_name": "Python 3 (ipykernel)",
   "language": "python",
   "name": "python3"
  },
  "language_info": {
   "codemirror_mode": {
    "name": "ipython",
    "version": 3
   },
   "file_extension": ".py",
   "mimetype": "text/x-python",
   "name": "python",
   "nbconvert_exporter": "python",
   "pygments_lexer": "ipython3",
   "version": "3.11.7"
  }
 },
 "nbformat": 4,
 "nbformat_minor": 5
}
