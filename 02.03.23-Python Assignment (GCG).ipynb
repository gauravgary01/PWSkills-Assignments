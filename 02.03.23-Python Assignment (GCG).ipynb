{
 "cells": [
  {
   "cell_type": "code",
   "execution_count": 1,
   "id": "cfe6a974-72d8-4765-860d-966d1c78248b",
   "metadata": {},
   "outputs": [],
   "source": [
    "# Ans 01:"
   ]
  },
  {
   "cell_type": "code",
   "execution_count": 2,
   "id": "ff63af76-edff-44fe-af62-488eb3fc9d77",
   "metadata": {},
   "outputs": [],
   "source": [
    "# The keyword used to define a function is 'def' as in 'def function_name(a)', so as to define a function\n",
    "# (function_name) for variable 'a'."
   ]
  },
  {
   "cell_type": "code",
   "execution_count": 3,
   "id": "e0e5e8c1-f6ca-4096-9543-e0a09a345e4a",
   "metadata": {},
   "outputs": [],
   "source": [
    "list_of_numbers = list(range(1,26))\n",
    "\n",
    "def test1(a):\n",
    "    \"\"\"This is a function to extract the odd number from a list_of_numbers\"\"\"\n",
    "    resultant_list = []\n",
    "    for i in list_of_numbers:\n",
    "        if i == 1 or i % 2 == 1:\n",
    "            resultant_list.append(i)\n",
    "    return resultant_list"
   ]
  },
  {
   "cell_type": "code",
   "execution_count": 4,
   "id": "31a389d1-6186-45d0-9027-d8e5b8c44868",
   "metadata": {},
   "outputs": [
    {
     "data": {
      "text/plain": [
       "[1, 3, 5, 7, 9, 11, 13, 15, 17, 19, 21, 23, 25]"
      ]
     },
     "execution_count": 4,
     "metadata": {},
     "output_type": "execute_result"
    }
   ],
   "source": [
    "test1(list_of_numbers)"
   ]
  },
  {
   "cell_type": "code",
   "execution_count": 5,
   "id": "399f4591-e981-4dd5-a030-bcd92935860a",
   "metadata": {},
   "outputs": [],
   "source": [
    "####################################################################################"
   ]
  },
  {
   "cell_type": "code",
   "execution_count": 6,
   "id": "5121f417-4083-41f5-8df7-61682c2d2280",
   "metadata": {},
   "outputs": [],
   "source": [
    "# Ans 02:"
   ]
  },
  {
   "cell_type": "code",
   "execution_count": 7,
   "id": "8aa58517-24a3-4147-81e1-e00ade8dbd0b",
   "metadata": {},
   "outputs": [],
   "source": [
    "# In Python, *args and **kwargs are special syntax that can be used in function definitions to pass a variable\n",
    "# number of arguments to a function.\n",
    "# The *args syntax allows a function to accept an arbitrary number of positional arguments as a tuple, while\n",
    "# **kwargs allows a function to accept an arbitrary number of keyword arguments as a dictionary."
   ]
  },
  {
   "cell_type": "code",
   "execution_count": 8,
   "id": "72f2b1ab-c9e4-4897-9a60-dd5e11522b73",
   "metadata": {},
   "outputs": [],
   "source": [
    "# Using *args"
   ]
  },
  {
   "cell_type": "code",
   "execution_count": 9,
   "id": "56371497-a238-411f-8107-0ede8cbd21ab",
   "metadata": {},
   "outputs": [],
   "source": [
    "def find_average(*args):\n",
    "    return sum(args) / len(args)"
   ]
  },
  {
   "cell_type": "code",
   "execution_count": 10,
   "id": "12690d00-fdac-4ed3-aa85-83a7f4c78470",
   "metadata": {},
   "outputs": [
    {
     "data": {
      "text/plain": [
       "5.5"
      ]
     },
     "execution_count": 10,
     "metadata": {},
     "output_type": "execute_result"
    }
   ],
   "source": [
    "find_average(1,2,3,4,5,6,7,8,9,10)"
   ]
  },
  {
   "cell_type": "code",
   "execution_count": 11,
   "id": "7b188192-43d3-45ce-88d9-be50117a7cd6",
   "metadata": {},
   "outputs": [],
   "source": [
    "# Using **kwargs"
   ]
  },
  {
   "cell_type": "code",
   "execution_count": 12,
   "id": "2f2fd686-574f-4753-a1a8-37c427b09ceb",
   "metadata": {},
   "outputs": [],
   "source": [
    "def area_of_rect(**kwargs):\n",
    "    if \"l\" in kwargs and \"w\" in kwargs:\n",
    "        return kwargs[\"l\"] * kwargs[\"w\"]\n",
    "    else:\n",
    "        return None"
   ]
  },
  {
   "cell_type": "code",
   "execution_count": 13,
   "id": "fd14cbdc-9c1a-4ad5-86ef-7c66da8accc8",
   "metadata": {},
   "outputs": [
    {
     "name": "stdout",
     "output_type": "stream",
     "text": [
      "150\n"
     ]
    }
   ],
   "source": [
    "print(area_of_rect(l=10, w=15))"
   ]
  },
  {
   "cell_type": "code",
   "execution_count": 14,
   "id": "db08bc26-5bb4-493a-9e27-045d05a8319c",
   "metadata": {},
   "outputs": [],
   "source": [
    "####################################################################################"
   ]
  },
  {
   "cell_type": "code",
   "execution_count": 15,
   "id": "95c8dcd9-e54d-4603-9173-92d0d2efdbc1",
   "metadata": {},
   "outputs": [],
   "source": [
    "# Ans 03:"
   ]
  },
  {
   "cell_type": "code",
   "execution_count": 16,
   "id": "1a325763-5267-4f09-806f-520cdc00ac8b",
   "metadata": {},
   "outputs": [],
   "source": [
    "# In Python, an iterator is an object that enables the traversal of a container (such as a list, tuple, dictionary, or set) in a\n",
    "# sequential manner, one element at a time.\n",
    "# To initialize an iterator object in Python, we use the built-in iter() function. The iter() function takes a container as an argument\n",
    "# and returns an iterator object that can be used to iterate over the elements of the container.\n",
    "# Once we have an iterator object, we can use the built-in next() function to retrieve the next element in the sequence. The next()\n",
    "# function advances the iterator to the next element and returns it. When there are no more elements in the sequence, next() raises\n",
    "# the StopIteration exception.\n",
    "\n",
    "# container.__iter__():\n",
    "#     Return an iterator object.\n",
    "\n",
    "# iterator.__next__():\n",
    "#     Return the next item from the container.\n",
    "#     If there are no further items,\n",
    "#     raise the StopIteration exception."
   ]
  },
  {
   "cell_type": "code",
   "execution_count": 17,
   "id": "e8bd76e1-dab3-4f9f-9caa-56260838b702",
   "metadata": {},
   "outputs": [
    {
     "name": "stdout",
     "output_type": "stream",
     "text": [
      "2\n",
      "4\n",
      "6\n",
      "8\n",
      "10\n"
     ]
    }
   ],
   "source": [
    "l1 = [2,4,6,8,10,12,14,16,18,20]\n",
    "num = l1.__iter__()\n",
    "print(num.__next__())\n",
    "print(num.__next__())\n",
    "print(num.__next__())\n",
    "print(num.__next__())\n",
    "print(num.__next__())"
   ]
  },
  {
   "cell_type": "code",
   "execution_count": 18,
   "id": "6761c3fd-d431-44fe-b070-124de0c1dfe5",
   "metadata": {},
   "outputs": [],
   "source": [
    "# or"
   ]
  },
  {
   "cell_type": "code",
   "execution_count": 19,
   "id": "7ff2ab67-abd0-43ea-a952-71d9c09ba95e",
   "metadata": {},
   "outputs": [
    {
     "name": "stdout",
     "output_type": "stream",
     "text": [
      "2\n",
      "4\n",
      "6\n",
      "8\n",
      "10\n"
     ]
    }
   ],
   "source": [
    "l1 = [2,4,6,8,10,12,14,16,18,20]\n",
    "num = iter(l1)\n",
    "print(next(num))\n",
    "print(next(num))\n",
    "print(next(num))\n",
    "print(next(num))\n",
    "print(next(num))"
   ]
  },
  {
   "cell_type": "code",
   "execution_count": 20,
   "id": "e447e30d-c2f8-4d32-950d-8fefec85b491",
   "metadata": {},
   "outputs": [],
   "source": [
    "####################################################################################"
   ]
  },
  {
   "cell_type": "code",
   "execution_count": 21,
   "id": "5e43e6b0-89bb-4b1f-a7cd-5772dba9add3",
   "metadata": {},
   "outputs": [],
   "source": [
    "# Ans 04:"
   ]
  },
  {
   "cell_type": "code",
   "execution_count": 22,
   "id": "40f3a76e-b1b4-4fe8-8a70-494ff48709ab",
   "metadata": {},
   "outputs": [],
   "source": [
    "# In Python, a generator function is a special type of function that allows you to generate a sequence of values on the fly, without\n",
    "# having to store them in memory.\n",
    "# Instead of returning a value and exiting like a regular function, a generator function uses the 'yield' keyword to produce a series\n",
    "# of values, one at a time, and then pauses execution until the next value is requested. The generator function can be resumed from\n",
    "# where it left off, picking up the execution state from the previous yield statement."
   ]
  },
  {
   "cell_type": "code",
   "execution_count": 23,
   "id": "103e7234-eac8-491f-a379-1eda69674d8a",
   "metadata": {},
   "outputs": [],
   "source": [
    "def infinite_sequence():\n",
    "    num = 0\n",
    "    while True:\n",
    "        yield num\n",
    "        num += 1"
   ]
  },
  {
   "cell_type": "code",
   "execution_count": 24,
   "id": "4d8a6ae2-9c28-4316-925f-599a0d5d13b0",
   "metadata": {},
   "outputs": [],
   "source": [
    "gen = infinite_sequence()"
   ]
  },
  {
   "cell_type": "code",
   "execution_count": 25,
   "id": "3415bb25-c7b2-427e-b6bd-8a07e422e0ab",
   "metadata": {},
   "outputs": [
    {
     "data": {
      "text/plain": [
       "0"
      ]
     },
     "execution_count": 25,
     "metadata": {},
     "output_type": "execute_result"
    }
   ],
   "source": [
    "next(gen)"
   ]
  },
  {
   "cell_type": "code",
   "execution_count": 26,
   "id": "8906e4df-9642-48c4-86c9-960d17c787bb",
   "metadata": {},
   "outputs": [
    {
     "data": {
      "text/plain": [
       "1"
      ]
     },
     "execution_count": 26,
     "metadata": {},
     "output_type": "execute_result"
    }
   ],
   "source": [
    "next(gen)"
   ]
  },
  {
   "cell_type": "code",
   "execution_count": 27,
   "id": "d35293c3-932b-454a-be48-e187c92f5a2d",
   "metadata": {},
   "outputs": [
    {
     "data": {
      "text/plain": [
       "2"
      ]
     },
     "execution_count": 27,
     "metadata": {},
     "output_type": "execute_result"
    }
   ],
   "source": [
    "next(gen)"
   ]
  },
  {
   "cell_type": "code",
   "execution_count": 28,
   "id": "c083dd3e-fb7c-4b4f-b346-a7e65d10eef4",
   "metadata": {},
   "outputs": [
    {
     "data": {
      "text/plain": [
       "3"
      ]
     },
     "execution_count": 28,
     "metadata": {},
     "output_type": "execute_result"
    }
   ],
   "source": [
    "next(gen)"
   ]
  },
  {
   "cell_type": "code",
   "execution_count": 29,
   "id": "e071a702-e2a4-4d72-bbeb-96eaadb395c2",
   "metadata": {},
   "outputs": [],
   "source": [
    "####################################################################################"
   ]
  },
  {
   "cell_type": "code",
   "execution_count": 30,
   "id": "db2c6ff9-48e3-4ce3-84f8-4706f4841a94",
   "metadata": {},
   "outputs": [],
   "source": [
    "# Ans 05:"
   ]
  },
  {
   "cell_type": "code",
   "execution_count": 31,
   "id": "d83c4d3e-6813-4a50-9c38-09b382373f2f",
   "metadata": {},
   "outputs": [],
   "source": [
    "def primes():\n",
    "    numbers = list(range(2,1000))\n",
    "    while numbers:\n",
    "        prime = numbers[0]\n",
    "        yield prime\n",
    "        numbers = [n for n in numbers if n % prime !=0]"
   ]
  },
  {
   "cell_type": "code",
   "execution_count": 32,
   "id": "e4504a1f-fa88-4599-bd4d-bc03c6474534",
   "metadata": {},
   "outputs": [
    {
     "name": "stdout",
     "output_type": "stream",
     "text": [
      "2\n",
      "3\n",
      "5\n",
      "7\n",
      "11\n",
      "13\n",
      "17\n",
      "19\n",
      "23\n",
      "29\n",
      "31\n",
      "37\n",
      "41\n",
      "43\n",
      "47\n",
      "53\n",
      "59\n",
      "61\n",
      "67\n",
      "71\n"
     ]
    }
   ],
   "source": [
    "prime_gen = primes()\n",
    "for i in range(20):\n",
    "    print(next(prime_gen))"
   ]
  },
  {
   "cell_type": "code",
   "execution_count": 33,
   "id": "340c8864-f4a6-4a21-b7c1-0a2d042b334f",
   "metadata": {},
   "outputs": [],
   "source": [
    "####################################################################################"
   ]
  },
  {
   "cell_type": "code",
   "execution_count": 34,
   "id": "34d2c29a-dcfc-484a-9f16-383b8c70cca8",
   "metadata": {},
   "outputs": [],
   "source": [
    "# Ans 06:"
   ]
  },
  {
   "cell_type": "code",
   "execution_count": 35,
   "id": "2e50c7a0-610b-4d2d-bad6-24c82006c9d6",
   "metadata": {},
   "outputs": [
    {
     "name": "stdout",
     "output_type": "stream",
     "text": [
      "0\n",
      "1\n",
      "1\n",
      "2\n",
      "3\n",
      "5\n",
      "8\n",
      "13\n",
      "21\n",
      "34\n"
     ]
    }
   ],
   "source": [
    "a,b = 0,1\n",
    "count = 0\n",
    "while count < 10:\n",
    "    print(a)\n",
    "    a, b = b, a + b\n",
    "    count += 1"
   ]
  },
  {
   "cell_type": "code",
   "execution_count": 36,
   "id": "185825d5-f25a-4dbb-9222-5e28c249d995",
   "metadata": {},
   "outputs": [],
   "source": [
    "####################################################################################"
   ]
  },
  {
   "cell_type": "code",
   "execution_count": 37,
   "id": "a179407d-cd44-4006-b328-b253c75a2943",
   "metadata": {},
   "outputs": [],
   "source": [
    "# Ans 07:"
   ]
  },
  {
   "cell_type": "code",
   "execution_count": 38,
   "id": "33743f74-74ae-469c-9086-ec0d8a23ef63",
   "metadata": {},
   "outputs": [
    {
     "data": {
      "text/plain": [
       "['p', 'w', 's', 'k', 'i', 'l', 'l', 's']"
      ]
     },
     "execution_count": 38,
     "metadata": {},
     "output_type": "execute_result"
    }
   ],
   "source": [
    "[letter for letter in \"pwskills\"] # Insert desired string between \"\" (inverted commas)"
   ]
  },
  {
   "cell_type": "code",
   "execution_count": 39,
   "id": "d5c0b35a-53f5-4a8b-97a8-e8a56c0d49d2",
   "metadata": {},
   "outputs": [],
   "source": [
    "# or"
   ]
  },
  {
   "cell_type": "code",
   "execution_count": 40,
   "id": "1db3f119-eee9-4f5c-a757-bfe7e74cb80a",
   "metadata": {},
   "outputs": [
    {
     "name": "stdin",
     "output_type": "stream",
     "text": [
      "Please enter desired word/words pwskills\n"
     ]
    },
    {
     "data": {
      "text/plain": [
       "['p', 'w', 's', 'k', 'i', 'l', 'l', 's']"
      ]
     },
     "execution_count": 40,
     "metadata": {},
     "output_type": "execute_result"
    }
   ],
   "source": [
    "[letter for letter in str(input(\"Please enter desired word/words\"))]"
   ]
  },
  {
   "cell_type": "code",
   "execution_count": 41,
   "id": "67fdf8f7-43c8-4f04-bd16-2be07a236398",
   "metadata": {},
   "outputs": [],
   "source": [
    "####################################################################################"
   ]
  },
  {
   "cell_type": "code",
   "execution_count": 42,
   "id": "667c0379-2cb7-4564-b402-ced4050da5a2",
   "metadata": {},
   "outputs": [],
   "source": [
    "# Ans 08:"
   ]
  },
  {
   "cell_type": "code",
   "execution_count": 43,
   "id": "97f4078c-3ba9-42e0-bc2b-ede5e36b2544",
   "metadata": {},
   "outputs": [
    {
     "name": "stdin",
     "output_type": "stream",
     "text": [
      "Enter number 55\n"
     ]
    },
    {
     "name": "stdout",
     "output_type": "stream",
     "text": [
      "Palindromic number.\n"
     ]
    }
   ],
   "source": [
    "Number = int(input(\"Enter number\"))\n",
    "if str(Number) == str(Number)[::-1]:\n",
    "    print(\"Palindromic number.\")\n",
    "else:\n",
    "    print(\"Not a palindromic number\")"
   ]
  },
  {
   "cell_type": "code",
   "execution_count": 44,
   "id": "65841370-6f33-4178-bb0e-13250313e0d8",
   "metadata": {},
   "outputs": [],
   "source": [
    "####################################################################################"
   ]
  },
  {
   "cell_type": "code",
   "execution_count": 45,
   "id": "a558639b-02d2-4ea8-9d7b-f175ef48abfb",
   "metadata": {},
   "outputs": [],
   "source": [
    "# Ans 09:"
   ]
  },
  {
   "cell_type": "code",
   "execution_count": 46,
   "id": "7f56ce2e-7b00-4d06-9f4b-373a6b3c5d45",
   "metadata": {},
   "outputs": [
    {
     "data": {
      "text/plain": [
       "[1,\n",
       " 3,\n",
       " 5,\n",
       " 7,\n",
       " 9,\n",
       " 11,\n",
       " 13,\n",
       " 15,\n",
       " 17,\n",
       " 19,\n",
       " 21,\n",
       " 23,\n",
       " 25,\n",
       " 27,\n",
       " 29,\n",
       " 31,\n",
       " 33,\n",
       " 35,\n",
       " 37,\n",
       " 39,\n",
       " 41,\n",
       " 43,\n",
       " 45,\n",
       " 47,\n",
       " 49,\n",
       " 51,\n",
       " 53,\n",
       " 55,\n",
       " 57,\n",
       " 59,\n",
       " 61,\n",
       " 63,\n",
       " 65,\n",
       " 67,\n",
       " 69,\n",
       " 71,\n",
       " 73,\n",
       " 75,\n",
       " 77,\n",
       " 79,\n",
       " 81,\n",
       " 83,\n",
       " 85,\n",
       " 87,\n",
       " 89,\n",
       " 91,\n",
       " 93,\n",
       " 95,\n",
       " 97,\n",
       " 99]"
      ]
     },
     "execution_count": 46,
     "metadata": {},
     "output_type": "execute_result"
    }
   ],
   "source": [
    "l = list(range(1,101))\n",
    "[i for i in l if i % 2 == 1]"
   ]
  },
  {
   "cell_type": "code",
   "execution_count": 47,
   "id": "9e66e394-d263-49f2-95d3-afdc06ef35e6",
   "metadata": {},
   "outputs": [],
   "source": [
    "####################################################################################"
   ]
  }
 ],
 "metadata": {
  "kernelspec": {
   "display_name": "Python 3 (ipykernel)",
   "language": "python",
   "name": "python3"
  },
  "language_info": {
   "codemirror_mode": {
    "name": "ipython",
    "version": 3
   },
   "file_extension": ".py",
   "mimetype": "text/x-python",
   "name": "python",
   "nbconvert_exporter": "python",
   "pygments_lexer": "ipython3",
   "version": "3.10.8"
  }
 },
 "nbformat": 4,
 "nbformat_minor": 5
}
