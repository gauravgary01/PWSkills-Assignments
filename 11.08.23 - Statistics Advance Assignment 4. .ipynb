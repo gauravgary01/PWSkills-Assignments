{
 "cells": [
  {
   "cell_type": "code",
   "execution_count": 1,
   "id": "d077d917-1ebd-4ec6-b60c-856f62b5a00c",
   "metadata": {
    "tags": []
   },
   "outputs": [],
   "source": [
    "#Ans 01:"
   ]
  },
  {
   "cell_type": "code",
   "execution_count": 2,
   "id": "ebe3c326-0df8-4d5a-ba76-35414e6d5c71",
   "metadata": {
    "tags": []
   },
   "outputs": [],
   "source": [
    "# T-test and Z-test are both statistical hypothesis tests used to make inferences about population parameters\n",
    "# based on sample data. The key difference between them lies in the circumstances in which they are used and the\n",
    "# assumptions they make about the data.\n",
    "\n",
    "\n",
    "# T-Test:\n",
    "\n",
    "# T-tests are used when you are working with small sample sizes (typically less than 30) or when the population standar\n",
    "# deviation is unknown.\n",
    "# They assume that the sample data follows a normal distribution or is approximately normally distributed.\n",
    "# T-tests are commonly used to compare the means of two groups or to test whether a sample mean is significantly different\n",
    "# from a known or hypothesized population mean.\n",
    "\n",
    "# Example Scenario: Suppose you want to determine if there's a significant difference in the average test scores between\n",
    "# two different classes (Class A and Class B). You collect sample scores from each class and use a t-test to compare the means.\n",
    "\n",
    "\n",
    "# Z-Test:\n",
    "\n",
    "# Z-tests are used when you have a large sample size (typically more than 30) and you know the population standard deviation.\n",
    "# They assume that the sample data follows a normal distribution or is approximately normally distributed.\n",
    "# Z-tests are often used when you want to test a sample mean against a known population mean.\n",
    "\n",
    "# Example Scenario: Let's say a company claims that the average time it takes to deliver a product to customers is 5 days, and\n",
    "# you have collected a large sample of delivery times (n > 30) with known population standard deviation. In this case, you can\n",
    "# use a Z-test to determine if the company's claim about the delivery time is statistically accurate.\n",
    "\n",
    "\n",
    "# In summary, the choice between a t-test and a z-test depends on the sample size, the availability of the population standard\n",
    "# deviation, and the underlying distribution of the data. T-tests are more versatile and commonly used when dealing with smaller\n",
    "# samples or when the population standard deviation is unknown. Z-tests are used when you have a larger sample and know the\n",
    "# population standard deviation. Both tests help you make inferences about population parameters based on sample data."
   ]
  },
  {
   "cell_type": "code",
   "execution_count": 3,
   "id": "4ccd66e1-4ef1-4e4d-8db8-c55021190b69",
   "metadata": {
    "tags": []
   },
   "outputs": [],
   "source": [
    "############################################################################################\n",
    "#Ans 02:"
   ]
  },
  {
   "cell_type": "code",
   "execution_count": 4,
   "id": "eb242416-73c5-42a5-a1ce-d582d9b167de",
   "metadata": {
    "tags": []
   },
   "outputs": [],
   "source": [
    "# One-Tailed Test and Two-Tailed Test are types of statistical hypothesis tests that differ in the directionality\n",
    "# of the test and the way they assess the significance of a result. Here's how they differ:\n",
    "\n",
    "\n",
    "# One-Tailed Test:\n",
    "\n",
    "# In a one-tailed test, you are specifically interested in whether a parameter is greater than or less than a certain\n",
    "# value, but not both.\n",
    "# It is used when you have a specific direction in mind based on your research hypothesis or theory.\n",
    "# The critical region for the test is only on one side of the distribution (either the right side or the left side).\n",
    "# The significance level (alpha) is concentrated in one tail of the distribution.\n",
    "\n",
    "# Example: You want to test if a new drug increases the average test scores of students. Your null hypothesis (H0) is\n",
    "# that the drug has no effect or decreases scores, and your alternative hypothesis (H1) is that the drug increases scores.\n",
    "# In this case, you would conduct a one-tailed test looking for a positive effect.\n",
    "\n",
    "\n",
    "# Two-Tailed Test:\n",
    "\n",
    "# In a two-tailed test, you are interested in whether a parameter is different from a certain value, but you do not specify\n",
    "# a direction (greater or less than).\n",
    "# It is used when you want to test if there's a significant difference in either direction, and you are not making a specific\n",
    "# prediction about the outcome.\n",
    "# The critical region for the test is split between both sides of the distribution.\n",
    "# The significance level (alpha) is divided between both tails of the distribution.\n",
    "\n",
    "# Example: You want to test if a coin is fair, i.e., whether it's equally likely to land heads or tails. Your null hypothesis (H0)\n",
    "# is that the coin is fair (p = 0.5), and your alternative hypothesis (H1) is that the coin is not fair (p ≠ 0.5). In this case,\n",
    "# you would conduct a two-tailed test to see if the coin's probability of landing heads or tails is significantly different\n",
    "# from 0.5.\n",
    "\n",
    "\n",
    "# In summary, the choice between a one-tailed test and a two-tailed test depends on your research question and the specific\n",
    "# hypotheses you want to test. One-tailed tests are more focused on a specific direction of effect, while two-tailed tests are\n",
    "# used when you want to determine if a parameter is significantly different from a reference value without specifying a\n",
    "# direction. The choice between the two depends on the goals and expectations of your research."
   ]
  },
  {
   "cell_type": "code",
   "execution_count": 5,
   "id": "ab3ce0ed-1b73-48be-89ee-0a025ab418da",
   "metadata": {
    "tags": []
   },
   "outputs": [],
   "source": [
    "############################################################################################\n",
    "#Ans 03:"
   ]
  },
  {
   "cell_type": "code",
   "execution_count": 6,
   "id": "8942ebdb-dcd8-49d4-b268-ed3c91204f29",
   "metadata": {
    "tags": []
   },
   "outputs": [],
   "source": [
    "# Type I and Type II errors are two critical concepts in hypothesis testing that help us understand the potential\n",
    "# mistakes we can make when testing hypotheses. They are associated with the decisions made when conducting a\n",
    "# hypothesis test.\n",
    "\n",
    "\n",
    "# Type I Error (False Positive):\n",
    "\n",
    "# Type I error occurs when a null hypothesis that is actually true is rejected.\n",
    "# It is also known as a \"false positive\" or a \"false alarm.\"\n",
    "# The probability of committing a Type I error is denoted by the symbol alpha (α), and it is typically set as the significance\n",
    "# level in hypothesis testing (e.g., α = 0.05).\n",
    "# Type I errors are more likely to happen when the significance level (α) is set at a lower value (e.g., 0.01) because it means\n",
    "# you're more stringent in rejecting the null hypothesis.\n",
    "\n",
    "# Example Scenario:\n",
    "# Imagine a medical diagnostic test for a disease that is highly specific but not very sensitive. If the test has a 5% Type I\n",
    "# error rate (α = 0.05) and a patient without the disease receives a positive test result, it's a Type I error. The test\n",
    "# wrongly indicates the presence of the disease when it's not there.\n",
    "\n",
    "\n",
    "# Type II Error (False Negative):\n",
    "\n",
    "# Type II error occurs when a null hypothesis that is actually false is not rejected.\n",
    "# It is also known as a \"false negative.\"\n",
    "# The probability of committing a Type II error is denoted by the symbol beta (β).\n",
    "# The power of a statistical test (1 - β) represents the probability of correctly rejecting a false null hypothesis.\n",
    "# Type II errors are more likely to occur when the sample size is small or when the effect size is small, making it harder to\n",
    "# detect a true effect.\n",
    "\n",
    "# Example Scenario:\n",
    "# Consider a clinical trial for a new drug to treat a disease. The null hypothesis is that the drug has no effect, and the\n",
    "# alternative hypothesis is that it does have an effect. If the drug does have a beneficial effect, but the clinical trial fails\n",
    "# to detect it, it's a Type II error. This means patients miss out on a potentially effective treatment due to a false negative\n",
    "# result.\n",
    "\n",
    "\n",
    "# In summary, Type I errors involve rejecting a true null hypothesis (false positives), while Type II errors involve not\n",
    "# rejecting a false null hypothesis (false negatives). The significance level (α) and the power of the test (1 - β) are key\n",
    "# factors in controlling and understanding the balance between these two types of errors. Researchers aim to minimize both\n",
    "# types of errors by selecting appropriate significance levels and sample sizes when conducting hypothesis tests, depending\n",
    "# on the context and consequences of making these errors."
   ]
  },
  {
   "cell_type": "code",
   "execution_count": 7,
   "id": "62e438a4-9ec4-427f-9956-1b892b7084ee",
   "metadata": {
    "tags": []
   },
   "outputs": [],
   "source": [
    "############################################################################################\n",
    "#Ans 04:"
   ]
  },
  {
   "cell_type": "code",
   "execution_count": 8,
   "id": "6985ae2c-7e9b-48d6-b4d0-84e346f8debc",
   "metadata": {
    "tags": []
   },
   "outputs": [],
   "source": [
    "# Bayes's theorem is a fundamental concept in probability theory and statistics that describes how to update\n",
    "# our beliefs or probabilities about an event based on new evidence or information. It allows us to calculate the\n",
    "# probability of an event, given prior knowledge and new data. Bayes's theorem is particularly important in Bayesian\n",
    "# statistics and machine learning.\n",
    "\n",
    "# The theorem can be expressed as follows:\n",
    "    \n",
    "#     P(A∣B)= (P(B∣A)⋅P(A))/P(B)\n",
    "\n",
    "# Where:\n",
    "# P(A∣B) is the probability of event A occurring given that event B has occurred.\n",
    "# P(B∣A) is the probability of event B occurring given that event A has occurred.\n",
    "# P(A) is the prior probability of event A.\n",
    "# P(B) is the prior probability of event B.\n",
    "\n",
    "# Here's a simple example to illustrate Bayes's theorem:\n",
    "\n",
    "# Imagine you are a doctor and you want to determine the probability that a patient has a certain disease (let's call it\n",
    "# Disease X) based on the results of a diagnostic test.\n",
    "\n",
    "# P(A): This is the prior probability of a patient having Disease X without any information from the test. For example,\n",
    "# it might be the population prevalence of the disease.\n",
    "# P(B): This is the probability of getting a positive test result, which can occur in two situations: when a patient has\n",
    "# the disease and when a patient does not have the disease. So, \n",
    "# P(B)=P(B∣A)⋅P(A)+P(B∣¬A)⋅P(¬A)\n",
    "\n",
    "# where:\n",
    "# P(¬A) is the probability of not having Disease X.\n",
    "# P(B∣A): This is the probability of getting a positive test result given that the patient has Disease X. It's the true\n",
    "# positive rate or sensitivity of the test.\n",
    "# P(B∣¬A): This is the probability of getting a positive test result given that the patient does not have Disease X.\n",
    "# It's the false positive rate or 1 minus the specificity of the test.\n",
    "\n",
    "# You may also want to calculate P(A∣B), which is the posterior probability of the patient having Disease X after receiving\n",
    "# a positive test result.\n",
    "\n",
    "# Example values:\n",
    "\n",
    "# Prior probability:\n",
    "# P(A)=0.02 (2% of the population has Disease X).\n",
    "# True positive rate:\n",
    "# P(B∣A)=0.95 (95% sensitivity).\n",
    "# False positive rate:\n",
    "# P(B∣¬A)=0.10 (10% false positives).\n",
    "\n",
    "# Now, you can use Bayes's theorem to calculate P(A∣B), the probability that a patient has Disease X given a positive test result:\n",
    "\n",
    "# P(A∣B) = (P(B∣A)⋅P(A))/P(B) =(0.95 * 0.02)/(0.02 * 0.95)+((1−0.02) * 0.10) ≈ 0.16\n",
    "\n",
    "# So, with a positive test result, the probability that the patient actually has Disease X is approximately 16%. Bayes's\n",
    "# theorem helps you update your belief in light of new information (the test result) and provides a more accurate estimate\n",
    "# of the patient's condition."
   ]
  },
  {
   "cell_type": "code",
   "execution_count": 9,
   "id": "9d002d61-31d3-4d83-9cbe-d60201d6d07f",
   "metadata": {
    "tags": []
   },
   "outputs": [],
   "source": [
    "############################################################################################\n",
    "#Ans 05:"
   ]
  },
  {
   "cell_type": "code",
   "execution_count": 10,
   "id": "e48e2e6a-6fe2-4b66-9815-940088a17cb6",
   "metadata": {
    "tags": []
   },
   "outputs": [],
   "source": [
    "# A confidence interval (CI) is a range of values that provides a plausible range for an unknown population\n",
    "# parameter. It quantifies the uncertainty associated with estimating a population parameter from a sample. A common\n",
    "# use of confidence intervals is in estimating the mean, but they can be used for other parameters such as proportions,\n",
    "# variances, and more.\n",
    "\n",
    "# A confidence interval is expressed as an interval estimate and is typically associated with a confidence level, often\n",
    "# expressed as a percentage (e.g., 95% confidence interval). The confidence level represents the probability that the\n",
    "# calculated interval contains the true population parameter. For example, a 95% confidence interval implies that if you\n",
    "# were to take many samples and calculate 95% confidence intervals from each sample, you would expect approximately 95%\n",
    "# of these intervals to contain the true population parameter.\n",
    "\n",
    "# To calculate a confidence interval for a population parameter (e.g., the mean), you can use the following formula (for\n",
    "# a 95% confidence interval):\n",
    "    \n",
    "#     C.I = sample mean ± ((critical value * standard error)/sqrt.(n))\n",
    "\n",
    "# Where:\n",
    "# \"Sample mean\" is the mean of your sample.\n",
    "# \"Critical value\" is the value from the standard normal distribution (or other distribution) that corresponds to your\n",
    "# desired confidence level (e.g., for a 95% confidence interval, the critical value is typically around 1.96 for a large\n",
    "# sample size when using the standard normal distribution).\n",
    "# \"Standard error\" is the standard deviation of the sample divided by the square root of the sample size:\n",
    "#     standard error = sample standard deviation/sqrt.(n)\n",
    "# \"n\" is the sample size.\n",
    "\n",
    "# Here's an example to illustrate how to calculate a 95% confidence interval for the mean:\n",
    "\n",
    "# Suppose you want to estimate the average height of a population of 100 people. You take a random sample of 30 people and\n",
    "# measure their heights. The sample mean height is 170 cm, and the sample standard deviation is 5 cm.\n",
    "\n",
    "# Find the critical value associated with a 95% confidence level. For the standard normal distribution, this is approximately 1.96.\n",
    "\n",
    "# Calculate the standard error:\n",
    "\n",
    "# Calculate the confidence interval:\n",
    "\n",
    "# So, the 95% confidence interval for the mean height of the population is approximately (168.22 cm, 171.78 cm). This means you can\n",
    "# be reasonably confident that the true population mean height falls within this interval."
   ]
  },
  {
   "cell_type": "code",
   "execution_count": 11,
   "id": "590ba61f-d753-4a76-8537-5e68b437637f",
   "metadata": {
    "tags": []
   },
   "outputs": [],
   "source": [
    "############################################################################################\n",
    "#Ans 06:"
   ]
  },
  {
   "cell_type": "code",
   "execution_count": 12,
   "id": "67b6a58e-d781-4ac3-8af0-dc6d7b8ba53c",
   "metadata": {
    "tags": []
   },
   "outputs": [],
   "source": [
    "# Suppose you are trying to diagnose a rare disease, Disease X, which affects 1% of the population. You have a\n",
    "# diagnostic test that correctly identifies the disease (true positive) 95% of the time and incorrectly indicates the\n",
    "# presence of the disease in 2% of cases where the disease is not present (false positive). You want to know the probability\n",
    "# that a patient actually has Disease X if they test positive.\n",
    "\n",
    "# In this problem:\n",
    "# P(A) represents the prior probability of having Disease X (1% or 0.01).\n",
    "# P(B∣A) is the probability of testing positive given that the patient has Disease X (95% or 0.95).\n",
    "# P(B∣¬A) is the probability of testing positive given that the patient does not have Disease X (2% or 0.02).\n",
    "\n",
    "# You want to calculate P(A∣B), which is the probability that the patient has Disease X given that they test positive.\n",
    "\n",
    "# Using Bayes' Theorem:\n",
    "\n",
    "#     P(A∣B)= (P(B∣A)⋅P(A))/P(B)\n",
    "\n",
    "# To find P(B), you can use the law of total probability:\n",
    "    \n",
    "#     P(B)=P(B∣A)⋅P(A)+P(B∣¬A)⋅P(¬A)\n",
    "    \n",
    "# P(¬A) is the complement of P(A) (i.e., 1 - P(A) or 0.99).\n",
    "\n",
    "# Now, let's plug in the values:\n",
    "# P(B) = (0.95 * 0.01) + (0.02 * 0.99) ≈ 0.0297\n",
    "\n",
    "# Now, you can calculate P(A∣B) = (0.95 * 0.01)/0.0297 ≈ 0.3202\n",
    "\n",
    "# So, if a patient tests positive for Disease X, the probability that they actually have the disease is approximately 32.02%.\n",
    "# Bayes' Theorem allows you to update your probability estimate based on the diagnostic test results."
   ]
  },
  {
   "cell_type": "code",
   "execution_count": 13,
   "id": "ab408d84-7a23-43cf-9a98-3aa0100adf3a",
   "metadata": {
    "tags": []
   },
   "outputs": [],
   "source": [
    "############################################################################################\n",
    "#Ans 07:"
   ]
  },
  {
   "cell_type": "code",
   "execution_count": 14,
   "id": "ef23cc24-32a2-43e2-a89c-9e667ee0116a",
   "metadata": {
    "tags": []
   },
   "outputs": [],
   "source": [
    "import scipy.stats as stat\n",
    "import math"
   ]
  },
  {
   "cell_type": "code",
   "execution_count": 15,
   "id": "ebfc2dbc-aca7-48b5-96ad-3abdc49c1545",
   "metadata": {
    "tags": []
   },
   "outputs": [
    {
     "name": "stdout",
     "output_type": "stream",
     "text": [
      "The lower bound is 49.561738729711706 and the upper bound is 50.438261270288294 at a 95% confidence interval\n"
     ]
    }
   ],
   "source": [
    "x_bar = 50\n",
    "std = 5\n",
    "n = 500\n",
    "CI = 0.95\n",
    "SVal = 1 - CI\n",
    "\n",
    "critical_value = stat.norm.ppf(SVal/2)\n",
    "\n",
    "lower_bound = x_bar - (abs(critical_value)*(std/math.sqrt(n)))\n",
    "upper_bound = x_bar + (abs(critical_value)*(std/math.sqrt(n)))\n",
    "\n",
    "print(f'The lower bound is {lower_bound} and the upper bound is {upper_bound} at a {CI*100:.0f}% confidence interval')"
   ]
  },
  {
   "cell_type": "code",
   "execution_count": 16,
   "id": "5bbaedb7-043f-47ec-b948-35336f1d88a9",
   "metadata": {
    "tags": []
   },
   "outputs": [],
   "source": [
    "############################################################################################\n",
    "#Ans 08:"
   ]
  },
  {
   "cell_type": "code",
   "execution_count": 17,
   "id": "6d40a254-1bc3-4ac7-ad49-ec0853ae1cbd",
   "metadata": {
    "tags": []
   },
   "outputs": [],
   "source": [
    "# The margin of error (MOE) is a measure of the range within which we expect the true population parameter to lie\n",
    "# with a certain level of confidence in a confidence interval. It quantifies the uncertainty associated with estimating\n",
    "# a population parameter based on a sample. The MOE is typically expressed as a distance from the point estimate (such\n",
    "# as a sample mean or proportion) to the upper or lower limit of the confidence interval.\n",
    "\n",
    "# The formula for the margin of error in a confidence interval depends on the sample size, the standard error, and the chosen\n",
    "# level of confidence (usually denoted as 1−α, where α represents the significance level).\n",
    "\n",
    "# The general formula for the margin of error is:\n",
    "    \n",
    "#     MOE=Z * σ/(sqrt.(n))\n",
    "\n",
    "# Where:\n",
    "# MOE is the margin of error.\n",
    "# Z is the critical value from the standard normal distribution (or other appropriate distribution) corresponding to the chosen\n",
    "# level of confidence.\n",
    "# σ is the population standard deviation (or an estimate if known).\n",
    "# n is the sample size.\n",
    "\n",
    "# Sample size affects the margin of error in the following way:\n",
    "\n",
    "# Larger Sample Size Results in a Smaller Margin of Error: As the sample size (n) increases, the denominator in the margin of error\n",
    "# formula (sqrt.(n)) increases. This means that the margin of error becomes smaller when you have a larger sample size. In other\n",
    "# words, with a larger sample, you have more information about the population, which reduces the uncertainty associated with your\n",
    "# estimate.\n",
    "\n",
    "# Here's an example scenario where a larger sample size results in a smaller margin of error:\n",
    "\n",
    "# Suppose you want to estimate the average height of adults in a city with a 95% confidence level. If you take a small sample of\n",
    "# 10 individuals, your margin of error may be relatively large, say ±5 inches. However, if you collect a much larger sample of\n",
    "# 1,000 individuals, the margin of error may decrease significantly, resulting in a narrower confidence interval, such as ±1 inch.\n",
    "# The larger sample size provides more precise and reliable estimates of the population parameter, which leads to a smaller margin\n",
    "# of error and a more accurate confidence interval."
   ]
  },
  {
   "cell_type": "code",
   "execution_count": 18,
   "id": "6f617ff6-4a3d-462e-af44-f9a77bfdd07a",
   "metadata": {
    "tags": []
   },
   "outputs": [],
   "source": [
    "############################################################################################\n",
    "#Ans 09:"
   ]
  },
  {
   "cell_type": "code",
   "execution_count": 19,
   "id": "4f58a99c-87dd-4ba8-b3c7-f190fefdaceb",
   "metadata": {
    "tags": []
   },
   "outputs": [],
   "source": [
    "# You can calculate the z-score for a data point using the formula:\n",
    "#     Z= (X−μ)/σ\n",
    "\n",
    "# Where:\n",
    "# Z is the z-score.\n",
    "# X is the data point's value (75 in this case).\n",
    "# μ is the population mean (70 in this case).\n",
    "# σ is the population standard deviation (5 in this case)."
   ]
  },
  {
   "cell_type": "code",
   "execution_count": 20,
   "id": "e782818d-2d13-4d50-84b0-0add20401f69",
   "metadata": {
    "tags": []
   },
   "outputs": [
    {
     "name": "stdout",
     "output_type": "stream",
     "text": [
      "Z-score: 1.0\n"
     ]
    }
   ],
   "source": [
    "X = 75  # Data point's value\n",
    "mu = 70  # Population mean\n",
    "sigma = 5  # Population standard deviation\n",
    "\n",
    "z_score = (X - mu) / sigma\n",
    "\n",
    "print(\"Z-score:\", z_score)"
   ]
  },
  {
   "cell_type": "code",
   "execution_count": 21,
   "id": "986bdc7d-325c-473a-be0b-82acde52c87f",
   "metadata": {
    "tags": []
   },
   "outputs": [],
   "source": [
    "# The calculated z-score is the number of standard deviations that the data point (75) is away from the population\n",
    "# mean (70). In this case, the z-score is: 1.0\n",
    "# A z-score of 1 means that the data point is one standard deviation above the population mean. It indicates that the value\n",
    "# of 75 is higher than the average value of the population by one standard deviation."
   ]
  },
  {
   "cell_type": "code",
   "execution_count": 22,
   "id": "1c4186b1-7de4-4143-b6d2-88eb353b991d",
   "metadata": {
    "tags": []
   },
   "outputs": [],
   "source": [
    "############################################################################################\n",
    "#Ans 10:"
   ]
  },
  {
   "cell_type": "code",
   "execution_count": 23,
   "id": "9e3a6c50-2a04-462f-852b-b537cee0ac49",
   "metadata": {
    "tags": []
   },
   "outputs": [
    {
     "name": "stdout",
     "output_type": "stream",
     "text": [
      "We reject the null hypothesis. The test drug is significantly effective.\n"
     ]
    }
   ],
   "source": [
    "mu = 0 #pounds\n",
    "x_bar = 6\n",
    "s = 2.5\n",
    "alpha = 0.05\n",
    "n = 50\n",
    "\n",
    "df = n - 1\n",
    "\n",
    "critical_t_val = stat.t.ppf(1-alpha, df)\n",
    "\n",
    "t_statistic = (x_bar - mu)/(s/(n ** 0.5))\n",
    "\n",
    "if t_statistic< -abs(critical_t_val) or t_statistic> abs(critical_t_val):\n",
    "    print('We reject the null hypothesis. The test drug is significantly effective.')\n",
    "else:\n",
    "    print('we fail to reject the null hypothesis')"
   ]
  },
  {
   "cell_type": "code",
   "execution_count": 24,
   "id": "53d633a3-be01-4ab8-a500-430023f36f9b",
   "metadata": {
    "tags": []
   },
   "outputs": [],
   "source": [
    "############################################################################################\n",
    "#Ans 11:"
   ]
  },
  {
   "cell_type": "code",
   "execution_count": 25,
   "id": "2c69fa95-c84c-401a-83fd-6d2dcecb893d",
   "metadata": {
    "tags": []
   },
   "outputs": [],
   "source": [
    "# To calculate a confidence interval for the true proportion of people who are satisfied with their job, you can use\n",
    "# the formula for a confidence interval for a proportion. The formula for a confidence interval for a proportion is:\n",
    "    \n",
    "#     Confidence Interval= p ± Z (sqrt.((p(1-p)/n)))\n",
    "    \n",
    "# Where:\n",
    "# p is the sample proportion (65% or 0.65 in this case).\n",
    "# Z is the critical value from the standard normal distribution corresponding to the desired confidence level\n",
    "# (for a 95% confidence interval, Z≈1.96).\n",
    "# n is the sample size (500 in this case)."
   ]
  },
  {
   "cell_type": "code",
   "execution_count": 26,
   "id": "470920b4-6cd4-4330-8dd6-4d04f1e4867b",
   "metadata": {
    "tags": []
   },
   "outputs": [
    {
     "name": "stdout",
     "output_type": "stream",
     "text": [
      "95% Confidence Interval: (0.6081925393809212, 0.6918074606190788)\n"
     ]
    }
   ],
   "source": [
    "p = 0.65\n",
    "n = 500\n",
    "cl = 0.95\n",
    "alpha = 1 - cl\n",
    "\n",
    "z_critical = stat.norm.ppf(1-alpha/2)\n",
    "\n",
    "standard_error = ((p * (1-p))/n)** 0.5\n",
    "\n",
    "moe = z_critical * standard_error\n",
    "\n",
    "lower_bound= p - abs(moe)\n",
    "upper_bound= p + abs(moe)\n",
    "\n",
    "print(\"95% Confidence Interval:\", (lower_bound, upper_bound))"
   ]
  },
  {
   "cell_type": "code",
   "execution_count": 27,
   "id": "4d90ced3-f8e4-4652-9f4e-69ec46342ae7",
   "metadata": {
    "tags": []
   },
   "outputs": [],
   "source": [
    "############################################################################################\n",
    "#Ans 12:"
   ]
  },
  {
   "cell_type": "code",
   "execution_count": 28,
   "id": "86f71b58-48bd-4e4f-a94f-9e0d0bd3f950",
   "metadata": {
    "tags": []
   },
   "outputs": [
    {
     "name": "stdout",
     "output_type": "stream",
     "text": [
      " t_critical is 2.580528720326468 and t is 8.829158761786877\n",
      "we reject the null hypothesis that both methods are equally effictive. Method A is more effective than Method B\n"
     ]
    }
   ],
   "source": [
    "x_bar_a = 85\n",
    "s_a = 6\n",
    "n_a = 500\n",
    "\n",
    "x_bar_b = 82\n",
    "s_b = 5\n",
    "n_b = 550\n",
    "\n",
    "alpha = 0.01\n",
    "\n",
    "df = (n_a-1) + (n_b - 1)\n",
    "\n",
    "t_critical = stat.t.ppf(1 - alpha / 2, df)\n",
    "\n",
    "df_a = n_a - 1\n",
    "df_b = n_b - 1\n",
    "\n",
    "ss_a = s_a**2 * df_a\n",
    "ss_b = s_b**2 * df_b\n",
    "\n",
    "spsq = (ss_a + ss_b)/(df_a + df_b)\n",
    "\n",
    "t = (x_bar_a-x_bar_b)/((spsq/n_a + spsq/n_b) ** 0.5)\n",
    "   \n",
    "print(f' t_critical is {t_critical} and t is {t}')\n",
    "\n",
    "if t < -abs(t_critical):\n",
    "    print('we reject the null hypothesis that both methods are equally effictive. Method B is more effective than Method A')\n",
    "elif t > abs(t_critical):\n",
    "    print('we reject the null hypothesis that both methods are equally effictive. Method A is more effective than Method B')\n",
    "else:\n",
    "    print('we fail to reject the null hypothesis')"
   ]
  },
  {
   "cell_type": "code",
   "execution_count": 29,
   "id": "7f078dd7-dc68-478c-b0e7-c536390fdf1b",
   "metadata": {
    "tags": []
   },
   "outputs": [],
   "source": [
    "############################################################################################\n",
    "#Ans 13:"
   ]
  },
  {
   "cell_type": "code",
   "execution_count": 30,
   "id": "88089c85-985c-4b54-9d7e-8e3443752003",
   "metadata": {
    "tags": []
   },
   "outputs": [],
   "source": [
    "# To calculate a 90% confidence interval for the true population mean, you can use the formula for a confidence\n",
    "# interval for the population mean (μ):\n",
    "    \n",
    "#     Confidence Interval= X_bar ± Z(σ/(n**.5))\n",
    "\n",
    "# Where:\n",
    "# Confidence Interval is the range within which we expect the true population mean to lie.\n",
    "# X_bar is the sample mean (65 in this case).\n",
    "# Z is the critical value from the standard normal distribution corresponding to the desired\n",
    "# confidence level (for a 90% confidence interval, Z≈1.645).\n",
    "# σ is the population standard deviation (8 in this case).\n",
    "# n is the sample size (50 in this case)."
   ]
  },
  {
   "cell_type": "code",
   "execution_count": 31,
   "id": "4b5c448b-c321-44ae-904f-b3ea1738c243",
   "metadata": {
    "tags": []
   },
   "outputs": [
    {
     "name": "stdout",
     "output_type": "stream",
     "text": [
      "At a 90% confidence interval, (63.13906055411732, 66.86093944588268)\n"
     ]
    }
   ],
   "source": [
    "X_bar = 65\n",
    "sigma = 8\n",
    "n = 50\n",
    "confidence_level = 0.90\n",
    "alpha = 1 - confidence_level\n",
    "\n",
    "z_critical = stat.norm.ppf(1 - alpha/2)\n",
    "\n",
    "standard_error = sigma/math.sqrt(n)\n",
    "\n",
    "MoE = z_critical * standard_error\n",
    "\n",
    "lower_bound = X_bar - MoE\n",
    "upper_bound = X_bar + MoE\n",
    "\n",
    "print(f'At a 90% confidence interval, {lower_bound, upper_bound}')"
   ]
  },
  {
   "cell_type": "code",
   "execution_count": 32,
   "id": "ef10df12-0b0c-4ceb-b217-234c8cf51006",
   "metadata": {
    "tags": []
   },
   "outputs": [],
   "source": [
    "############################################################################################\n",
    "#Ans 14:"
   ]
  },
  {
   "cell_type": "code",
   "execution_count": 33,
   "id": "c7976214-b91b-41c8-896f-873c43aef3ab",
   "metadata": {
    "tags": []
   },
   "outputs": [],
   "source": [
    "# To conduct a hypothesis test to determine if caffeine has a significant effect on reaction time, you can use\n",
    "# a one-sample t-test. The null hypothesis (H0) typically states that there is no significant effect, while the\n",
    "# alternative hypothesis (H1) suggests that there is a significant effect. In this case:\n",
    "\n",
    "# Null Hypothesis (H0): Caffeine has no significant effect on reaction time, and the population mean reaction time(μ)\n",
    "# is equal to a specific value (0.25 seconds).\n",
    "\n",
    "# Alternative Hypothesis (H1): Caffeine has a significant effect on reaction time, and the population mean reaction time (μ)\n",
    "# is not equal to the specific value (0.25 seconds).\n",
    "\n",
    "# You can use the one-sample t-statistic to test these hypotheses, calculated as follows:\n",
    "    \n",
    "#     t =  (X_bar - mu)/(s/sqrt.(n))\n",
    "    \n",
    "# Where:\n",
    "# X_bar is the sample mean reaction time (0.25 seconds).\n",
    "# mu is the hypothesized population mean under the null hypothesis (the specific value of 0.25 seconds).\n",
    "# s is the sample standard deviation (0.05 seconds).\n",
    "# n is the sample size (30 participants)."
   ]
  },
  {
   "cell_type": "code",
   "execution_count": 34,
   "id": "2dfd8c9e-d2c7-4292-a292-73142ee35ad6",
   "metadata": {
    "tags": []
   },
   "outputs": [
    {
     "name": "stdout",
     "output_type": "stream",
     "text": [
      "Fail to reject the null hypothesis. There is no significant evidence that caffeine has an effect on reaction time.\n",
      "t-statistic: 0.0\n"
     ]
    }
   ],
   "source": [
    "X_bar = 0.25\n",
    "mu = 0.25  # Hypothesized population mean under the null hypothesis\n",
    "s = 0.05\n",
    "n = 30\n",
    "CL = .90\n",
    "\n",
    "alpha = 1 - CL\n",
    "\n",
    "df = n-1\n",
    "\n",
    "t_statistic = (X_bar - mu)/(s/(n ** 0.5))\n",
    "\n",
    "t_critical = stat.t.ppf(1-alpha/2,df)\n",
    "\n",
    "if abs(t_statistic) > t_critical:\n",
    "    print(\"Reject the null hypothesis. Caffeine has a significant effect on reaction time.\")\n",
    "else:\n",
    "    print(\"Fail to reject the null hypothesis. There is no significant evidence that caffeine has an effect on reaction time.\")\n",
    "\n",
    "print(\"t-statistic:\", t_statistic)"
   ]
  },
  {
   "cell_type": "code",
   "execution_count": 35,
   "id": "05531619-5334-4524-af81-3d98498078da",
   "metadata": {
    "tags": []
   },
   "outputs": [],
   "source": [
    "############################################################################################"
   ]
  }
 ],
 "metadata": {
  "kernelspec": {
   "display_name": "Python 3 (ipykernel)",
   "language": "python",
   "name": "python3"
  },
  "language_info": {
   "codemirror_mode": {
    "name": "ipython",
    "version": 3
   },
   "file_extension": ".py",
   "mimetype": "text/x-python",
   "name": "python",
   "nbconvert_exporter": "python",
   "pygments_lexer": "ipython3",
   "version": "3.11.5"
  }
 },
 "nbformat": 4,
 "nbformat_minor": 5
}
