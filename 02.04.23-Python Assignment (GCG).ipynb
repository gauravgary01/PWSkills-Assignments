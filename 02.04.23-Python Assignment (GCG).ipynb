{
 "cells": [
  {
   "cell_type": "code",
   "execution_count": 1,
   "id": "85d40ac8-8c7b-4c2f-9a9f-b7517b0359d2",
   "metadata": {},
   "outputs": [],
   "source": [
    "# Ans 1:"
   ]
  },
  {
   "cell_type": "code",
   "execution_count": 2,
   "id": "bd003a2b-178b-4454-9db2-c06b82ebd7dc",
   "metadata": {},
   "outputs": [],
   "source": [
    "l1 = [('Sachin', 34357), ('Ricky', 27483), ('Jack', 25534), ('Virat', 24936)]"
   ]
  },
  {
   "cell_type": "code",
   "execution_count": 3,
   "id": "2b694a24-8c97-4587-9ceb-69fd9ec2cd79",
   "metadata": {},
   "outputs": [],
   "source": [
    "def sort_CL(l):\n",
    "    print(sorted(l1, key = lambda x: x[1]))"
   ]
  },
  {
   "cell_type": "code",
   "execution_count": 4,
   "id": "629750fb-f8c0-4d5f-8fdd-d66c5f89beb3",
   "metadata": {},
   "outputs": [
    {
     "name": "stdout",
     "output_type": "stream",
     "text": [
      "[('Virat', 24936), ('Jack', 25534), ('Ricky', 27483), ('Sachin', 34357)]\n"
     ]
    }
   ],
   "source": [
    "sort_CL(l1)"
   ]
  },
  {
   "cell_type": "code",
   "execution_count": 5,
   "id": "562cafbd-56a3-443c-bdd4-a93b147ef16e",
   "metadata": {},
   "outputs": [],
   "source": [
    "####################################################################################"
   ]
  },
  {
   "cell_type": "code",
   "execution_count": 6,
   "id": "ac0b0add-3e26-4f8b-9593-dab75f487d9b",
   "metadata": {},
   "outputs": [],
   "source": [
    "# Ans 2:"
   ]
  },
  {
   "cell_type": "code",
   "execution_count": 7,
   "id": "990fed84-b545-4d23-9439-759788b77ccf",
   "metadata": {},
   "outputs": [],
   "source": [
    "l2 = [1,2,3,4,5,6,7,8,9,10]"
   ]
  },
  {
   "cell_type": "code",
   "execution_count": 8,
   "id": "b4da5ed9-a95b-4e80-83ee-5979b3e3ff33",
   "metadata": {},
   "outputs": [],
   "source": [
    "# list(map(lambda x: x**2,l2))"
   ]
  },
  {
   "cell_type": "code",
   "execution_count": 9,
   "id": "6dbff053-2071-44ed-a3e0-8c630b37c3b8",
   "metadata": {},
   "outputs": [],
   "source": [
    "def sq(l):\n",
    "    print(list(map(lambda x: x**2,l)))"
   ]
  },
  {
   "cell_type": "code",
   "execution_count": 10,
   "id": "9c80b09b-2261-4bb7-9279-cde7666b8503",
   "metadata": {},
   "outputs": [
    {
     "name": "stdout",
     "output_type": "stream",
     "text": [
      "[1, 4, 9, 16, 25, 36, 49, 64, 81, 100]\n"
     ]
    }
   ],
   "source": [
    "sq(l2)"
   ]
  },
  {
   "cell_type": "code",
   "execution_count": 11,
   "id": "4811c80c-242e-41b5-ad4f-c5a833dd1e30",
   "metadata": {},
   "outputs": [],
   "source": [
    "####################################################################################"
   ]
  },
  {
   "cell_type": "code",
   "execution_count": 12,
   "id": "af313672-181e-4deb-8336-a2cd069b2555",
   "metadata": {},
   "outputs": [],
   "source": [
    "# Ans 3:"
   ]
  },
  {
   "cell_type": "code",
   "execution_count": 13,
   "id": "85ee6cd5-f7d1-43be-bb31-ba348e3faf42",
   "metadata": {},
   "outputs": [],
   "source": [
    "l3 = [1,2,3,4,5,6,7,8,9,10]"
   ]
  },
  {
   "cell_type": "code",
   "execution_count": 14,
   "id": "d7b54207-62ab-4e0d-ac3c-f2fd11bd340d",
   "metadata": {},
   "outputs": [],
   "source": [
    "def t_To_L(l):\n",
    "    print(tuple(map(lambda x: str(x), l)))"
   ]
  },
  {
   "cell_type": "code",
   "execution_count": 15,
   "id": "f96546ca-42b1-475b-b1a1-1f70ac019aab",
   "metadata": {},
   "outputs": [
    {
     "name": "stdout",
     "output_type": "stream",
     "text": [
      "('1', '2', '3', '4', '5', '6', '7', '8', '9', '10')\n"
     ]
    }
   ],
   "source": [
    "t_To_L(l3)"
   ]
  },
  {
   "cell_type": "code",
   "execution_count": 16,
   "id": "20ad34e5-9310-48be-8a95-92de4a0f9341",
   "metadata": {},
   "outputs": [],
   "source": [
    "####################################################################################"
   ]
  },
  {
   "cell_type": "code",
   "execution_count": 17,
   "id": "820f3fc5-24ac-43a1-b47b-89c833d2cb56",
   "metadata": {},
   "outputs": [],
   "source": [
    "# Ans 4:"
   ]
  },
  {
   "cell_type": "code",
   "execution_count": 18,
   "id": "336ae9e7-657d-4cb7-8bca-497ee61c9b57",
   "metadata": {},
   "outputs": [],
   "source": [
    "l4 = list((range(1,26)))"
   ]
  },
  {
   "cell_type": "code",
   "execution_count": 19,
   "id": "f3b2e687-c36b-4858-a2e8-dafb144e41e5",
   "metadata": {},
   "outputs": [],
   "source": [
    "from functools import reduce"
   ]
  },
  {
   "cell_type": "code",
   "execution_count": 20,
   "id": "c9ef9d0e-c410-44f9-b318-68d085ebff6c",
   "metadata": {},
   "outputs": [],
   "source": [
    "def rdc_MoLI(l):\n",
    "    print(reduce(lambda x,y: x*y, l))"
   ]
  },
  {
   "cell_type": "code",
   "execution_count": 21,
   "id": "9e02d61e-7728-46f9-89bc-9405e0febf0d",
   "metadata": {},
   "outputs": [
    {
     "name": "stdout",
     "output_type": "stream",
     "text": [
      "15511210043330985984000000\n"
     ]
    }
   ],
   "source": [
    "rdc_MoLI(l4)"
   ]
  },
  {
   "cell_type": "code",
   "execution_count": 22,
   "id": "ba736b1d-ee2d-4fe3-b590-c144171d8da0",
   "metadata": {},
   "outputs": [],
   "source": [
    "####################################################################################"
   ]
  },
  {
   "cell_type": "code",
   "execution_count": 23,
   "id": "abd44f4c-2e9b-4455-90e3-1bf196542500",
   "metadata": {},
   "outputs": [],
   "source": [
    "# Ans 5:"
   ]
  },
  {
   "cell_type": "code",
   "execution_count": 24,
   "id": "d6520681-9734-4261-9e24-cabfa1f58ac1",
   "metadata": {},
   "outputs": [],
   "source": [
    "l5 = [2,3,6,9,27,60,90,120,55,46]"
   ]
  },
  {
   "cell_type": "code",
   "execution_count": 25,
   "id": "bf61526b-b198-4b0f-8690-18de28f7fa50",
   "metadata": {},
   "outputs": [],
   "source": [
    "def d_by2(l):\n",
    "    print(list(filter(lambda x: x%2==0, l)))\n",
    "\n",
    "def d_by3(l):\n",
    "    print(list(filter(lambda x: x%3==0, l)))"
   ]
  },
  {
   "cell_type": "code",
   "execution_count": 26,
   "id": "2985553e-54e7-4f24-aafb-50215c764c38",
   "metadata": {},
   "outputs": [
    {
     "name": "stdout",
     "output_type": "stream",
     "text": [
      "[2, 6, 60, 90, 120, 46]\n"
     ]
    }
   ],
   "source": [
    "d_by2(l5)"
   ]
  },
  {
   "cell_type": "code",
   "execution_count": 27,
   "id": "f6e091cd-484d-4f54-88ce-b7e1a036289a",
   "metadata": {},
   "outputs": [
    {
     "name": "stdout",
     "output_type": "stream",
     "text": [
      "[3, 6, 9, 27, 60, 90, 120]\n"
     ]
    }
   ],
   "source": [
    "d_by3(l5)"
   ]
  },
  {
   "cell_type": "code",
   "execution_count": 28,
   "id": "6521b0df-216e-4f09-8e50-ae05f3ae6628",
   "metadata": {},
   "outputs": [],
   "source": [
    "####################################################################################"
   ]
  },
  {
   "cell_type": "code",
   "execution_count": 29,
   "id": "78550b59-e386-4519-8c60-a0b7910f3f8d",
   "metadata": {},
   "outputs": [],
   "source": [
    "# Ans 6:"
   ]
  },
  {
   "cell_type": "code",
   "execution_count": 30,
   "id": "5173e206-4a3c-41c7-be93-dde7be9e8827",
   "metadata": {},
   "outputs": [],
   "source": [
    "l6 = ['python', 'php', 'aba', 'radar', 'level']"
   ]
  },
  {
   "cell_type": "code",
   "execution_count": 31,
   "id": "c108f911-826a-4542-bcc4-60ce44b49990",
   "metadata": {},
   "outputs": [],
   "source": [
    "def palin_D(l):\n",
    "    print(list(filter(lambda x: str(x)==str(x)[::-1], l)))"
   ]
  },
  {
   "cell_type": "code",
   "execution_count": 32,
   "id": "32eae09a-0462-4201-8b02-d4738617eef3",
   "metadata": {},
   "outputs": [
    {
     "name": "stdout",
     "output_type": "stream",
     "text": [
      "['php', 'aba', 'radar', 'level']\n"
     ]
    }
   ],
   "source": [
    "palin_D(l6)"
   ]
  },
  {
   "cell_type": "code",
   "execution_count": 33,
   "id": "34b3108b-738b-445d-967f-222c02297107",
   "metadata": {},
   "outputs": [],
   "source": [
    "####################################################################################"
   ]
  }
 ],
 "metadata": {
  "kernelspec": {
   "display_name": "Python 3 (ipykernel)",
   "language": "python",
   "name": "python3"
  },
  "language_info": {
   "codemirror_mode": {
    "name": "ipython",
    "version": 3
   },
   "file_extension": ".py",
   "mimetype": "text/x-python",
   "name": "python",
   "nbconvert_exporter": "python",
   "pygments_lexer": "ipython3",
   "version": "3.10.8"
  }
 },
 "nbformat": 4,
 "nbformat_minor": 5
}
