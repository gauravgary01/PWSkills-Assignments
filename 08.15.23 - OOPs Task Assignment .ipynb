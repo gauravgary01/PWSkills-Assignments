{
 "cells": [
  {
   "cell_type": "code",
   "execution_count": 13,
   "id": "fb3d0316-a488-4ba1-893b-6adce76b01d7",
   "metadata": {},
   "outputs": [],
   "source": [
    "#Ans 01:"
   ]
  },
  {
   "cell_type": "code",
   "execution_count": 25,
   "id": "384cce31-7c7f-4766-8d36-a27be46bc809",
   "metadata": {},
   "outputs": [],
   "source": [
    "class Vehicle:\n",
    "    def __init__(self, name_of_vehicle, max_speed, average_speed_of_vehicle):\n",
    "        self.name_of_vehicle = name_of_vehicle\n",
    "        self.max_speed = max_speed\n",
    "        self.average_speed_of_vehicle = average_speed_of_vehicle"
   ]
  },
  {
   "cell_type": "code",
   "execution_count": 26,
   "id": "397c9f8e-8a31-496f-b784-6fadbca6429d",
   "metadata": {},
   "outputs": [],
   "source": [
    "################################################################################"
   ]
  },
  {
   "cell_type": "code",
   "execution_count": 27,
   "id": "65479099-1d00-447a-874a-a16843f5edc0",
   "metadata": {},
   "outputs": [],
   "source": [
    "#Ans 02:"
   ]
  },
  {
   "cell_type": "code",
   "execution_count": 28,
   "id": "66563b30-8c69-4aaa-95e8-6036210591e2",
   "metadata": {},
   "outputs": [],
   "source": [
    "class Car(Vehicle):\n",
    "    def seating_capacity(self, capacity):\n",
    "        #return f\"{self.name_of_vehicle} has a seating capacity of {capacity} people.\"\n",
    "        return \"{} has a seating capacity of {} people\".format(self.name_of_vehicle, capacity)"
   ]
  },
  {
   "cell_type": "code",
   "execution_count": 29,
   "id": "8b286297-32b5-43ad-b87f-1a7c8a6843cb",
   "metadata": {},
   "outputs": [],
   "source": [
    "toyota = Car(\"Etios\", 230, 115)"
   ]
  },
  {
   "cell_type": "code",
   "execution_count": 30,
   "id": "d06828bb-57d2-46bf-8b96-0810fea8607c",
   "metadata": {},
   "outputs": [
    {
     "data": {
      "text/plain": [
       "'Etios has a seating capacity of 5 people'"
      ]
     },
     "execution_count": 30,
     "metadata": {},
     "output_type": "execute_result"
    }
   ],
   "source": [
    "toyota.seating_capacity(5)"
   ]
  },
  {
   "cell_type": "code",
   "execution_count": 31,
   "id": "b077980b-4d27-4dfb-bcd6-1e382bf82446",
   "metadata": {},
   "outputs": [],
   "source": [
    "################################################################################"
   ]
  },
  {
   "cell_type": "code",
   "execution_count": 32,
   "id": "8829fec9-505d-4ee4-aec4-75ca564ddf8b",
   "metadata": {},
   "outputs": [],
   "source": [
    "#Ans 03:"
   ]
  },
  {
   "cell_type": "code",
   "execution_count": null,
   "id": "cfbafbcd-c52d-4b5f-af85-ad6f05bcf208",
   "metadata": {},
   "outputs": [],
   "source": [
    "# Multiple inheritance is a feature in object-oriented programming where a class can inherit attributes and methods from more than one parent class.\n",
    "#This allows a child class to inherit the characteristics of multiple classes, leading to more flexible and complex class hierarchies."
   ]
  },
  {
   "cell_type": "code",
   "execution_count": 2,
   "id": "388520b5-d62a-44d8-badc-7f1e9be0f953",
   "metadata": {},
   "outputs": [],
   "source": [
    "class Petrol:\n",
    "    def start(self):\n",
    "        print(\"Engine start.\")\n",
    "    def stop(self):\n",
    "        print(\"Engine stop.\")"
   ]
  },
  {
   "cell_type": "code",
   "execution_count": 3,
   "id": "e60cc81b-4c46-48f1-a938-da724d6b3abf",
   "metadata": {},
   "outputs": [],
   "source": [
    "class Electric:\n",
    "    def charge(self):\n",
    "        print(\"Battery charging\")"
   ]
  },
  {
   "cell_type": "code",
   "execution_count": 4,
   "id": "a68e6dde-6a95-4d1e-a7ef-1080c9a60a8a",
   "metadata": {},
   "outputs": [],
   "source": [
    "class Hybrid(Petrol, Electric):\n",
    "    def __init__(self, name):\n",
    "        self.name = name"
   ]
  },
  {
   "cell_type": "code",
   "execution_count": 7,
   "id": "954ff56b-3c91-443c-806c-a2d9d8d1b307",
   "metadata": {},
   "outputs": [],
   "source": [
    "Toyota = Hybrid(\"Innova\")"
   ]
  },
  {
   "cell_type": "code",
   "execution_count": 8,
   "id": "3f5c1160-b3bc-4024-8af5-7c2fd96d322e",
   "metadata": {},
   "outputs": [
    {
     "name": "stdout",
     "output_type": "stream",
     "text": [
      "Engine start.\n"
     ]
    }
   ],
   "source": [
    "Toyota.start()"
   ]
  },
  {
   "cell_type": "code",
   "execution_count": 9,
   "id": "9518425c-b32d-42fd-8ccb-623658916e7d",
   "metadata": {},
   "outputs": [
    {
     "name": "stdout",
     "output_type": "stream",
     "text": [
      "Battery charging\n"
     ]
    }
   ],
   "source": [
    "Toyota.charge()"
   ]
  },
  {
   "cell_type": "code",
   "execution_count": 10,
   "id": "ca2dedde-e6ea-47bc-afff-1d62bc069f24",
   "metadata": {},
   "outputs": [
    {
     "name": "stdout",
     "output_type": "stream",
     "text": [
      "Engine stop.\n"
     ]
    }
   ],
   "source": [
    "Toyota.stop()"
   ]
  },
  {
   "cell_type": "code",
   "execution_count": 11,
   "id": "11d821bb-0992-44ae-ace4-3956604ea2c8",
   "metadata": {},
   "outputs": [],
   "source": [
    "################################################################################"
   ]
  },
  {
   "cell_type": "code",
   "execution_count": 12,
   "id": "88723382-78e9-481c-9a67-86025ef5edb0",
   "metadata": {},
   "outputs": [],
   "source": [
    "#Ans 04:"
   ]
  },
  {
   "cell_type": "code",
   "execution_count": 15,
   "id": "bbfdb091-3f47-41bc-a33f-6c770f05f817",
   "metadata": {},
   "outputs": [],
   "source": [
    "# In object-oriented programming (OOP), getter and setter methods are used to control the access and modification of class attributes (instance variables).\n",
    "# They provide an interface through which you can retrieve and update the values of private or protected attributes of a class, allowing you to encapsulate\n",
    "# the internal state of objects and maintain better control over data integrity and access."
   ]
  },
  {
   "cell_type": "code",
   "execution_count": 24,
   "id": "9adef408-e831-4e4e-9e58-5c8c38ad2929",
   "metadata": {},
   "outputs": [],
   "source": [
    "# A getter method is used to retrieve the value of an attribute and a setter method is used to modify the value of an attribute."
   ]
  },
  {
   "cell_type": "code",
   "execution_count": 25,
   "id": "5943fb2c-b640-4bf4-89fa-17b65931ce2b",
   "metadata": {},
   "outputs": [],
   "source": [
    "class Rectangle:\n",
    "    def __init__(self, width, height):\n",
    "        self.__width = width\n",
    "        self.__height = height\n",
    "    \n",
    "    def set_width(self, width):\n",
    "        self.__width = 0 if width <= 0 else width\n",
    "        \n",
    "    def get_width(self):\n",
    "        return self.__width\n",
    "    \n",
    "    def set_height(self, height):\n",
    "        self.__height = 0 if height <=0 else height\n",
    "        \n",
    "    def get_height(self):\n",
    "        return self.__height\n",
    "    \n",
    "    def get_area(self):\n",
    "        return self.__width * self.__height"
   ]
  },
  {
   "cell_type": "code",
   "execution_count": 26,
   "id": "5a8e5a11-cd19-4c97-826a-eabb8ae563d4",
   "metadata": {},
   "outputs": [],
   "source": [
    "abcd = Rectangle(10, 20)"
   ]
  },
  {
   "cell_type": "code",
   "execution_count": 27,
   "id": "490efcdc-71d1-4db7-8cbb-fec8a84a829e",
   "metadata": {},
   "outputs": [
    {
     "data": {
      "text/plain": [
       "200"
      ]
     },
     "execution_count": 27,
     "metadata": {},
     "output_type": "execute_result"
    }
   ],
   "source": [
    "abcd.get_area()"
   ]
  },
  {
   "cell_type": "code",
   "execution_count": 28,
   "id": "28985cfb-8cbe-46d3-a02f-d645c5754598",
   "metadata": {},
   "outputs": [],
   "source": [
    "abcd.set_height(50)"
   ]
  },
  {
   "cell_type": "code",
   "execution_count": 29,
   "id": "9792ee54-b5ef-4e87-a1d0-21043669cd99",
   "metadata": {},
   "outputs": [],
   "source": [
    "abcd.set_width(50)"
   ]
  },
  {
   "cell_type": "code",
   "execution_count": 30,
   "id": "9d99fca1-3c39-4be5-b466-e13056f5b398",
   "metadata": {},
   "outputs": [
    {
     "data": {
      "text/plain": [
       "2500"
      ]
     },
     "execution_count": 30,
     "metadata": {},
     "output_type": "execute_result"
    }
   ],
   "source": [
    "abcd.get_area()"
   ]
  },
  {
   "cell_type": "code",
   "execution_count": 31,
   "id": "4d2dbabd-2163-4a46-a7d6-672460e02c26",
   "metadata": {},
   "outputs": [],
   "source": [
    "################################################################################"
   ]
  },
  {
   "cell_type": "code",
   "execution_count": 32,
   "id": "afb32594-f9eb-474e-a332-9954fc829f3c",
   "metadata": {},
   "outputs": [],
   "source": [
    "#Ans 05:"
   ]
  },
  {
   "cell_type": "code",
   "execution_count": 33,
   "id": "d15e6fba-fe11-42d0-8cf0-3f4fc1789a3d",
   "metadata": {},
   "outputs": [],
   "source": [
    "# Method overriding is a feature in object-oriented programming where a subclass provides a specific implementation for a method that is already\n",
    "# defined in its superclass. This allows the subclass to modify or extend the behavior of the inherited method without changing the method's signature."
   ]
  },
  {
   "cell_type": "code",
   "execution_count": 34,
   "id": "656b98d4-da01-41f5-8259-9894f65d3901",
   "metadata": {},
   "outputs": [],
   "source": [
    "class Animal:\n",
    "    def make_sound(self):\n",
    "        print(\"Generic animal sound\")"
   ]
  },
  {
   "cell_type": "code",
   "execution_count": 35,
   "id": "39763be1-f5ce-45e8-bc21-1bbae2bfbb88",
   "metadata": {},
   "outputs": [],
   "source": [
    "class Dog(Animal):\n",
    "    def make_sound(self):\n",
    "        print(\"Woof woof!\")"
   ]
  },
  {
   "cell_type": "code",
   "execution_count": 36,
   "id": "109ab480-bfc9-473f-90f4-d9af4e56f9ed",
   "metadata": {},
   "outputs": [],
   "source": [
    "class Cat(Animal):\n",
    "    def make_sound(self):\n",
    "        print(\"Meow meow!\")"
   ]
  },
  {
   "cell_type": "code",
   "execution_count": 37,
   "id": "d6581724-98f7-4f8c-9d06-3b0fe52e6e31",
   "metadata": {},
   "outputs": [],
   "source": [
    "Alex = Dog()\n",
    "Tom = Cat()"
   ]
  },
  {
   "cell_type": "code",
   "execution_count": 42,
   "id": "44e39c3e-d0e1-40b8-9079-4abac833f6c3",
   "metadata": {},
   "outputs": [
    {
     "name": "stdout",
     "output_type": "stream",
     "text": [
      "Woof woof!\n"
     ]
    }
   ],
   "source": [
    "Alex.make_sound()"
   ]
  },
  {
   "cell_type": "code",
   "execution_count": 43,
   "id": "06e69c18-051e-418d-958e-edab32baaa7a",
   "metadata": {},
   "outputs": [
    {
     "name": "stdout",
     "output_type": "stream",
     "text": [
      "Meow meow!\n"
     ]
    }
   ],
   "source": [
    "Tom.make_sound()"
   ]
  },
  {
   "cell_type": "code",
   "execution_count": null,
   "id": "3ca21290-85ef-45da-b4f8-cd626c92a12e",
   "metadata": {},
   "outputs": [],
   "source": [
    "################################################################################"
   ]
  }
 ],
 "metadata": {
  "kernelspec": {
   "display_name": "Python 3 (ipykernel)",
   "language": "python",
   "name": "python3"
  },
  "language_info": {
   "codemirror_mode": {
    "name": "ipython",
    "version": 3
   },
   "file_extension": ".py",
   "mimetype": "text/x-python",
   "name": "python",
   "nbconvert_exporter": "python",
   "pygments_lexer": "ipython3",
   "version": "3.10.8"
  }
 },
 "nbformat": 4,
 "nbformat_minor": 5
}
