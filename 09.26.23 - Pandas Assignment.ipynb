{
 "cells": [
  {
   "cell_type": "code",
   "execution_count": 1,
   "id": "2ea02110-08bb-46ce-98fc-65fc7b23bcce",
   "metadata": {
    "tags": []
   },
   "outputs": [],
   "source": [
    "# Consider following code to answer further questions:\n",
    "# import pandas as pd\n",
    "# course_name = [‘Data Science’, ‘Machine Learning’, ‘Big Data’, ‘Data Engineer’]\n",
    "# duration = [2,3,6,4]\n",
    "# df = pd.DataFrame(data = {‘course_name’ : course_name, ‘duration’ : duration})\n",
    "\n",
    "\n",
    "\n",
    "# Q1. Write a code to print the data present in the second row of the dataframe, df.\n",
    "\n",
    "\n",
    "# Q2. What is the difference between the functions loc and iloc in pandas.DataFrame?\n",
    "\n",
    "\n",
    "# Q3. Reindex the given dataframe using a variable, reindex = [3,0,1,2] and store it in the variable, new_df\n",
    "# then find the output for both new_df.loc[2] and new_df.iloc[2].\n",
    "\n",
    "\n",
    "# Q4. Write a code to find the following statistical measurements for the above dataframe df1:\n",
    "# (i) mean of each and every column present in the dataframe.\n",
    "# (ii) standard deviation of column, ‘column_2’\n",
    "\n",
    "\n",
    "# Q5. Replace the data present in the second row of column, ‘column_2’ by a string variable then find the\n",
    "# mean of column, column_2.\n",
    "# If you are getting errors in executing it then explain why.\n",
    "# [Hint: To replace the data use df1.loc[] and equate this to string data of your choice.]\n",
    "\n",
    "\n",
    "# Q6. What do you understand about the windows function in pandas and list the types of windows\n",
    "# functions?\n",
    "\n",
    "\n",
    "# Q7. Write a code to print only the current month and year at the time of answering this question.\n",
    "# [Hint: Use pandas.datetime function]\n",
    "\n",
    "\n",
    "# Q8. Write a Python program that takes in two dates as input (in the format YYYY-MM-DD) and\n",
    "# calculates the difference between them in days, hours, and minutes using Pandas time delta. The\n",
    "# program should prompt the user to enter the dates and display the result.\n",
    "# Did you observe any difference in both the outputs? If so then explain it.\n",
    "# Consider the below code to answer further questions:\n",
    "# import pandas as pd\n",
    "# import numpy as np\n",
    "# columns = ['column_1', 'column_2', 'column_3', 'column_4', 'column_5', 'column_6']\n",
    "# indices = [1,2,3,4,5,6]\n",
    "# #Creating a dataframe:\n",
    "# df1 = pd.DataFrame(np.random.rand(6,6), columns = columns, index = indices)\n",
    "\n",
    "\n",
    "# Q9. Write a Python program that reads a CSV file containing categorical data and converts a specified\n",
    "# column to a categorical data type. The program should prompt the user to enter the file path, column\n",
    "# name, and category order, and then display the sorted data.\n",
    "\n",
    "\n",
    "# Q10. Write a Python program that reads a CSV file containing sales data for different products and\n",
    "# visualizes the data using a stacked bar chart to show the sales of each product category over time. The\n",
    "# program should prompt the user to enter the file path and display the chart.\n",
    "\n",
    "\n",
    "# Q11. You are given a CSV file containing student data that includes the student ID and their test score. Write\n",
    "# a Python program that reads the CSV file, calculates the mean, median, and mode of the test scores, and\n",
    "# displays the results in a table.\n",
    "# The program should do the followingM\n",
    "# I Prompt the user to enter the file path of the CSV file containing the student dataR\n",
    "# I Read the CSV file into a Pandas DataFrameR\n",
    "# I Calculate the mean, median, and mode of the test scores using Pandas toolsR\n",
    "# I Display the mean, median, and mode in a table.\n",
    "# Assume the CSV file contains the following columnsM\n",
    "# I Student ID: The ID of the studentR\n",
    "# I Test Score: The score of the student's test.\n",
    "# Example usage of the program:\n",
    "# Enter the file path of the CSV file containing the student data: student_data.csv\n",
    "# +-----------+--------+\n",
    "# | Statistic | Value |\n",
    "# +-----------+--------+\n",
    "# | Mean | 79.6 |\n",
    "# | Median | 82 |\n",
    "# | Mode | 85, 90 |\n",
    "# +-----------+--------+\n",
    "# Assume that the CSV file student_data.csv contains the following data:\n",
    "# Student ID,Test Score\n",
    "# 1,85\n",
    "# 2,90\n",
    "# 3,80\n",
    "# 4,75\n",
    "# 5,85\n",
    "# 6,82\n",
    "# 7,78\n",
    "# 8,85\n",
    "# 9,90\n",
    "# 10,85\n",
    "# The program should calculate the mean, median, and mode of the test scores and display the results\n",
    "# in a table.\n",
    "# Note: Create your assignment in Jupyter notebook and upload it in GitHub & share that github\n",
    "# repository link through your dashboard. Make sure the repository is public."
   ]
  },
  {
   "cell_type": "code",
   "execution_count": 2,
   "id": "e1f778bc-1747-4ca2-bf97-7c96e3922397",
   "metadata": {
    "tags": []
   },
   "outputs": [],
   "source": [
    "import pandas as pd"
   ]
  },
  {
   "cell_type": "code",
   "execution_count": 3,
   "id": "867a17f5-068b-4c7e-8d63-5197e123de56",
   "metadata": {
    "tags": []
   },
   "outputs": [],
   "source": [
    "course_name = ['Data Science', 'Machine Learning', 'Big Data', 'Data Engineer']\n",
    "duration = [2,3,6,4]\n",
    "df = pd.DataFrame(data = {'course_name' : course_name, 'duration' : duration})"
   ]
  },
  {
   "cell_type": "code",
   "execution_count": 4,
   "id": "426d357a-81fc-446f-bff9-dd0eb7b20b60",
   "metadata": {
    "tags": []
   },
   "outputs": [
    {
     "data": {
      "text/html": [
       "<div>\n",
       "<style scoped>\n",
       "    .dataframe tbody tr th:only-of-type {\n",
       "        vertical-align: middle;\n",
       "    }\n",
       "\n",
       "    .dataframe tbody tr th {\n",
       "        vertical-align: top;\n",
       "    }\n",
       "\n",
       "    .dataframe thead th {\n",
       "        text-align: right;\n",
       "    }\n",
       "</style>\n",
       "<table border=\"1\" class=\"dataframe\">\n",
       "  <thead>\n",
       "    <tr style=\"text-align: right;\">\n",
       "      <th></th>\n",
       "      <th>course_name</th>\n",
       "      <th>duration</th>\n",
       "    </tr>\n",
       "  </thead>\n",
       "  <tbody>\n",
       "    <tr>\n",
       "      <th>0</th>\n",
       "      <td>Data Science</td>\n",
       "      <td>2</td>\n",
       "    </tr>\n",
       "    <tr>\n",
       "      <th>1</th>\n",
       "      <td>Machine Learning</td>\n",
       "      <td>3</td>\n",
       "    </tr>\n",
       "    <tr>\n",
       "      <th>2</th>\n",
       "      <td>Big Data</td>\n",
       "      <td>6</td>\n",
       "    </tr>\n",
       "    <tr>\n",
       "      <th>3</th>\n",
       "      <td>Data Engineer</td>\n",
       "      <td>4</td>\n",
       "    </tr>\n",
       "  </tbody>\n",
       "</table>\n",
       "</div>"
      ],
      "text/plain": [
       "        course_name  duration\n",
       "0      Data Science         2\n",
       "1  Machine Learning         3\n",
       "2          Big Data         6\n",
       "3     Data Engineer         4"
      ]
     },
     "execution_count": 4,
     "metadata": {},
     "output_type": "execute_result"
    }
   ],
   "source": [
    "df"
   ]
  },
  {
   "cell_type": "code",
   "execution_count": 5,
   "id": "ebe8a15c-33fd-45b4-a1b6-a75f44e6ec73",
   "metadata": {
    "tags": []
   },
   "outputs": [],
   "source": [
    "################################################################################################\n",
    "#Ans 01:"
   ]
  },
  {
   "cell_type": "code",
   "execution_count": 6,
   "id": "d0c78b39-6ca1-4033-aa68-98387e515fae",
   "metadata": {
    "tags": []
   },
   "outputs": [
    {
     "data": {
      "text/html": [
       "<div>\n",
       "<style scoped>\n",
       "    .dataframe tbody tr th:only-of-type {\n",
       "        vertical-align: middle;\n",
       "    }\n",
       "\n",
       "    .dataframe tbody tr th {\n",
       "        vertical-align: top;\n",
       "    }\n",
       "\n",
       "    .dataframe thead th {\n",
       "        text-align: right;\n",
       "    }\n",
       "</style>\n",
       "<table border=\"1\" class=\"dataframe\">\n",
       "  <thead>\n",
       "    <tr style=\"text-align: right;\">\n",
       "      <th></th>\n",
       "      <th>1</th>\n",
       "    </tr>\n",
       "  </thead>\n",
       "  <tbody>\n",
       "    <tr>\n",
       "      <th>course_name</th>\n",
       "      <td>Machine Learning</td>\n",
       "    </tr>\n",
       "    <tr>\n",
       "      <th>duration</th>\n",
       "      <td>3</td>\n",
       "    </tr>\n",
       "  </tbody>\n",
       "</table>\n",
       "</div>"
      ],
      "text/plain": [
       "                            1\n",
       "course_name  Machine Learning\n",
       "duration                    3"
      ]
     },
     "execution_count": 6,
     "metadata": {},
     "output_type": "execute_result"
    }
   ],
   "source": [
    "pd.DataFrame(df.iloc[1])"
   ]
  },
  {
   "cell_type": "code",
   "execution_count": 7,
   "id": "1e2789b0-0dc9-4d91-a75c-721f417129d1",
   "metadata": {
    "tags": []
   },
   "outputs": [],
   "source": [
    "################################################################################################\n",
    "#Ans 02:"
   ]
  },
  {
   "cell_type": "code",
   "execution_count": 8,
   "id": "92b3ebed-6178-4a44-8097-5f00c5c3e630",
   "metadata": {
    "tags": []
   },
   "outputs": [],
   "source": [
    "# loc: Label-based selection\n",
    "# loc is primarily used for selecting data by specifying row and column labels. You provide the row label(s) and column label(s) as arguments.\n",
    "# It includes the endpoint when slicing using labels (e.g., loc['start':'end'] includes both 'start' and 'end' in the result).\n",
    "# When you use a single label for row or column selection, it returns a Series.\n",
    "# When you use a list of labels or a boolean array for selection, it returns a DataFrame."
   ]
  },
  {
   "cell_type": "code",
   "execution_count": 9,
   "id": "ff9f011a-4e76-4fb4-8516-105c67483984",
   "metadata": {
    "tags": []
   },
   "outputs": [
    {
     "data": {
      "text/html": [
       "<div>\n",
       "<style scoped>\n",
       "    .dataframe tbody tr th:only-of-type {\n",
       "        vertical-align: middle;\n",
       "    }\n",
       "\n",
       "    .dataframe tbody tr th {\n",
       "        vertical-align: top;\n",
       "    }\n",
       "\n",
       "    .dataframe thead th {\n",
       "        text-align: right;\n",
       "    }\n",
       "</style>\n",
       "<table border=\"1\" class=\"dataframe\">\n",
       "  <thead>\n",
       "    <tr style=\"text-align: right;\">\n",
       "      <th></th>\n",
       "      <th>course_name</th>\n",
       "      <th>duration</th>\n",
       "    </tr>\n",
       "  </thead>\n",
       "  <tbody>\n",
       "    <tr>\n",
       "      <th>0</th>\n",
       "      <td>Data Science</td>\n",
       "      <td>2</td>\n",
       "    </tr>\n",
       "    <tr>\n",
       "      <th>1</th>\n",
       "      <td>Machine Learning</td>\n",
       "      <td>3</td>\n",
       "    </tr>\n",
       "    <tr>\n",
       "      <th>2</th>\n",
       "      <td>Big Data</td>\n",
       "      <td>6</td>\n",
       "    </tr>\n",
       "  </tbody>\n",
       "</table>\n",
       "</div>"
      ],
      "text/plain": [
       "        course_name  duration\n",
       "0      Data Science         2\n",
       "1  Machine Learning         3\n",
       "2          Big Data         6"
      ]
     },
     "execution_count": 9,
     "metadata": {},
     "output_type": "execute_result"
    }
   ],
   "source": [
    "pd.DataFrame(df.loc[0:2])"
   ]
  },
  {
   "cell_type": "code",
   "execution_count": 10,
   "id": "0536edd6-5ea8-4798-831f-1c1a4e7e10dc",
   "metadata": {
    "tags": []
   },
   "outputs": [],
   "source": [
    "# iloc: Integer-based selection\n",
    "# iloc is used for selecting data by specifying integer indices for rows and columns.\n",
    "# It does not include the endpoint when slicing using integer indices (e.g., iloc[0:2] selects rows with indices 0 and 1, but not 2).\n",
    "# When you use a single integer for row or column selection, it returns a Series.\n",
    "# When you use a list of integers or a boolean array for selection, it returns a DataFrame."
   ]
  },
  {
   "cell_type": "code",
   "execution_count": 11,
   "id": "a5abc1e9-20f0-4736-b684-eb3bde098453",
   "metadata": {
    "tags": []
   },
   "outputs": [
    {
     "data": {
      "text/html": [
       "<div>\n",
       "<style scoped>\n",
       "    .dataframe tbody tr th:only-of-type {\n",
       "        vertical-align: middle;\n",
       "    }\n",
       "\n",
       "    .dataframe tbody tr th {\n",
       "        vertical-align: top;\n",
       "    }\n",
       "\n",
       "    .dataframe thead th {\n",
       "        text-align: right;\n",
       "    }\n",
       "</style>\n",
       "<table border=\"1\" class=\"dataframe\">\n",
       "  <thead>\n",
       "    <tr style=\"text-align: right;\">\n",
       "      <th></th>\n",
       "      <th>course_name</th>\n",
       "      <th>duration</th>\n",
       "    </tr>\n",
       "  </thead>\n",
       "  <tbody>\n",
       "    <tr>\n",
       "      <th>0</th>\n",
       "      <td>Data Science</td>\n",
       "      <td>2</td>\n",
       "    </tr>\n",
       "    <tr>\n",
       "      <th>1</th>\n",
       "      <td>Machine Learning</td>\n",
       "      <td>3</td>\n",
       "    </tr>\n",
       "  </tbody>\n",
       "</table>\n",
       "</div>"
      ],
      "text/plain": [
       "        course_name  duration\n",
       "0      Data Science         2\n",
       "1  Machine Learning         3"
      ]
     },
     "execution_count": 11,
     "metadata": {},
     "output_type": "execute_result"
    }
   ],
   "source": [
    "pd.DataFrame(df.iloc[0:2])"
   ]
  },
  {
   "cell_type": "code",
   "execution_count": 12,
   "id": "4ef02d70-230a-4c3c-b48b-17cbd4f42aab",
   "metadata": {
    "tags": []
   },
   "outputs": [],
   "source": [
    "################################################################################################\n",
    "#Ans 03:"
   ]
  },
  {
   "cell_type": "code",
   "execution_count": 13,
   "id": "ae143a2b-a994-404b-ac95-3dbaa60adc0c",
   "metadata": {
    "tags": []
   },
   "outputs": [],
   "source": [
    "reindex = [3,0,1,2]"
   ]
  },
  {
   "cell_type": "code",
   "execution_count": 14,
   "id": "f794efeb-cc17-48bf-a36d-9499a34fd223",
   "metadata": {
    "tags": []
   },
   "outputs": [],
   "source": [
    "new_df = df.reindex(reindex)"
   ]
  },
  {
   "cell_type": "code",
   "execution_count": 15,
   "id": "b5d31ffe-7e38-4fec-bfd7-43a6be463036",
   "metadata": {
    "tags": []
   },
   "outputs": [
    {
     "data": {
      "text/html": [
       "<div>\n",
       "<style scoped>\n",
       "    .dataframe tbody tr th:only-of-type {\n",
       "        vertical-align: middle;\n",
       "    }\n",
       "\n",
       "    .dataframe tbody tr th {\n",
       "        vertical-align: top;\n",
       "    }\n",
       "\n",
       "    .dataframe thead th {\n",
       "        text-align: right;\n",
       "    }\n",
       "</style>\n",
       "<table border=\"1\" class=\"dataframe\">\n",
       "  <thead>\n",
       "    <tr style=\"text-align: right;\">\n",
       "      <th></th>\n",
       "      <th>course_name</th>\n",
       "      <th>duration</th>\n",
       "    </tr>\n",
       "  </thead>\n",
       "  <tbody>\n",
       "    <tr>\n",
       "      <th>3</th>\n",
       "      <td>Data Engineer</td>\n",
       "      <td>4</td>\n",
       "    </tr>\n",
       "    <tr>\n",
       "      <th>0</th>\n",
       "      <td>Data Science</td>\n",
       "      <td>2</td>\n",
       "    </tr>\n",
       "    <tr>\n",
       "      <th>1</th>\n",
       "      <td>Machine Learning</td>\n",
       "      <td>3</td>\n",
       "    </tr>\n",
       "    <tr>\n",
       "      <th>2</th>\n",
       "      <td>Big Data</td>\n",
       "      <td>6</td>\n",
       "    </tr>\n",
       "  </tbody>\n",
       "</table>\n",
       "</div>"
      ],
      "text/plain": [
       "        course_name  duration\n",
       "3     Data Engineer         4\n",
       "0      Data Science         2\n",
       "1  Machine Learning         3\n",
       "2          Big Data         6"
      ]
     },
     "execution_count": 15,
     "metadata": {},
     "output_type": "execute_result"
    }
   ],
   "source": [
    "new_df"
   ]
  },
  {
   "cell_type": "code",
   "execution_count": 16,
   "id": "a8cef1fa-6e0e-44da-9b23-daa7840afa48",
   "metadata": {
    "tags": []
   },
   "outputs": [
    {
     "data": {
      "text/plain": [
       "course_name    Big Data\n",
       "duration              6\n",
       "Name: 2, dtype: object"
      ]
     },
     "execution_count": 16,
     "metadata": {},
     "output_type": "execute_result"
    }
   ],
   "source": [
    "new_df.loc[2]"
   ]
  },
  {
   "cell_type": "code",
   "execution_count": 17,
   "id": "f8cad182-f5ad-4b0a-b39b-1daa1a7d57de",
   "metadata": {
    "tags": []
   },
   "outputs": [
    {
     "data": {
      "text/plain": [
       "course_name    Machine Learning\n",
       "duration                      3\n",
       "Name: 1, dtype: object"
      ]
     },
     "execution_count": 17,
     "metadata": {},
     "output_type": "execute_result"
    }
   ],
   "source": [
    "new_df.iloc[2]"
   ]
  },
  {
   "cell_type": "code",
   "execution_count": 18,
   "id": "ebe0d207-b994-422c-8523-6bc0db74a23a",
   "metadata": {
    "tags": []
   },
   "outputs": [],
   "source": [
    "################################################################################################"
   ]
  },
  {
   "cell_type": "code",
   "execution_count": 19,
   "id": "e189c054-609d-428b-a9ad-1b6559e10e13",
   "metadata": {
    "tags": []
   },
   "outputs": [],
   "source": [
    "import numpy as np\n",
    "columns = ['column_1', 'column_2', 'column_3', 'column_4', 'column_5', 'column_6']\n",
    "indices = [1,2,3,4,5,6]\n",
    "#Creating a dataframe:\n",
    "df1 = pd.DataFrame(np.random.rand(6,6), columns = columns, index = indices)"
   ]
  },
  {
   "cell_type": "code",
   "execution_count": 20,
   "id": "c283737a-e637-4b4b-9932-343c357e9185",
   "metadata": {
    "tags": []
   },
   "outputs": [
    {
     "data": {
      "text/html": [
       "<div>\n",
       "<style scoped>\n",
       "    .dataframe tbody tr th:only-of-type {\n",
       "        vertical-align: middle;\n",
       "    }\n",
       "\n",
       "    .dataframe tbody tr th {\n",
       "        vertical-align: top;\n",
       "    }\n",
       "\n",
       "    .dataframe thead th {\n",
       "        text-align: right;\n",
       "    }\n",
       "</style>\n",
       "<table border=\"1\" class=\"dataframe\">\n",
       "  <thead>\n",
       "    <tr style=\"text-align: right;\">\n",
       "      <th></th>\n",
       "      <th>column_1</th>\n",
       "      <th>column_2</th>\n",
       "      <th>column_3</th>\n",
       "      <th>column_4</th>\n",
       "      <th>column_5</th>\n",
       "      <th>column_6</th>\n",
       "    </tr>\n",
       "  </thead>\n",
       "  <tbody>\n",
       "    <tr>\n",
       "      <th>1</th>\n",
       "      <td>0.924840</td>\n",
       "      <td>0.122213</td>\n",
       "      <td>0.478159</td>\n",
       "      <td>0.253512</td>\n",
       "      <td>0.290542</td>\n",
       "      <td>0.393125</td>\n",
       "    </tr>\n",
       "    <tr>\n",
       "      <th>2</th>\n",
       "      <td>0.784903</td>\n",
       "      <td>0.409908</td>\n",
       "      <td>0.120633</td>\n",
       "      <td>0.175846</td>\n",
       "      <td>0.332728</td>\n",
       "      <td>0.269711</td>\n",
       "    </tr>\n",
       "    <tr>\n",
       "      <th>3</th>\n",
       "      <td>0.358727</td>\n",
       "      <td>0.978031</td>\n",
       "      <td>0.252516</td>\n",
       "      <td>0.324856</td>\n",
       "      <td>0.360055</td>\n",
       "      <td>0.210788</td>\n",
       "    </tr>\n",
       "    <tr>\n",
       "      <th>4</th>\n",
       "      <td>0.406367</td>\n",
       "      <td>0.907059</td>\n",
       "      <td>0.957743</td>\n",
       "      <td>0.659633</td>\n",
       "      <td>0.519730</td>\n",
       "      <td>0.027368</td>\n",
       "    </tr>\n",
       "    <tr>\n",
       "      <th>5</th>\n",
       "      <td>0.776308</td>\n",
       "      <td>0.120317</td>\n",
       "      <td>0.253974</td>\n",
       "      <td>0.037848</td>\n",
       "      <td>0.488305</td>\n",
       "      <td>0.871799</td>\n",
       "    </tr>\n",
       "    <tr>\n",
       "      <th>6</th>\n",
       "      <td>0.556031</td>\n",
       "      <td>0.135508</td>\n",
       "      <td>0.620345</td>\n",
       "      <td>0.078836</td>\n",
       "      <td>0.978202</td>\n",
       "      <td>0.102171</td>\n",
       "    </tr>\n",
       "  </tbody>\n",
       "</table>\n",
       "</div>"
      ],
      "text/plain": [
       "   column_1  column_2  column_3  column_4  column_5  column_6\n",
       "1  0.924840  0.122213  0.478159  0.253512  0.290542  0.393125\n",
       "2  0.784903  0.409908  0.120633  0.175846  0.332728  0.269711\n",
       "3  0.358727  0.978031  0.252516  0.324856  0.360055  0.210788\n",
       "4  0.406367  0.907059  0.957743  0.659633  0.519730  0.027368\n",
       "5  0.776308  0.120317  0.253974  0.037848  0.488305  0.871799\n",
       "6  0.556031  0.135508  0.620345  0.078836  0.978202  0.102171"
      ]
     },
     "execution_count": 20,
     "metadata": {},
     "output_type": "execute_result"
    }
   ],
   "source": [
    "df1"
   ]
  },
  {
   "cell_type": "code",
   "execution_count": 21,
   "id": "fb631f38-ff40-44f8-9664-0c33b323520d",
   "metadata": {
    "tags": []
   },
   "outputs": [],
   "source": [
    "################################################################################################\n",
    "#Ans 04:"
   ]
  },
  {
   "cell_type": "code",
   "execution_count": 22,
   "id": "ad3d02d5-0e3f-4202-b209-ef9d7cdaa3e4",
   "metadata": {
    "tags": []
   },
   "outputs": [
    {
     "data": {
      "text/html": [
       "<div>\n",
       "<style scoped>\n",
       "    .dataframe tbody tr th:only-of-type {\n",
       "        vertical-align: middle;\n",
       "    }\n",
       "\n",
       "    .dataframe tbody tr th {\n",
       "        vertical-align: top;\n",
       "    }\n",
       "\n",
       "    .dataframe thead th {\n",
       "        text-align: right;\n",
       "    }\n",
       "</style>\n",
       "<table border=\"1\" class=\"dataframe\">\n",
       "  <thead>\n",
       "    <tr style=\"text-align: right;\">\n",
       "      <th></th>\n",
       "      <th>0</th>\n",
       "    </tr>\n",
       "  </thead>\n",
       "  <tbody>\n",
       "    <tr>\n",
       "      <th>column_1</th>\n",
       "      <td>0.634529</td>\n",
       "    </tr>\n",
       "    <tr>\n",
       "      <th>column_2</th>\n",
       "      <td>0.445506</td>\n",
       "    </tr>\n",
       "    <tr>\n",
       "      <th>column_3</th>\n",
       "      <td>0.447228</td>\n",
       "    </tr>\n",
       "    <tr>\n",
       "      <th>column_4</th>\n",
       "      <td>0.255088</td>\n",
       "    </tr>\n",
       "    <tr>\n",
       "      <th>column_5</th>\n",
       "      <td>0.494927</td>\n",
       "    </tr>\n",
       "    <tr>\n",
       "      <th>column_6</th>\n",
       "      <td>0.312494</td>\n",
       "    </tr>\n",
       "  </tbody>\n",
       "</table>\n",
       "</div>"
      ],
      "text/plain": [
       "                 0\n",
       "column_1  0.634529\n",
       "column_2  0.445506\n",
       "column_3  0.447228\n",
       "column_4  0.255088\n",
       "column_5  0.494927\n",
       "column_6  0.312494"
      ]
     },
     "execution_count": 22,
     "metadata": {},
     "output_type": "execute_result"
    }
   ],
   "source": [
    "pd.DataFrame(df1.mean())"
   ]
  },
  {
   "cell_type": "code",
   "execution_count": 23,
   "id": "1c51087b-0fff-4194-8bff-dafacc7e52bc",
   "metadata": {
    "tags": []
   },
   "outputs": [
    {
     "data": {
      "text/plain": [
       "0.4010602513075091"
      ]
     },
     "execution_count": 23,
     "metadata": {},
     "output_type": "execute_result"
    }
   ],
   "source": [
    "df1['column_2'].std()"
   ]
  },
  {
   "cell_type": "code",
   "execution_count": 24,
   "id": "0d07064c-6f7e-4c26-a64e-2e107546ebee",
   "metadata": {
    "tags": []
   },
   "outputs": [],
   "source": [
    "################################################################################################\n",
    "#Ans 05:"
   ]
  },
  {
   "cell_type": "code",
   "execution_count": 25,
   "id": "3ee91bd3-7b0c-4ac8-ae84-18ccb9cc2c32",
   "metadata": {
    "tags": []
   },
   "outputs": [
    {
     "name": "stderr",
     "output_type": "stream",
     "text": [
      "C:\\Users\\MY PC\\AppData\\Local\\Temp\\ipykernel_15320\\3100889834.py:1: FutureWarning: Setting an item of incompatible dtype is deprecated and will raise in a future error of pandas. Value 'Gaurav' has dtype incompatible with float64, please explicitly cast to a compatible dtype first.\n",
      "  df1.iloc[1,1] = 'Gaurav'\n"
     ]
    }
   ],
   "source": [
    "df1.iloc[1,1] = 'Gaurav'"
   ]
  },
  {
   "cell_type": "code",
   "execution_count": 26,
   "id": "6d1f9b54-c77b-4974-9104-b601d6af2efe",
   "metadata": {
    "tags": []
   },
   "outputs": [
    {
     "data": {
      "text/html": [
       "<div>\n",
       "<style scoped>\n",
       "    .dataframe tbody tr th:only-of-type {\n",
       "        vertical-align: middle;\n",
       "    }\n",
       "\n",
       "    .dataframe tbody tr th {\n",
       "        vertical-align: top;\n",
       "    }\n",
       "\n",
       "    .dataframe thead th {\n",
       "        text-align: right;\n",
       "    }\n",
       "</style>\n",
       "<table border=\"1\" class=\"dataframe\">\n",
       "  <thead>\n",
       "    <tr style=\"text-align: right;\">\n",
       "      <th></th>\n",
       "      <th>column_1</th>\n",
       "      <th>column_2</th>\n",
       "      <th>column_3</th>\n",
       "      <th>column_4</th>\n",
       "      <th>column_5</th>\n",
       "      <th>column_6</th>\n",
       "    </tr>\n",
       "  </thead>\n",
       "  <tbody>\n",
       "    <tr>\n",
       "      <th>1</th>\n",
       "      <td>0.924840</td>\n",
       "      <td>0.122213</td>\n",
       "      <td>0.478159</td>\n",
       "      <td>0.253512</td>\n",
       "      <td>0.290542</td>\n",
       "      <td>0.393125</td>\n",
       "    </tr>\n",
       "    <tr>\n",
       "      <th>2</th>\n",
       "      <td>0.784903</td>\n",
       "      <td>Gaurav</td>\n",
       "      <td>0.120633</td>\n",
       "      <td>0.175846</td>\n",
       "      <td>0.332728</td>\n",
       "      <td>0.269711</td>\n",
       "    </tr>\n",
       "    <tr>\n",
       "      <th>3</th>\n",
       "      <td>0.358727</td>\n",
       "      <td>0.978031</td>\n",
       "      <td>0.252516</td>\n",
       "      <td>0.324856</td>\n",
       "      <td>0.360055</td>\n",
       "      <td>0.210788</td>\n",
       "    </tr>\n",
       "    <tr>\n",
       "      <th>4</th>\n",
       "      <td>0.406367</td>\n",
       "      <td>0.907059</td>\n",
       "      <td>0.957743</td>\n",
       "      <td>0.659633</td>\n",
       "      <td>0.519730</td>\n",
       "      <td>0.027368</td>\n",
       "    </tr>\n",
       "    <tr>\n",
       "      <th>5</th>\n",
       "      <td>0.776308</td>\n",
       "      <td>0.120317</td>\n",
       "      <td>0.253974</td>\n",
       "      <td>0.037848</td>\n",
       "      <td>0.488305</td>\n",
       "      <td>0.871799</td>\n",
       "    </tr>\n",
       "    <tr>\n",
       "      <th>6</th>\n",
       "      <td>0.556031</td>\n",
       "      <td>0.135508</td>\n",
       "      <td>0.620345</td>\n",
       "      <td>0.078836</td>\n",
       "      <td>0.978202</td>\n",
       "      <td>0.102171</td>\n",
       "    </tr>\n",
       "  </tbody>\n",
       "</table>\n",
       "</div>"
      ],
      "text/plain": [
       "   column_1  column_2  column_3  column_4  column_5  column_6\n",
       "1  0.924840  0.122213  0.478159  0.253512  0.290542  0.393125\n",
       "2  0.784903    Gaurav  0.120633  0.175846  0.332728  0.269711\n",
       "3  0.358727  0.978031  0.252516  0.324856  0.360055  0.210788\n",
       "4  0.406367  0.907059  0.957743  0.659633  0.519730  0.027368\n",
       "5  0.776308  0.120317  0.253974  0.037848  0.488305  0.871799\n",
       "6  0.556031  0.135508  0.620345  0.078836  0.978202  0.102171"
      ]
     },
     "execution_count": 26,
     "metadata": {},
     "output_type": "execute_result"
    }
   ],
   "source": [
    "df1"
   ]
  },
  {
   "cell_type": "code",
   "execution_count": 27,
   "id": "ce06d3a2-f6f5-412a-bcec-4a67732e7e9f",
   "metadata": {
    "tags": []
   },
   "outputs": [
    {
     "ename": "TypeError",
     "evalue": "unsupported operand type(s) for +: 'float' and 'str'",
     "output_type": "error",
     "traceback": [
      "\u001b[1;31m---------------------------------------------------------------------------\u001b[0m",
      "\u001b[1;31mTypeError\u001b[0m                                 Traceback (most recent call last)",
      "Cell \u001b[1;32mIn[27], line 1\u001b[0m\n\u001b[1;32m----> 1\u001b[0m df1[\u001b[38;5;124m'\u001b[39m\u001b[38;5;124mcolumn_2\u001b[39m\u001b[38;5;124m'\u001b[39m]\u001b[38;5;241m.\u001b[39mmean()\n",
      "File \u001b[1;32mD:\\Users\\MY_PC\\anaconda3\\Lib\\site-packages\\pandas\\core\\series.py:6226\u001b[0m, in \u001b[0;36mSeries.mean\u001b[1;34m(self, axis, skipna, numeric_only, **kwargs)\u001b[0m\n\u001b[0;32m   6218\u001b[0m \u001b[38;5;129m@doc\u001b[39m(make_doc(\u001b[38;5;124m\"\u001b[39m\u001b[38;5;124mmean\u001b[39m\u001b[38;5;124m\"\u001b[39m, ndim\u001b[38;5;241m=\u001b[39m\u001b[38;5;241m1\u001b[39m))\n\u001b[0;32m   6219\u001b[0m \u001b[38;5;28;01mdef\u001b[39;00m \u001b[38;5;21mmean\u001b[39m(\n\u001b[0;32m   6220\u001b[0m     \u001b[38;5;28mself\u001b[39m,\n\u001b[1;32m   (...)\u001b[0m\n\u001b[0;32m   6224\u001b[0m     \u001b[38;5;241m*\u001b[39m\u001b[38;5;241m*\u001b[39mkwargs,\n\u001b[0;32m   6225\u001b[0m ):\n\u001b[1;32m-> 6226\u001b[0m     \u001b[38;5;28;01mreturn\u001b[39;00m NDFrame\u001b[38;5;241m.\u001b[39mmean(\u001b[38;5;28mself\u001b[39m, axis, skipna, numeric_only, \u001b[38;5;241m*\u001b[39m\u001b[38;5;241m*\u001b[39mkwargs)\n",
      "File \u001b[1;32mD:\\Users\\MY_PC\\anaconda3\\Lib\\site-packages\\pandas\\core\\generic.py:11969\u001b[0m, in \u001b[0;36mNDFrame.mean\u001b[1;34m(self, axis, skipna, numeric_only, **kwargs)\u001b[0m\n\u001b[0;32m  11962\u001b[0m \u001b[38;5;28;01mdef\u001b[39;00m \u001b[38;5;21mmean\u001b[39m(\n\u001b[0;32m  11963\u001b[0m     \u001b[38;5;28mself\u001b[39m,\n\u001b[0;32m  11964\u001b[0m     axis: Axis \u001b[38;5;241m|\u001b[39m \u001b[38;5;28;01mNone\u001b[39;00m \u001b[38;5;241m=\u001b[39m \u001b[38;5;241m0\u001b[39m,\n\u001b[1;32m   (...)\u001b[0m\n\u001b[0;32m  11967\u001b[0m     \u001b[38;5;241m*\u001b[39m\u001b[38;5;241m*\u001b[39mkwargs,\n\u001b[0;32m  11968\u001b[0m ) \u001b[38;5;241m-\u001b[39m\u001b[38;5;241m>\u001b[39m Series \u001b[38;5;241m|\u001b[39m \u001b[38;5;28mfloat\u001b[39m:\n\u001b[1;32m> 11969\u001b[0m     \u001b[38;5;28;01mreturn\u001b[39;00m \u001b[38;5;28mself\u001b[39m\u001b[38;5;241m.\u001b[39m_stat_function(\n\u001b[0;32m  11970\u001b[0m         \u001b[38;5;124m\"\u001b[39m\u001b[38;5;124mmean\u001b[39m\u001b[38;5;124m\"\u001b[39m, nanops\u001b[38;5;241m.\u001b[39mnanmean, axis, skipna, numeric_only, \u001b[38;5;241m*\u001b[39m\u001b[38;5;241m*\u001b[39mkwargs\n\u001b[0;32m  11971\u001b[0m     )\n",
      "File \u001b[1;32mD:\\Users\\MY_PC\\anaconda3\\Lib\\site-packages\\pandas\\core\\generic.py:11926\u001b[0m, in \u001b[0;36mNDFrame._stat_function\u001b[1;34m(self, name, func, axis, skipna, numeric_only, **kwargs)\u001b[0m\n\u001b[0;32m  11922\u001b[0m nv\u001b[38;5;241m.\u001b[39mvalidate_func(name, (), kwargs)\n\u001b[0;32m  11924\u001b[0m validate_bool_kwarg(skipna, \u001b[38;5;124m\"\u001b[39m\u001b[38;5;124mskipna\u001b[39m\u001b[38;5;124m\"\u001b[39m, none_allowed\u001b[38;5;241m=\u001b[39m\u001b[38;5;28;01mFalse\u001b[39;00m)\n\u001b[1;32m> 11926\u001b[0m \u001b[38;5;28;01mreturn\u001b[39;00m \u001b[38;5;28mself\u001b[39m\u001b[38;5;241m.\u001b[39m_reduce(\n\u001b[0;32m  11927\u001b[0m     func, name\u001b[38;5;241m=\u001b[39mname, axis\u001b[38;5;241m=\u001b[39maxis, skipna\u001b[38;5;241m=\u001b[39mskipna, numeric_only\u001b[38;5;241m=\u001b[39mnumeric_only\n\u001b[0;32m  11928\u001b[0m )\n",
      "File \u001b[1;32mD:\\Users\\MY_PC\\anaconda3\\Lib\\site-packages\\pandas\\core\\series.py:6134\u001b[0m, in \u001b[0;36mSeries._reduce\u001b[1;34m(self, op, name, axis, skipna, numeric_only, filter_type, **kwds)\u001b[0m\n\u001b[0;32m   6129\u001b[0m     \u001b[38;5;66;03m# GH#47500 - change to TypeError to match other methods\u001b[39;00m\n\u001b[0;32m   6130\u001b[0m     \u001b[38;5;28;01mraise\u001b[39;00m \u001b[38;5;167;01mTypeError\u001b[39;00m(\n\u001b[0;32m   6131\u001b[0m         \u001b[38;5;124mf\u001b[39m\u001b[38;5;124m\"\u001b[39m\u001b[38;5;124mSeries.\u001b[39m\u001b[38;5;132;01m{\u001b[39;00mname\u001b[38;5;132;01m}\u001b[39;00m\u001b[38;5;124m does not allow \u001b[39m\u001b[38;5;132;01m{\u001b[39;00mkwd_name\u001b[38;5;132;01m}\u001b[39;00m\u001b[38;5;124m=\u001b[39m\u001b[38;5;132;01m{\u001b[39;00mnumeric_only\u001b[38;5;132;01m}\u001b[39;00m\u001b[38;5;124m \u001b[39m\u001b[38;5;124m\"\u001b[39m\n\u001b[0;32m   6132\u001b[0m         \u001b[38;5;124m\"\u001b[39m\u001b[38;5;124mwith non-numeric dtypes.\u001b[39m\u001b[38;5;124m\"\u001b[39m\n\u001b[0;32m   6133\u001b[0m     )\n\u001b[1;32m-> 6134\u001b[0m \u001b[38;5;28;01mreturn\u001b[39;00m op(delegate, skipna\u001b[38;5;241m=\u001b[39mskipna, \u001b[38;5;241m*\u001b[39m\u001b[38;5;241m*\u001b[39mkwds)\n",
      "File \u001b[1;32mD:\\Users\\MY_PC\\anaconda3\\Lib\\site-packages\\pandas\\core\\nanops.py:147\u001b[0m, in \u001b[0;36mbottleneck_switch.__call__.<locals>.f\u001b[1;34m(values, axis, skipna, **kwds)\u001b[0m\n\u001b[0;32m    145\u001b[0m         result \u001b[38;5;241m=\u001b[39m alt(values, axis\u001b[38;5;241m=\u001b[39maxis, skipna\u001b[38;5;241m=\u001b[39mskipna, \u001b[38;5;241m*\u001b[39m\u001b[38;5;241m*\u001b[39mkwds)\n\u001b[0;32m    146\u001b[0m \u001b[38;5;28;01melse\u001b[39;00m:\n\u001b[1;32m--> 147\u001b[0m     result \u001b[38;5;241m=\u001b[39m alt(values, axis\u001b[38;5;241m=\u001b[39maxis, skipna\u001b[38;5;241m=\u001b[39mskipna, \u001b[38;5;241m*\u001b[39m\u001b[38;5;241m*\u001b[39mkwds)\n\u001b[0;32m    149\u001b[0m \u001b[38;5;28;01mreturn\u001b[39;00m result\n",
      "File \u001b[1;32mD:\\Users\\MY_PC\\anaconda3\\Lib\\site-packages\\pandas\\core\\nanops.py:404\u001b[0m, in \u001b[0;36m_datetimelike_compat.<locals>.new_func\u001b[1;34m(values, axis, skipna, mask, **kwargs)\u001b[0m\n\u001b[0;32m    401\u001b[0m \u001b[38;5;28;01mif\u001b[39;00m datetimelike \u001b[38;5;129;01mand\u001b[39;00m mask \u001b[38;5;129;01mis\u001b[39;00m \u001b[38;5;28;01mNone\u001b[39;00m:\n\u001b[0;32m    402\u001b[0m     mask \u001b[38;5;241m=\u001b[39m isna(values)\n\u001b[1;32m--> 404\u001b[0m result \u001b[38;5;241m=\u001b[39m func(values, axis\u001b[38;5;241m=\u001b[39maxis, skipna\u001b[38;5;241m=\u001b[39mskipna, mask\u001b[38;5;241m=\u001b[39mmask, \u001b[38;5;241m*\u001b[39m\u001b[38;5;241m*\u001b[39mkwargs)\n\u001b[0;32m    406\u001b[0m \u001b[38;5;28;01mif\u001b[39;00m datetimelike:\n\u001b[0;32m    407\u001b[0m     result \u001b[38;5;241m=\u001b[39m _wrap_results(result, orig_values\u001b[38;5;241m.\u001b[39mdtype, fill_value\u001b[38;5;241m=\u001b[39miNaT)\n",
      "File \u001b[1;32mD:\\Users\\MY_PC\\anaconda3\\Lib\\site-packages\\pandas\\core\\nanops.py:719\u001b[0m, in \u001b[0;36mnanmean\u001b[1;34m(values, axis, skipna, mask)\u001b[0m\n\u001b[0;32m    716\u001b[0m     dtype_count \u001b[38;5;241m=\u001b[39m dtype\n\u001b[0;32m    718\u001b[0m count \u001b[38;5;241m=\u001b[39m _get_counts(values\u001b[38;5;241m.\u001b[39mshape, mask, axis, dtype\u001b[38;5;241m=\u001b[39mdtype_count)\n\u001b[1;32m--> 719\u001b[0m the_sum \u001b[38;5;241m=\u001b[39m values\u001b[38;5;241m.\u001b[39msum(axis, dtype\u001b[38;5;241m=\u001b[39mdtype_sum)\n\u001b[0;32m    720\u001b[0m the_sum \u001b[38;5;241m=\u001b[39m _ensure_numeric(the_sum)\n\u001b[0;32m    722\u001b[0m \u001b[38;5;28;01mif\u001b[39;00m axis \u001b[38;5;129;01mis\u001b[39;00m \u001b[38;5;129;01mnot\u001b[39;00m \u001b[38;5;28;01mNone\u001b[39;00m \u001b[38;5;129;01mand\u001b[39;00m \u001b[38;5;28mgetattr\u001b[39m(the_sum, \u001b[38;5;124m\"\u001b[39m\u001b[38;5;124mndim\u001b[39m\u001b[38;5;124m\"\u001b[39m, \u001b[38;5;28;01mFalse\u001b[39;00m):\n",
      "File \u001b[1;32mD:\\Users\\MY_PC\\anaconda3\\Lib\\site-packages\\numpy\\core\\_methods.py:49\u001b[0m, in \u001b[0;36m_sum\u001b[1;34m(a, axis, dtype, out, keepdims, initial, where)\u001b[0m\n\u001b[0;32m     47\u001b[0m \u001b[38;5;28;01mdef\u001b[39;00m \u001b[38;5;21m_sum\u001b[39m(a, axis\u001b[38;5;241m=\u001b[39m\u001b[38;5;28;01mNone\u001b[39;00m, dtype\u001b[38;5;241m=\u001b[39m\u001b[38;5;28;01mNone\u001b[39;00m, out\u001b[38;5;241m=\u001b[39m\u001b[38;5;28;01mNone\u001b[39;00m, keepdims\u001b[38;5;241m=\u001b[39m\u001b[38;5;28;01mFalse\u001b[39;00m,\n\u001b[0;32m     48\u001b[0m          initial\u001b[38;5;241m=\u001b[39m_NoValue, where\u001b[38;5;241m=\u001b[39m\u001b[38;5;28;01mTrue\u001b[39;00m):\n\u001b[1;32m---> 49\u001b[0m     \u001b[38;5;28;01mreturn\u001b[39;00m umr_sum(a, axis, dtype, out, keepdims, initial, where)\n",
      "\u001b[1;31mTypeError\u001b[0m: unsupported operand type(s) for +: 'float' and 'str'"
     ]
    }
   ],
   "source": [
    "df1['column_2'].mean()"
   ]
  },
  {
   "cell_type": "code",
   "execution_count": 28,
   "id": "2001ee00-7cd4-4897-842d-d2e9bee7ff44",
   "metadata": {
    "tags": []
   },
   "outputs": [],
   "source": [
    "# We are getting this error because we are trying to find average and we have introduced a string in the int column."
   ]
  },
  {
   "cell_type": "code",
   "execution_count": 29,
   "id": "d526df4e-f620-4da6-896f-334b92cf5b8e",
   "metadata": {
    "tags": []
   },
   "outputs": [],
   "source": [
    "################################################################################################\n",
    "#Ans 06:"
   ]
  },
  {
   "cell_type": "code",
   "execution_count": 30,
   "id": "7501b907-12eb-4d8d-89bd-4942fa19c1a4",
   "metadata": {},
   "outputs": [],
   "source": [
    "# In pandas, window functions (also known as rolling or moving functions) are used for performing calculations on a specified subset of data points within\n",
    "# a rolling window of a DataFrame or Series. These functions allow you to compute aggregate statistics, transformations, or other operations on data points\n",
    "# within a sliding or expanding window of your data. Window functions are particularly useful for time series data and data that has a natural order.\n",
    "\n",
    "# The key components of a window function include:\n",
    "\n",
    "# The data to be processed.\n",
    "# The window size, which determines how many data points are included in each window.\n",
    "# The window's positioning, which can be rolling (sliding) or expanding.\n",
    "\n",
    "# There are various types of window functions available in pandas, which can be broadly categorized into two main groups: aggregation functions and transformation\n",
    "# functions.\n",
    "\n",
    "# 1. Aggregation Window Functions:\n",
    "    \n",
    "# These functions calculate an aggregated value for each window and return a single value per window. Common aggregation window functions include:\n",
    "\n",
    "# mean(): Computes the mean (average) value within each window.\n",
    "# sum(): Computes the sum of values within each window.\n",
    "# min(): Computes the minimum value within each window.\n",
    "# max(): Computes the maximum value within each window.\n",
    "# count(): Counts the number of non-null values within each window.\n",
    "# std(): Computes the standard deviation within each window.\n",
    "# var(): Computes the variance within each window.\n",
    "# median(): Computes the median value within each window.\n",
    "# quantile(q): Computes the specified quantile value (e.g., median when q=0.5) within each window.\n",
    "\n",
    "# 2. Transformation Window Functions:\n",
    "    \n",
    "# These functions apply a transformation to each data point within the window and return a window of transformed values that match the input data's shape.\n",
    "# Common transformation window functions include:\n",
    "\n",
    "# rank(): Computes the rank of each data point within each window.\n",
    "# diff(): Computes the difference between each data point and the previous data point within each window.\n",
    "# pct_change(): Computes the percentage change between each data point and the previous data point within each window.\n",
    "# shift(): Shifts the data within each window by a specified number of periods.\n",
    "\n",
    "# Here's an example of how to use a rolling mean aggregation window function in pandas:"
   ]
  },
  {
   "cell_type": "code",
   "execution_count": 31,
   "id": "2480de84-7ed3-4dac-8ccc-ea17273f7782",
   "metadata": {
    "tags": []
   },
   "outputs": [
    {
     "name": "stdout",
     "output_type": "stream",
     "text": [
      "0     NaN\n",
      "1    15.0\n",
      "2    25.0\n",
      "3    35.0\n",
      "4    45.0\n",
      "Name: value, dtype: float64\n"
     ]
    }
   ],
   "source": [
    "import pandas as pd\n",
    "\n",
    "# Create a DataFrame with time series data\n",
    "data = {'value': [10, 20, 30, 40, 50]}\n",
    "df = pd.DataFrame(data)\n",
    "\n",
    "# Calculate the rolling mean with a window size of 2\n",
    "rolling_mean = df['value'].rolling(window=2).mean()\n",
    "\n",
    "print(rolling_mean)"
   ]
  },
  {
   "cell_type": "code",
   "execution_count": 32,
   "id": "ff8d2cda-a1c4-4b0d-9720-9b4474c69bc6",
   "metadata": {
    "tags": []
   },
   "outputs": [],
   "source": [
    "################################################################################################\n",
    "#Ans 07:"
   ]
  },
  {
   "cell_type": "code",
   "execution_count": 33,
   "id": "e6bd08d1-e61a-49ff-98f1-1496b3f6fc99",
   "metadata": {
    "tags": []
   },
   "outputs": [],
   "source": [
    "current_date = pd.Timestamp.now()"
   ]
  },
  {
   "cell_type": "code",
   "execution_count": 34,
   "id": "45ee2aca-1d83-4c21-9a51-8cf5b1088b27",
   "metadata": {
    "tags": []
   },
   "outputs": [
    {
     "data": {
      "text/plain": [
       "Timestamp('2023-09-27 13:44:40.550773')"
      ]
     },
     "execution_count": 34,
     "metadata": {},
     "output_type": "execute_result"
    }
   ],
   "source": [
    "current_date"
   ]
  },
  {
   "cell_type": "code",
   "execution_count": 35,
   "id": "60ecd0a2-b474-440d-b4a1-c19923f1d75d",
   "metadata": {
    "tags": []
   },
   "outputs": [],
   "source": [
    "current_month = current_date.strftime('%B')\n",
    "current_year = current_date.strftime('%Y')"
   ]
  },
  {
   "cell_type": "code",
   "execution_count": 36,
   "id": "1af2b8cd-e0de-419c-85d1-850bb1a72ccd",
   "metadata": {
    "tags": []
   },
   "outputs": [
    {
     "name": "stdout",
     "output_type": "stream",
     "text": [
      "September\n",
      "2023\n"
     ]
    }
   ],
   "source": [
    "print(current_month)\n",
    "print(current_year)"
   ]
  },
  {
   "cell_type": "code",
   "execution_count": 37,
   "id": "595d4e5e-3aff-4822-a5af-d561f3d6386d",
   "metadata": {
    "tags": []
   },
   "outputs": [],
   "source": [
    "################################################################################################\n",
    "#Ans 08:"
   ]
  },
  {
   "cell_type": "code",
   "execution_count": 38,
   "id": "481aecc9-c01a-41a6-8de0-32bd7bae60c1",
   "metadata": {
    "tags": []
   },
   "outputs": [],
   "source": [
    "def get_date_diff():\n",
    "    date1 = str(input('Enter date_1 in YYYY-MM-DD format:'))\n",
    "    date2 = str(input('Enter date_2 in YYYY-MM-DD format:'))\n",
    "    \n",
    "    dt1 = pd.to_datetime(date1)\n",
    "    dt2 = pd.to_datetime(date2)\n",
    "    \n",
    "    return dt2-dt1"
   ]
  },
  {
   "cell_type": "code",
   "execution_count": 39,
   "id": "6fe869bf-bc51-43ce-bdaf-5210b598a52a",
   "metadata": {
    "tags": []
   },
   "outputs": [
    {
     "name": "stdin",
     "output_type": "stream",
     "text": [
      "Enter date_1 in YYYY-MM-DD format: 2023-01-01\n",
      "Enter date_2 in YYYY-MM-DD format: 2023-09-27\n"
     ]
    },
    {
     "data": {
      "text/plain": [
       "Timedelta('269 days 00:00:00')"
      ]
     },
     "execution_count": 39,
     "metadata": {},
     "output_type": "execute_result"
    }
   ],
   "source": [
    "get_date_diff()"
   ]
  },
  {
   "cell_type": "code",
   "execution_count": 40,
   "id": "4f4ce7ad-0312-41f7-8593-a50b4aba98fe",
   "metadata": {
    "tags": []
   },
   "outputs": [],
   "source": [
    "################################################################################################\n",
    "#Ans 09:"
   ]
  },
  {
   "cell_type": "code",
   "execution_count": 41,
   "id": "e5fb15e0-08f0-4e4b-9cc9-f8eeac5cb42b",
   "metadata": {
    "tags": []
   },
   "outputs": [],
   "source": [
    "df2 = pd.read_csv('myFilecatdata0.csv')"
   ]
  },
  {
   "cell_type": "code",
   "execution_count": 42,
   "id": "5e4605e5-2b63-4085-9f08-b5654e16d3cf",
   "metadata": {
    "tags": []
   },
   "outputs": [
    {
     "data": {
      "text/html": [
       "<div>\n",
       "<style scoped>\n",
       "    .dataframe tbody tr th:only-of-type {\n",
       "        vertical-align: middle;\n",
       "    }\n",
       "\n",
       "    .dataframe tbody tr th {\n",
       "        vertical-align: top;\n",
       "    }\n",
       "\n",
       "    .dataframe thead th {\n",
       "        text-align: right;\n",
       "    }\n",
       "</style>\n",
       "<table border=\"1\" class=\"dataframe\">\n",
       "  <thead>\n",
       "    <tr style=\"text-align: right;\">\n",
       "      <th></th>\n",
       "      <th>id</th>\n",
       "      <th>Name</th>\n",
       "      <th>Email</th>\n",
       "      <th>Score</th>\n",
       "      <th>Country</th>\n",
       "    </tr>\n",
       "  </thead>\n",
       "  <tbody>\n",
       "    <tr>\n",
       "      <th>0</th>\n",
       "      <td>100</td>\n",
       "      <td>Brietta</td>\n",
       "      <td>Brietta@pwsmail.com</td>\n",
       "      <td>81</td>\n",
       "      <td>BE</td>\n",
       "    </tr>\n",
       "    <tr>\n",
       "      <th>1</th>\n",
       "      <td>101</td>\n",
       "      <td>Isa</td>\n",
       "      <td>Isa@pwsmail.com</td>\n",
       "      <td>77</td>\n",
       "      <td>LV</td>\n",
       "    </tr>\n",
       "    <tr>\n",
       "      <th>2</th>\n",
       "      <td>102</td>\n",
       "      <td>Codie</td>\n",
       "      <td>Codie@pwsmail.com</td>\n",
       "      <td>82</td>\n",
       "      <td>BI</td>\n",
       "    </tr>\n",
       "    <tr>\n",
       "      <th>3</th>\n",
       "      <td>103</td>\n",
       "      <td>Aimil</td>\n",
       "      <td>Aimil@pwsmail.com</td>\n",
       "      <td>90</td>\n",
       "      <td>JM</td>\n",
       "    </tr>\n",
       "    <tr>\n",
       "      <th>4</th>\n",
       "      <td>104</td>\n",
       "      <td>Norine</td>\n",
       "      <td>Norine@pwsmail.com</td>\n",
       "      <td>78</td>\n",
       "      <td>PF</td>\n",
       "    </tr>\n",
       "    <tr>\n",
       "      <th>...</th>\n",
       "      <td>...</td>\n",
       "      <td>...</td>\n",
       "      <td>...</td>\n",
       "      <td>...</td>\n",
       "      <td>...</td>\n",
       "    </tr>\n",
       "    <tr>\n",
       "      <th>995</th>\n",
       "      <td>1095</td>\n",
       "      <td>Christy</td>\n",
       "      <td>Christy@pwsmail.com</td>\n",
       "      <td>90</td>\n",
       "      <td>AE</td>\n",
       "    </tr>\n",
       "    <tr>\n",
       "      <th>996</th>\n",
       "      <td>1096</td>\n",
       "      <td>Eadie</td>\n",
       "      <td>Eadie@pwsmail.com</td>\n",
       "      <td>94</td>\n",
       "      <td>NU</td>\n",
       "    </tr>\n",
       "    <tr>\n",
       "      <th>997</th>\n",
       "      <td>1097</td>\n",
       "      <td>Lelah</td>\n",
       "      <td>Lelah@pwsmail.com</td>\n",
       "      <td>91</td>\n",
       "      <td>CL</td>\n",
       "    </tr>\n",
       "    <tr>\n",
       "      <th>998</th>\n",
       "      <td>1098</td>\n",
       "      <td>Aryn</td>\n",
       "      <td>Aryn@pwsmail.com</td>\n",
       "      <td>92</td>\n",
       "      <td>NU</td>\n",
       "    </tr>\n",
       "    <tr>\n",
       "      <th>999</th>\n",
       "      <td>1099</td>\n",
       "      <td>Violet</td>\n",
       "      <td>Violet@pwsmail.com</td>\n",
       "      <td>78</td>\n",
       "      <td>CZ</td>\n",
       "    </tr>\n",
       "  </tbody>\n",
       "</table>\n",
       "<p>1000 rows × 5 columns</p>\n",
       "</div>"
      ],
      "text/plain": [
       "       id     Name                Email  Score Country\n",
       "0     100  Brietta  Brietta@pwsmail.com     81      BE\n",
       "1     101      Isa      Isa@pwsmail.com     77      LV\n",
       "2     102    Codie    Codie@pwsmail.com     82      BI\n",
       "3     103    Aimil    Aimil@pwsmail.com     90      JM\n",
       "4     104   Norine   Norine@pwsmail.com     78      PF\n",
       "..    ...      ...                  ...    ...     ...\n",
       "995  1095  Christy  Christy@pwsmail.com     90      AE\n",
       "996  1096    Eadie    Eadie@pwsmail.com     94      NU\n",
       "997  1097    Lelah    Lelah@pwsmail.com     91      CL\n",
       "998  1098     Aryn     Aryn@pwsmail.com     92      NU\n",
       "999  1099   Violet   Violet@pwsmail.com     78      CZ\n",
       "\n",
       "[1000 rows x 5 columns]"
      ]
     },
     "execution_count": 42,
     "metadata": {},
     "output_type": "execute_result"
    }
   ],
   "source": [
    "df2"
   ]
  },
  {
   "cell_type": "code",
   "execution_count": 44,
   "id": "5b40986f-771c-406c-8d31-b95009fee843",
   "metadata": {
    "tags": []
   },
   "outputs": [
    {
     "data": {
      "text/plain": [
       "['BE', 'LV', 'BI', 'JM', 'PF', ..., 'AE', 'NU', 'CL', 'NU', 'CZ']\n",
       "Length: 1000\n",
       "Categories (236, object): ['AD' < 'AE' < 'AF' < 'AG' ... 'YT' < 'ZA' < 'ZM' < 'ZW']"
      ]
     },
     "execution_count": 44,
     "metadata": {},
     "output_type": "execute_result"
    }
   ],
   "source": [
    "pd.Categorical(df2['Country'], categories=,ordered=True)"
   ]
  },
  {
   "cell_type": "code",
   "execution_count": 45,
   "id": "d34ffb1d-db61-4976-95ce-2c23a03d8684",
   "metadata": {
    "tags": []
   },
   "outputs": [],
   "source": [
    "def conv_colmn_to_categorical(filepath, column_name, booleanval):\n",
    "    df = pd.read_csv(filepath)\n",
    "    cat_data = pd.Categorical(df[column_name], ordered=booleanval)\n",
    "    return cat_data"
   ]
  },
  {
   "cell_type": "code",
   "execution_count": 46,
   "id": "477efba2-e020-47b2-b93b-bff85352b5ee",
   "metadata": {
    "tags": []
   },
   "outputs": [
    {
     "data": {
      "text/plain": [
       "['BE', 'LV', 'BI', 'JM', 'PF', ..., 'AE', 'NU', 'CL', 'NU', 'CZ']\n",
       "Length: 1000\n",
       "Categories (236, object): ['AD' < 'AE' < 'AF' < 'AG' ... 'YT' < 'ZA' < 'ZM' < 'ZW']"
      ]
     },
     "execution_count": 46,
     "metadata": {},
     "output_type": "execute_result"
    }
   ],
   "source": [
    "conv_colmn_to_categorical('myFilecatdata0.csv', 'Country', True)"
   ]
  },
  {
   "cell_type": "code",
   "execution_count": 47,
   "id": "f9e069bc-097a-420e-85e6-7ef7c74853c5",
   "metadata": {
    "tags": []
   },
   "outputs": [],
   "source": [
    "################################################################################################\n",
    "#Ans 10:"
   ]
  },
  {
   "cell_type": "code",
   "execution_count": 55,
   "id": "80728f04-9e55-4b4b-8a50-885aa56d66cd",
   "metadata": {
    "tags": []
   },
   "outputs": [],
   "source": [
    "df3 = pd.read_csv('myFileKhichdi0 (1).csv')"
   ]
  },
  {
   "cell_type": "code",
   "execution_count": 56,
   "id": "d772b747-c3cf-48e7-b17f-b4171acadd17",
   "metadata": {
    "tags": []
   },
   "outputs": [
    {
     "data": {
      "text/html": [
       "<div>\n",
       "<style scoped>\n",
       "    .dataframe tbody tr th:only-of-type {\n",
       "        vertical-align: middle;\n",
       "    }\n",
       "\n",
       "    .dataframe tbody tr th {\n",
       "        vertical-align: top;\n",
       "    }\n",
       "\n",
       "    .dataframe thead th {\n",
       "        text-align: right;\n",
       "    }\n",
       "</style>\n",
       "<table border=\"1\" class=\"dataframe\">\n",
       "  <thead>\n",
       "    <tr style=\"text-align: right;\">\n",
       "      <th></th>\n",
       "      <th>id</th>\n",
       "      <th>Rice</th>\n",
       "      <th>Pulses</th>\n",
       "      <th>Salt</th>\n",
       "      <th>Ghee</th>\n",
       "      <th>Spices</th>\n",
       "    </tr>\n",
       "  </thead>\n",
       "  <tbody>\n",
       "    <tr>\n",
       "      <th>0</th>\n",
       "      <td>100</td>\n",
       "      <td>146</td>\n",
       "      <td>206</td>\n",
       "      <td>15</td>\n",
       "      <td>23</td>\n",
       "      <td>12</td>\n",
       "    </tr>\n",
       "    <tr>\n",
       "      <th>1</th>\n",
       "      <td>101</td>\n",
       "      <td>183</td>\n",
       "      <td>344</td>\n",
       "      <td>12</td>\n",
       "      <td>26</td>\n",
       "      <td>14</td>\n",
       "    </tr>\n",
       "    <tr>\n",
       "      <th>2</th>\n",
       "      <td>102</td>\n",
       "      <td>147</td>\n",
       "      <td>357</td>\n",
       "      <td>14</td>\n",
       "      <td>27</td>\n",
       "      <td>14</td>\n",
       "    </tr>\n",
       "    <tr>\n",
       "      <th>3</th>\n",
       "      <td>103</td>\n",
       "      <td>107</td>\n",
       "      <td>274</td>\n",
       "      <td>13</td>\n",
       "      <td>29</td>\n",
       "      <td>14</td>\n",
       "    </tr>\n",
       "    <tr>\n",
       "      <th>4</th>\n",
       "      <td>104</td>\n",
       "      <td>174</td>\n",
       "      <td>381</td>\n",
       "      <td>10</td>\n",
       "      <td>25</td>\n",
       "      <td>13</td>\n",
       "    </tr>\n",
       "    <tr>\n",
       "      <th>5</th>\n",
       "      <td>105</td>\n",
       "      <td>171</td>\n",
       "      <td>270</td>\n",
       "      <td>13</td>\n",
       "      <td>29</td>\n",
       "      <td>12</td>\n",
       "    </tr>\n",
       "    <tr>\n",
       "      <th>6</th>\n",
       "      <td>106</td>\n",
       "      <td>158</td>\n",
       "      <td>314</td>\n",
       "      <td>13</td>\n",
       "      <td>37</td>\n",
       "      <td>11</td>\n",
       "    </tr>\n",
       "    <tr>\n",
       "      <th>7</th>\n",
       "      <td>107</td>\n",
       "      <td>152</td>\n",
       "      <td>360</td>\n",
       "      <td>10</td>\n",
       "      <td>38</td>\n",
       "      <td>11</td>\n",
       "    </tr>\n",
       "    <tr>\n",
       "      <th>8</th>\n",
       "      <td>108</td>\n",
       "      <td>190</td>\n",
       "      <td>248</td>\n",
       "      <td>15</td>\n",
       "      <td>35</td>\n",
       "      <td>13</td>\n",
       "    </tr>\n",
       "    <tr>\n",
       "      <th>9</th>\n",
       "      <td>109</td>\n",
       "      <td>175</td>\n",
       "      <td>282</td>\n",
       "      <td>14</td>\n",
       "      <td>25</td>\n",
       "      <td>12</td>\n",
       "    </tr>\n",
       "    <tr>\n",
       "      <th>10</th>\n",
       "      <td>110</td>\n",
       "      <td>164</td>\n",
       "      <td>244</td>\n",
       "      <td>14</td>\n",
       "      <td>39</td>\n",
       "      <td>15</td>\n",
       "    </tr>\n",
       "    <tr>\n",
       "      <th>11</th>\n",
       "      <td>111</td>\n",
       "      <td>169</td>\n",
       "      <td>325</td>\n",
       "      <td>15</td>\n",
       "      <td>30</td>\n",
       "      <td>11</td>\n",
       "    </tr>\n",
       "    <tr>\n",
       "      <th>12</th>\n",
       "      <td>112</td>\n",
       "      <td>117</td>\n",
       "      <td>202</td>\n",
       "      <td>12</td>\n",
       "      <td>29</td>\n",
       "      <td>14</td>\n",
       "    </tr>\n",
       "    <tr>\n",
       "      <th>13</th>\n",
       "      <td>113</td>\n",
       "      <td>138</td>\n",
       "      <td>237</td>\n",
       "      <td>14</td>\n",
       "      <td>27</td>\n",
       "      <td>13</td>\n",
       "    </tr>\n",
       "    <tr>\n",
       "      <th>14</th>\n",
       "      <td>114</td>\n",
       "      <td>182</td>\n",
       "      <td>370</td>\n",
       "      <td>14</td>\n",
       "      <td>24</td>\n",
       "      <td>13</td>\n",
       "    </tr>\n",
       "    <tr>\n",
       "      <th>15</th>\n",
       "      <td>115</td>\n",
       "      <td>104</td>\n",
       "      <td>398</td>\n",
       "      <td>14</td>\n",
       "      <td>21</td>\n",
       "      <td>10</td>\n",
       "    </tr>\n",
       "    <tr>\n",
       "      <th>16</th>\n",
       "      <td>116</td>\n",
       "      <td>144</td>\n",
       "      <td>214</td>\n",
       "      <td>15</td>\n",
       "      <td>34</td>\n",
       "      <td>14</td>\n",
       "    </tr>\n",
       "    <tr>\n",
       "      <th>17</th>\n",
       "      <td>117</td>\n",
       "      <td>170</td>\n",
       "      <td>205</td>\n",
       "      <td>11</td>\n",
       "      <td>31</td>\n",
       "      <td>15</td>\n",
       "    </tr>\n",
       "    <tr>\n",
       "      <th>18</th>\n",
       "      <td>118</td>\n",
       "      <td>169</td>\n",
       "      <td>363</td>\n",
       "      <td>10</td>\n",
       "      <td>23</td>\n",
       "      <td>14</td>\n",
       "    </tr>\n",
       "    <tr>\n",
       "      <th>19</th>\n",
       "      <td>119</td>\n",
       "      <td>148</td>\n",
       "      <td>371</td>\n",
       "      <td>10</td>\n",
       "      <td>20</td>\n",
       "      <td>11</td>\n",
       "    </tr>\n",
       "  </tbody>\n",
       "</table>\n",
       "</div>"
      ],
      "text/plain": [
       "     id  Rice  Pulses  Salt  Ghee  Spices\n",
       "0   100   146     206    15    23      12\n",
       "1   101   183     344    12    26      14\n",
       "2   102   147     357    14    27      14\n",
       "3   103   107     274    13    29      14\n",
       "4   104   174     381    10    25      13\n",
       "5   105   171     270    13    29      12\n",
       "6   106   158     314    13    37      11\n",
       "7   107   152     360    10    38      11\n",
       "8   108   190     248    15    35      13\n",
       "9   109   175     282    14    25      12\n",
       "10  110   164     244    14    39      15\n",
       "11  111   169     325    15    30      11\n",
       "12  112   117     202    12    29      14\n",
       "13  113   138     237    14    27      13\n",
       "14  114   182     370    14    24      13\n",
       "15  115   104     398    14    21      10\n",
       "16  116   144     214    15    34      14\n",
       "17  117   170     205    11    31      15\n",
       "18  118   169     363    10    23      14\n",
       "19  119   148     371    10    20      11"
      ]
     },
     "execution_count": 56,
     "metadata": {},
     "output_type": "execute_result"
    }
   ],
   "source": [
    "df3"
   ]
  },
  {
   "cell_type": "code",
   "execution_count": 53,
   "id": "dca564e2-774c-4469-a81c-dd625a28108a",
   "metadata": {
    "tags": []
   },
   "outputs": [],
   "source": [
    "date = pd.date_range(end='01/01/2023', periods=20, freq='Y')"
   ]
  },
  {
   "cell_type": "code",
   "execution_count": 54,
   "id": "59558a76-9734-49fa-8a2e-65bdb4e63e1c",
   "metadata": {
    "tags": []
   },
   "outputs": [
    {
     "data": {
      "text/plain": [
       "DatetimeIndex(['2003-12-31', '2004-12-31', '2005-12-31', '2006-12-31',\n",
       "               '2007-12-31', '2008-12-31', '2009-12-31', '2010-12-31',\n",
       "               '2011-12-31', '2012-12-31', '2013-12-31', '2014-12-31',\n",
       "               '2015-12-31', '2016-12-31', '2017-12-31', '2018-12-31',\n",
       "               '2019-12-31', '2020-12-31', '2021-12-31', '2022-12-31'],\n",
       "              dtype='datetime64[ns]', freq='A-DEC')"
      ]
     },
     "execution_count": 54,
     "metadata": {},
     "output_type": "execute_result"
    }
   ],
   "source": [
    "date"
   ]
  },
  {
   "cell_type": "code",
   "execution_count": 57,
   "id": "b911d2a9-a643-4bea-a494-e590ec9f7fd6",
   "metadata": {
    "tags": []
   },
   "outputs": [],
   "source": [
    "df3['Date'] = date"
   ]
  },
  {
   "cell_type": "code",
   "execution_count": 66,
   "id": "a9a702c1-204d-4ac4-bedd-b69768883434",
   "metadata": {
    "tags": []
   },
   "outputs": [],
   "source": [
    "df3['Year'] = df3['Date'].dt.year"
   ]
  },
  {
   "cell_type": "code",
   "execution_count": 70,
   "id": "647762b8-6e44-49e9-808a-f354cde0f589",
   "metadata": {
    "tags": []
   },
   "outputs": [
    {
     "data": {
      "text/html": [
       "<div>\n",
       "<style scoped>\n",
       "    .dataframe tbody tr th:only-of-type {\n",
       "        vertical-align: middle;\n",
       "    }\n",
       "\n",
       "    .dataframe tbody tr th {\n",
       "        vertical-align: top;\n",
       "    }\n",
       "\n",
       "    .dataframe thead th {\n",
       "        text-align: right;\n",
       "    }\n",
       "</style>\n",
       "<table border=\"1\" class=\"dataframe\">\n",
       "  <thead>\n",
       "    <tr style=\"text-align: right;\">\n",
       "      <th></th>\n",
       "      <th>id</th>\n",
       "      <th>Rice</th>\n",
       "      <th>Pulses</th>\n",
       "      <th>Salt</th>\n",
       "      <th>Ghee</th>\n",
       "      <th>Spices</th>\n",
       "      <th>Date</th>\n",
       "      <th>Year</th>\n",
       "    </tr>\n",
       "  </thead>\n",
       "  <tbody>\n",
       "    <tr>\n",
       "      <th>0</th>\n",
       "      <td>100</td>\n",
       "      <td>146</td>\n",
       "      <td>206</td>\n",
       "      <td>15</td>\n",
       "      <td>23</td>\n",
       "      <td>12</td>\n",
       "      <td>2003-12-31</td>\n",
       "      <td>2003</td>\n",
       "    </tr>\n",
       "    <tr>\n",
       "      <th>1</th>\n",
       "      <td>101</td>\n",
       "      <td>183</td>\n",
       "      <td>344</td>\n",
       "      <td>12</td>\n",
       "      <td>26</td>\n",
       "      <td>14</td>\n",
       "      <td>2004-12-31</td>\n",
       "      <td>2004</td>\n",
       "    </tr>\n",
       "    <tr>\n",
       "      <th>2</th>\n",
       "      <td>102</td>\n",
       "      <td>147</td>\n",
       "      <td>357</td>\n",
       "      <td>14</td>\n",
       "      <td>27</td>\n",
       "      <td>14</td>\n",
       "      <td>2005-12-31</td>\n",
       "      <td>2005</td>\n",
       "    </tr>\n",
       "    <tr>\n",
       "      <th>3</th>\n",
       "      <td>103</td>\n",
       "      <td>107</td>\n",
       "      <td>274</td>\n",
       "      <td>13</td>\n",
       "      <td>29</td>\n",
       "      <td>14</td>\n",
       "      <td>2006-12-31</td>\n",
       "      <td>2006</td>\n",
       "    </tr>\n",
       "    <tr>\n",
       "      <th>4</th>\n",
       "      <td>104</td>\n",
       "      <td>174</td>\n",
       "      <td>381</td>\n",
       "      <td>10</td>\n",
       "      <td>25</td>\n",
       "      <td>13</td>\n",
       "      <td>2007-12-31</td>\n",
       "      <td>2007</td>\n",
       "    </tr>\n",
       "    <tr>\n",
       "      <th>5</th>\n",
       "      <td>105</td>\n",
       "      <td>171</td>\n",
       "      <td>270</td>\n",
       "      <td>13</td>\n",
       "      <td>29</td>\n",
       "      <td>12</td>\n",
       "      <td>2008-12-31</td>\n",
       "      <td>2008</td>\n",
       "    </tr>\n",
       "    <tr>\n",
       "      <th>6</th>\n",
       "      <td>106</td>\n",
       "      <td>158</td>\n",
       "      <td>314</td>\n",
       "      <td>13</td>\n",
       "      <td>37</td>\n",
       "      <td>11</td>\n",
       "      <td>2009-12-31</td>\n",
       "      <td>2009</td>\n",
       "    </tr>\n",
       "    <tr>\n",
       "      <th>7</th>\n",
       "      <td>107</td>\n",
       "      <td>152</td>\n",
       "      <td>360</td>\n",
       "      <td>10</td>\n",
       "      <td>38</td>\n",
       "      <td>11</td>\n",
       "      <td>2010-12-31</td>\n",
       "      <td>2010</td>\n",
       "    </tr>\n",
       "    <tr>\n",
       "      <th>8</th>\n",
       "      <td>108</td>\n",
       "      <td>190</td>\n",
       "      <td>248</td>\n",
       "      <td>15</td>\n",
       "      <td>35</td>\n",
       "      <td>13</td>\n",
       "      <td>2011-12-31</td>\n",
       "      <td>2011</td>\n",
       "    </tr>\n",
       "    <tr>\n",
       "      <th>9</th>\n",
       "      <td>109</td>\n",
       "      <td>175</td>\n",
       "      <td>282</td>\n",
       "      <td>14</td>\n",
       "      <td>25</td>\n",
       "      <td>12</td>\n",
       "      <td>2012-12-31</td>\n",
       "      <td>2012</td>\n",
       "    </tr>\n",
       "    <tr>\n",
       "      <th>10</th>\n",
       "      <td>110</td>\n",
       "      <td>164</td>\n",
       "      <td>244</td>\n",
       "      <td>14</td>\n",
       "      <td>39</td>\n",
       "      <td>15</td>\n",
       "      <td>2013-12-31</td>\n",
       "      <td>2013</td>\n",
       "    </tr>\n",
       "    <tr>\n",
       "      <th>11</th>\n",
       "      <td>111</td>\n",
       "      <td>169</td>\n",
       "      <td>325</td>\n",
       "      <td>15</td>\n",
       "      <td>30</td>\n",
       "      <td>11</td>\n",
       "      <td>2014-12-31</td>\n",
       "      <td>2014</td>\n",
       "    </tr>\n",
       "    <tr>\n",
       "      <th>12</th>\n",
       "      <td>112</td>\n",
       "      <td>117</td>\n",
       "      <td>202</td>\n",
       "      <td>12</td>\n",
       "      <td>29</td>\n",
       "      <td>14</td>\n",
       "      <td>2015-12-31</td>\n",
       "      <td>2015</td>\n",
       "    </tr>\n",
       "    <tr>\n",
       "      <th>13</th>\n",
       "      <td>113</td>\n",
       "      <td>138</td>\n",
       "      <td>237</td>\n",
       "      <td>14</td>\n",
       "      <td>27</td>\n",
       "      <td>13</td>\n",
       "      <td>2016-12-31</td>\n",
       "      <td>2016</td>\n",
       "    </tr>\n",
       "    <tr>\n",
       "      <th>14</th>\n",
       "      <td>114</td>\n",
       "      <td>182</td>\n",
       "      <td>370</td>\n",
       "      <td>14</td>\n",
       "      <td>24</td>\n",
       "      <td>13</td>\n",
       "      <td>2017-12-31</td>\n",
       "      <td>2017</td>\n",
       "    </tr>\n",
       "    <tr>\n",
       "      <th>15</th>\n",
       "      <td>115</td>\n",
       "      <td>104</td>\n",
       "      <td>398</td>\n",
       "      <td>14</td>\n",
       "      <td>21</td>\n",
       "      <td>10</td>\n",
       "      <td>2018-12-31</td>\n",
       "      <td>2018</td>\n",
       "    </tr>\n",
       "    <tr>\n",
       "      <th>16</th>\n",
       "      <td>116</td>\n",
       "      <td>144</td>\n",
       "      <td>214</td>\n",
       "      <td>15</td>\n",
       "      <td>34</td>\n",
       "      <td>14</td>\n",
       "      <td>2019-12-31</td>\n",
       "      <td>2019</td>\n",
       "    </tr>\n",
       "    <tr>\n",
       "      <th>17</th>\n",
       "      <td>117</td>\n",
       "      <td>170</td>\n",
       "      <td>205</td>\n",
       "      <td>11</td>\n",
       "      <td>31</td>\n",
       "      <td>15</td>\n",
       "      <td>2020-12-31</td>\n",
       "      <td>2020</td>\n",
       "    </tr>\n",
       "    <tr>\n",
       "      <th>18</th>\n",
       "      <td>118</td>\n",
       "      <td>169</td>\n",
       "      <td>363</td>\n",
       "      <td>10</td>\n",
       "      <td>23</td>\n",
       "      <td>14</td>\n",
       "      <td>2021-12-31</td>\n",
       "      <td>2021</td>\n",
       "    </tr>\n",
       "    <tr>\n",
       "      <th>19</th>\n",
       "      <td>119</td>\n",
       "      <td>148</td>\n",
       "      <td>371</td>\n",
       "      <td>10</td>\n",
       "      <td>20</td>\n",
       "      <td>11</td>\n",
       "      <td>2022-12-31</td>\n",
       "      <td>2022</td>\n",
       "    </tr>\n",
       "  </tbody>\n",
       "</table>\n",
       "</div>"
      ],
      "text/plain": [
       "     id  Rice  Pulses  Salt  Ghee  Spices       Date  Year\n",
       "0   100   146     206    15    23      12 2003-12-31  2003\n",
       "1   101   183     344    12    26      14 2004-12-31  2004\n",
       "2   102   147     357    14    27      14 2005-12-31  2005\n",
       "3   103   107     274    13    29      14 2006-12-31  2006\n",
       "4   104   174     381    10    25      13 2007-12-31  2007\n",
       "5   105   171     270    13    29      12 2008-12-31  2008\n",
       "6   106   158     314    13    37      11 2009-12-31  2009\n",
       "7   107   152     360    10    38      11 2010-12-31  2010\n",
       "8   108   190     248    15    35      13 2011-12-31  2011\n",
       "9   109   175     282    14    25      12 2012-12-31  2012\n",
       "10  110   164     244    14    39      15 2013-12-31  2013\n",
       "11  111   169     325    15    30      11 2014-12-31  2014\n",
       "12  112   117     202    12    29      14 2015-12-31  2015\n",
       "13  113   138     237    14    27      13 2016-12-31  2016\n",
       "14  114   182     370    14    24      13 2017-12-31  2017\n",
       "15  115   104     398    14    21      10 2018-12-31  2018\n",
       "16  116   144     214    15    34      14 2019-12-31  2019\n",
       "17  117   170     205    11    31      15 2020-12-31  2020\n",
       "18  118   169     363    10    23      14 2021-12-31  2021\n",
       "19  119   148     371    10    20      11 2022-12-31  2022"
      ]
     },
     "execution_count": 70,
     "metadata": {},
     "output_type": "execute_result"
    }
   ],
   "source": [
    "df3"
   ]
  },
  {
   "cell_type": "code",
   "execution_count": 69,
   "id": "6997c72f-e5da-4280-b67a-d7a46c5e2d94",
   "metadata": {
    "tags": []
   },
   "outputs": [
    {
     "data": {
      "text/plain": [
       "<Axes: xlabel='Year'>"
      ]
     },
     "execution_count": 69,
     "metadata": {},
     "output_type": "execute_result"
    },
    {
     "data": {
      "image/png": "[encoded data removed]",
      "text/plain": [
       "<Figure size 640x480 with 1 Axes>"
      ]
     },
     "metadata": {},
     "output_type": "display_data"
    }
   ],
   "source": [
    "df3.plot.bar(x = 'Year', y = ['Rice', 'Pulses', 'Salt', 'Ghee', 'Spices'], stacked=True)"
   ]
  },
  {
   "cell_type": "code",
   "execution_count": 71,
   "id": "22d432c3-038e-448e-b4f0-ab467ceed162",
   "metadata": {
    "tags": []
   },
   "outputs": [],
   "source": [
    "################################################################################################\n",
    "#Ans 11:"
   ]
  },
  {
   "cell_type": "code",
   "execution_count": 73,
   "id": "3c2344c5-969b-49d8-a9b0-d7302b45389c",
   "metadata": {
    "tags": []
   },
   "outputs": [],
   "source": [
    "df4 = pd.read_csv('myFileStudentScoreDetails.csv')"
   ]
  },
  {
   "cell_type": "code",
   "execution_count": 74,
   "id": "8e13c8e7-2acc-4971-b430-bef2b3552421",
   "metadata": {
    "tags": []
   },
   "outputs": [
    {
     "data": {
      "text/html": [
       "<div>\n",
       "<style scoped>\n",
       "    .dataframe tbody tr th:only-of-type {\n",
       "        vertical-align: middle;\n",
       "    }\n",
       "\n",
       "    .dataframe tbody tr th {\n",
       "        vertical-align: top;\n",
       "    }\n",
       "\n",
       "    .dataframe thead th {\n",
       "        text-align: right;\n",
       "    }\n",
       "</style>\n",
       "<table border=\"1\" class=\"dataframe\">\n",
       "  <thead>\n",
       "    <tr style=\"text-align: right;\">\n",
       "      <th></th>\n",
       "      <th>Student_Id</th>\n",
       "      <th>Test_Score</th>\n",
       "    </tr>\n",
       "  </thead>\n",
       "  <tbody>\n",
       "    <tr>\n",
       "      <th>0</th>\n",
       "      <td>1</td>\n",
       "      <td>81</td>\n",
       "    </tr>\n",
       "    <tr>\n",
       "      <th>1</th>\n",
       "      <td>2</td>\n",
       "      <td>76</td>\n",
       "    </tr>\n",
       "    <tr>\n",
       "      <th>2</th>\n",
       "      <td>3</td>\n",
       "      <td>76</td>\n",
       "    </tr>\n",
       "    <tr>\n",
       "      <th>3</th>\n",
       "      <td>4</td>\n",
       "      <td>77</td>\n",
       "    </tr>\n",
       "    <tr>\n",
       "      <th>4</th>\n",
       "      <td>5</td>\n",
       "      <td>82</td>\n",
       "    </tr>\n",
       "    <tr>\n",
       "      <th>...</th>\n",
       "      <td>...</td>\n",
       "      <td>...</td>\n",
       "    </tr>\n",
       "    <tr>\n",
       "      <th>95</th>\n",
       "      <td>96</td>\n",
       "      <td>82</td>\n",
       "    </tr>\n",
       "    <tr>\n",
       "      <th>96</th>\n",
       "      <td>97</td>\n",
       "      <td>84</td>\n",
       "    </tr>\n",
       "    <tr>\n",
       "      <th>97</th>\n",
       "      <td>98</td>\n",
       "      <td>78</td>\n",
       "    </tr>\n",
       "    <tr>\n",
       "      <th>98</th>\n",
       "      <td>99</td>\n",
       "      <td>81</td>\n",
       "    </tr>\n",
       "    <tr>\n",
       "      <th>99</th>\n",
       "      <td>100</td>\n",
       "      <td>79</td>\n",
       "    </tr>\n",
       "  </tbody>\n",
       "</table>\n",
       "<p>100 rows × 2 columns</p>\n",
       "</div>"
      ],
      "text/plain": [
       "    Student_Id  Test_Score\n",
       "0            1          81\n",
       "1            2          76\n",
       "2            3          76\n",
       "3            4          77\n",
       "4            5          82\n",
       "..         ...         ...\n",
       "95          96          82\n",
       "96          97          84\n",
       "97          98          78\n",
       "98          99          81\n",
       "99         100          79\n",
       "\n",
       "[100 rows x 2 columns]"
      ]
     },
     "execution_count": 74,
     "metadata": {},
     "output_type": "execute_result"
    }
   ],
   "source": [
    "df4"
   ]
  },
  {
   "cell_type": "code",
   "execution_count": 89,
   "id": "74729268-5b67-479f-96c1-f4b0ac2e6f3d",
   "metadata": {
    "tags": []
   },
   "outputs": [],
   "source": [
    "def Performance_Details(Filepath):\n",
    "    import pandas as pd\n",
    "    \n",
    "    df = pd.read_csv(Filepath)\n",
    "    \n",
    "    data = {\n",
    "        'Statistic': ['Mean', 'Median', 'Mode'],\n",
    "        'Value': [df['Test_Score'].mean(), df['Test_Score'].median(), [i for i in list(df['Test_Score'].mode())]]\n",
    "    }\n",
    "    df2 = pd.DataFrame(data)\n",
    "    \n",
    "    return df2"
   ]
  },
  {
   "cell_type": "code",
   "execution_count": 90,
   "id": "13e28fb7-bbed-46e7-a978-51a642d96255",
   "metadata": {
    "tags": []
   },
   "outputs": [
    {
     "data": {
      "text/html": [
       "<div>\n",
       "<style scoped>\n",
       "    .dataframe tbody tr th:only-of-type {\n",
       "        vertical-align: middle;\n",
       "    }\n",
       "\n",
       "    .dataframe tbody tr th {\n",
       "        vertical-align: top;\n",
       "    }\n",
       "\n",
       "    .dataframe thead th {\n",
       "        text-align: right;\n",
       "    }\n",
       "</style>\n",
       "<table border=\"1\" class=\"dataframe\">\n",
       "  <thead>\n",
       "    <tr style=\"text-align: right;\">\n",
       "      <th></th>\n",
       "      <th>Statistic</th>\n",
       "      <th>Value</th>\n",
       "    </tr>\n",
       "  </thead>\n",
       "  <tbody>\n",
       "    <tr>\n",
       "      <th>0</th>\n",
       "      <td>Mean</td>\n",
       "      <td>80.0</td>\n",
       "    </tr>\n",
       "    <tr>\n",
       "      <th>1</th>\n",
       "      <td>Median</td>\n",
       "      <td>80.0</td>\n",
       "    </tr>\n",
       "    <tr>\n",
       "      <th>2</th>\n",
       "      <td>Mode</td>\n",
       "      <td>[76, 83]</td>\n",
       "    </tr>\n",
       "  </tbody>\n",
       "</table>\n",
       "</div>"
      ],
      "text/plain": [
       "  Statistic     Value\n",
       "0      Mean      80.0\n",
       "1    Median      80.0\n",
       "2      Mode  [76, 83]"
      ]
     },
     "execution_count": 90,
     "metadata": {},
     "output_type": "execute_result"
    }
   ],
   "source": [
    "Performance_Details('myFileStudentScoreDetails.csv')"
   ]
  },
  {
   "cell_type": "code",
   "execution_count": 91,
   "id": "e0c6b513-f03c-4ac7-b6cc-2f0d0c476ed3",
   "metadata": {
    "tags": []
   },
   "outputs": [],
   "source": [
    "################################################################################################"
   ]
  }
 ],
 "metadata": {
  "kernelspec": {
   "display_name": "Python 3 (ipykernel)",
   "language": "python",
   "name": "python3"
  },
  "language_info": {
   "codemirror_mode": {
    "name": "ipython",
    "version": 3
   },
   "file_extension": ".py",
   "mimetype": "text/x-python",
   "name": "python",
   "nbconvert_exporter": "python",
   "pygments_lexer": "ipython3",
   "version": "3.11.4"
  }
 },
 "nbformat": 4,
 "nbformat_minor": 5
}
