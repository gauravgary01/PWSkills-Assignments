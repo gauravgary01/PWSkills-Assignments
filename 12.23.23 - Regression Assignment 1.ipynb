{
 "cells": [
  {
   "cell_type": "code",
   "execution_count": 1,
   "id": "a31eaaaf-08fb-484d-96ce-5a2e8f6100dc",
   "metadata": {
    "tags": []
   },
   "outputs": [],
   "source": [
    "#Ans 01:"
   ]
  },
  {
   "cell_type": "code",
   "execution_count": 2,
   "id": "863d8fde-6229-4b64-bc45-c524fc2f567e",
   "metadata": {
    "tags": []
   },
   "outputs": [],
   "source": [
    "# Simple Linear Regression:\n",
    "    \n",
    "# Definition: Simple linear regression involves predicting a dependent variable based on just one independent variable.\n",
    "\n",
    "# Equation: It follows a linear equation of the form:\n",
    "#     y = mx + b\n",
    "\n",
    "# Where:\n",
    "# y is the dependent variable.\n",
    "# x is the independent variable.\n",
    "# m is the slope.\n",
    "# b is the intercept.\n",
    "\n",
    "# Consider predicting a student's exam score (y) based on the number of hours they studied (x)."
   ]
  },
  {
   "cell_type": "code",
   "execution_count": 3,
   "id": "2fab71fb-e4b7-4c44-9989-10faa7e4d916",
   "metadata": {
    "tags": []
   },
   "outputs": [
    {
     "name": "stdout",
     "output_type": "stream",
     "text": [
      "Predicted score for 6 hours of study: 92.5\n"
     ]
    }
   ],
   "source": [
    "from sklearn.linear_model import LinearRegression\n",
    "\n",
    "# Data\n",
    "hours_studied = [[2], [3], [4], [5]]\n",
    "exam_scores = [65, 75, 80, 85]\n",
    "\n",
    "# Creating and fitting the model\n",
    "model_simple = LinearRegression()\n",
    "model_simple.fit(hours_studied, exam_scores)\n",
    "\n",
    "# Predicting score for a student studying 6 hours\n",
    "predicted_score = model_simple.predict([[6]])\n",
    "print(\"Predicted score for 6 hours of study:\", predicted_score[0])"
   ]
  },
  {
   "cell_type": "code",
   "execution_count": 4,
   "id": "8520c490-0f9e-49a4-b9b9-6f4be24669f6",
   "metadata": {
    "tags": []
   },
   "outputs": [],
   "source": [
    "# Multiple Linear Regression:\n",
    "    \n",
    "# Definition: Multiple linear regression involves predicting a dependent variable based on multiple independent variables.\n",
    "\n",
    "# Equation: It extends the simple linear equation to accommodate multiple predictors:\n",
    "#     y = b0 + b1*x1 + b2*x2 + ... + bn*xn\n",
    "\n",
    "# Where:\n",
    "\n",
    "# y is the dependent variable.\n",
    "# x1, x2, ..., xn are independent variables.\n",
    "# b0 is the intercept.\n",
    "# b1, b2, ..., bn are the coefficients for each independent variable.\n",
    "\n",
    "# Expanding the previous example, we might predict exam score (y) based on both the number of hours studied (x1) and the number of\n",
    "# practice tests taken (x2):\n",
    "    \n",
    "# | Hours Studied | Practice Tests | Exam Score |\n",
    "# |---------------|----------------|------------|\n",
    "# | 2             | 1              | 60         |\n",
    "# | 3             | 2              | 70         |\n",
    "# | 4             | 3              | 75         |\n",
    "# | 5             | 4              | 85         |"
   ]
  },
  {
   "cell_type": "code",
   "execution_count": 5,
   "id": "fae0d793-5ae4-4e8e-9a4a-7ec929fbcf83",
   "metadata": {
    "tags": []
   },
   "outputs": [
    {
     "name": "stdout",
     "output_type": "stream",
     "text": [
      "Predicted score for 6 hours & 3 practice tests: 84.5\n"
     ]
    }
   ],
   "source": [
    "# Data\n",
    "features = [[2, 1], [3, 2], [4, 3], [5, 4]]\n",
    "exam_scores_multi = [60, 70, 75, 85]\n",
    "\n",
    "# Creating and fitting the model\n",
    "model_multiple = LinearRegression()\n",
    "model_multiple.fit(features, exam_scores_multi)\n",
    "\n",
    "# Predicting score for a student studying 6 hours and taking 3 practice tests\n",
    "predicted_score_multi = model_multiple.predict([[6, 3]])\n",
    "print(\"Predicted score for 6 hours & 3 practice tests:\", predicted_score_multi[0])"
   ]
  },
  {
   "cell_type": "code",
   "execution_count": 6,
   "id": "0b653257-fe85-4380-ad1d-bdf865c27f70",
   "metadata": {
    "tags": []
   },
   "outputs": [],
   "source": [
    "# Multiple linear regression allows for more nuanced predictions by considering multiple factors simultaneously, offering a\n",
    "# more comprehensive view of the relationship between predictors and the dependent variable."
   ]
  },
  {
   "cell_type": "code",
   "execution_count": 7,
   "id": "0766e77b-beca-498e-9e81-1d1388f90cb3",
   "metadata": {
    "tags": []
   },
   "outputs": [],
   "source": [
    "###########################################################################################"
   ]
  },
  {
   "cell_type": "code",
   "execution_count": 8,
   "id": "c842e088-023e-494a-a170-7e237b8eb553",
   "metadata": {
    "tags": []
   },
   "outputs": [],
   "source": [
    "#Ans 02:"
   ]
  },
  {
   "cell_type": "code",
   "execution_count": 9,
   "id": "38c0aaee-b919-4fe0-a9e1-3e9e14929dd5",
   "metadata": {
    "tags": []
   },
   "outputs": [],
   "source": [
    "# Linear regression relies on several assumptions for accurate and reliable predictions. Checking these assumptions is\n",
    "# crucial to ensure the model's validity.\n",
    "\n",
    "\n",
    "# Assumptions of Linear Regression:\n",
    "# Linearity: The relationship between independent and dependent variables should be linear. You can check this using scatterplots or\n",
    "# residual plots. A scatterplot of variables against the response variable can visually confirm linearity.\n",
    "\n",
    "# Homoscedasticity: Homoscedasticity implies that the variance of errors should be constant across all levels of the independent variables.\n",
    "# Residual plots or scatterplots of residuals versus predicted values can help detect heteroscedasticity.\n",
    "\n",
    "# Independence of Errors: Residuals (errors) should be independent of each other. No pattern should be observable when plotting residuals\n",
    "# against time or any other variable that might have an ordering.\n",
    "\n",
    "# Normality of Residuals: Residuals should be normally distributed. A histogram or a Q-Q plot of residuals can be used to assess normality.\n",
    "\n",
    "# No Multicollinearity: In multiple linear regression, predictors should be independent of each other. High correlation between predictors\n",
    "# indicates multicollinearity, which can be checked using correlation matrices or variance inflation factor (VIF).\n",
    "\n",
    "\n",
    "# Methods to Check Assumptions:\n",
    "# Residual Analysis: Plot residuals against predicted values. Look for patterns, outliers, or heteroscedasticity in these plots.\n",
    "\n",
    "# Normality Tests: Use statistical tests like Shapiro-Wilk or Kolmogorov-Smirnov tests to assess the normality of residuals.\n",
    "\n",
    "# Q-Q Plots: Quantile-Quantile plots visually compare the distribution of residuals against a normal distribution. If the points lie\n",
    "# approximately along a diagonal line, the assumption of normality holds.\n",
    "\n",
    "# VIF Calculation: For multiple linear regression, calculate VIF scores for each predictor variable. VIF values above 5 or 10 suggest\n",
    "# multicollinearity.\n",
    "\n",
    "# Durbin-Watson Test: This tests for autocorrelation in residuals. A value between 1.5 and 2.5 usually indicates no significant\n",
    "# autocorrelation.\n",
    "\n",
    "# Cook’s Distance: Helps identify influential data points that might heavily impact the regression results.\n",
    "\n",
    "\n",
    "# By systematically assessing these checks, you can evaluate whether the data meets the assumptions required for linear regression.\n",
    "# If assumptions are violated, it might be necessary to consider alternative models or preprocessing steps to improve the model's performance."
   ]
  },
  {
   "cell_type": "code",
   "execution_count": 10,
   "id": "d53ecd51-8966-486c-9d98-cedb9115be2f",
   "metadata": {
    "tags": []
   },
   "outputs": [],
   "source": [
    "###########################################################################################"
   ]
  },
  {
   "cell_type": "code",
   "execution_count": 11,
   "id": "1cc3cff5-37f3-4e8f-8798-484d2a9612ab",
   "metadata": {
    "tags": []
   },
   "outputs": [],
   "source": [
    "#Ans 03:"
   ]
  },
  {
   "cell_type": "code",
   "execution_count": 12,
   "id": "d0d10f3e-4a5a-4ee5-8d39-1d6453f6e498",
   "metadata": {
    "tags": []
   },
   "outputs": [],
   "source": [
    "# The slope and intercept in a linear regression model carry specific interpretations that explain the relationship\n",
    "# between the independent and dependent variables.\n",
    "\n",
    "# Interpretation:\n",
    "# Intercept (b0): It represents the predicted value of the dependent variable when all independent variables are set to zero. In\n",
    "# some cases, this interpretation might not make practical sense, especially if setting variables to zero is not feasible or meaningful\n",
    "# within the context of the problem.\n",
    "\n",
    "# Slope (b1, b2, etc.): For each independent variable, the slope represents the change in the dependent variable associated with a\n",
    "# one-unit change in that particular independent variable, holding other variables constant.\n",
    "\n",
    "\n",
    "# Real-World Scenario Example:\n",
    "# Let's consider a scenario where we want to predict a person's monthly electricity bill based on the number of electrical appliances\n",
    "# they use. The linear regression model suggests the following equation:\n",
    "    \n",
    "#     Electricity Bill ($) = 50 + 20 * Number of Appliances\n",
    "    \n",
    "# Interpretation:\n",
    "# Intercept (b0 = 50): If a person uses zero appliances (which might not practically happen), the predicted electricity bill would be $50.\n",
    "# This might represent a fixed cost or a baseline fee not influenced by the number of appliances used.\n",
    "\n",
    "# Slope (b1 = 20): For each additional appliance used, the predicted monthly electricity bill increases by $20, assuming other factors remain\n",
    "# constant. This indicates a linear relationship between the number of appliances and the bill.\n",
    "\n",
    "# So, if someone uses 3 appliances:\n",
    "    \n",
    "#     Electricity Bill = 50 + 20 * 3 = $110\n",
    "\n",
    "# This interpretation implies that the baseline electricity bill is $50, and each appliance adds $20 to the monthly bill. However,\n",
    "# remember that interpreting coefficients requires consideration of the context and limitations of the data.\n",
    "\n",
    "# Understanding the slope and intercept helps grasp how changes in independent variables impact the predicted values of the dependent\n",
    "# variable, providing valuable insights for decision-making and understanding relationships within the data."
   ]
  },
  {
   "cell_type": "code",
   "execution_count": 13,
   "id": "f4d5b1e2-b2ed-4c91-96fc-48690916f765",
   "metadata": {
    "tags": []
   },
   "outputs": [],
   "source": [
    "###########################################################################################"
   ]
  },
  {
   "cell_type": "code",
   "execution_count": 14,
   "id": "c1358c7e-c523-437b-8204-90aa22b1970d",
   "metadata": {
    "tags": []
   },
   "outputs": [],
   "source": [
    "#Ans 04:"
   ]
  },
  {
   "cell_type": "code",
   "execution_count": 15,
   "id": "5a1088f4-91e3-4924-b23e-fe2b8b269227",
   "metadata": {
    "tags": []
   },
   "outputs": [],
   "source": [
    "# Gradient descent is a fundamental optimization algorithm used in machine learning to minimize a function by\n",
    "# iteratively moving in the direction of the steepest descent of the function.\n",
    "\n",
    "\n",
    "# Concept:\n",
    "# 1. Objective: It aims to find the minimum of a given function (often a loss or cost function in machine learning).\n",
    "\n",
    "# 2. Process:\n",
    "# Initialize: Start with a random set of parameters or coefficients.\n",
    "# Iterate: Gradually update these parameters to minimize the function.\n",
    "# Update Rule: At each iteration, compute the gradient (derivative) of the function at the current point.\n",
    "# Move in the Negative Gradient Direction: Adjust the parameters in the direction opposite to the gradient to move towards the minimum.\n",
    "\n",
    "# 3. Learning Rate: This is a hyperparameter that determines the step size taken during each iteration. A large learning rate might\n",
    "# cause overshooting the minimum, while a small one might lead to slow convergence.\n",
    "\n",
    "\n",
    "# Steps in Gradient Descent:\n",
    "# 1. Calculate Gradient: Compute the gradient of the function with respect to each parameter.\n",
    "\n",
    "# 2. Update Parameters: Adjust parameters using the gradient and the learning rate.\n",
    "\n",
    "# 3. Iterate: Repeat steps 1 and 2 until convergence (when the change in the function's value becomes negligible or after a set number\n",
    "#                                                     of iterations).\n",
    "\n",
    "# Types of Gradient Descent:\n",
    "# 1. Batch Gradient Descent: Computes the gradient using the entire dataset. It can be slow for large datasets due to computing gradients\n",
    "# for the entire dataset in each iteration.\n",
    "\n",
    "# 2. Stochastic Gradient Descent (SGD): Computes the gradient using only one randomly chosen data point at a time. Faster but more erratic\n",
    "# due to frequent updates based on single samples.\n",
    "\n",
    "# 3. Mini-batch Gradient Descent: A compromise between batch and stochastic, computing the gradient using a subset of data (a mini-batch).\n",
    "\n",
    "                                                    \n",
    "# Usage in Machine Learning:\n",
    "# 1. Optimizing Model Parameters: In machine learning, models often involve optimizing parameters to minimize a cost function (like mean\n",
    "# squared error in linear regression or cross-entropy in neural networks). Gradient descent helps find the optimal parameters by minimizing\n",
    "# these functions.\n",
    "\n",
    "# 2. Training Models: It's extensively used in training models like linear regression, logistic regression, neural networks, and more, where\n",
    "# parameters need to be adjusted to minimize a specific error or loss function.\n",
    "\n",
    "                                                    \n",
    "# Gradient descent is a cornerstone algorithm in machine learning, enabling models to learn and adapt by iteratively improving their parameters\n",
    "# to minimize errors and enhance predictive performance."
   ]
  },
  {
   "cell_type": "code",
   "execution_count": 16,
   "id": "95ea295b-f449-43c7-84b2-28ce40195dcf",
   "metadata": {
    "tags": []
   },
   "outputs": [],
   "source": [
    "###########################################################################################"
   ]
  },
  {
   "cell_type": "code",
   "execution_count": 17,
   "id": "58bee045-23e1-4c51-a3b3-1eb8d13ffe6e",
   "metadata": {
    "tags": []
   },
   "outputs": [],
   "source": [
    "#Ans 05:"
   ]
  },
  {
   "cell_type": "code",
   "execution_count": 18,
   "id": "d3d912b4-599c-432b-b613-879367e07747",
   "metadata": {
    "tags": []
   },
   "outputs": [],
   "source": [
    "# Multiple linear regression extends the concept of simple linear regression by incorporating multiple independent\n",
    "# variables to predict a dependent variable.\n",
    "\n",
    "# Multiple Linear Regression:\n",
    "# 1. Equation: The multiple linear regression equation with 'p' predictors is given by:\n",
    "    \n",
    "#     y = b0 + b1*x1 + b2*x2 + ... + bp*xp + ε\n",
    "\n",
    "# where:\n",
    "# y is the dependent variable.\n",
    "# x1, x2, ..., xp are the independent variables.\n",
    "# b0 is the intercept.\n",
    "# b1, b2, ..., bp are the coefficients for each independent variable.\n",
    "# ε represents the error term.\n",
    "\n",
    "# 2. Multiple Predictors: Unlike simple linear regression, which uses only one independent variable, multiple linear regression incorporates\n",
    "# multiple predictors to estimate the dependent variable. It models the relationship between the dependent variable and multiple predictors\n",
    "# simultaneously.\n",
    "\n",
    "# 3. Interpretation of Coefficients: Each coefficient represents the change in the dependent variable associated with a one-unit change in\n",
    "# the respective independent variable, holding all other variables constant.\n",
    "\n",
    "# 4. Higher Complexity: Multiple linear regression handles more complex relationships between variables, allowing for a more comprehensive\n",
    "# analysis of how multiple factors jointly influence the dependent variable.\n",
    "\n",
    "# Differences from Simple Linear Regression:\n",
    "# 1. Number of Predictors: Simple linear regression involves only one independent variable, whereas multiple linear regression includes\n",
    "# multiple independent variables.\n",
    "\n",
    "# 2. Equation Complexity: In simple linear regression, the equation has one independent variable (y = mx + b). In contrast, multiple linear\n",
    "# regression accommodates multiple independent variables (y = b0 + b1*x1 + b2*x2 + ... + bp*xp + ε).\n",
    "\n",
    "# 3. Model Complexity and Interpretation: Multiple linear regression allows for a more detailed analysis by considering the joint effect of\n",
    "# multiple predictors. However, interpreting the coefficients becomes more intricate as it involves understanding the impact of each\n",
    "# predictor while holding others constant.\n",
    "\n",
    "# Multiple linear regression offers a more sophisticated approach to modeling the relationship between dependent and multiple independent\n",
    "# variables, making it a powerful tool in understanding complex real-world scenarios where multiple factors influence an outcome."
   ]
  },
  {
   "cell_type": "code",
   "execution_count": 19,
   "id": "0180a083-7af1-4676-be09-696edde554fe",
   "metadata": {
    "tags": []
   },
   "outputs": [],
   "source": [
    "###########################################################################################"
   ]
  },
  {
   "cell_type": "code",
   "execution_count": 20,
   "id": "f3140201-a184-4f8b-a5c2-10ad6ba22cf4",
   "metadata": {
    "tags": []
   },
   "outputs": [],
   "source": [
    "#Ans 06:"
   ]
  },
  {
   "cell_type": "code",
   "execution_count": 21,
   "id": "677f4c8c-47bc-479d-9219-b7806165c47b",
   "metadata": {
    "tags": []
   },
   "outputs": [],
   "source": [
    "# Multicollinearity refers to a situation in multiple linear regression where two or more independent variables are\n",
    "# highly correlated with each other. It can cause problems in the regression analysis by inflating the standard errors of\n",
    "# coefficients, making them unreliable or difficult to interpret.\n",
    "\n",
    "\n",
    "# Effects of Multicollinearity:\n",
    "# 1. Unreliable Coefficients: High multicollinearity can lead to coefficients having unexpected signs or inflated values, making their\n",
    "# interpretations unreliable.\n",
    "\n",
    "# 2. Reduced Precision: It increases the standard errors of coefficients, reducing the precision of their estimates.\n",
    "\n",
    "\n",
    "# Detection of Multicollinearity:\n",
    "# 1. Correlation Matrix: Check the correlation between independent variables. Correlation coefficients close to 1 or -1 indicate high\n",
    "# multicollinearity.\n",
    "\n",
    "# 2. Variance Inflation Factor (VIF): Calculate VIF for each predictor variable. VIF measures how much the variance of an estimated\n",
    "# regression coefficient is increased due to multicollinearity. VIF values above 5 or 10 are often considered problematic.\n",
    "\n",
    "\n",
    "# Addressing Multicollinearity:\n",
    "# 1. Remove Redundant Variables: If two variables are highly correlated, consider removing one of them from the model.\n",
    "\n",
    "# 2. Feature Selection Techniques: Use feature selection methods like stepwise regression, LASSO, or ridge regression to automatically\n",
    "# select a subset of important variables while reducing multicollinearity.\n",
    "\n",
    "# 3. Combine Variables: Create new variables by combining highly correlated variables into one. For instance, if two variables measure\n",
    "# similar aspects, create an average or a ratio to represent both.\n",
    "\n",
    "# 4. Principal Component Analysis (PCA): Transform the variables into a smaller set of uncorrelated variables (principal components) that\n",
    "# retain most of the variance in the original data.\n",
    "\n",
    "# 5. Regularization Techniques: Use regularization methods like ridge regression or LASSO that penalize large coefficients, helping to\n",
    "# mitigate the impact of multicollinearity.\n",
    "\n",
    "# 6. Collect More Data: Sometimes, increasing the sample size can help mitigate multicollinearity by providing a more diverse range of\n",
    "# observations.\n",
    "\n",
    "\n",
    "# Handling multicollinearity is crucial to ensure the reliability and stability of the multiple linear regression model. By detecting and\n",
    "# addressing multicollinearity, the model's accuracy and interpretability can be improved, leading to more robust predictions and\n",
    "# better insights."
   ]
  },
  {
   "cell_type": "code",
   "execution_count": 22,
   "id": "e7890916-5197-4ad2-997d-fe41075e3d6f",
   "metadata": {
    "tags": []
   },
   "outputs": [],
   "source": [
    "###########################################################################################"
   ]
  },
  {
   "cell_type": "code",
   "execution_count": 23,
   "id": "24788049-8525-4897-8d12-c16ca06aca9d",
   "metadata": {
    "tags": []
   },
   "outputs": [],
   "source": [
    "#Ans 07:"
   ]
  },
  {
   "cell_type": "code",
   "execution_count": 24,
   "id": "f9ec216e-fbe2-44c9-8174-74a734c0534e",
   "metadata": {
    "tags": []
   },
   "outputs": [],
   "source": [
    "# Polynomial regression is a type of regression analysis used when the relationship between the independent variable(s)\n",
    "# and the dependent variable isn't linear. It extends the concept of linear regression by fitting a polynomial equation to the\n",
    "# data instead of a straight line.\n",
    "\n",
    "\n",
    "# Polynomial Regression:\n",
    "# 1. Equation: The polynomial regression equation of degree 'n' is represented as:\n",
    "    \n",
    "#     y = b0 + b1*x + b2*x^2 + ... + bn*x^n + ε\n",
    "\n",
    "# where,\n",
    "# y is the dependent variable.\n",
    "# x is the independent variable.\n",
    "# b0, b1, b2, ..., bn are the coefficients of the polynomial terms.\n",
    "# ε represents the error term.\n",
    "\n",
    "# 2. Higher Order Terms: Polynomial regression includes higher-order terms (quadratic, cubic, etc.) of the independent variable(s),\n",
    "# allowing the model to capture nonlinear relationships between variables.\n",
    "\n",
    "# 3. Curve Fitting: Instead of fitting a straight line, polynomial regression fits a curve to the data, enabling it to better capture\n",
    "# the complex relationships between variables.\n",
    "\n",
    "# 4. Degree of Polynomial: The degree of the polynomial determines the complexity of the curve. Higher degrees allow the model to fit\n",
    "# more intricate patterns but can lead to overfitting if not used judiciously.\n",
    "\n",
    "\n",
    "# Differences from Linear Regression:\n",
    "# 1. Equation Form: Linear regression has a simple equation (y = mx + b) involving linear terms. Polynomial regression includes higher-order\n",
    "# terms (x^2, x^3, etc.), resulting in a more complex equation.\n",
    "\n",
    "# 2. Model Complexity: Polynomial regression allows for more flexible modeling of nonlinear relationships compared to the strictly linear\n",
    "# relationship in linear regression.\n",
    "\n",
    "# 3. Curve Fitting Capability: While linear regression fits straight lines, polynomial regression fits curves, allowing for a better\n",
    "# representation of complex data patterns.\n",
    "\n",
    "# Example:\n",
    "# Suppose a dataset exhibits a quadratic relationship between a person's years of experience and their salary. Linear regression might not\n",
    "# capture the curvature adequately. In such cases, polynomial regression can fit a quadratic curve to better represent the data, yielding\n",
    "# a more accurate prediction of salaries based on experience.\n",
    "\n",
    "\n",
    "# Polynomial regression is useful when the relationship between variables is nonlinear, allowing for more flexible modeling of complex\n",
    "# real-world scenarios where linear models may not be sufficient to capture the underlying patterns in the data."
   ]
  },
  {
   "cell_type": "code",
   "execution_count": 25,
   "id": "fea3c93b-e18b-41a4-b8bb-602ccb0c83c0",
   "metadata": {
    "tags": []
   },
   "outputs": [
    {
     "data": {
      "image/png": "[encoded data removed]",
      "text/plain": [
       "<Figure size 640x480 with 1 Axes>"
      ]
     },
     "metadata": {},
     "output_type": "display_data"
    }
   ],
   "source": [
    "import numpy as np\n",
    "import matplotlib.pyplot as plt\n",
    "from sklearn.linear_model import LinearRegression\n",
    "from sklearn.preprocessing import PolynomialFeatures\n",
    "\n",
    "# Generating synthetic data\n",
    "np.random.seed(0)\n",
    "X = np.arange(1, 11).reshape(-1, 1)  # Years of experience\n",
    "y = 1500 + 500 * X + 30 * X**2 + np.random.randn(10, 1) * 1000  # Quadratic relationship with noise\n",
    "\n",
    "# Polynomial transformation\n",
    "poly = PolynomialFeatures(degree=2)  # Quadratic polynomial\n",
    "X_poly = poly.fit_transform(X)\n",
    "\n",
    "# Fitting the polynomial regression model\n",
    "model = LinearRegression()\n",
    "model.fit(X_poly, y)\n",
    "\n",
    "# Predicting values\n",
    "X_test = np.arange(1, 11).reshape(-1, 1)\n",
    "X_test_poly = poly.transform(X_test)\n",
    "y_pred = model.predict(X_test_poly)\n",
    "\n",
    "# Visualizing the results\n",
    "plt.scatter(X, y, label='Actual data')\n",
    "plt.plot(X_test, y_pred, color='red', label='Polynomial Regression (degree=2)')\n",
    "plt.xlabel('Years of Experience')\n",
    "plt.ylabel('Salary')\n",
    "plt.title('Polynomial Regression Example')\n",
    "plt.legend()\n",
    "plt.show()"
   ]
  },
  {
   "cell_type": "code",
   "execution_count": 26,
   "id": "38451acd-5cc2-4a97-8cbc-73b7b8144f6b",
   "metadata": {
    "tags": []
   },
   "outputs": [],
   "source": [
    "###########################################################################################"
   ]
  },
  {
   "cell_type": "code",
   "execution_count": 27,
   "id": "84f795f5-8808-4470-88e4-d4bd99dea984",
   "metadata": {
    "tags": []
   },
   "outputs": [],
   "source": [
    "#Ans 08:"
   ]
  },
  {
   "cell_type": "code",
   "execution_count": 28,
   "id": "2a42ffc0-727b-4683-8e9c-aa4374d07290",
   "metadata": {
    "tags": []
   },
   "outputs": [],
   "source": [
    "# Polynomial regression offers certain advantages and disadvantages compared to linear regression, influencing its\n",
    "# suitability for different scenarios.\n",
    "\n",
    "\n",
    "# Advantages of Polynomial Regression:\n",
    "# 1. Captures Nonlinear Relationships: Unlike linear regression, polynomial regression can model and capture nonlinear relationships\n",
    "# between variables, allowing for a more flexible representation of complex data patterns.\n",
    "\n",
    "# 2. Improved Fit: It can fit curves to the data, which might better represent the underlying relationship between variables, especially\n",
    "# when the true relationship is nonlinear.\n",
    "\n",
    "\n",
    "# Disadvantages of Polynomial Regression:\n",
    "# 1. Overfitting Risk: Higher-degree polynomials can lead to overfitting, capturing noise in the data instead of the true underlying\n",
    "# relationship. Careful selection of the polynomial degree is crucial to avoid overfitting.\n",
    "\n",
    "# 2. Interpretability: As the complexity of the polynomial increases, the interpretability of the model decreases. Higher-degree polynomials\n",
    "# can result in complex equations that are harder to interpret.\n",
    "\n",
    "# 3. Extrapolation Challenges: Extrapolating beyond the range of observed data might be unreliable with polynomial regression, as the fitted\n",
    "# curve might produce unrealistic predictions outside the observed range.\n",
    "\n",
    "\n",
    "# Situations to Prefer Polynomial Regression:\n",
    "# 1. Nonlinear Relationships: When the relationship between variables is nonlinear and a linear model fails to capture the pattern adequately,\n",
    "# polynomial regression can be preferred.\n",
    "\n",
    "# 2. Complex Data Patterns: In scenarios where the data exhibits complex patterns or curvatures, polynomial regression might provide a better\n",
    "# fit compared to linear regression.\n",
    "\n",
    "# 3. Domain Knowledge Support: If there's domain knowledge suggesting a particular polynomial relationship between variables (e.g., physical\n",
    "# sciences where certain phenomena follow polynomial equations), polynomial regression can be advantageous.\n",
    "\n",
    "\n",
    "# When to Use Linear Regression:\n",
    "# 1. Linear Relationships: When the relationship between variables is approximately linear, linear regression might suffice and offer a simpler,\n",
    "# more interpretable model.\n",
    "\n",
    "# 2. Interpretability Priority: In situations where interpretability of the model is crucial, especially in fields where complex equations are\n",
    "# hard to interpret or explain.\n",
    "\n",
    "# 3. Avoiding Overfitting: Linear regression might be preferred when there's a risk of overfitting with higher-degree polynomials, especially\n",
    "# with limited data.\n",
    "\n",
    "\n",
    "# In summary, the choice between polynomial and linear regression depends on the nature of the relationship between variables, the complexity\n",
    "# of data patterns, the need for interpretability, and the risk of overfitting associated with higher-degree polynomials. Polynomial regression\n",
    "# is valuable when linear models fail to capture nonlinear relationships, but careful consideration of model complexity is essential to avoid\n",
    "# overfitting."
   ]
  },
  {
   "cell_type": "code",
   "execution_count": 29,
   "id": "a3810c55-a219-4858-8d3f-85ebe035a0db",
   "metadata": {
    "tags": []
   },
   "outputs": [],
   "source": [
    "###########################################################################################"
   ]
  }
 ],
 "metadata": {
  "kernelspec": {
   "display_name": "Python 3 (ipykernel)",
   "language": "python",
   "name": "python3"
  },
  "language_info": {
   "codemirror_mode": {
    "name": "ipython",
    "version": 3
   },
   "file_extension": ".py",
   "mimetype": "text/x-python",
   "name": "python",
   "nbconvert_exporter": "python",
   "pygments_lexer": "ipython3",
   "version": "3.11.5"
  }
 },
 "nbformat": 4,
 "nbformat_minor": 5
}
