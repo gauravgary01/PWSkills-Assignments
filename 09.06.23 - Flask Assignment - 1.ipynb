{
 "cells": [
  {
   "cell_type": "code",
   "execution_count": 1,
   "id": "77ec205c-4391-452a-94d3-62fbd31ed164",
   "metadata": {
    "tags": []
   },
   "outputs": [],
   "source": [
    "# Ans 01:"
   ]
  },
  {
   "cell_type": "code",
   "execution_count": 2,
   "id": "fd0bfc8f-432f-47e2-906d-85bfbd4ab5ac",
   "metadata": {
    "tags": []
   },
   "outputs": [],
   "source": [
    "# Flask is a micro web framework for building web applications in Python. It is designed to be lightweight and easy to use, making\n",
    "# it a popular choice for developing web applications, APIs (Application Programming Interfaces), and web services. Flask is often\n",
    "# compared to other web frameworks like Django, but it takes a minimalist approach, providing only the essential components needed\n",
    "# for web development and leaving the rest up to the developer's choice.\n",
    "\n",
    "# Advantages of Flask Framework:\n",
    "\n",
    "# Lightweight and Minimalist: Flask is known for its simplicity and minimalism. It provides the basic tools for building web applications\n",
    "# without imposing a lot of predefined structures or dependencies, allowing developers to have more flexibility in their project's design\n",
    "# and architecture.\n",
    "\n",
    "# Easy to Learn: Flask's simplicity makes it an excellent choice for beginners. Python developers can quickly get started with Flask, as\n",
    "# it has a small learning curve compared to more complex frameworks like Django.\n",
    "\n",
    "# Extensibility: While Flask provides only the essential components, it is highly extensible. Developers can easily add functionality by\n",
    "# using extensions and libraries that are available within the Flask ecosystem. These extensions cover a wide range of features, such as\n",
    "# authentication, database integration, and more.\n",
    "\n",
    "# RESTful Support: Flask is well-suited for building RESTful APIs, which are commonly used for developing web services. Its simplicity and\n",
    "# support for request/response handling make it a popular choice for API development.\n",
    "\n",
    "# Jinja2 Templating: Flask integrates with the Jinja2 templating engine, which allows for the creation of dynamic HTML templates. This makes\n",
    "# it easy to generate HTML content and render it in web pages.\n",
    "\n",
    "# Modular Design: Flask encourages a modular approach to building applications, allowing developers to break down their code into smaller,\n",
    "# reusable components. This can lead to more maintainable and organized codebases.\n",
    "\n",
    "# Large Community and Ecosystem: Flask has a vibrant and active community, which means there are numerous resources, tutorials, and third-party\n",
    "# extensions available to help developers. This makes it easier to find solutions to common problems and expand the functionality of your\n",
    "# Flask applications.\n",
    "\n",
    "# Well-Documented: Flask is known for its clear and comprehensive documentation, making it easy for developers to understand and use its\n",
    "# features effectively.\n",
    "\n",
    "# Compatibility: Flask can be used with various web servers, including built-in development servers, Gunicorn, uWSGI, and more, allowing\n",
    "# developers to choose the server that best suits their needs.\n",
    "\n",
    "# Open Source: Flask is open-source software released under a permissive BSD license, which means it can be freely used, modified, and\n",
    "# distributed by developers and organizations.\n",
    "\n",
    "# In summary, Flask is a versatile and lightweight web framework for Python that offers simplicity, flexibility, and extensibility, making\n",
    "# it a preferred choice for web developers, particularly those who value creative freedom and customization in their projects."
   ]
  },
  {
   "cell_type": "code",
   "execution_count": 3,
   "id": "13dc4b43-d15f-4759-ac3c-2211cfc43e3a",
   "metadata": {
    "tags": []
   },
   "outputs": [],
   "source": [
    "#################################################################################\n",
    "# Ans 02:"
   ]
  },
  {
   "cell_type": "code",
   "execution_count": 4,
   "id": "d5e605fa-1653-4cb5-a17a-05af73a64651",
   "metadata": {
    "tags": []
   },
   "outputs": [
    {
     "name": "stdout",
     "output_type": "stream",
     "text": [
      " * Serving Flask app '__main__'\n",
      " * Debug mode: off\n"
     ]
    },
    {
     "name": "stderr",
     "output_type": "stream",
     "text": [
      "WARNING: This is a development server. Do not use it in a production deployment. Use a production WSGI server instead.\n",
      " * Running on all addresses (0.0.0.0)\n",
      " * Running on http://127.0.0.1:5000\n",
      " * Running on http://192.168.29.104:5000\n",
      "Press CTRL+C to quit\n"
     ]
    }
   ],
   "source": [
    "from flask import Flask\n",
    "\n",
    "app = Flask(__name__)\n",
    "\n",
    "@app.route('/')\n",
    "def hello_world():\n",
    "    return '<h1>Hello,World!<h1>'\n",
    "\n",
    "if __name__ == '__main__':\n",
    "    app.run(host= '0.0.0.0')"
   ]
  },
  {
   "cell_type": "code",
   "execution_count": 5,
   "id": "76b0e2db-17f4-42f6-b8c2-73bcad4fee1d",
   "metadata": {
    "tags": []
   },
   "outputs": [],
   "source": [
    "#################################################################################\n",
    "# Ans 03:"
   ]
  },
  {
   "cell_type": "code",
   "execution_count": 6,
   "id": "59034f3d-141b-4dfa-a356-6a1c2e89a0a9",
   "metadata": {
    "tags": []
   },
   "outputs": [],
   "source": [
    "# In Flask, app routing refers to the process of defining URL routes for your web application. It involves associating specific URLs (routes)\n",
    "# with Python functions (view functions) that should be executed when a user visits those URLs. App routing is a fundamental concept in web\n",
    "# development as it determines how your application responds to different URLs and requests."
   ]
  },
  {
   "cell_type": "code",
   "execution_count": 7,
   "id": "8c5d8343-c88a-427b-b8e9-294e0c4d52c3",
   "metadata": {
    "tags": []
   },
   "outputs": [],
   "source": [
    "# App routes are essential in Flask for several reasons:\n",
    "\n",
    "# URL Mapping: App routes allow you to map specific URLs to corresponding functionality in your application. This enables users to access\n",
    "# different parts of your site by visiting different URLs.\n",
    "\n",
    "# Modularity: By defining routes and view functions, you can create modular code that handles specific parts of your application's functionality.\n",
    "# This makes your codebase more organized and maintainable.\n",
    "\n",
    "# User Experience: App routes are crucial for creating a user-friendly and navigable website. They determine how users interact with different\n",
    "# pages and features of your application.\n",
    "\n",
    "# RESTful APIs: When building RESTful APIs using Flask, app routes play a central role in defining the API endpoints and specifying how each\n",
    "# endpoint responds to HTTP requests (GET, POST, PUT, DELETE, etc.).\n",
    "\n",
    "# Dynamic URLs: Flask allows you to define dynamic routes with placeholders that capture values from the URL. For example, you can define a\n",
    "# route like /user/<username> to handle requests for user profiles. The captured value, such as the username, can be used within your view\n",
    "# function to personalize the response."
   ]
  },
  {
   "cell_type": "code",
   "execution_count": 8,
   "id": "992a0982-387e-47e6-9f29-c84f1e876b0b",
   "metadata": {
    "tags": []
   },
   "outputs": [],
   "source": [
    "#################################################################################\n",
    "# Ans 04:"
   ]
  },
  {
   "cell_type": "code",
   "execution_count": 9,
   "id": "67c18909-9f9c-4677-beee-94eb1d3dfedc",
   "metadata": {
    "tags": []
   },
   "outputs": [
    {
     "name": "stdout",
     "output_type": "stream",
     "text": [
      " * Serving Flask app '__main__'\n",
      " * Debug mode: off\n"
     ]
    },
    {
     "name": "stderr",
     "output_type": "stream",
     "text": [
      "WARNING: This is a development server. Do not use it in a production deployment. Use a production WSGI server instead.\n",
      " * Running on all addresses (0.0.0.0)\n",
      " * Running on http://127.0.0.1:5000\n",
      " * Running on http://192.168.29.104:5000\n",
      "Press CTRL+C to quit\n"
     ]
    }
   ],
   "source": [
    "from flask import Flask\n",
    "\n",
    "app = Flask(__name__)\n",
    "\n",
    "@app.route('/')\n",
    "def details():\n",
    "    company_name = 'ABC Corporation'\n",
    "    location = 'India'\n",
    "    contact_detail = '999-999-9999'\n",
    "    \n",
    "    return f\"Company Name: {company_name}<br>Location: {location}<br>Contact Detail: {contact_detail}\"\n",
    "\n",
    "@app.route('/welcome')\n",
    "def welcome():\n",
    "    return '<h1>Welcome to ABC Corporation<h1>'\n",
    "\n",
    "\n",
    "if __name__ == '__main__':\n",
    "    app.run(host= '0.0.0.0')"
   ]
  },
  {
   "cell_type": "code",
   "execution_count": 10,
   "id": "423d43cc-4c69-4826-ba03-cc3418706c2f",
   "metadata": {},
   "outputs": [],
   "source": [
    "#################################################################################\n",
    "# Ans 05:"
   ]
  },
  {
   "cell_type": "code",
   "execution_count": 11,
   "id": "5288cf20-a589-4215-ab36-39123c0e546f",
   "metadata": {
    "tags": []
   },
   "outputs": [],
   "source": [
    "# In Flask, the url_for() function is used for URL building. It generates URLs for the specified endpoint (view function) based on their name.\n",
    "# This is particularly useful because it allows you to avoid hardcoding URLs in your templates and Python code, making your application more\n",
    "# maintainable and flexible."
   ]
  },
  {
   "cell_type": "code",
   "execution_count": 12,
   "id": "bfc22dd8-ec40-4f1e-bd94-ba508206c7e4",
   "metadata": {
    "tags": []
   },
   "outputs": [
    {
     "name": "stdout",
     "output_type": "stream",
     "text": [
      " * Serving Flask app '__main__'\n",
      " * Debug mode: on\n"
     ]
    },
    {
     "name": "stderr",
     "output_type": "stream",
     "text": [
      "WARNING: This is a development server. Do not use it in a production deployment. Use a production WSGI server instead.\n",
      " * Running on http://127.0.0.1:5000\n",
      "Press CTRL+C to quit\n",
      " * Restarting with stat\n"
     ]
    },
    {
     "ename": "SystemExit",
     "evalue": "1",
     "output_type": "error",
     "traceback": [
      "An exception has occurred, use %tb to see the full traceback.\n",
      "\u001b[1;31mSystemExit\u001b[0m\u001b[1;31m:\u001b[0m 1\n"
     ]
    },
    {
     "name": "stderr",
     "output_type": "stream",
     "text": [
      "D:\\Users\\MY_PC\\anaconda3\\Lib\\site-packages\\IPython\\core\\interactiveshell.py:3516: UserWarning: To exit: use 'exit', 'quit', or Ctrl-D.\n",
      "  warn(\"To exit: use 'exit', 'quit', or Ctrl-D.\", stacklevel=1)\n"
     ]
    }
   ],
   "source": [
    "from flask import Flask, render_template, url_for\n",
    "\n",
    "app = Flask(__name__)\n",
    "\n",
    "@app.route('/')\n",
    "def home():\n",
    "    return 'Welcome to the home page!'\n",
    "\n",
    "@app.route('/about')\n",
    "def about():\n",
    "    return 'This is the About page.'\n",
    "\n",
    "@app.route('/contact')\n",
    "def contact():\n",
    "    return 'Contact us at: contact@example.com'\n",
    "\n",
    "if __name__ == '__main__':\n",
    "    app.run(debug=True)"
   ]
  },
  {
   "cell_type": "code",
   "execution_count": 13,
   "id": "19082e1f-7cde-41ba-8d52-383a44a61f32",
   "metadata": {
    "tags": []
   },
   "outputs": [],
   "source": [
    "# In this code, we have a Flask application with three routes: \"/\", \"/about\", and \"/contact\".\n",
    "\n",
    "# Now, let's demonstrate how to use the url_for() function to generate URLs for these routes within a Flask template:"
   ]
  },
  {
   "cell_type": "code",
   "execution_count": 14,
   "id": "21f2bacc-c7e6-4240-a671-47216627dffc",
   "metadata": {
    "tags": []
   },
   "outputs": [
    {
     "ename": "SyntaxError",
     "evalue": "invalid syntax (2861651977.py, line 1)",
     "output_type": "error",
     "traceback": [
      "\u001b[1;36m  Cell \u001b[1;32mIn[14], line 1\u001b[1;36m\u001b[0m\n\u001b[1;33m    <!DOCTYPE html>\u001b[0m\n\u001b[1;37m    ^\u001b[0m\n\u001b[1;31mSyntaxError\u001b[0m\u001b[1;31m:\u001b[0m invalid syntax\n"
     ]
    }
   ],
   "source": [
    "<!DOCTYPE html>\n",
    "<html>\n",
    "<head>\n",
    "    <title>URL Building Example</title>\n",
    "</head>\n",
    "<body>\n",
    "    <h1>Welcome to My Website</h1>\n",
    "    \n",
    "    <p><a href=\"{{ url_for('home') }}\">Home</a></p>\n",
    "    <p><a href=\"{{ url_for('about') }}\">About</a></p>\n",
    "    <p><a href=\"{{ url_for('contact') }}\">Contact</a></p>\n",
    "</body>\n",
    "</html>"
   ]
  },
  {
   "cell_type": "code",
   "execution_count": 15,
   "id": "d82299b4-b29f-470c-b371-e90c38352c32",
   "metadata": {
    "tags": []
   },
   "outputs": [],
   "source": [
    "# In this HTML template, we use the url_for() function to generate links to the \"home,\" \"about,\" and \"contact\" routes. The argument\n",
    "# passed to url_for() is the name of the view function associated with each route.\n",
    "\n",
    "# When you render this template in your Flask application, the url_for() function will dynamically generate the correct URLs for\n",
    "# these routes. So, if you change the route endpoints or add new routes, you don't need to update the URLs manually in your template;\n",
    "# Flask will handle it for you.\n",
    "\n",
    "# To render this template, you would typically use Flask's render_template function in your view function:"
   ]
  },
  {
   "cell_type": "code",
   "execution_count": 16,
   "id": "11b5081d-7443-4f7d-87f5-ec45267f3459",
   "metadata": {
    "tags": []
   },
   "outputs": [],
   "source": [
    "from flask import render_template\n",
    "\n",
    "@app.route('/page')\n",
    "def page():\n",
    "    return render_template('template_name.html')"
   ]
  },
  {
   "cell_type": "code",
   "execution_count": 17,
   "id": "71fa3487-c1e8-4a59-991b-362cd6fd8a54",
   "metadata": {
    "tags": []
   },
   "outputs": [],
   "source": [
    "# When you access the \"/page\" route in your browser, you'll see the generated links to the \"Home,\" \"About,\" and \"Contact\" pages, and they\n",
    "# will point to the correct routes based on the view function names."
   ]
  },
  {
   "cell_type": "code",
   "execution_count": 19,
   "id": "1aa9152a-310f-4cca-8abd-b572843bed19",
   "metadata": {
    "tags": []
   },
   "outputs": [],
   "source": [
    "#################################################################################"
   ]
  }
 ],
 "metadata": {
  "kernelspec": {
   "display_name": "Python 3 (ipykernel)",
   "language": "python",
   "name": "python3"
  },
  "language_info": {
   "codemirror_mode": {
    "name": "ipython",
    "version": 3
   },
   "file_extension": ".py",
   "mimetype": "text/x-python",
   "name": "python",
   "nbconvert_exporter": "python",
   "pygments_lexer": "ipython3",
   "version": "3.11.4"
  }
 },
 "nbformat": 4,
 "nbformat_minor": 5
}
