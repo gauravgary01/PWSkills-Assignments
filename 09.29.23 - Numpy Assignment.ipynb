{
 "cells": [
  {
   "cell_type": "code",
   "execution_count": 1,
   "id": "f90f7610-78c4-4689-be5e-0fedec53318a",
   "metadata": {
    "tags": []
   },
   "outputs": [],
   "source": [
    "import numpy as np\n",
    "list_ = ['1','2','3','4','5']\n",
    "array_list = np.array(object = list_)"
   ]
  },
  {
   "cell_type": "code",
   "execution_count": 2,
   "id": "059728e0-2943-4208-ba43-260cea6d4c8b",
   "metadata": {
    "tags": []
   },
   "outputs": [],
   "source": [
    "########################################################################################################\n",
    "#Ans 01:"
   ]
  },
  {
   "cell_type": "code",
   "execution_count": 3,
   "id": "613a0af1-39f8-46df-bad8-a886d477dad7",
   "metadata": {
    "tags": []
   },
   "outputs": [
    {
     "data": {
      "text/plain": [
       "list"
      ]
     },
     "execution_count": 3,
     "metadata": {},
     "output_type": "execute_result"
    }
   ],
   "source": [
    "type(list_)"
   ]
  },
  {
   "cell_type": "code",
   "execution_count": 4,
   "id": "598eeb38-68eb-4801-a414-d43a2a3ffd9c",
   "metadata": {
    "tags": []
   },
   "outputs": [
    {
     "data": {
      "text/plain": [
       "numpy.ndarray"
      ]
     },
     "execution_count": 4,
     "metadata": {},
     "output_type": "execute_result"
    }
   ],
   "source": [
    "type(array_list)"
   ]
  },
  {
   "cell_type": "code",
   "execution_count": 5,
   "id": "0825ebc7-a787-40f8-a111-9e5b842d0410",
   "metadata": {
    "tags": []
   },
   "outputs": [],
   "source": [
    "########################################################################################################\n",
    "#Ans 02:"
   ]
  },
  {
   "cell_type": "code",
   "execution_count": 6,
   "id": "1b82c8b7-6c87-4cad-908e-eb829c2738ba",
   "metadata": {
    "tags": []
   },
   "outputs": [
    {
     "name": "stdout",
     "output_type": "stream",
     "text": [
      "<class 'str'>\n",
      "<class 'str'>\n",
      "<class 'str'>\n",
      "<class 'str'>\n",
      "<class 'str'>\n"
     ]
    }
   ],
   "source": [
    "for i in list_:\n",
    "    print(type(i))"
   ]
  },
  {
   "cell_type": "code",
   "execution_count": 7,
   "id": "baeaf8b8-aaa6-481b-92c3-f8225d0a9d75",
   "metadata": {
    "tags": []
   },
   "outputs": [
    {
     "name": "stdout",
     "output_type": "stream",
     "text": [
      "<class 'numpy.str_'>\n",
      "<class 'numpy.str_'>\n",
      "<class 'numpy.str_'>\n",
      "<class 'numpy.str_'>\n",
      "<class 'numpy.str_'>\n"
     ]
    }
   ],
   "source": [
    "for i in array_list:\n",
    "    print(type(i))"
   ]
  },
  {
   "cell_type": "code",
   "execution_count": 8,
   "id": "bc62dd13-b12d-4be1-9aaf-89d47448ad62",
   "metadata": {
    "tags": []
   },
   "outputs": [],
   "source": [
    "########################################################################################################\n",
    "#Ans 03:"
   ]
  },
  {
   "cell_type": "code",
   "execution_count": 9,
   "id": "9eab29d1-be17-4abb-bf22-cd3ddf6279b9",
   "metadata": {
    "tags": []
   },
   "outputs": [
    {
     "data": {
      "text/plain": [
       "array(['1', '2', '3', '4', '5'], dtype='<U1')"
      ]
     },
     "execution_count": 9,
     "metadata": {},
     "output_type": "execute_result"
    }
   ],
   "source": [
    "array_list"
   ]
  },
  {
   "cell_type": "code",
   "execution_count": 10,
   "id": "50bd8ccf-6b48-4dda-a595-6a657d16c49d",
   "metadata": {
    "tags": []
   },
   "outputs": [],
   "source": [
    "array_list = np.array(object = list_, dtype = int)"
   ]
  },
  {
   "cell_type": "code",
   "execution_count": 11,
   "id": "9579c8a3-1eb5-4a15-a43b-f6422841a93b",
   "metadata": {
    "tags": []
   },
   "outputs": [
    {
     "data": {
      "text/plain": [
       "array([1, 2, 3, 4, 5])"
      ]
     },
     "execution_count": 11,
     "metadata": {},
     "output_type": "execute_result"
    }
   ],
   "source": [
    "array_list"
   ]
  },
  {
   "cell_type": "code",
   "execution_count": 12,
   "id": "4c904672-221b-44a9-8488-bb9e86caf7dd",
   "metadata": {
    "tags": []
   },
   "outputs": [
    {
     "name": "stdout",
     "output_type": "stream",
     "text": [
      "<class 'numpy.int32'>\n",
      "<class 'numpy.int32'>\n",
      "<class 'numpy.int32'>\n",
      "<class 'numpy.int32'>\n",
      "<class 'numpy.int32'>\n"
     ]
    }
   ],
   "source": [
    "for i in array_list:\n",
    "    print(type(i))"
   ]
  },
  {
   "cell_type": "code",
   "execution_count": 13,
   "id": "3dee8355-70c6-48a9-8cca-2146aaaf19eb",
   "metadata": {
    "tags": []
   },
   "outputs": [
    {
     "name": "stdout",
     "output_type": "stream",
     "text": [
      "<class 'str'>\n",
      "<class 'str'>\n",
      "<class 'str'>\n",
      "<class 'str'>\n",
      "<class 'str'>\n"
     ]
    }
   ],
   "source": [
    "for i in list_:\n",
    "    print(type(i))"
   ]
  },
  {
   "cell_type": "code",
   "execution_count": 14,
   "id": "3ccfc00a-4d72-4880-a976-2ea0983b7d98",
   "metadata": {
    "tags": []
   },
   "outputs": [],
   "source": [
    "import numpy as np\n",
    "num_list = [ [ 1 , 2 , 3 ] , [ 4 , 5 , 6 ] ]\n",
    "num_array = np.array(object = num_list)"
   ]
  },
  {
   "cell_type": "code",
   "execution_count": 15,
   "id": "495bfe2d-42d6-4092-87e8-86fdb0225dfd",
   "metadata": {
    "tags": []
   },
   "outputs": [
    {
     "data": {
      "text/plain": [
       "array([[1, 2, 3],\n",
       "       [4, 5, 6]])"
      ]
     },
     "execution_count": 15,
     "metadata": {},
     "output_type": "execute_result"
    }
   ],
   "source": [
    "num_array"
   ]
  },
  {
   "cell_type": "code",
   "execution_count": 16,
   "id": "fbf30540-46cc-4c79-9c6c-b2d7a2c11572",
   "metadata": {
    "tags": []
   },
   "outputs": [],
   "source": [
    "########################################################################################################\n",
    "#Ans 04:"
   ]
  },
  {
   "cell_type": "code",
   "execution_count": 17,
   "id": "9752d9d9-0999-41b6-bcc5-751cfb171495",
   "metadata": {
    "tags": []
   },
   "outputs": [
    {
     "data": {
      "text/plain": [
       "(2, 3)"
      ]
     },
     "execution_count": 17,
     "metadata": {},
     "output_type": "execute_result"
    }
   ],
   "source": [
    "num_array.shape"
   ]
  },
  {
   "cell_type": "code",
   "execution_count": 18,
   "id": "cbd8ed25-cd36-4d5e-b518-e04fd4928dc4",
   "metadata": {
    "tags": []
   },
   "outputs": [
    {
     "data": {
      "text/plain": [
       "6"
      ]
     },
     "execution_count": 18,
     "metadata": {},
     "output_type": "execute_result"
    }
   ],
   "source": [
    "num_array.size"
   ]
  },
  {
   "cell_type": "code",
   "execution_count": 19,
   "id": "e7a6e2b0-901e-4665-b8e9-2d659f5926b6",
   "metadata": {
    "tags": []
   },
   "outputs": [],
   "source": [
    "########################################################################################################\n",
    "#Ans 05:"
   ]
  },
  {
   "cell_type": "code",
   "execution_count": 20,
   "id": "988bad6d-1d12-494b-9d0e-310f6e583b6f",
   "metadata": {
    "tags": []
   },
   "outputs": [],
   "source": [
    "arr1 = np.zeros((3,3))"
   ]
  },
  {
   "cell_type": "code",
   "execution_count": 21,
   "id": "8ebbbfe3-4337-4a42-8126-c349f1e82bfe",
   "metadata": {
    "tags": []
   },
   "outputs": [
    {
     "data": {
      "text/plain": [
       "array([[0., 0., 0.],\n",
       "       [0., 0., 0.],\n",
       "       [0., 0., 0.]])"
      ]
     },
     "execution_count": 21,
     "metadata": {},
     "output_type": "execute_result"
    }
   ],
   "source": [
    "arr1"
   ]
  },
  {
   "cell_type": "code",
   "execution_count": 22,
   "id": "f28025d6-7e09-476e-a58d-09d7c093f15a",
   "metadata": {
    "tags": []
   },
   "outputs": [],
   "source": [
    "########################################################################################################\n",
    "#Ans 06:"
   ]
  },
  {
   "cell_type": "code",
   "execution_count": 23,
   "id": "6b359e92-fb6d-48aa-87f4-45c7b31e059a",
   "metadata": {
    "tags": []
   },
   "outputs": [],
   "source": [
    "arr2 = np.eye(5)"
   ]
  },
  {
   "cell_type": "code",
   "execution_count": 24,
   "id": "ca6255dc-1b62-42fd-b47c-701fdc7e31b1",
   "metadata": {
    "tags": []
   },
   "outputs": [
    {
     "data": {
      "text/plain": [
       "array([[1., 0., 0., 0., 0.],\n",
       "       [0., 1., 0., 0., 0.],\n",
       "       [0., 0., 1., 0., 0.],\n",
       "       [0., 0., 0., 1., 0.],\n",
       "       [0., 0., 0., 0., 1.]])"
      ]
     },
     "execution_count": 24,
     "metadata": {},
     "output_type": "execute_result"
    }
   ],
   "source": [
    "arr2"
   ]
  },
  {
   "cell_type": "code",
   "execution_count": 25,
   "id": "df995967-ee5d-4715-a822-5417e12099a5",
   "metadata": {
    "tags": []
   },
   "outputs": [],
   "source": [
    "########################################################################################################"
   ]
  }
 ],
 "metadata": {
  "kernelspec": {
   "display_name": "Python 3 (ipykernel)",
   "language": "python",
   "name": "python3"
  },
  "language_info": {
   "codemirror_mode": {
    "name": "ipython",
    "version": 3
   },
   "file_extension": ".py",
   "mimetype": "text/x-python",
   "name": "python",
   "nbconvert_exporter": "python",
   "pygments_lexer": "ipython3",
   "version": "3.11.4"
  }
 },
 "nbformat": 4,
 "nbformat_minor": 5
}
