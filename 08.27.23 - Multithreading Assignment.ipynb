{
 "cells": [
  {
   "cell_type": "code",
   "execution_count": 1,
   "id": "02c1ec47-e3d7-46ae-8384-11702d0bdea8",
   "metadata": {
    "tags": []
   },
   "outputs": [],
   "source": [
    "# Ans 01:"
   ]
  },
  {
   "cell_type": "code",
   "execution_count": 2,
   "id": "8e72fe81-f35e-46c1-b0bf-927cb1a64e8f",
   "metadata": {
    "tags": []
   },
   "outputs": [],
   "source": [
    "# Multithreading in Python refers to the ability of a program to execute multiple threads concurrently within a single process. A thread is a small\n",
    "# unit of execution within a process. Multithreading allows you to perform multiple tasks concurrently, which can improve the efficiency of your program,\n",
    "# especially when dealing with tasks that involve waiting, such as I/O-bound operations. However, due to the Global Interpreter Lock (GIL) in CPython,\n",
    "# which allows only one thread to execute Python bytecode at a time, true parallelism is limited, and multithreading is more suitable for I/O-bound tasks\n",
    "# than CPU-bound tasks.\n",
    "\n",
    "# Multithreading is used to achieve the following benefits:\n",
    "\n",
    "# 1. Concurrency: Multithreading enables you to write programs that can perform multiple tasks simultaneously. This can lead to better utilization of\n",
    "# resources and improved program responsiveness.\n",
    "\n",
    "# 2. Efficiency: For tasks that involve waiting, such as I/O operations (reading/writing files, network communication), multithreading can significantly\n",
    "# speed up the overall process by allowing other threads to continue executing while one thread is waiting.\n",
    "\n",
    "# 3. Responsiveness: In GUI applications, multithreading can prevent the user interface from becoming unresponsive during time-consuming tasks. By offloading\n",
    "# these tasks to separate threads, the main GUI thread remains free to respond to user interactions.\n",
    "\n",
    "# The primary module used to handle threads in Python is the threading module. This module provides classes and functions for working with threads.\n",
    "# Here's a simple example of using the threading module to create and start two threads:"
   ]
  },
  {
   "cell_type": "code",
   "execution_count": 3,
   "id": "10db68c4-ed82-480d-ba28-297b84460d53",
   "metadata": {
    "tags": []
   },
   "outputs": [
    {
     "name": "stdout",
     "output_type": "stream",
     "text": [
      "Number 1\n",
      "Number 2\n",
      "Number 3\n",
      "Number 4\n",
      "Number 5\n",
      "Letter a\n",
      "Letter b\n",
      "Letter c\n",
      "Letter d\n",
      "Letter e\n",
      "Both threads have finished.\n"
     ]
    }
   ],
   "source": [
    "import threading\n",
    "\n",
    "def print_numbers():\n",
    "    for i in range(1, 6):\n",
    "        print(f\"Number {i}\")\n",
    "\n",
    "def print_letters():\n",
    "    for letter in 'abcde':\n",
    "        print(f\"Letter {letter}\")\n",
    "\n",
    "t1 = threading.Thread(target=print_numbers)\n",
    "t2 = threading.Thread(target=print_letters)\n",
    "\n",
    "t1.start()\n",
    "t2.start()\n",
    "\n",
    "t1.join()\n",
    "t2.join()\n",
    "\n",
    "print(\"Both threads have finished.\")"
   ]
  },
  {
   "cell_type": "code",
   "execution_count": 4,
   "id": "ec31cbf8-dfff-491f-b539-119e3194665a",
   "metadata": {
    "tags": []
   },
   "outputs": [],
   "source": [
    "#############################################################################\n",
    "# Ans 02:"
   ]
  },
  {
   "cell_type": "code",
   "execution_count": 5,
   "id": "fe3c93c9-d8b8-4f3e-8cef-eb85ea84f2c9",
   "metadata": {
    "tags": []
   },
   "outputs": [],
   "source": [
    "# The threading module in Python is used to work with threads, allowing you to create and manage concurrent execution of tasks within a single process.\n",
    "# It's primarily used to achieve concurrency, improve program responsiveness, and efficiently handle I/O-bound operations. Here are some commonly used\n",
    "# functions from the threading module and their purposes:"
   ]
  },
  {
   "cell_type": "code",
   "execution_count": 6,
   "id": "cc2e6791-c191-4eaa-ba96-8740c5ee4a5b",
   "metadata": {
    "tags": []
   },
   "outputs": [],
   "source": [
    "# 1. activeCount(): This function returns the number of Thread objects currently alive. It's useful to get an idea of how many threads are currently\n",
    "# running or active in the program."
   ]
  },
  {
   "cell_type": "code",
   "execution_count": 7,
   "id": "95d3cf3d-8e9d-4210-897e-4051d2fe3e3b",
   "metadata": {
    "tags": []
   },
   "outputs": [
    {
     "name": "stdout",
     "output_type": "stream",
     "text": [
      "Thread started\n",
      "Thread started\n",
      "Active threads: 6\n"
     ]
    }
   ],
   "source": [
    "import threading\n",
    "\n",
    "def worker():\n",
    "    print(\"Thread started\")\n",
    "\n",
    "t1 = threading.Thread(target=worker)\n",
    "t2 = threading.Thread(target=worker)\n",
    "\n",
    "t1.start()\n",
    "t2.start()\n",
    "\n",
    "print(f\"Active threads: {threading.active_count()}\")"
   ]
  },
  {
   "cell_type": "code",
   "execution_count": 8,
   "id": "ebae8e86-a6d4-4d39-9291-f81c401690a2",
   "metadata": {
    "tags": []
   },
   "outputs": [],
   "source": [
    "# 2. current_thread(): This function returns the current Thread object corresponding to the caller's thread. It's useful when you need to get information\n",
    "# about the currently executing thread. For example:"
   ]
  },
  {
   "cell_type": "code",
   "execution_count": 9,
   "id": "db67a1c0-a382-479b-a0c0-c35c57ca84f6",
   "metadata": {
    "tags": []
   },
   "outputs": [
    {
     "name": "stdout",
     "output_type": "stream",
     "text": [
      "Current thread name: Thread-9 (print_current_thread)\n"
     ]
    }
   ],
   "source": [
    "import threading\n",
    "\n",
    "def print_current_thread():\n",
    "    current = threading.current_thread()\n",
    "    print(f\"Current thread name: {current.name}\")\n",
    "\n",
    "t = threading.Thread(target=print_current_thread)\n",
    "t.start()\n",
    "t.join()"
   ]
  },
  {
   "cell_type": "code",
   "execution_count": 10,
   "id": "3a856692-ef71-47ea-953c-68f2d9d1e7e1",
   "metadata": {
    "tags": []
   },
   "outputs": [],
   "source": [
    "# 3. enumerate(): This function returns a list of all Thread objects currently alive. It's useful when you want to access or manipulate all active threads.\n",
    "# For example:"
   ]
  },
  {
   "cell_type": "code",
   "execution_count": 11,
   "id": "ad4111cc-bff2-45f4-862a-f5088ca3cb71",
   "metadata": {
    "tags": []
   },
   "outputs": [
    {
     "name": "stdout",
     "output_type": "stream",
     "text": [
      "Thread name: MainThread\n",
      "Thread name: IOPub\n",
      "Thread name: Heartbeat\n",
      "Thread name: Control\n",
      "Thread name: IPythonHistorySavingThread\n",
      "Thread name: Thread-4\n"
     ]
    }
   ],
   "source": [
    "import threading\n",
    "\n",
    "def worker():\n",
    "    pass\n",
    "\n",
    "threads = [threading.Thread(target=worker) for _ in range(5)]\n",
    "\n",
    "for thread in threads:\n",
    "    thread.start()\n",
    "\n",
    "for thread in threading.enumerate():\n",
    "    print(f\"Thread name: {thread.name}\")"
   ]
  },
  {
   "cell_type": "code",
   "execution_count": 12,
   "id": "e7030dd7-31b0-44d6-8f39-a6dd42d6a528",
   "metadata": {
    "tags": []
   },
   "outputs": [],
   "source": [
    "#############################################################################\n",
    "# Ans 03:"
   ]
  },
  {
   "cell_type": "code",
   "execution_count": 13,
   "id": "2e040b36-1011-44d1-8c04-a37ebb53c4c4",
   "metadata": {
    "tags": []
   },
   "outputs": [],
   "source": [
    "# 1. run():\n",
    "\n",
    "# The run() method is not a function but an instance method that you can define in your own custom thread class by subclassing threading.Thread.\n",
    "# This method represents the activity that the thread is supposed to perform.\n",
    "# When you create a custom thread class and define the run() method within it, the code you put in the run() method will be executed when the thread is started.\n",
    "# You override the run() method to specify the behavior of the thread.\n",
    "# For example:"
   ]
  },
  {
   "cell_type": "code",
   "execution_count": 14,
   "id": "9d2be7d5-4e0d-4072-a435-9d22c34b425c",
   "metadata": {
    "tags": []
   },
   "outputs": [
    {
     "name": "stdout",
     "output_type": "stream",
     "text": [
      "Thread is running\n"
     ]
    }
   ],
   "source": [
    "import threading\n",
    "\n",
    "class MyThread(threading.Thread):\n",
    "    def run(self):\n",
    "        print(\"Thread is running\")\n",
    "\n",
    "t = MyThread()\n",
    "t.start()  # This will call the run() method"
   ]
  },
  {
   "cell_type": "code",
   "execution_count": 15,
   "id": "893ef04c-540e-4726-a277-f871f6c631e9",
   "metadata": {
    "tags": []
   },
   "outputs": [],
   "source": [
    "# 2. start():\n",
    "\n",
    "# The start() method is used to initiate the execution of a thread's run() method.\n",
    "# It creates a new thread and then calls the run() method within that thread.\n",
    "# This method is essential to actually start the thread's activity.\n",
    "# For example:"
   ]
  },
  {
   "cell_type": "code",
   "execution_count": 16,
   "id": "c9aba92e-322e-4b86-b3ee-2a67b3b20b36",
   "metadata": {
    "tags": []
   },
   "outputs": [
    {
     "name": "stdout",
     "output_type": "stream",
     "text": [
      "Thread is running\n"
     ]
    }
   ],
   "source": [
    "import threading\n",
    "\n",
    "def worker():\n",
    "    print(\"Thread is running\")\n",
    "\n",
    "t = threading.Thread(target=worker)\n",
    "t.start()  # Initiates the thread's execution"
   ]
  },
  {
   "cell_type": "code",
   "execution_count": 17,
   "id": "3d63612e-821a-4e56-9314-b4ad963a7eb3",
   "metadata": {
    "tags": []
   },
   "outputs": [],
   "source": [
    "# 3. join():\n",
    "\n",
    "# The join() method is used to wait for a thread to complete its execution before moving on to the next steps in the program.\n",
    "# It blocks the calling thread until the thread on which it is called completes.\n",
    "# This is particularly useful when you want to ensure that all threads have finished their work before the main program terminates.\n",
    "# For example:"
   ]
  },
  {
   "cell_type": "code",
   "execution_count": 18,
   "id": "f34ea7bb-e732-42cd-90fb-6879f86bdb6e",
   "metadata": {
    "tags": []
   },
   "outputs": [
    {
     "name": "stdout",
     "output_type": "stream",
     "text": [
      "Thread is running\n",
      "Thread has finished\n"
     ]
    }
   ],
   "source": [
    "import threading\n",
    "\n",
    "def worker():\n",
    "    print(\"Thread is running\")\n",
    "\n",
    "t = threading.Thread(target=worker)\n",
    "t.start()\n",
    "t.join()  # Wait for the thread to finish before proceeding\n",
    "print(\"Thread has finished\")"
   ]
  },
  {
   "cell_type": "code",
   "execution_count": 19,
   "id": "3b8266c0-d822-4734-8360-63892d14a7f5",
   "metadata": {
    "tags": []
   },
   "outputs": [],
   "source": [
    "#############################################################################\n",
    "# Ans 04:"
   ]
  },
  {
   "cell_type": "code",
   "execution_count": 20,
   "id": "fb73101b-77a9-49af-88de-e65efdf0960f",
   "metadata": {
    "tags": []
   },
   "outputs": [
    {
     "name": "stdout",
     "output_type": "stream",
     "text": [
      "Square of 1: 1\n",
      "Square of 2: 4\n",
      "Square of 3: 9\n",
      "Square of 4: 16\n",
      "Square of 5: 25\n",
      "Cube of 1: 1\n",
      "Cube of 2: 8\n",
      "Cube of 3: 27\n",
      "Cube of 4: 64\n",
      "Cube of 5: 125\n",
      "Both threads have finished.\n"
     ]
    }
   ],
   "source": [
    "import threading\n",
    "\n",
    "def print_squares(numbers):\n",
    "    for num in numbers:\n",
    "        print(f\"Square of {num}: {num ** 2}\")\n",
    "\n",
    "def print_cubes(numbers):\n",
    "    for num in numbers:\n",
    "        print(f\"Cube of {num}: {num ** 3}\")\n",
    "\n",
    "numbers = [1, 2, 3, 4, 5]\n",
    "\n",
    "# Create thread objects\n",
    "thread1 = threading.Thread(target=print_squares, args=(numbers,))\n",
    "thread2 = threading.Thread(target=print_cubes, args=(numbers,))\n",
    "\n",
    "# Start the threads\n",
    "thread1.start()\n",
    "thread2.start()\n",
    "\n",
    "# Wait for both threads to finish\n",
    "thread1.join()\n",
    "thread2.join()\n",
    "\n",
    "print(\"Both threads have finished.\")"
   ]
  },
  {
   "cell_type": "code",
   "execution_count": 21,
   "id": "915a9500-538e-4c3c-9065-456d458acc01",
   "metadata": {
    "tags": []
   },
   "outputs": [],
   "source": [
    "#############################################################################\n",
    "# Ans 05:"
   ]
  },
  {
   "cell_type": "code",
   "execution_count": 22,
   "id": "01100192-29bd-4540-b34f-4bea49669aa4",
   "metadata": {
    "tags": []
   },
   "outputs": [],
   "source": [
    "# Advantages of Multithreading:\n",
    "\n",
    "# Concurrency and Responsiveness: Multithreading enables the execution of multiple tasks concurrently, improving the overall program responsiveness.\n",
    "# For example, in GUI applications, multithreading prevents the user interface from becoming unresponsive during time-consuming operations.\n",
    "\n",
    "# Resource Sharing: Threads in the same process share the same memory space, which allows them to easily exchange data and communicate with each other.\n",
    "# This can simplify certain types of programming tasks and data sharing between threads.\n",
    "\n",
    "# Resource Efficiency: Threads are more lightweight than processes since they share the same memory space. Creating and managing threads typically have\n",
    "# lower overhead compared to processes, making multithreading more efficient in terms of resource usage.\n",
    "\n",
    "# I/O-Bound Operations: For tasks involving I/O operations, such as reading/writing files or network communication, multithreading can lead to significant\n",
    "# performance improvements by allowing other threads to execute while one thread is waiting for I/O.\n",
    "\n",
    "# Synchronization: Multithreading provides mechanisms for synchronizing threads, which allows you to control access to shared resources and avoid issues\n",
    "# like race conditions. This includes using locks, semaphores, and other synchronization primitives."
   ]
  },
  {
   "cell_type": "code",
   "execution_count": null,
   "id": "4947a17b-d9a1-4e51-ae08-5cb24365b1bf",
   "metadata": {},
   "outputs": [],
   "source": []
  },
  {
   "cell_type": "code",
   "execution_count": 23,
   "id": "920feb48-cbae-4661-b4d6-bfadf8e00b60",
   "metadata": {
    "tags": []
   },
   "outputs": [],
   "source": [
    "# Disadvantages of Multithreading:\n",
    "\n",
    "# Complexity: Multithreaded programs can be complex to design, implement, and debug. Managing synchronization, data sharing, and potential race conditions\n",
    "# can introduce complexity and make the program harder to understand and maintain.\n",
    "\n",
    "# Deadlocks and Race Conditions: Improper synchronization can lead to deadlocks, where threads are stuck waiting for each other, or race conditions, where\n",
    "# the behavior of the program becomes unpredictable due to competing threads accessing shared resources.\n",
    "\n",
    "# Limited Parallelism in CPython: In Python, the Global Interpreter Lock (GIL) restricts true parallelism in CPU-bound tasks. This means that even though\n",
    "# you have multiple threads, only one thread can execute Python bytecode at a time in a single process.\n",
    "\n",
    "# Performance Bottlenecks: In some cases, multithreading might not lead to significant performance improvements due to factors like the GIL, contention for\n",
    "# resources, and other overhead associated with thread management.\n",
    "\n",
    "# Debugging and Testing: Debugging multithreaded programs can be challenging. Issues might not be easily reproducible, and the non-deterministic nature of\n",
    "# thread scheduling can make bugs harder to identify and fix.\n",
    "\n",
    "# Platform Dependence: Some threading behaviors and features can be platform-dependent, making the portability of multithreaded code a potential concern.\n",
    "\n",
    "# Complex Synchronization: Ensuring correct synchronization and avoiding issues like data races require careful design and understanding of threading primitives,\n",
    "# which can add complexity to the codebase."
   ]
  },
  {
   "cell_type": "code",
   "execution_count": 24,
   "id": "f053b912-354e-46c9-a6c7-fcd7447a6bda",
   "metadata": {
    "tags": []
   },
   "outputs": [],
   "source": [
    "# In summary, multithreading is a powerful tool that offers concurrency and improved responsiveness, but it comes with challenges related to complexity,\n",
    "# synchronization, and potential limitations in certain scenarios. It's important to carefully assess the specific requirements and constraints of your\n",
    "# application before deciding to use multithreading."
   ]
  },
  {
   "cell_type": "code",
   "execution_count": 25,
   "id": "8b46ff40-f83a-429e-9d2a-00d84f2f3f47",
   "metadata": {
    "tags": []
   },
   "outputs": [],
   "source": [
    "#############################################################################\n",
    "# Ans 06:"
   ]
  },
  {
   "cell_type": "code",
   "execution_count": 26,
   "id": "c33e4f06-87c3-409a-92d2-2683de5fa4bf",
   "metadata": {
    "tags": []
   },
   "outputs": [],
   "source": [
    "# A deadlock occurs in a multithreaded or multiprocess environment when two or more threads or processes become blocked, each waiting for a resource that\n",
    "# the other holds. This situation leads to a standstill where none of the involved threads or processes can proceed, causing the entire system to become\n",
    "# unresponsive. Deadlocks can arise due to improper resource allocation and synchronization.\n",
    "\n",
    "# Consider the following scenario:\n",
    "\n",
    "# 1. Thread A acquires Resource X.\n",
    "# 2. Thread B acquires Resource Y.\n",
    "# 3. Thread A wants to acquire Resource Y but is blocked because Thread B holds it.\n",
    "# 4. Thread B wants to acquire Resource X but is blocked because Thread A holds it.\n",
    "\n",
    "# Both threads are waiting for a resource that the other thread possesses, leading to a deadlock. Deadlocks can be challenging to detect and resolve, and\n",
    "# they can severely impact the performance and reliability of a system."
   ]
  },
  {
   "cell_type": "code",
   "execution_count": 27,
   "id": "1cd39375-7f88-49a9-8e89-93a30b068ff6",
   "metadata": {
    "tags": []
   },
   "outputs": [],
   "source": [
    "# A race condition occurs when the behavior of a program depends on the relative timing or order of execution of multiple threads or processes. It arises\n",
    "# when multiple threads access shared resources concurrently and at least one of them modifies the resource. The outcome of the program becomes unpredictable\n",
    "# because it depends on which thread gets executed first or how they interact with the shared resource.\n",
    "\n",
    "# Consider a simple race condition scenario involving a shared counter:\n",
    "\n",
    "# 1. Thread A reads the counter's value (let's say it's 5).\n",
    "# 2. Thread B reads the counter's value (still 5).\n",
    "# 3. Thread A increments the counter (now it's 6).\n",
    "# 4. Thread B increments the counter (now it's 6 again).\n",
    "                                    \n",
    "# The expected result after both threads have executed should have been 7, but due to the race condition, the counter only incremented by 1. The final value of\n",
    "# the counter doesn't reflect the actual work done by both threads.\n",
    "\n",
    "# Race conditions can lead to data corruption, incorrect results, and program instability. They are particularly problematic because they are often hard to\n",
    "# reproduce, debug, and identify during development. Proper synchronization mechanisms, such as locks or semaphores, are used to prevent race conditions by\n",
    "# allowing only one thread to access or modify a shared resource at a time."
   ]
  },
  {
   "cell_type": "code",
   "execution_count": 28,
   "id": "7bc9c1d5-8d2c-494d-8760-5747c612c07a",
   "metadata": {
    "tags": []
   },
   "outputs": [],
   "source": [
    "#############################################################################"
   ]
  }
 ],
 "metadata": {
  "kernelspec": {
   "display_name": "Python 3 (ipykernel)",
   "language": "python",
   "name": "python3"
  },
  "language_info": {
   "codemirror_mode": {
    "name": "ipython",
    "version": 3
   },
   "file_extension": ".py",
   "mimetype": "text/x-python",
   "name": "python",
   "nbconvert_exporter": "python",
   "pygments_lexer": "ipython3",
   "version": "3.11.4"
  }
 },
 "nbformat": 4,
 "nbformat_minor": 5
}
