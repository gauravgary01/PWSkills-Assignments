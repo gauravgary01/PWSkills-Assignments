{
 "cells": [
  {
   "cell_type": "code",
   "execution_count": 1,
   "id": "c1089762-7235-46db-b582-43e07e7163ad",
   "metadata": {},
   "outputs": [],
   "source": [
    "#Ans 01:"
   ]
  },
  {
   "cell_type": "code",
   "execution_count": 2,
   "id": "9d84d029-eafa-488a-b0f6-92ea4c718542",
   "metadata": {},
   "outputs": [],
   "source": [
    "# In Python, there are mainly two types of commenting options.\n",
    "# 1) Single-line commenting (using # symbol. Anything written after the # symbol on the same line is considered a comment and is ignored by the Python interpreter.)"
   ]
  },
  {
   "cell_type": "code",
   "execution_count": 3,
   "id": "fcf24ca3-2908-4b13-b1c4-540958ae4eed",
   "metadata": {},
   "outputs": [],
   "source": [
    "# This is an example of single-line comment."
   ]
  },
  {
   "cell_type": "code",
   "execution_count": 4,
   "id": "9b0f802e-3810-451c-80f8-79116bd2e7e0",
   "metadata": {},
   "outputs": [],
   "source": [
    "# 2) Multi-line commenting (using ''' ''' or \"\"\" \"\"\")"
   ]
  },
  {
   "cell_type": "code",
   "execution_count": 5,
   "id": "a84ce5bd-370c-40f4-a88a-7a7efdfab364",
   "metadata": {},
   "outputs": [
    {
     "data": {
      "text/plain": [
       "'this also is an\\nexample of a\\nmulti-line\\ncomment.'"
      ]
     },
     "execution_count": 5,
     "metadata": {},
     "output_type": "execute_result"
    }
   ],
   "source": [
    "'''this is an\n",
    "example of a\n",
    "multi-line\n",
    "comment.'''\n",
    "\n",
    "\"\"\"this also is an\n",
    "example of a\n",
    "multi-line\n",
    "comment.\"\"\""
   ]
  },
  {
   "cell_type": "code",
   "execution_count": 6,
   "id": "6bc75c22-e714-4924-92bd-982f3dd0a4c6",
   "metadata": {},
   "outputs": [],
   "source": [
    "# Multi-line comments are executable and another option for multi-line comments is to\n",
    "# comment each\n",
    "# line of codes/words\n",
    "# after # symbol in consecutive lines."
   ]
  },
  {
   "cell_type": "code",
   "execution_count": 7,
   "id": "4d50e9c1-2acc-48e6-9609-886ef3cfd4ea",
   "metadata": {},
   "outputs": [],
   "source": [
    "############################################################################################################################################"
   ]
  },
  {
   "cell_type": "code",
   "execution_count": 8,
   "id": "926b8c61-2333-4d57-a793-c18b2b1e612b",
   "metadata": {},
   "outputs": [],
   "source": [
    "#Ans 02:"
   ]
  },
  {
   "cell_type": "code",
   "execution_count": 9,
   "id": "b975975b-3953-46a7-8838-eec7d2165c95",
   "metadata": {},
   "outputs": [],
   "source": [
    "# In Python, a variable is a named reference to a value or an object. It acts as a container that holds data of various types, such as numbers, strings, lists, etc.\n",
    "# Variables allow us to store and manipulate data throughout our program/programs.\n",
    "# To declare and assign values to variables in Python, we simply need to use the assignment operator (=)."
   ]
  },
  {
   "cell_type": "code",
   "execution_count": 10,
   "id": "d4e1cbc0-812f-4b4c-acce-62e873c6d22a",
   "metadata": {},
   "outputs": [],
   "source": [
    "variable_name = 'value'"
   ]
  },
  {
   "cell_type": "code",
   "execution_count": 11,
   "id": "513c9ddd-f78d-4c59-a508-fb5db17ac742",
   "metadata": {},
   "outputs": [],
   "source": [
    "# declared above is a variable named 'variable_name' and that variable is assigned a value, 'value'."
   ]
  },
  {
   "cell_type": "code",
   "execution_count": 12,
   "id": "614e2c5f-7fa7-4a68-983f-fe8871d47ca4",
   "metadata": {},
   "outputs": [],
   "source": [
    "############################################################################################################################################"
   ]
  },
  {
   "cell_type": "code",
   "execution_count": 13,
   "id": "b950bba9-d41f-40c8-8ada-368a66617ebd",
   "metadata": {},
   "outputs": [],
   "source": [
    "#Ans 03:"
   ]
  },
  {
   "cell_type": "code",
   "execution_count": 14,
   "id": "9430013a-d062-4267-bbe7-f252d4c5d03d",
   "metadata": {},
   "outputs": [],
   "source": [
    "# Python provides built-in functions that allow us to convert data from one type to another. The most commonly used type conversion functions are:\n",
    "# 1) int(): Converts a value to an integer.\n",
    "# 2) float(): Converts a value to a float.\n",
    "# 3) str(): Converts a value to a string.\n",
    "# 4) bool(): Converts a value to a boolean.\n",
    "# Below are some examples of conversions."
   ]
  },
  {
   "cell_type": "code",
   "execution_count": 15,
   "id": "539a0ac8-5ed0-4a79-b8b4-762dfd6561cb",
   "metadata": {},
   "outputs": [
    {
     "name": "stdout",
     "output_type": "stream",
     "text": [
      "10.0\n"
     ]
    }
   ],
   "source": [
    "x = 10\n",
    "y = float(x)\n",
    "print(y)"
   ]
  },
  {
   "cell_type": "code",
   "execution_count": 16,
   "id": "df0b29df-f798-417a-9702-a55f7063ed89",
   "metadata": {},
   "outputs": [
    {
     "name": "stdout",
     "output_type": "stream",
     "text": [
      "42\n"
     ]
    }
   ],
   "source": [
    "s = \"42\"\n",
    "i = int(s)\n",
    "print(i)"
   ]
  },
  {
   "cell_type": "code",
   "execution_count": 17,
   "id": "fa96c2ea-59ed-4e3f-97ed-f64b73bd83bd",
   "metadata": {},
   "outputs": [
    {
     "name": "stdout",
     "output_type": "stream",
     "text": [
      "3.14\n"
     ]
    }
   ],
   "source": [
    "f = 3.14\n",
    "s = str(f)\n",
    "print(s)"
   ]
  },
  {
   "cell_type": "code",
   "execution_count": 18,
   "id": "2eb86c79-36b2-4f06-a7c3-cdae49fc3974",
   "metadata": {},
   "outputs": [
    {
     "name": "stdout",
     "output_type": "stream",
     "text": [
      "False\n"
     ]
    }
   ],
   "source": [
    "b = 0\n",
    "b = bool(b)\n",
    "print(b)"
   ]
  },
  {
   "cell_type": "code",
   "execution_count": 19,
   "id": "7d4e5bab-a053-4f4c-b4fe-0cf2c7d891af",
   "metadata": {},
   "outputs": [],
   "source": [
    "############################################################################################################################################"
   ]
  },
  {
   "cell_type": "code",
   "execution_count": 20,
   "id": "c7e6a56a-870b-4dea-8c5c-63318a3f9ce9",
   "metadata": {},
   "outputs": [],
   "source": [
    "#Ans 04:"
   ]
  },
  {
   "cell_type": "code",
   "execution_count": 21,
   "id": "8edb1f1a-8ff2-4763-ab7d-76c336d03da5",
   "metadata": {},
   "outputs": [],
   "source": [
    "# 1) Open a text editor.\n",
    "# 2) Write the Python code in the text editor.\n",
    "# 3) Save the file with a .py extension.\n",
    "# 4) Open the command prompt or terminal.\n",
    "# 5) Navigate to the directory where the Python script is saved using the cd (change directory) command.\n",
    "# 6) Once in the correct directory, we can execute the Python script by typing python followed by the name of the script file.\n",
    "# 7) On pressing Enter, the command will run. The Python interpreter will execute the script, and we should see the output in the\n",
    "#    command prompt or terminal."
   ]
  },
  {
   "cell_type": "code",
   "execution_count": 22,
   "id": "a9385531-f448-4874-baf9-e2484e67e3a0",
   "metadata": {},
   "outputs": [],
   "source": [
    "############################################################################################################################################"
   ]
  },
  {
   "cell_type": "code",
   "execution_count": 23,
   "id": "53ec9b70-fdf1-45af-ab1e-1f55151b318b",
   "metadata": {},
   "outputs": [],
   "source": [
    "#Ans 05:"
   ]
  },
  {
   "cell_type": "code",
   "execution_count": 24,
   "id": "8a8214da-ebd8-4e1e-9a5a-e3b727571797",
   "metadata": {},
   "outputs": [
    {
     "name": "stdout",
     "output_type": "stream",
     "text": [
      "[2, 3]\n"
     ]
    }
   ],
   "source": [
    "my_list = [1,2,3,4,5]\n",
    "print(my_list[1:3])"
   ]
  },
  {
   "cell_type": "code",
   "execution_count": 25,
   "id": "d72774b1-9c1e-4d1a-9405-826aa2f3c3bb",
   "metadata": {},
   "outputs": [],
   "source": [
    "############################################################################################################################################"
   ]
  },
  {
   "cell_type": "code",
   "execution_count": 26,
   "id": "8095f8c6-b0b1-48e6-b984-9d80b0bcbed1",
   "metadata": {},
   "outputs": [],
   "source": [
    "#Ans 06:"
   ]
  },
  {
   "cell_type": "code",
   "execution_count": 27,
   "id": "21e76131-5c55-4ed5-8ec0-e03e75d2ea98",
   "metadata": {},
   "outputs": [],
   "source": [
    "# In mathematics, a complex number is a number that comprises a real part and an imaginary part. It is represented in the form a + bi,\n",
    "# where a is the real part and b is the imaginary part. The imaginary part is multiplied by the imaginary unit i, which is defined as\n",
    "# the square root of -1.\n",
    "\n",
    "# In Python, complex numbers are fully supported as a built-in data type. They can be represented using the complex() function or by\n",
    "# directly writing them in the form a + bj."
   ]
  },
  {
   "cell_type": "code",
   "execution_count": 28,
   "id": "237b6ec7-0193-4081-9da9-021ac6cede17",
   "metadata": {},
   "outputs": [
    {
     "name": "stdout",
     "output_type": "stream",
     "text": [
      "(3+4j)\n",
      "(1.5-2j)\n",
      "(2+3j)\n",
      "(-0-1j)\n"
     ]
    }
   ],
   "source": [
    "# Using the complex() function\n",
    "z1 = complex(3, 4)\n",
    "z2 = complex(1.5, -2)\n",
    "\n",
    "# Directly writing the complex number\n",
    "z3 = 2 + 3j\n",
    "z4 = -1j\n",
    "\n",
    "print(z1)\n",
    "print(z2)\n",
    "print(z3)\n",
    "print(z4)"
   ]
  },
  {
   "cell_type": "code",
   "execution_count": 29,
   "id": "30287b87-a948-4d2d-a1ad-5983f4b935fe",
   "metadata": {},
   "outputs": [],
   "source": [
    "############################################################################################################################################"
   ]
  },
  {
   "cell_type": "code",
   "execution_count": 30,
   "id": "9b8f3980-dfc8-4b4a-97e9-e422b30f336c",
   "metadata": {},
   "outputs": [],
   "source": [
    "#Ans 07:"
   ]
  },
  {
   "cell_type": "code",
   "execution_count": 31,
   "id": "e6d7e674-22c6-41da-b2c3-f6627a01bafe",
   "metadata": {},
   "outputs": [],
   "source": [
    "age = 25"
   ]
  },
  {
   "cell_type": "code",
   "execution_count": 32,
   "id": "6276a020-a23c-41e0-bfd1-0fb5cc9bccaa",
   "metadata": {},
   "outputs": [],
   "source": [
    "############################################################################################################################################"
   ]
  },
  {
   "cell_type": "code",
   "execution_count": 33,
   "id": "bbd5d043-2dbe-4871-b843-215e8e153b2f",
   "metadata": {},
   "outputs": [],
   "source": [
    "#Ans 08:"
   ]
  },
  {
   "cell_type": "code",
   "execution_count": 34,
   "id": "0565d8b4-815c-42a9-b341-10b6bdfb8a5e",
   "metadata": {},
   "outputs": [
    {
     "data": {
      "text/plain": [
       "float"
      ]
     },
     "execution_count": 34,
     "metadata": {},
     "output_type": "execute_result"
    }
   ],
   "source": [
    "price = 9.99\n",
    "type(price)"
   ]
  },
  {
   "cell_type": "code",
   "execution_count": 35,
   "id": "d9f730ba-4a25-405c-8ce4-8aeda713cb5d",
   "metadata": {},
   "outputs": [],
   "source": [
    "############################################################################################################################################"
   ]
  },
  {
   "cell_type": "code",
   "execution_count": 36,
   "id": "e404a195-84a7-4486-a6af-7eb195207a1c",
   "metadata": {},
   "outputs": [],
   "source": [
    "#Ans 09:"
   ]
  },
  {
   "cell_type": "code",
   "execution_count": 37,
   "id": "ec5c3cea-e01f-4b24-ac5c-80b2a265a599",
   "metadata": {},
   "outputs": [
    {
     "name": "stdout",
     "output_type": "stream",
     "text": [
      "Gaurav Chandra Goswami\n"
     ]
    }
   ],
   "source": [
    "name = 'Gaurav Chandra Goswami'\n",
    "print(name)"
   ]
  },
  {
   "cell_type": "code",
   "execution_count": 38,
   "id": "f3db61dc-c5ce-4c9c-ac62-561ea6067dfd",
   "metadata": {},
   "outputs": [],
   "source": [
    "############################################################################################################################################"
   ]
  },
  {
   "cell_type": "code",
   "execution_count": 39,
   "id": "e1b120b7-1436-4af0-bd0a-a486abd63913",
   "metadata": {},
   "outputs": [],
   "source": [
    "#Ans 10:"
   ]
  },
  {
   "cell_type": "code",
   "execution_count": 40,
   "id": "7689c783-05fe-4585-b724-b181cfa4453a",
   "metadata": {},
   "outputs": [
    {
     "name": "stdout",
     "output_type": "stream",
     "text": [
      "World\n"
     ]
    }
   ],
   "source": [
    "my_str = 'Hello, World!'\n",
    "print(my_str[7:12])"
   ]
  },
  {
   "cell_type": "code",
   "execution_count": 41,
   "id": "23ea34d7-72de-4a4c-9de1-a85cac8a27ff",
   "metadata": {},
   "outputs": [],
   "source": [
    "############################################################################################################################################"
   ]
  },
  {
   "cell_type": "code",
   "execution_count": 42,
   "id": "63459972-b94e-4682-871a-b93c7312c341",
   "metadata": {},
   "outputs": [],
   "source": [
    "#Ans 11:"
   ]
  },
  {
   "cell_type": "code",
   "execution_count": 43,
   "id": "47ca30bf-ea40-4a2c-85c3-e5761288d8a7",
   "metadata": {},
   "outputs": [],
   "source": [
    "is_student = True"
   ]
  },
  {
   "cell_type": "code",
   "execution_count": null,
   "id": "47aef753-74c2-4070-a3bf-5f5fe1616ba1",
   "metadata": {},
   "outputs": [],
   "source": [
    "############################################################################################################################################"
   ]
  }
 ],
 "metadata": {
  "kernelspec": {
   "display_name": "Python 3 (ipykernel)",
   "language": "python",
   "name": "python3"
  },
  "language_info": {
   "codemirror_mode": {
    "name": "ipython",
    "version": 3
   },
   "file_extension": ".py",
   "mimetype": "text/x-python",
   "name": "python",
   "nbconvert_exporter": "python",
   "pygments_lexer": "ipython3",
   "version": "3.10.8"
  }
 },
 "nbformat": 4,
 "nbformat_minor": 5
}
