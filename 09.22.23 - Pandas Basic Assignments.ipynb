{
 "cells": [
  {
   "cell_type": "code",
   "execution_count": 1,
   "id": "5abeda63-1b5f-443b-b1b2-33370e406f10",
   "metadata": {
    "tags": []
   },
   "outputs": [],
   "source": [
    "import pandas as pd"
   ]
  },
  {
   "cell_type": "code",
   "execution_count": 30,
   "id": "5a78431d-909c-4a28-bdee-985cf06f43c7",
   "metadata": {
    "tags": []
   },
   "outputs": [],
   "source": [
    "# Ans 01:"
   ]
  },
  {
   "cell_type": "code",
   "execution_count": 2,
   "id": "0bbbb1d4-a2b5-44b2-9b28-d32baa6aa6ad",
   "metadata": {
    "tags": []
   },
   "outputs": [],
   "source": [
    "l = [4,8,15,16,23,42]"
   ]
  },
  {
   "cell_type": "code",
   "execution_count": 3,
   "id": "f5444e9b-ded8-4529-8acd-e631d0e080fd",
   "metadata": {
    "tags": []
   },
   "outputs": [
    {
     "data": {
      "text/plain": [
       "0     4\n",
       "1     8\n",
       "2    15\n",
       "3    16\n",
       "4    23\n",
       "5    42\n",
       "dtype: int64"
      ]
     },
     "execution_count": 3,
     "metadata": {},
     "output_type": "execute_result"
    }
   ],
   "source": [
    "pd.Series(l)"
   ]
  },
  {
   "cell_type": "code",
   "execution_count": 31,
   "id": "f11c4736-57be-429b-9d36-02f8a2b62daf",
   "metadata": {
    "tags": []
   },
   "outputs": [],
   "source": [
    "############################################################################################\n",
    "# Ans 02:"
   ]
  },
  {
   "cell_type": "code",
   "execution_count": 5,
   "id": "cb685ec6-dddf-429d-88f1-2fd32ac05912",
   "metadata": {
    "tags": []
   },
   "outputs": [],
   "source": [
    "l2 = [1,2,3,4,5,'Gary','Gaurav','Headless Head']"
   ]
  },
  {
   "cell_type": "code",
   "execution_count": 6,
   "id": "e8a32aca-0edc-4590-b1d3-2a9a6a923353",
   "metadata": {
    "tags": []
   },
   "outputs": [
    {
     "data": {
      "text/plain": [
       "0                1\n",
       "1                2\n",
       "2                3\n",
       "3                4\n",
       "4                5\n",
       "5             Gary\n",
       "6           Gaurav\n",
       "7    Headless Head\n",
       "dtype: object"
      ]
     },
     "execution_count": 6,
     "metadata": {},
     "output_type": "execute_result"
    }
   ],
   "source": [
    "pd.Series(l2)"
   ]
  },
  {
   "cell_type": "code",
   "execution_count": 32,
   "id": "42483e80-c4ab-4924-8651-32879cad1594",
   "metadata": {
    "tags": []
   },
   "outputs": [],
   "source": [
    "############################################################################################\n",
    "# Ans 03:"
   ]
  },
  {
   "cell_type": "code",
   "execution_count": 7,
   "id": "6f63e047-a763-4fca-b299-ef7599394ec1",
   "metadata": {
    "tags": []
   },
   "outputs": [],
   "source": [
    "l3 = [('Name', 'Age', 'Gender'),\n",
    "      ('Alice', 25, 'Female'),\n",
    "      ('Bob', 30, 'Male'),\n",
    "      ('Claire', 27, 'Female')\n",
    "     ]"
   ]
  },
  {
   "cell_type": "code",
   "execution_count": 13,
   "id": "67624c96-6706-42e1-a072-60d6aa91ad9f",
   "metadata": {
    "tags": []
   },
   "outputs": [],
   "source": [
    "import csv\n",
    "\n",
    "with open('dataAlice.csv', 'w') as f:\n",
    "    writer = csv.writer(f)\n",
    "    \n",
    "    for i in l3:\n",
    "        writer.writerow(i)"
   ]
  },
  {
   "cell_type": "code",
   "execution_count": 14,
   "id": "757a3339-be3b-484f-ad3a-a3db74edd5e9",
   "metadata": {
    "tags": []
   },
   "outputs": [
    {
     "data": {
      "text/html": [
       "<div>\n",
       "<style scoped>\n",
       "    .dataframe tbody tr th:only-of-type {\n",
       "        vertical-align: middle;\n",
       "    }\n",
       "\n",
       "    .dataframe tbody tr th {\n",
       "        vertical-align: top;\n",
       "    }\n",
       "\n",
       "    .dataframe thead th {\n",
       "        text-align: right;\n",
       "    }\n",
       "</style>\n",
       "<table border=\"1\" class=\"dataframe\">\n",
       "  <thead>\n",
       "    <tr style=\"text-align: right;\">\n",
       "      <th></th>\n",
       "      <th>Name</th>\n",
       "      <th>Age</th>\n",
       "      <th>Gender</th>\n",
       "    </tr>\n",
       "  </thead>\n",
       "  <tbody>\n",
       "    <tr>\n",
       "      <th>0</th>\n",
       "      <td>Alice</td>\n",
       "      <td>25</td>\n",
       "      <td>Female</td>\n",
       "    </tr>\n",
       "    <tr>\n",
       "      <th>1</th>\n",
       "      <td>Bob</td>\n",
       "      <td>30</td>\n",
       "      <td>Male</td>\n",
       "    </tr>\n",
       "    <tr>\n",
       "      <th>2</th>\n",
       "      <td>Claire</td>\n",
       "      <td>27</td>\n",
       "      <td>Female</td>\n",
       "    </tr>\n",
       "  </tbody>\n",
       "</table>\n",
       "</div>"
      ],
      "text/plain": [
       "     Name  Age  Gender\n",
       "0   Alice   25  Female\n",
       "1     Bob   30    Male\n",
       "2  Claire   27  Female"
      ]
     },
     "execution_count": 14,
     "metadata": {},
     "output_type": "execute_result"
    }
   ],
   "source": [
    "pd.read_csv('dataAlice.csv')"
   ]
  },
  {
   "cell_type": "code",
   "execution_count": 15,
   "id": "bf8fe32f-5586-4dbb-9527-2e03623aecc1",
   "metadata": {
    "tags": []
   },
   "outputs": [],
   "source": [
    "############################################################################################\n",
    "# Ans 04:"
   ]
  },
  {
   "cell_type": "code",
   "execution_count": 16,
   "id": "13975074-b53a-48b3-bca1-156440969eb8",
   "metadata": {
    "tags": []
   },
   "outputs": [],
   "source": [
    "# In pandas, a DataFrame is a two-dimensional, size-mutable, and potentially heterogeneous tabular data structure with labeled axes (rows and columns).\n",
    "# It is one of the most commonly used data structures in pandas and is similar to a spreadsheet or SQL table. Each column in a DataFrame can be of a different\n",
    "# data type (e.g., integers, floats, strings) and is essentially a Series object, but all columns share the same index.\n",
    "\n",
    "# On the other hand, a Series in pandas is a one-dimensional array-like object that can hold data of any type. It is essentially a labeled array with an\n",
    "# index. A DataFrame is composed of one or more Series objects where each Series represents a column in the DataFrame.\n",
    "\n",
    "# Let's illustrate the difference between a DataFrame and a Series with an example:"
   ]
  },
  {
   "cell_type": "code",
   "execution_count": 17,
   "id": "d8ccc717-1b1a-49e8-b2a0-77fb5b24c455",
   "metadata": {
    "tags": []
   },
   "outputs": [
    {
     "name": "stdout",
     "output_type": "stream",
     "text": [
      "Series:\n",
      "0    1\n",
      "1    2\n",
      "2    3\n",
      "3    4\n",
      "4    5\n",
      "Name: Numbers, dtype: int64\n",
      "\n",
      "\n",
      "DataFrame:\n",
      "      Name  Age           City\n",
      "0    Alice   25       New York\n",
      "1      Bob   30    Los Angeles\n",
      "2  Charlie   35        Chicago\n",
      "3    David   28  San Francisco\n",
      "4      Eve   22          Miami\n"
     ]
    }
   ],
   "source": [
    "import pandas as pd\n",
    "\n",
    "# Creating a Series\n",
    "series_data = pd.Series([1, 2, 3, 4, 5], name=\"Numbers\")\n",
    "\n",
    "# Creating a DataFrame\n",
    "data = {\n",
    "    \"Name\": [\"Alice\", \"Bob\", \"Charlie\", \"David\", \"Eve\"],\n",
    "    \"Age\": [25, 30, 35, 28, 22],\n",
    "    \"City\": [\"New York\", \"Los Angeles\", \"Chicago\", \"San Francisco\", \"Miami\"]\n",
    "}\n",
    "df = pd.DataFrame(data)\n",
    "\n",
    "# Displaying the Series\n",
    "print(\"Series:\")\n",
    "print(series_data)\n",
    "print(\"\\n\")\n",
    "\n",
    "# Displaying the DataFrame\n",
    "print(\"DataFrame:\")\n",
    "print(df)\n"
   ]
  },
  {
   "cell_type": "code",
   "execution_count": null,
   "id": "2b68f4db-c51b-4242-805c-071e3f286664",
   "metadata": {},
   "outputs": [],
   "source": [
    "# In the example above, series_data is a Series that holds a sequence of numbers, and it has a name (\"Numbers\"). On the other hand, df is a DataFrame that\n",
    "# contains tabular data with multiple columns (Name, Age, City). Each column in the DataFrame is a separate Series (e.g., \"Name\" is a Series of strings,\n",
    "# \"Age\" is a Series of integers, and \"City\" is a Series of strings).\n",
    "\n",
    "# In summary, the key differences are:\n",
    "\n",
    "# Dimension: A Series is one-dimensional, whereas a DataFrame is two-dimensional.\n",
    "# Homogeneity: A Series contains data of a single type, while a DataFrame can have columns with different data types.\n",
    "# Multiple Columns: A DataFrame is a collection of Series objects, where each column is a Series."
   ]
  },
  {
   "cell_type": "code",
   "execution_count": 18,
   "id": "3f680bd4-6053-4c68-82b2-0430300ea689",
   "metadata": {
    "tags": []
   },
   "outputs": [],
   "source": [
    "############################################################################################\n",
    "# Ans 05:"
   ]
  },
  {
   "cell_type": "code",
   "execution_count": 19,
   "id": "d7141c99-b9ec-42fc-998e-1cd4392945c7",
   "metadata": {
    "tags": []
   },
   "outputs": [],
   "source": [
    "# Pandas provides a wide range of functions and methods to manipulate data in a DataFrame. Here are some common functions and operations you can\n",
    "# use to work with DataFrame data:\n",
    "\n",
    "# Selecting Data:\n",
    "# df[column] or df[[column1, column2]]: Select one or multiple columns by name.\n",
    "# df.loc[row_label] or df.loc[row_label, column_label]: Select data by labels.\n",
    "# df.iloc[row_index] or df.iloc[row_index, column_index]: Select data by integer index.\n",
    "# df.head(n) and df.tail(n): View the first or last n rows.\n",
    "\n",
    "# Filtering Data:\n",
    "# df[df['column'] > value]: Apply a condition to filter rows.\n",
    "# df.query('condition'): Use SQL-like syntax to filter rows.\n",
    "\n",
    "# Sorting Data:\n",
    "# df.sort_values(by='column'): Sort the DataFrame by the values in a specific column.\n",
    "# df.sort_index(): Sort the DataFrame by index.\n",
    "\n",
    "# Aggregation:\n",
    "# df.groupby('column').agg(func): Group data by a column and apply aggregation functions (e.g., sum, mean, count).\n",
    "# df.pivot_table(values='column', index='row_column', aggfunc='func'): Create pivot tables for summarizing data.\n",
    "\n",
    "# Data Cleaning:\n",
    "# df.drop(columns=['column1', 'column2']): Remove specific columns.\n",
    "# df.drop_duplicates(): Remove duplicate rows.\n",
    "# df.fillna(value): Fill missing values with a specified value.\n",
    "\n",
    "# Data Transformation:\n",
    "# df.apply(function): Apply a function to each element or row/column.\n",
    "# df.replace(old_value, new_value): Replace specific values.\n",
    "# df.rename(columns={'old_name': 'new_name'}): Rename columns.\n",
    "# df.melt(id_vars=['column']): Unpivot/melt the DataFrame.\n",
    "\n",
    "# Combining DataFrames:\n",
    "# pd.concat([df1, df2]): Concatenate DataFrames vertically or horizontally.\n",
    "# pd.merge(df1, df2, on='key_column'): Perform SQL-style joins on DataFrames.\n",
    "\n",
    "# Reshaping Data:\n",
    "# df.transpose(): Transpose the DataFrame.\n",
    "# df.stack() and df.unstack(): Stack and unstack data from wide to long format and vice versa.\n",
    "\n",
    "# Computing Summary Statistics:\n",
    "# df.describe(): Compute summary statistics (mean, std, min, max, etc.).\n",
    "# df.value_counts(): Count unique values in a column.\n",
    "\n",
    "# Datetime Operations:\n",
    "# pd.to_datetime(df['column']): Convert a column to datetime.\n",
    "# Extract components (e.g., year, month) from datetime columns.\n",
    "\n",
    "# Visualization:\n",
    "# df.plot(): Create basic plots directly from the DataFrame using Matplotlib integration.\n",
    "# df.hist() and df.plot.hist(): Create histograms.\n",
    "\n",
    "# Saving and Loading Data:\n",
    "# df.to_csv('filename.csv'): Save DataFrame to a CSV file.\n",
    "# pd.read_csv('filename.csv'): Load data from a CSV file into a DataFrame.\n",
    "\n",
    "\n",
    "# These are just some of the common operations you can perform on a Pandas DataFrame. Pandas provides a rich set of functionality for data manipulation,\n",
    "# and you can combine and chain these functions to perform complex data transformations and analysis tasks."
   ]
  },
  {
   "cell_type": "code",
   "execution_count": 20,
   "id": "d10423f3-3d05-4363-82e6-2aedfaf8344c",
   "metadata": {
    "tags": []
   },
   "outputs": [],
   "source": [
    "############################################################################################\n",
    "# Ans 06:"
   ]
  },
  {
   "cell_type": "code",
   "execution_count": 21,
   "id": "18b027b2-d9b5-4778-9c5a-c603c6965f81",
   "metadata": {
    "tags": []
   },
   "outputs": [],
   "source": [
    "# Series (Mutable): A Series is mutable, which means you can modify its values after creation. You can change the values of specific elements in a Series\n",
    "# by accessing them and assigning new values."
   ]
  },
  {
   "cell_type": "code",
   "execution_count": 22,
   "id": "20caaf41-a7b3-4c48-954a-775037405c56",
   "metadata": {
    "tags": []
   },
   "outputs": [],
   "source": [
    "import pandas as pd\n",
    "\n",
    "# Creating a mutable Series\n",
    "series_data = pd.Series([1, 2, 3, 4, 5])\n",
    "\n",
    "# Modifying a value\n",
    "series_data[2] = 99"
   ]
  },
  {
   "cell_type": "code",
   "execution_count": 23,
   "id": "a73a6192-907b-4bbb-96dd-5a28ae30c46a",
   "metadata": {
    "tags": []
   },
   "outputs": [
    {
     "data": {
      "text/plain": [
       "0     1\n",
       "1     2\n",
       "2    99\n",
       "3     4\n",
       "4     5\n",
       "dtype: int64"
      ]
     },
     "execution_count": 23,
     "metadata": {},
     "output_type": "execute_result"
    }
   ],
   "source": [
    "series_data"
   ]
  },
  {
   "cell_type": "code",
   "execution_count": 24,
   "id": "e62185c5-90d0-416c-aca5-e5258cff4095",
   "metadata": {
    "tags": []
   },
   "outputs": [],
   "source": [
    "# DataFrame (Mutable): A DataFrame is also mutable, allowing you to modify its content. You can add or remove columns, update values, or perform various\n",
    "# data manipulation operations."
   ]
  },
  {
   "cell_type": "code",
   "execution_count": 25,
   "id": "19513f83-3fb6-4d08-84a8-89d9f44671a5",
   "metadata": {
    "tags": []
   },
   "outputs": [],
   "source": [
    "import pandas as pd\n",
    "\n",
    "# Creating a mutable DataFrame\n",
    "data = {\n",
    "    \"Name\": [\"Alice\", \"Bob\", \"Charlie\"],\n",
    "    \"Age\": [25, 30, 35]\n",
    "}\n",
    "df = pd.DataFrame(data)\n",
    "\n",
    "# Modifying a column\n",
    "df[\"Age\"] = [26, 31, 36]"
   ]
  },
  {
   "cell_type": "code",
   "execution_count": 27,
   "id": "ad5ea440-b273-4b0e-8cd9-a90ebf139bbc",
   "metadata": {
    "tags": []
   },
   "outputs": [
    {
     "data": {
      "text/plain": [
       "0    26\n",
       "1    31\n",
       "2    36\n",
       "Name: Age, dtype: int64"
      ]
     },
     "execution_count": 27,
     "metadata": {},
     "output_type": "execute_result"
    }
   ],
   "source": [
    "df['Age']"
   ]
  },
  {
   "cell_type": "code",
   "execution_count": 28,
   "id": "924b7f14-46f0-4293-a3bb-8ffabeac5243",
   "metadata": {
    "tags": []
   },
   "outputs": [
    {
     "data": {
      "text/plain": [
       "pandas.core.series.Series"
      ]
     },
     "execution_count": 28,
     "metadata": {},
     "output_type": "execute_result"
    }
   ],
   "source": [
    "type(df['Name'])"
   ]
  },
  {
   "cell_type": "code",
   "execution_count": 29,
   "id": "98dbf4eb-01a5-417a-a378-60f1dd7db3c9",
   "metadata": {
    "tags": []
   },
   "outputs": [],
   "source": [
    "############################################################################################\n",
    "# Ans 06:"
   ]
  },
  {
   "cell_type": "code",
   "execution_count": 35,
   "id": "0273f3c0-a36e-42f3-9ff8-cc3689ce9feb",
   "metadata": {
    "tags": []
   },
   "outputs": [
    {
     "name": "stdout",
     "output_type": "stream",
     "text": [
      "   Column1 Column2  Column3\n",
      "0        1   apple    10.50\n",
      "1        2  banana     8.00\n",
      "2        3  cherry     6.75\n"
     ]
    }
   ],
   "source": [
    "import pandas as pd\n",
    "\n",
    "# Create multiple Series\n",
    "series1 = pd.Series([1, 2, 3])\n",
    "series2 = pd.Series(['apple', 'banana', 'cherry'])\n",
    "series3 = pd.Series([10.5, 8.0, 6.75])\n",
    "\n",
    "# Combine the Series into a dictionary\n",
    "data = {'Column1': series1, 'Column2': series2, 'Column3': series3}\n",
    "\n",
    "# Create a DataFrame from the dictionary\n",
    "df = pd.DataFrame(data)\n",
    "\n",
    "# Display the DataFrame\n",
    "print(df)"
   ]
  },
  {
   "cell_type": "code",
   "execution_count": 36,
   "id": "accfd054-89a9-47c1-9446-4a1ce0fc27d0",
   "metadata": {
    "tags": []
   },
   "outputs": [],
   "source": [
    "############################################################################################"
   ]
  }
 ],
 "metadata": {
  "kernelspec": {
   "display_name": "Python 3 (ipykernel)",
   "language": "python",
   "name": "python3"
  },
  "language_info": {
   "codemirror_mode": {
    "name": "ipython",
    "version": 3
   },
   "file_extension": ".py",
   "mimetype": "text/x-python",
   "name": "python",
   "nbconvert_exporter": "python",
   "pygments_lexer": "ipython3",
   "version": "3.11.4"
  }
 },
 "nbformat": 4,
 "nbformat_minor": 5
}
