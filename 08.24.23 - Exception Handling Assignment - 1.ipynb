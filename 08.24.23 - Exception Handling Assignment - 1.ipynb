{
 "cells": [
  {
   "cell_type": "code",
   "execution_count": 1,
   "id": "2fab3aed-6a72-4d8f-ad9d-0c94db3bf33a",
   "metadata": {
    "tags": []
   },
   "outputs": [],
   "source": [
    "# Ans 01:"
   ]
  },
  {
   "cell_type": "code",
   "execution_count": 2,
   "id": "1c26942d-9489-4c7b-a2ad-68262661cdb6",
   "metadata": {
    "tags": []
   },
   "outputs": [],
   "source": [
    "# An Exception in Python is an event that occurs during the execution of a program that disrupts the normal flow of instructions. When an\n",
    "# exceptional situation arises, Python raises an exception, which is an object that represents the error. This allows the program to handle\n",
    "# the error gracefully and take appropriate actions, rather than crashing or producing unexpected results."
   ]
  },
  {
   "cell_type": "code",
   "execution_count": 3,
   "id": "fbd9d4c7-8ae9-4fa8-9063-8c2199c6403c",
   "metadata": {
    "tags": []
   },
   "outputs": [],
   "source": [
    "# Syntax errors, on the other hand, are different from exceptions. A syntax error occurs when you write code that violates the rules of the Python\n",
    "# language's syntax. These errors are detected by the Python interpreter during the parsing phase, before the code is executed. They usually prevent\n",
    "# the program from running at all. Syntax errors are also known as parsing errors because they arise during the parsing of the code."
   ]
  },
  {
   "cell_type": "code",
   "execution_count": 4,
   "id": "7b055cee-5f10-43ab-a949-dcab0e2579f7",
   "metadata": {
    "tags": []
   },
   "outputs": [],
   "source": [
    "##################################################################"
   ]
  },
  {
   "cell_type": "code",
   "execution_count": 5,
   "id": "67274920-6a6b-4edd-8a4b-509de7701926",
   "metadata": {
    "tags": []
   },
   "outputs": [],
   "source": [
    "# Ans 02:"
   ]
  },
  {
   "cell_type": "code",
   "execution_count": 6,
   "id": "bf194f24-715b-46d5-b05b-b3771b3bc58e",
   "metadata": {
    "tags": []
   },
   "outputs": [],
   "source": [
    "# When an exception is not handled in a program, it leads to what's known as an \"unhandled exception.\" When an unhandled exception occurs, the program's\n",
    "# normal execution flow is abruptly interrupted, and the Python interpreter displays an error message that provides information about the exception, its\n",
    "# type, and the stack trace. The program then terminates, and any subsequent code that was supposed to execute after the point where the exception occurred\n",
    "# is not executed."
   ]
  },
  {
   "cell_type": "code",
   "execution_count": 7,
   "id": "2e4aa3cb-d517-4984-a2fe-a75602ddb830",
   "metadata": {
    "tags": []
   },
   "outputs": [
    {
     "name": "stdout",
     "output_type": "stream",
     "text": [
      "Division by zero error\n"
     ]
    }
   ],
   "source": [
    "try:\n",
    "    x = 10 / 0\n",
    "except ZeroDivisionError:\n",
    "    print(\"Division by zero error\")"
   ]
  },
  {
   "cell_type": "code",
   "execution_count": 8,
   "id": "fd404ac4-de62-457a-a748-6340f5062e26",
   "metadata": {
    "tags": []
   },
   "outputs": [
    {
     "ename": "ZeroDivisionError",
     "evalue": "division by zero",
     "output_type": "error",
     "traceback": [
      "\u001b[1;31m---------------------------------------------------------------------------\u001b[0m",
      "\u001b[1;31mZeroDivisionError\u001b[0m                         Traceback (most recent call last)",
      "Cell \u001b[1;32mIn[8], line 1\u001b[0m\n\u001b[1;32m----> 1\u001b[0m x \u001b[38;5;241m=\u001b[39m \u001b[38;5;241m10\u001b[39m\u001b[38;5;241m/\u001b[39m\u001b[38;5;241m0\u001b[39m\n\u001b[0;32m      2\u001b[0m x\n",
      "\u001b[1;31mZeroDivisionError\u001b[0m: division by zero"
     ]
    }
   ],
   "source": [
    "x = 10/0\n",
    "x"
   ]
  },
  {
   "cell_type": "code",
   "execution_count": 9,
   "id": "38594d39-b66f-4181-8c31-30f7af62dd08",
   "metadata": {
    "tags": []
   },
   "outputs": [],
   "source": [
    "##################################################################"
   ]
  },
  {
   "cell_type": "code",
   "execution_count": 10,
   "id": "aa64904a-9d65-40fa-8b20-abc53592d69a",
   "metadata": {
    "tags": []
   },
   "outputs": [],
   "source": [
    "# Ans 03:"
   ]
  },
  {
   "cell_type": "code",
   "execution_count": 11,
   "id": "eceb375c-f4c2-4ed2-9dd7-601c917e8def",
   "metadata": {
    "tags": []
   },
   "outputs": [],
   "source": [
    "# In Python, you can catch and handle exceptions using the try and except statements. The try block contains the code that might raise an exception, and\n",
    "# the except block(s) contain the code that handles the exceptions if they occur. Here's the basic structure:"
   ]
  },
  {
   "cell_type": "code",
   "execution_count": 13,
   "id": "ef2be9c5-6c0c-4031-82e8-3d2990e9982b",
   "metadata": {
    "tags": []
   },
   "outputs": [
    {
     "name": "stdin",
     "output_type": "stream",
     "text": [
      "Enter a number:  0\n"
     ]
    },
    {
     "name": "stdout",
     "output_type": "stream",
     "text": [
      "Error: Cannot divide by zero\n",
      "Execution completed.\n"
     ]
    }
   ],
   "source": [
    "try:\n",
    "    num = int(input(\"Enter a number: \"))\n",
    "    result = 10 / num\n",
    "except ZeroDivisionError:\n",
    "    print(\"Error: Cannot divide by zero\")\n",
    "except ValueError:\n",
    "    print(\"Error: Invalid input. Please enter a valid number.\")\n",
    "else:\n",
    "    print(\"Result:\", result)\n",
    "finally:\n",
    "    print(\"Execution completed.\")"
   ]
  },
  {
   "cell_type": "code",
   "execution_count": 14,
   "id": "77bec7cf-2307-42a0-9096-a9283a400754",
   "metadata": {
    "tags": []
   },
   "outputs": [],
   "source": [
    "##################################################################"
   ]
  },
  {
   "cell_type": "code",
   "execution_count": 15,
   "id": "c816b2c6-68b7-438c-827a-04e9f39f18ad",
   "metadata": {
    "tags": []
   },
   "outputs": [],
   "source": [
    "# Ans 04:"
   ]
  },
  {
   "cell_type": "code",
   "execution_count": 16,
   "id": "7d5d9171-e3fd-42ba-942a-b9b62175edd3",
   "metadata": {
    "tags": []
   },
   "outputs": [],
   "source": [
    "# The try block is used to enclose the code that might raise an exception, and the else block is executed if no exceptions are raised within the try block.\n",
    "# This can be useful for separating the normal execution path from the exception-handling path."
   ]
  },
  {
   "cell_type": "code",
   "execution_count": 17,
   "id": "7f5038fa-c37c-4e16-afd3-fba7a38abb16",
   "metadata": {
    "tags": []
   },
   "outputs": [
    {
     "name": "stdin",
     "output_type": "stream",
     "text": [
      "Enter a number:  2\n"
     ]
    },
    {
     "name": "stdout",
     "output_type": "stream",
     "text": [
      "Result: 5.0\n"
     ]
    }
   ],
   "source": [
    "try:\n",
    "    num = int(input(\"Enter a number: \"))\n",
    "    result = 10 / num\n",
    "except ZeroDivisionError:\n",
    "    print(\"Error: Cannot divide by zero\")\n",
    "except ValueError:\n",
    "    print(\"Error: Invalid input. Please enter a valid number.\")\n",
    "else:\n",
    "    print(\"Result:\", result)"
   ]
  },
  {
   "cell_type": "code",
   "execution_count": 18,
   "id": "8c9ef9e9-a3b7-4203-9727-c531f18d0a7e",
   "metadata": {
    "tags": []
   },
   "outputs": [],
   "source": [
    "# The finally block is used to define a section of code that will be executed regardless of whether an exception was raised or not. It's commonly used for\n",
    "# cleanup operations, such as closing files or releasing resources, that should always be performed."
   ]
  },
  {
   "cell_type": "code",
   "execution_count": 19,
   "id": "606af0f5-4bcd-40ed-888e-b22c26cb1b91",
   "metadata": {
    "tags": []
   },
   "outputs": [
    {
     "name": "stdout",
     "output_type": "stream",
     "text": [
      "Error: File not found\n"
     ]
    },
    {
     "ename": "NameError",
     "evalue": "name 'file' is not defined",
     "output_type": "error",
     "traceback": [
      "\u001b[1;31m---------------------------------------------------------------------------\u001b[0m",
      "\u001b[1;31mNameError\u001b[0m                                 Traceback (most recent call last)",
      "Cell \u001b[1;32mIn[19], line 7\u001b[0m\n\u001b[0;32m      5\u001b[0m     \u001b[38;5;28mprint\u001b[39m(\u001b[38;5;124m\"\u001b[39m\u001b[38;5;124mError: File not found\u001b[39m\u001b[38;5;124m\"\u001b[39m)\n\u001b[0;32m      6\u001b[0m \u001b[38;5;28;01mfinally\u001b[39;00m:\n\u001b[1;32m----> 7\u001b[0m     file\u001b[38;5;241m.\u001b[39mclose()\n",
      "\u001b[1;31mNameError\u001b[0m: name 'file' is not defined"
     ]
    }
   ],
   "source": [
    "try:\n",
    "    file = open(\"example.txt\", \"r\")\n",
    "    content = file.read()\n",
    "except FileNotFoundError:\n",
    "    print(\"Error: File not found\")\n",
    "finally:\n",
    "    file.close()"
   ]
  },
  {
   "cell_type": "code",
   "execution_count": 20,
   "id": "106ceb3e-20a4-4b48-be8c-7cba2efff4bf",
   "metadata": {
    "tags": []
   },
   "outputs": [],
   "source": [
    "# The raise statement allows you to manually raise an exception in your code. This can be useful when you want to indicate an exceptional situation that isn't\n",
    "# caught automatically by Python's built-in exceptions."
   ]
  },
  {
   "cell_type": "code",
   "execution_count": 21,
   "id": "512a4432-5fc8-4ef5-8360-24a0560427d6",
   "metadata": {
    "tags": []
   },
   "outputs": [
    {
     "name": "stdout",
     "output_type": "stream",
     "text": [
      "Result: 5.0\n",
      "Error: Division by zero is not allowed\n"
     ]
    }
   ],
   "source": [
    "def divide(a, b):\n",
    "    if b == 0:\n",
    "        raise ZeroDivisionError(\"Division by zero is not allowed\")\n",
    "    return a / b\n",
    "\n",
    "try:\n",
    "    result = divide(10, 2)\n",
    "    print(\"Result:\", result)\n",
    "    result = divide(10, 0)\n",
    "    print(\"Result:\", result)\n",
    "except ZeroDivisionError as e:\n",
    "    print(\"Error:\", e)"
   ]
  },
  {
   "cell_type": "code",
   "execution_count": 22,
   "id": "edd1ae09-923e-4400-a31c-f0375c14f5c0",
   "metadata": {
    "tags": []
   },
   "outputs": [],
   "source": [
    "##################################################################"
   ]
  },
  {
   "cell_type": "code",
   "execution_count": 23,
   "id": "992d4d41-9e6a-434e-8b2b-4a81631f07e5",
   "metadata": {
    "tags": []
   },
   "outputs": [],
   "source": [
    "# Ans 05:"
   ]
  },
  {
   "cell_type": "code",
   "execution_count": 24,
   "id": "fa13b166-90b4-4c4c-8a1f-f5c933478296",
   "metadata": {
    "tags": []
   },
   "outputs": [],
   "source": [
    "# Custom exceptions, also known as user-defined exceptions, are exceptions that you create yourself in Python to represent specific error conditions or\n",
    "# exceptional situations that are relevant to your program. While Python provides a wide range of built-in exception types, sometimes these may not accurately\n",
    "# capture the specific nature of the error you want to handle in your application. This is where custom exceptions come into play."
   ]
  },
  {
   "cell_type": "code",
   "execution_count": 25,
   "id": "d45416d9-7928-44b5-b448-063fdb8d7020",
   "metadata": {
    "tags": []
   },
   "outputs": [],
   "source": [
    "# We need custom exceptions for:\n",
    "# 1. Clarity and Readability\n",
    "# 2. Precise Error Handling\n",
    "# 3. Modularity and Maintainability\n",
    "# 4. Consistency"
   ]
  },
  {
   "cell_type": "code",
   "execution_count": 26,
   "id": "8964df07-a87c-4ff4-a766-07cbed8562c9",
   "metadata": {
    "tags": []
   },
   "outputs": [
    {
     "name": "stdout",
     "output_type": "stream",
     "text": [
      "Error: Insufficient funds in the account\n"
     ]
    }
   ],
   "source": [
    "class InsufficientFundsError(Exception):\n",
    "    \"\"\"Custom exception for when an account has insufficient funds.\"\"\"\n",
    "    pass\n",
    "\n",
    "def withdraw(account_balance, amount):\n",
    "    if amount > account_balance:\n",
    "        raise InsufficientFundsError(\"Insufficient funds in the account\")\n",
    "    return account_balance - amount\n",
    "\n",
    "try:\n",
    "    balance = 100\n",
    "    withdrawal_amount = 150\n",
    "    new_balance = withdraw(balance, withdrawal_amount)\n",
    "except InsufficientFundsError as e:\n",
    "    print(\"Error:\", e)\n",
    "else:\n",
    "    print(\"Withdrawal successful. New balance:\", new_balance)"
   ]
  },
  {
   "cell_type": "code",
   "execution_count": 27,
   "id": "e6dfab0e-f327-4793-af9b-c1a47dd8ea96",
   "metadata": {
    "tags": []
   },
   "outputs": [],
   "source": [
    "##################################################################"
   ]
  },
  {
   "cell_type": "code",
   "execution_count": 28,
   "id": "0a750bb5-b4c0-4827-96a0-d6bc1dc6985b",
   "metadata": {
    "tags": []
   },
   "outputs": [],
   "source": [
    "# Ans 06:"
   ]
  },
  {
   "cell_type": "code",
   "execution_count": 29,
   "id": "64216933-bbe9-494d-b606-6ae4331b0978",
   "metadata": {
    "tags": []
   },
   "outputs": [],
   "source": [
    "class ValidateNumber(Exception):\n",
    "    def __init__(self, msg):\n",
    "        self.msg = msg"
   ]
  },
  {
   "cell_type": "code",
   "execution_count": 30,
   "id": "f6ec4619-985b-4246-9799-2a683fcdf927",
   "metadata": {
    "tags": []
   },
   "outputs": [],
   "source": [
    "def validateNumber(num):\n",
    "    if num < 10:\n",
    "        raise ValidateNumber('Entered number is less than 10')\n",
    "    elif num > 100:\n",
    "        raise ValidateNumber('Entered number is more than 100')\n",
    "    else:\n",
    "        print('Valid number entered')"
   ]
  },
  {
   "cell_type": "code",
   "execution_count": 31,
   "id": "0cf5f62b-d477-49cc-b6fd-c422f4e4c803",
   "metadata": {
    "tags": []
   },
   "outputs": [
    {
     "name": "stdin",
     "output_type": "stream",
     "text": [
      "Enter a number between 10 and 100:  51\n"
     ]
    },
    {
     "name": "stdout",
     "output_type": "stream",
     "text": [
      "Valid number entered\n"
     ]
    }
   ],
   "source": [
    "try:\n",
    "    num = int(input('Enter a number between 10 and 100: '))\n",
    "    validateNumber(num)\n",
    "except ValidateNumber as e:\n",
    "    print(e)"
   ]
  },
  {
   "cell_type": "code",
   "execution_count": 32,
   "id": "fef7d92f-9c8f-4bc8-9ebe-4e22e5807333",
   "metadata": {
    "tags": []
   },
   "outputs": [],
   "source": [
    "##################################################################"
   ]
  }
 ],
 "metadata": {
  "kernelspec": {
   "display_name": "Python 3 (ipykernel)",
   "language": "python",
   "name": "python3"
  },
  "language_info": {
   "codemirror_mode": {
    "name": "ipython",
    "version": 3
   },
   "file_extension": ".py",
   "mimetype": "text/x-python",
   "name": "python",
   "nbconvert_exporter": "python",
   "pygments_lexer": "ipython3",
   "version": "3.11.4"
  }
 },
 "nbformat": 4,
 "nbformat_minor": 5
}
