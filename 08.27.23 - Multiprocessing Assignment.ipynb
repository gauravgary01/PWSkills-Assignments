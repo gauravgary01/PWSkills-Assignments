{
 "cells": [
  {
   "cell_type": "code",
   "execution_count": 1,
   "id": "a21297b4-2303-4246-8ddf-d3643c9bf755",
   "metadata": {
    "tags": []
   },
   "outputs": [],
   "source": [
    "# Ans 01:"
   ]
  },
  {
   "cell_type": "code",
   "execution_count": 2,
   "id": "223c5306-b49f-45a3-a856-7f178be3b8d5",
   "metadata": {
    "tags": []
   },
   "outputs": [],
   "source": [
    "# Multiprocessing in Python refers to the technique of utilizing multiple processes to execute tasks concurrently, taking advantage of modern multi-core\n",
    "# processors. Python's multiprocessing module provides a way to create and manage processes, allowing you to parallelize your code and achieve better \n",
    "# erformance by utilizing the available CPU cores effectively.\n",
    "\n",
    "# In Python, the Global Interpreter Lock (GIL) prevents multiple native threads from executing Python bytecodes simultaneously in a single process. This\n",
    "# means that even on multi-core systems, a single Python process might not be able to fully utilize all available cores for CPU-bound tasks. However, the\n",
    "# multiprocessing module overcomes this limitation by spawning multiple processes, each with its own Python interpreter and memory space. As a result, each\n",
    "# process can utilize a separate core and run independently of the GIL.\n",
    "\n",
    "# Benefits and use cases of multiprocessing in Python:\n",
    "\n",
    "# Parallelism: Multiprocessing allows you to execute tasks in parallel, which is particularly useful for CPU-bound tasks like complex calculations, simulations,\n",
    "# data processing, and more. This can lead to significant speedup compared to running the same tasks sequentially.\n",
    "\n",
    "# Improved Performance: By distributing work across multiple processes, you can take full advantage of multi-core processors, making your programs run faster\n",
    "# and more efficiently.\n",
    "\n",
    "# Concurrent Execution: Multiprocessing enables concurrent execution of tasks, which is crucial for applications that need to handle multiple tasks concurrently,\n",
    "# such as web servers or real-time data processing systems.\n",
    "\n",
    "# Resource Isolation: Each process has its own memory space, which helps in isolating resources. This prevents conflicts between processes that could occur when\n",
    "# multiple threads share the same memory space.\n",
    "\n",
    "# Fault Isolation: If one process crashes due to an error, it typically does not affect other processes. This enhances the overall stability of your application."
   ]
  },
  {
   "cell_type": "code",
   "execution_count": 3,
   "id": "199e6a68-a91c-4034-94f3-3176b721cec5",
   "metadata": {
    "tags": []
   },
   "outputs": [],
   "source": [
    "#######################################################################################\n",
    "# Ans 02:"
   ]
  },
  {
   "cell_type": "code",
   "execution_count": 4,
   "id": "9f40646d-45e8-4311-84af-1b9360453a8a",
   "metadata": {
    "tags": []
   },
   "outputs": [],
   "source": [
    "# Multiprocessing and multithreading are both techniques used to achieve concurrent execution in programs, but they operate at different levels and have\n",
    "# distinct characteristics. Here are the key differences between multiprocessing and multithreading:\n",
    "\n",
    "# 1. Level of Parallelism:\n",
    "# Multiprocessing: In multiprocessing, multiple processes are spawned, each with its own Python interpreter and memory space. This allows true parallelism,\n",
    "# as each process can run on a separate CPU core. Processes do not share memory space by default, which helps in avoiding conflicts and ensuring resource\n",
    "# isolation.\n",
    "# Multithreading: In multithreading, multiple threads are created within the same process, and they share the same memory space. Threads run concurrently\n",
    "# within the same process but might not achieve true parallelism due to the Global Interpreter Lock (GIL) in CPython, which prevents multiple threads from\n",
    "# executing Python bytecodes simultaneously.\n",
    "\n",
    "# 2. Concurrency vs. Parallelism:\n",
    "# Multiprocessing: Processes achieve both concurrency (the appearance of simultaneous execution) and parallelism (actual simultaneous execution) by running\n",
    "# on different cores. This is well-suited for CPU-bound tasks.\n",
    "# Multithreading: Threads achieve concurrency by interleaving their execution, but due to the GIL in CPython, they might not achieve true parallelism.\n",
    "# However, multithreading is beneficial for I/O-bound tasks where the threads can yield while waiting for I/O operations, allowing other threads to execute.\n",
    "\n",
    "# 3. Resource Isolation:\n",
    "\n",
    "# Multiprocessing: Processes have separate memory spaces, which prevents accidental data sharing and conflicts. This makes it easier to reason about\n",
    "# shared resources and reduces the likelihood of race conditions.\n",
    "# Multithreading: Threads share the same memory space, which can lead to complex synchronization and data sharing issues. Proper synchronization mechanisms,\n",
    "# like locks, are required to prevent data corruption and ensure thread safety.\n",
    "\n",
    "# 4. Overhead:\n",
    "\n",
    "# Multiprocessing: Creating and managing processes incurs more overhead compared to threads due to the need for separate memory spaces and Python interpreters.\n",
    "# Multithreading: Creating and managing threads has less overhead, making it more lightweight. However, the GIL in CPython can limit the benefits of\n",
    "# multithreading for CPU-bound tasks.\n",
    "\n",
    "# 5. Error Isolation:\n",
    "\n",
    "# Multiprocessing: If a process crashes, it usually doesn't affect other processes. Error isolation is better in multiprocessing.\n",
    "# Multithreading: If a thread encounters an unhandled exception, it might bring down the entire process, affecting all threads."
   ]
  },
  {
   "cell_type": "code",
   "execution_count": 5,
   "id": "59f6836d-dc05-465b-86ad-35610bcc2f09",
   "metadata": {
    "tags": []
   },
   "outputs": [],
   "source": [
    "#######################################################################################\n",
    "# Ans 03:"
   ]
  },
  {
   "cell_type": "code",
   "execution_count": 6,
   "id": "94bf11d2-25cf-4e84-a993-c43d7bedaf29",
   "metadata": {
    "tags": []
   },
   "outputs": [
    {
     "name": "stdout",
     "output_type": "stream",
     "text": [
      "Process has finished.\n"
     ]
    }
   ],
   "source": [
    "import multiprocessing\n",
    "\n",
    "# Function to be executed in the process\n",
    "def worker_function(name):\n",
    "    print(f\"Hello, {name}!\")\n",
    "\n",
    "if __name__ == \"__main__\":\n",
    "    # Create a Process object\n",
    "    process = multiprocessing.Process(target=worker_function, args=(\"Alice\",))\n",
    "\n",
    "    # Start the process\n",
    "    process.start()\n",
    "\n",
    "    # Wait for the process to finish\n",
    "    process.join()\n",
    "\n",
    "    print(\"Process has finished.\")"
   ]
  },
  {
   "cell_type": "code",
   "execution_count": 7,
   "id": "ae2737c7-e331-4bdc-9ad0-b9701263a173",
   "metadata": {
    "tags": []
   },
   "outputs": [],
   "source": [
    "#######################################################################################\n",
    "# Ans 04:"
   ]
  },
  {
   "cell_type": "code",
   "execution_count": 8,
   "id": "979d78b6-6fa7-4629-b8fe-66592509ab32",
   "metadata": {
    "tags": []
   },
   "outputs": [],
   "source": [
    "# A multiprocessing pool in Python is a high-level construct provided by the multiprocessing module that manages a group (or \"pool\") of worker processes.\n",
    "# It simplifies the process of parallelizing tasks by allowing you to distribute multiple tasks across a specified number of worker processes. The pool\n",
    "# handles the creation, management, and distribution of tasks to these worker processes.\n",
    "\n",
    "# Using a multiprocessing pool is particularly useful when you have a set of tasks that can be executed independently and concurrently. The pool manages\n",
    "# the worker processes and automatically assigns tasks to available workers. This helps to avoid the overhead of creating and managing individual processes\n",
    "# for each task, improving performance and resource utilization."
   ]
  },
  {
   "cell_type": "code",
   "execution_count": null,
   "id": "869f087f-79d2-4718-9769-051610e45bb7",
   "metadata": {
    "tags": []
   },
   "outputs": [],
   "source": [
    "import multiprocessing\n",
    "\n",
    "# Function to be executed by worker processes\n",
    "def worker_function(task):\n",
    "    result = task * 2\n",
    "    return result\n",
    "\n",
    "if __name__ == \"__main__\":\n",
    "    tasks = [1, 2, 3, 4, 5, 6, 7, 8, 9, 10]\n",
    "\n",
    "    # Create a multiprocessing pool with 4 worker processes\n",
    "    with multiprocessing.Pool(processes=4) as pool:\n",
    "        # Distribute tasks to worker processes and get results\n",
    "        results = pool.map(worker_function, tasks)\n",
    "\n",
    "    print(\"Results:\", results)"
   ]
  },
  {
   "cell_type": "code",
   "execution_count": null,
   "id": "4ea45dcd-f85c-4952-8c48-5e2ee4a7ca16",
   "metadata": {
    "tags": []
   },
   "outputs": [],
   "source": [
    "#######################################################################################\n",
    "# Ans 05:"
   ]
  },
  {
   "cell_type": "code",
   "execution_count": null,
   "id": "b3851f0c-662b-4153-b26e-5f8b9b76e710",
   "metadata": {
    "tags": []
   },
   "outputs": [],
   "source": [
    "# To create a pool of worker processes in Python using the multiprocessing module, you can follow these steps:\n",
    "\n",
    "# 1. Import the multiprocessing module.\n",
    "# 2. efine a function that represents the task to be performed by the worker processes.\n",
    "# 3. Inside the if __name__ == \"__main__\": block, create a Pool object to manage the worker processes.\n",
    "# 4. Use the map() method of the Pool object to distribute tasks to the worker processes and collect the results."
   ]
  },
  {
   "cell_type": "code",
   "execution_count": null,
   "id": "6ae9f3d6-d65f-488d-b717-07991da8d551",
   "metadata": {
    "tags": []
   },
   "outputs": [],
   "source": [
    "import multiprocessing\n",
    "\n",
    "# Function to be executed by worker processes\n",
    "def worker_function(task):\n",
    "    result = task * 2\n",
    "    return result\n",
    "\n",
    "if __name__ == \"__main__\":\n",
    "    tasks = [1, 2, 3, 4, 5, 6, 7, 8, 9, 10]\n",
    "\n",
    "    # Create a multiprocessing pool with a specified number of worker processes\n",
    "    with multiprocessing.Pool(processes=4) as pool:\n",
    "        # Distribute tasks to worker processes and get results\n",
    "        results = pool.map(worker_function, tasks)\n",
    "\n",
    "    print(\"Results:\", results)"
   ]
  },
  {
   "cell_type": "code",
   "execution_count": null,
   "id": "45a1170c-29a5-4c32-a3c1-f9d5f79937ae",
   "metadata": {
    "tags": []
   },
   "outputs": [],
   "source": [
    "#######################################################################################\n",
    "# Ans 06:"
   ]
  },
  {
   "cell_type": "code",
   "execution_count": 1,
   "id": "1f6817b8-24d9-420c-ab4c-8348e712b728",
   "metadata": {
    "tags": []
   },
   "outputs": [
    {
     "name": "stdout",
     "output_type": "stream",
     "text": [
      "All processes have finished.\n"
     ]
    }
   ],
   "source": [
    "import multiprocessing\n",
    "\n",
    "# Function to print a number\n",
    "def print_number(number):\n",
    "    print(f\"Process {number}: {number}\")\n",
    "\n",
    "if __name__ == \"__main__\":\n",
    "    # List of numbers to be printed by each process\n",
    "    numbers = [1, 2, 3, 4]\n",
    "\n",
    "    # Create a list to store process objects\n",
    "    processes = []\n",
    "\n",
    "    for number in numbers:\n",
    "        # Create a process for each number\n",
    "        process = multiprocessing.Process(target=print_number, args=(number,))\n",
    "        processes.append(process)\n",
    "\n",
    "        # Start the process\n",
    "        process.start()\n",
    "\n",
    "    # Wait for all processes to finish\n",
    "    for process in processes:\n",
    "        process.join()\n",
    "\n",
    "    print(\"All processes have finished.\")"
   ]
  },
  {
   "cell_type": "code",
   "execution_count": null,
   "id": "92a253fa-5496-42f6-8600-c7471acf8fc2",
   "metadata": {
    "tags": []
   },
   "outputs": [],
   "source": [
    "#######################################################################################"
   ]
  }
 ],
 "metadata": {
  "kernelspec": {
   "display_name": "Python 3 (ipykernel)",
   "language": "python",
   "name": "python3"
  },
  "language_info": {
   "codemirror_mode": {
    "name": "ipython",
    "version": 3
   },
   "file_extension": ".py",
   "mimetype": "text/x-python",
   "name": "python",
   "nbconvert_exporter": "python",
   "pygments_lexer": "ipython3",
   "version": "3.11.4"
  }
 },
 "nbformat": 4,
 "nbformat_minor": 5
}
