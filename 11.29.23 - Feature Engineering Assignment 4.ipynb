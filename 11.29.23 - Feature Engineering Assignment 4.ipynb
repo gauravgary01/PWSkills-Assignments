{
 "cells": [
  {
   "cell_type": "code",
   "execution_count": 1,
   "id": "f7615179-4ac4-4421-ba28-b51014e769f6",
   "metadata": {
    "tags": []
   },
   "outputs": [],
   "source": [
    "#Ans 01:"
   ]
  },
  {
   "cell_type": "code",
   "execution_count": 2,
   "id": "0fd6c29f-907b-42df-890d-017a42a9092f",
   "metadata": {
    "tags": []
   },
   "outputs": [],
   "source": [
    "# Ordinal encoding and label encoding are both techniques used in machine learning to convert categorical data into numerical\n",
    "# format, but they are applied differently.\n",
    "\n",
    "# Label Encoding:\n",
    "# In label encoding, each unique category is assigned a different integer number.\n",
    "# For example, in a \"Color\" feature with categories like Red, Green, and Blue, label encoding might assign Red as 0, Green as 1, and Blue as 2.\n",
    "\n",
    "# Ordinal Encoding:\n",
    "# Ordinal encoding is similar to label encoding but specifically used when there's an inherent order or hierarchy among the categories.\n",
    "# It assigns numbers to categories based on their rank or order.\n",
    "# For instance, in a \"Size\" feature with categories Small, Medium, and Large, ordinal encoding might assign Small as 0, Medium as 1, and Large as 2,\n",
    "# reflecting their relative order.\n",
    "\n",
    "# When to Choose:\n",
    "\n",
    "# Label Encoding: Use label encoding when the categorical data doesn't have an intrinsic order or when the order is irrelevant for the model. For\n",
    "# instance, encoding different types of fruits or city names where no inherent order exists.\n",
    "\n",
    "# Ordinal Encoding: Opt for ordinal encoding when there's a clear order or hierarchy in the categories. Examples include encoding education levels\n",
    "# (such as High School, Bachelor's, Master's) or ratings (Low, Medium, High) where the order matters.\n",
    "\n",
    "# Choosing between the two depends on the nature of the categorical data and its relevance to the problem you're solving. If there's no meaningful\n",
    "# order, label encoding is preferable. If there's a hierarchy, ordinal encoding would be more suitable.|"
   ]
  },
  {
   "cell_type": "code",
   "execution_count": 3,
   "id": "80543374-839b-4814-ba18-286ccdf4299e",
   "metadata": {
    "tags": []
   },
   "outputs": [],
   "source": [
    "##########################################################################\n",
    "#Ans 02:"
   ]
  },
  {
   "cell_type": "code",
   "execution_count": 4,
   "id": "06812315-f447-49cc-8670-e32837ce0422",
   "metadata": {
    "tags": []
   },
   "outputs": [],
   "source": [
    "# Target Guided Ordinal Encoding is a technique used when encoding categorical variables by considering the target variable's\n",
    "# relationship with the categories. Here's how it generally works:\n",
    "\n",
    "# Calculate the Mean/Median/Sum of the Target Variable: For each category in the categorical feature, calculate a statistical measure\n",
    "# like mean, median, or sum of the target variable within that category.\n",
    "\n",
    "# Order the Categories: Sort the categories based on the calculated measure (e.g., mean of the target variable). This establishes an ordinal\n",
    "# relationship among the categories.\n",
    "\n",
    "# Assign Ordinal Ranks: Assign ranks or numbers to the categories based on this order. The category with the lowest mean (or highest,\n",
    "# depending on the problem) might get a lower rank, and the one with the highest mean gets a higher rank.\n",
    "\n",
    "# Replace Categories with Ranks: Replace the original categories in the dataset with these ordinal ranks.\n",
    "\n",
    "# This technique is particularly useful in scenarios where the relationship between the categorical variable and the target variable is essential.\n",
    "# For example:\n",
    "\n",
    "# Marketing Campaigns: When categorizing customers based on their responsiveness to marketing campaigns, Target Guided Ordinal Encoding can assign\n",
    "# ranks based on their historical response rates. High responders might get a higher rank, indicating their likelihood to respond positively to\n",
    "# future campaigns.\n",
    "\n",
    "# Risk Assessment: In credit risk analysis, categories representing different risk levels (low, medium, high) can be ordered based on historical\n",
    "# default rates. This ordinal encoding can help predict the likelihood of default for new applicants.\n",
    "\n",
    "# By leveraging the relationship between the categorical variable and the target variable, Target Guided Ordinal Encoding can provide additional\n",
    "# information to machine learning models, potentially improving predictive performance in certain cases."
   ]
  },
  {
   "cell_type": "code",
   "execution_count": 5,
   "id": "2a25f033-d092-402e-afa5-f7e1b60fee08",
   "metadata": {
    "tags": []
   },
   "outputs": [],
   "source": [
    "##########################################################################\n",
    "#Ans 03:"
   ]
  },
  {
   "cell_type": "code",
   "execution_count": 6,
   "id": "39025197-829c-4c9e-96cc-1c845f812e08",
   "metadata": {
    "tags": []
   },
   "outputs": [],
   "source": [
    "# Covariance is a measure that indicates the extent to which two random variables change in relation to each other. It\n",
    "# describes the direction of the linear relationship between two variables.\n",
    "\n",
    "# Positive Covariance: When one variable tends to have high values when the other has high values, and low values when the other has\n",
    "# low values, the covariance is positive.\n",
    "\n",
    "# Negative Covariance: If one variable tends to have high values when the other has low values and vice versa, the covariance is negative.\n",
    "\n",
    "# Importance in Statistical Analysis:\n",
    "\n",
    "# Covariance is crucial in statistical analysis for various reasons:\n",
    "\n",
    "# Relationship Assessment: It helps in understanding how two variables move concerning each other. For instance, in finance, it helps analyze\n",
    "# how the prices of two stocks move together.\n",
    "\n",
    "# Portfolio Diversification: In finance, understanding the covariance between different assets helps in constructing diversified portfolios.\n",
    "# Assets with low or negative covariance can reduce overall portfolio risk.\n",
    "\n",
    "# Linear Regression: Covariance is fundamental in linear regression analysis. The sign and magnitude of covariance between the predictor and\n",
    "# response variables determine the strength and direction of the relationship.\n",
    "\n",
    "# Calculation of Covariance:\n",
    "\n",
    "# The formula for calculating the covariance between two variables X and Y, given a dataset with 'n' observations, is:\n",
    "    \n",
    "#     Cov(X,Y)= ∑_n_i_1(((X_i − X_bar)*(Y_i − Y_bar))/n-1)\n",
    "    \n",
    "# Where:\n",
    "# X_i and Y_i are individual data points\n",
    "# X_bar and Y_bar are the means of X and Y, respectively\n",
    "\n",
    "# This formula computes the average of the product of the deviations of each pair of data points from their respective means. The division by \n",
    "# n−1 (sample size minus 1) is a correction for sample variability and makes the covariance an unbiased estimator of the population covariance.\n",
    "\n",
    "# However, the magnitude of the covariance is not easily interpretable, as it depends on the scales of the variables. Therefore, standardized\n",
    "# measures like correlation coefficient are often used to gauge the strength and direction of the relationship between variables."
   ]
  },
  {
   "cell_type": "code",
   "execution_count": 7,
   "id": "1945f24b-1bd6-452f-a3b4-57a2103818b4",
   "metadata": {
    "tags": []
   },
   "outputs": [],
   "source": [
    "##########################################################################\n",
    "#Ans 04:"
   ]
  },
  {
   "cell_type": "code",
   "execution_count": 8,
   "id": "e83d39a5-d007-4cce-be51-2f7666f37931",
   "metadata": {
    "tags": []
   },
   "outputs": [
    {
     "name": "stdout",
     "output_type": "stream",
     "text": [
      "   Color    Size Material  Color_encoded  Size_encoded  Material_encoded\n",
      "0    red   small     wood              2             2                 2\n",
      "1  green  medium    metal              1             1                 0\n",
      "2   blue   large  plastic              0             0                 1\n",
      "3  green   small     wood              1             2                 2\n",
      "4    red  medium  plastic              2             1                 1\n"
     ]
    }
   ],
   "source": [
    "from sklearn.preprocessing import LabelEncoder\n",
    "import pandas as pd\n",
    "\n",
    "# Sample data\n",
    "data = {\n",
    "    'Color': ['red', 'green', 'blue', 'green', 'red'],\n",
    "    'Size': ['small', 'medium', 'large', 'small', 'medium'],\n",
    "    'Material': ['wood', 'metal', 'plastic', 'wood', 'plastic']\n",
    "}\n",
    "\n",
    "# Create a DataFrame\n",
    "df = pd.DataFrame(data)\n",
    "\n",
    "# Initialize LabelEncoder\n",
    "label_encoder = LabelEncoder()\n",
    "\n",
    "# Apply LabelEncoder to each categorical column\n",
    "for col in df.columns:\n",
    "    if df[col].dtype == 'object':  # Check if column contains categorical data\n",
    "        df[col + '_encoded'] = label_encoder.fit_transform(df[col])\n",
    "\n",
    "# Display the encoded DataFrame\n",
    "print(df)"
   ]
  },
  {
   "cell_type": "code",
   "execution_count": 9,
   "id": "ae5552c0-154c-4097-a9cd-e67a51f840c5",
   "metadata": {
    "tags": []
   },
   "outputs": [],
   "source": [
    "# This code snippet performs label encoding using scikit-learn's LabelEncoder. Here's a breakdown:\n",
    "\n",
    "# 1. A sample dataset with three categorical columns (Color, Size, and Material) is created and converted into a Pandas DataFrame.\n",
    "# 2. The LabelEncoder object is initialized.\n",
    "# 3. The code iterates through each column in the DataFrame and checks if it contains categorical data. For such columns, it applies label\n",
    "#    encoding using fit_transform() method of LabelEncoder.\n",
    "# 4. Encoded versions of the categorical columns are added as new columns in the DataFrame with '_encoded' appended to their original names.\n",
    "# 5. The resulting DataFrame is displayed, showing both the original categorical columns and their respective encoded versions.\n",
    "\n",
    "# The output will be a DataFrame where the original categorical columns (Color, Size, Material) are preserved, and new columns ('Color_encoded',\n",
    "# 'Size_encoded', 'Material_encoded') are added, representing the label encoded versions of the original categorical data. Each unique category\n",
    "# in the original columns will be replaced with an integer label. For instance, 'red' might be replaced with 0, 'green' with 1, 'blue' with 2,\n",
    "# and so on for each categorical feature. The same encoding logic applies to the Size and Material columns as well."
   ]
  },
  {
   "cell_type": "code",
   "execution_count": 10,
   "id": "42741f8a-c514-468b-8f54-d34a0e94c5b7",
   "metadata": {
    "tags": []
   },
   "outputs": [],
   "source": [
    "##########################################################################\n",
    "#Ans 05:"
   ]
  },
  {
   "cell_type": "code",
   "execution_count": 11,
   "id": "f6a2f9db-f410-4b04-9f1f-6b6b674df782",
   "metadata": {
    "tags": []
   },
   "outputs": [
    {
     "name": "stdout",
     "output_type": "stream",
     "text": [
      "Covariance Matrix:\n",
      "[[3.530e+01 4.175e+04 1.180e+01]\n",
      " [4.175e+04 9.250e+07 2.175e+04]\n",
      " [1.180e+01 2.175e+04 5.800e+00]]\n"
     ]
    }
   ],
   "source": [
    "import numpy as np\n",
    "import pandas as pd\n",
    "\n",
    "# Sample data\n",
    "data = {\n",
    "    'Age': [30, 40, 25, 35, 28],\n",
    "    'Income': [50000, 60000, 45000, 70000, 55000],\n",
    "    'Education_Level': [14, 16, 12, 18, 13]\n",
    "}\n",
    "\n",
    "# Create a DataFrame\n",
    "df = pd.DataFrame(data)\n",
    "\n",
    "# Calculate the covariance matrix\n",
    "covariance_matrix = np.cov(df.T)\n",
    "\n",
    "# Display the covariance matrix\n",
    "print(\"Covariance Matrix:\")\n",
    "print(covariance_matrix)"
   ]
  },
  {
   "cell_type": "code",
   "execution_count": 12,
   "id": "d7db4774-9e18-468d-b6a1-944fa3fde5d1",
   "metadata": {
    "tags": []
   },
   "outputs": [],
   "source": [
    "# In this code:\n",
    "\n",
    "# 1. The sample data containing Age, Income, and Education Level is structured into a Pandas DataFrame.\n",
    "# 2. The numpy library's cov() function is applied to the transposed DataFrame (df.T) to calculate the covariance matrix.\n",
    "\n",
    "# The resulting output will display the covariance matrix, showing the pairwise covariances between Age, Income, and Education Level.\n",
    "# The matrix will be a 3x3 matrix, where each element represents the covariance between two variables. The diagonal elements will represent\n",
    "# the variances of each variable, and the off-diagonal elements will represent the covariances between pairs of variables.\n",
    "\n",
    "# Interpreting the covariance matrix involves considering the relationships between variables:\n",
    "\n",
    "# 1. Diagonal Elements: These represent the variances of individual variables. A higher value indicates higher variability in that variable.\n",
    "# For instance, a larger variance in Income implies more spread in income levels among individuals in the dataset.\n",
    "# 2. Off-diagonal Elements: These indicate the covariances between pairs of variables. A positive covariance indicates a positive relationship\n",
    "# between the variables (i.e., they tend to increase/decrease together), while a negative covariance suggests an inverse relationship. The\n",
    "# magnitude indicates the strength of the relationship.\n",
    "\n",
    "# However, interpreting the raw covariances might be challenging due to the differences in scales of the variables. For a clearer understanding\n",
    "# of the relationships, it's common to normalize the covariances using correlation coefficients, which standardize the scale to range between -1\n",
    "# and 1, facilitating easier comparison and interpretation."
   ]
  },
  {
   "cell_type": "code",
   "execution_count": 13,
   "id": "4d7e9cbb-157f-4c92-83eb-4e12643cc15e",
   "metadata": {
    "tags": []
   },
   "outputs": [],
   "source": [
    "##########################################################################\n",
    "#Ans 06:"
   ]
  },
  {
   "cell_type": "code",
   "execution_count": 14,
   "id": "e7695b4d-4505-4330-a78a-60b3079b51b6",
   "metadata": {
    "tags": []
   },
   "outputs": [
    {
     "name": "stdout",
     "output_type": "stream",
     "text": [
      "   Gender Education Level  Gender_encoded  Education_Level_encoded  \\\n",
      "0    Male     High School               1                        0   \n",
      "1  Female      Bachelor's               0                        1   \n",
      "2    Male        Master's               1                        2   \n",
      "3  Female             PhD               0                        3   \n",
      "\n",
      "   Employment_Status_Full-Time  Employment_Status_Part-Time  \\\n",
      "0                        False                        False   \n",
      "1                        False                         True   \n",
      "2                         True                        False   \n",
      "3                        False                         True   \n",
      "\n",
      "   Employment_Status_Unemployed  \n",
      "0                          True  \n",
      "1                         False  \n",
      "2                         False  \n",
      "3                         False  \n"
     ]
    }
   ],
   "source": [
    "import pandas as pd\n",
    "from sklearn.preprocessing import LabelEncoder\n",
    "\n",
    "# Sample data\n",
    "data = {\n",
    "    'Gender': ['Male', 'Female', 'Male', 'Female'],\n",
    "    'Education Level': ['High School', \"Bachelor's\", \"Master's\", 'PhD'],\n",
    "    'Employment Status': ['Unemployed', 'Part-Time', 'Full-Time', 'Part-Time']\n",
    "}\n",
    "\n",
    "# Create a DataFrame\n",
    "df = pd.DataFrame(data)\n",
    "\n",
    "# Initialize encoders\n",
    "label_encoder = LabelEncoder()\n",
    "\n",
    "# Perform encoding for each variable\n",
    "# Gender - Label Encoding\n",
    "df['Gender_encoded'] = label_encoder.fit_transform(df['Gender'])\n",
    "\n",
    "# Education Level - Ordinal Encoding\n",
    "education_mapping = {\n",
    "    'High School': 0,\n",
    "    \"Bachelor's\": 1,\n",
    "    \"Master's\": 2,\n",
    "    'PhD': 3\n",
    "}\n",
    "df['Education_Level_encoded'] = df['Education Level'].map(education_mapping)\n",
    "\n",
    "# Employment Status - One-Hot Encoding\n",
    "df = pd.get_dummies(df, columns=['Employment Status'], prefix='Employment_Status')\n",
    "\n",
    "# Display the encoded DataFrame\n",
    "print(df)"
   ]
  },
  {
   "cell_type": "code",
   "execution_count": 15,
   "id": "674e21ce-7b83-416c-8cd7-cc40d12fa6e2",
   "metadata": {
    "tags": []
   },
   "outputs": [],
   "source": [
    "##########################################################################\n",
    "#Ans 07:"
   ]
  },
  {
   "cell_type": "code",
   "execution_count": 16,
   "id": "381ee49f-c7ae-4da6-8473-6b87603e1dc1",
   "metadata": {
    "tags": []
   },
   "outputs": [
    {
     "name": "stdout",
     "output_type": "stream",
     "text": [
      "Covariance Matrix:\n",
      "[[  9.2  -22.5   -1.7    3.4 ]\n",
      " [-22.5   62.5    3.75  -8.75]\n",
      " [ -1.7    3.75   0.7   -0.65]\n",
      " [  3.4   -8.75  -0.65   1.3 ]]\n"
     ]
    }
   ],
   "source": [
    "import pandas as pd\n",
    "import numpy as np\n",
    "from sklearn.preprocessing import LabelEncoder\n",
    "\n",
    "# Sample data\n",
    "data = {\n",
    "    'Temperature': [25, 28, 22, 30, 26],\n",
    "    'Humidity': [60, 55, 70, 50, 65],\n",
    "    'Weather Condition': ['Sunny', 'Cloudy', 'Rainy', 'Cloudy', 'Rainy'],\n",
    "    'Wind Direction': ['North', 'South', 'East', 'West', 'North']\n",
    "}\n",
    "\n",
    "# Create a DataFrame\n",
    "df = pd.DataFrame(data)\n",
    "\n",
    "# Initialize encoders\n",
    "label_encoder = LabelEncoder()\n",
    "\n",
    "# Perform label encoding for categorical variables\n",
    "df['Weather Condition Encoded'] = label_encoder.fit_transform(df['Weather Condition'])\n",
    "df['Wind Direction Encoded'] = label_encoder.fit_transform(df['Wind Direction'])\n",
    "\n",
    "# Calculate the covariance matrix\n",
    "covariance_matrix = np.cov(df[['Temperature', 'Humidity', 'Weather Condition Encoded', 'Wind Direction Encoded']].T)\n",
    "\n",
    "# Display the covariance matrix\n",
    "print(\"Covariance Matrix:\")\n",
    "print(covariance_matrix)"
   ]
  },
  {
   "cell_type": "code",
   "execution_count": 17,
   "id": "ce77cc87-a772-4ea9-b1fe-c23d5100031f",
   "metadata": {
    "tags": []
   },
   "outputs": [],
   "source": [
    "##########################################################################"
   ]
  }
 ],
 "metadata": {
  "kernelspec": {
   "display_name": "Python 3 (ipykernel)",
   "language": "python",
   "name": "python3"
  },
  "language_info": {
   "codemirror_mode": {
    "name": "ipython",
    "version": 3
   },
   "file_extension": ".py",
   "mimetype": "text/x-python",
   "name": "python",
   "nbconvert_exporter": "python",
   "pygments_lexer": "ipython3",
   "version": "3.11.5"
  }
 },
 "nbformat": 4,
 "nbformat_minor": 5
}
