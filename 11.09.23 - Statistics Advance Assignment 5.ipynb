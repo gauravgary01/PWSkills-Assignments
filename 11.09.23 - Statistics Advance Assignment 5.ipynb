{
 "cells": [
  {
   "cell_type": "code",
   "execution_count": 1,
   "id": "625a983e-dddb-464c-91fa-c7c14a16eb28",
   "metadata": {
    "tags": []
   },
   "outputs": [],
   "source": [
    "#Ans 01:"
   ]
  },
  {
   "cell_type": "code",
   "execution_count": 2,
   "id": "f31c8da9-dd5c-409c-a280-c319688f1beb",
   "metadata": {
    "tags": []
   },
   "outputs": [],
   "source": [
    "# To calculate a 95% confidence interval for a sample of data with a mean of 50 and a standard deviation of 5\n",
    "# using Python, you can use the formula for a confidence interval for the population mean (μ):\n",
    "    \n",
    "#     Confidence Interval= X_bar ± Z(σ/(n**.5))"
   ]
  },
  {
   "cell_type": "code",
   "execution_count": 3,
   "id": "3685e96b-14dd-4e2f-89a0-f80a76cf723c",
   "metadata": {
    "tags": []
   },
   "outputs": [],
   "source": [
    "import scipy.stats as stat"
   ]
  },
  {
   "cell_type": "code",
   "execution_count": 4,
   "id": "612fa72f-f42b-4470-aa6f-b0477ce1fc44",
   "metadata": {
    "tags": []
   },
   "outputs": [
    {
     "name": "stdout",
     "output_type": "stream",
     "text": [
      "95% Confidence Interval: (49.02001800772997, 50.97998199227003)\n"
     ]
    }
   ],
   "source": [
    "X_bar = 50\n",
    "sigma = 5\n",
    "n = 100 #Assumed\n",
    "confidence_level = 0.95\n",
    "alpha = 1 - confidence_level\n",
    "\n",
    "z_critical = stat.norm.ppf(1 - alpha / 2)\n",
    "\n",
    "standard_error = sigma / (n ** 0.5)\n",
    "\n",
    "MoE = z_critical * standard_error\n",
    "\n",
    "lower_bound = X_bar - MoE\n",
    "upper_bound = X_bar + MoE\n",
    "\n",
    "print(\"95% Confidence Interval:\", (lower_bound, upper_bound))"
   ]
  },
  {
   "cell_type": "code",
   "execution_count": 5,
   "id": "62bff38c-c54a-456a-ab95-36cee47a4bc4",
   "metadata": {
    "tags": []
   },
   "outputs": [],
   "source": [
    "############################################################################################\n",
    "#Ans 02:"
   ]
  },
  {
   "cell_type": "code",
   "execution_count": 6,
   "id": "812ab7eb-c9d7-414b-a7a8-7e8c23430e75",
   "metadata": {
    "tags": []
   },
   "outputs": [
    {
     "name": "stdout",
     "output_type": "stream",
     "text": [
      "Chi-square statistic: 5.833333333333334\n",
      "p-value: 0.05411376622282158\n",
      "Fail to reject the null hypothesis. There is no significant association between the groups and outcomes.\n"
     ]
    },
    {
     "data": {
      "text/plain": [
       "array([[20, 10, 15],\n",
       "       [15, 25, 20]])"
      ]
     },
     "execution_count": 6,
     "metadata": {},
     "output_type": "execute_result"
    }
   ],
   "source": [
    "import numpy as np\n",
    "from scipy.stats import chi2_contingency\n",
    "\n",
    "# Data\n",
    "group_a = np.array([20, 10, 15])\n",
    "group_b = np.array([15, 25, 20])\n",
    "\n",
    "# Create a contingency tablea\n",
    "contingency_table = np.array([group_a, group_b])\n",
    "\n",
    "# Perform the chi-square test\n",
    "chi2, p, _, _ = chi2_contingency(contingency_table)\n",
    "\n",
    "# Significance level\n",
    "alpha = 0.05\n",
    "\n",
    "# Interpret the results\n",
    "print(\"Chi-square statistic:\", chi2)\n",
    "print(\"p-value:\", p)\n",
    "\n",
    "# Check if the p-value is less than the significance level\n",
    "if p < alpha:\n",
    "    print(\"Reject the null hypothesis. There is a significant association between the groups and outcomes.\")\n",
    "else:\n",
    "    print(\"Fail to reject the null hypothesis. There is no significant association between the groups and outcomes.\")\n",
    "chi2_contingency(contingency_table)\n",
    "contingency_table"
   ]
  },
  {
   "cell_type": "code",
   "execution_count": 7,
   "id": "186fbcb1-269f-44d3-b00a-39b264db78c1",
   "metadata": {
    "tags": []
   },
   "outputs": [],
   "source": [
    "############################################################################################\n",
    "#Ans 03:"
   ]
  },
  {
   "cell_type": "code",
   "execution_count": 8,
   "id": "a3c082e9-0e57-4dc0-85e0-da6be13935b9",
   "metadata": {
    "tags": []
   },
   "outputs": [
    {
     "name": "stdout",
     "output_type": "stream",
     "text": [
      "Fail to reject the null hypothesis. The distribution of colors in the bag matches the expected distribution.\n",
      "Chi-square statistic: 2.5\n",
      "critical value: 11.070497693516351\n"
     ]
    }
   ],
   "source": [
    "import numpy as np\n",
    "from scipy.stats import chi2_contingency\n",
    "\n",
    "# Observed frequencies (counts of each color)\n",
    "observed_frequencies = np.array([20, 15, 22, 11, 13, 19])  # These values should represent the counts of each color in your sample\n",
    "\n",
    "# Expected frequencies (expected proportions multiplied by the total count)\n",
    "expected_proportions = np.array([0.20, 0.20, 0.20, 0.10, 0.10, 0.20])\n",
    "total_count = sum(observed_frequencies)\n",
    "expected_frequencies = expected_proportions * total_count\n",
    "\n",
    "chisquare_test_statistic, p_value = stat.chisquare(observed_frequencies,expected_frequencies)\n",
    "\n",
    "# Significance level\n",
    "alpha = 0.05\n",
    "dof = len(expected_frequencies)-1\n",
    "critical_val = stat.chi2.ppf(1-alpha, dof)\n",
    "\n",
    "\n",
    "if chisquare_test_statistic > critical_val:\n",
    "    print(\"Reject the null hypothesis. The distribution of colors in the bag does not match the expected distribution.\")\n",
    "else:\n",
    "    print(\"Fail to reject the null hypothesis. The distribution of colors in the bag matches the expected distribution.\")\n",
    "\n",
    "print(\"Chi-square statistic:\", chisquare_test_statistic)\n",
    "print(\"critical value:\", critical_val)"
   ]
  },
  {
   "cell_type": "code",
   "execution_count": 9,
   "id": "a9506844-5580-4c1d-bcd1-d35d684135b7",
   "metadata": {
    "tags": []
   },
   "outputs": [],
   "source": [
    "############################################################################################\n",
    "#Ans 04:"
   ]
  },
  {
   "cell_type": "code",
   "execution_count": 10,
   "id": "2b7ea674-624f-486d-b4b8-c68bb1a56177",
   "metadata": {
    "tags": []
   },
   "outputs": [
    {
     "name": "stdout",
     "output_type": "stream",
     "text": [
      "95% Confidence Interval: (0.0915, 0.1485)\n"
     ]
    }
   ],
   "source": [
    "import statsmodels.api as sm\n",
    "\n",
    "# Sample size\n",
    "n = 500\n",
    "\n",
    "# Number of individuals who smoke\n",
    "x = 60\n",
    "\n",
    "# Calculate the confidence interval\n",
    "conf_interval = sm.stats.proportion_confint(x, n, alpha=0.05, method='normal')\n",
    "\n",
    "# Print the confidence interval\n",
    "print(f\"95% Confidence Interval: ({conf_interval[0]:.4f}, {conf_interval[1]:.4f})\")"
   ]
  },
  {
   "cell_type": "code",
   "execution_count": 11,
   "id": "bbc01f9d-b441-4d69-9382-43196b0f27c9",
   "metadata": {
    "tags": []
   },
   "outputs": [],
   "source": [
    "############################################################################################\n",
    "#Ans 05:"
   ]
  },
  {
   "cell_type": "code",
   "execution_count": 12,
   "id": "5f063985-1965-4216-b320-6b2af2e3a6e0",
   "metadata": {
    "tags": []
   },
   "outputs": [
    {
     "name": "stdout",
     "output_type": "stream",
     "text": [
      "95% Confidence Interval: (74.98335761411879, 75.01664238588121)\n"
     ]
    }
   ],
   "source": [
    "cl = 0.90\n",
    "n = 500 #assumed\n",
    "x_bar = 75\n",
    "sstd = 12\n",
    "alpha = 1 - cl\n",
    "\n",
    "z_critical = stat.norm.ppf(1-alpha/2)\n",
    "\n",
    "standard_error = ((p * (1-p))/n)** 0.5\n",
    "\n",
    "moe = z_critical * standard_error\n",
    "\n",
    "lower_bound= x_bar - abs(moe)\n",
    "upper_bound= x_bar + abs(moe)\n",
    "\n",
    "print(\"95% Confidence Interval:\", (lower_bound, upper_bound))"
   ]
  },
  {
   "cell_type": "code",
   "execution_count": 13,
   "id": "e6539df5-3231-49a1-97d9-6d92b443bf15",
   "metadata": {
    "tags": []
   },
   "outputs": [],
   "source": [
    "############################################################################################\n",
    "#Ans 06:"
   ]
  },
  {
   "cell_type": "code",
   "execution_count": 14,
   "id": "305e096e-1a64-4b10-b6e8-42dd10be5f27",
   "metadata": {
    "tags": []
   },
   "outputs": [
    {
     "data": {
      "image/png": "[encoded data removed]",
      "text/plain": [
       "<Figure size 640x480 with 1 Axes>"
      ]
     },
     "metadata": {},
     "output_type": "display_data"
    }
   ],
   "source": [
    "import numpy as np\n",
    "import matplotlib.pyplot as plt\n",
    "import scipy.stats as stats\n",
    "\n",
    "# Degrees of freedom\n",
    "df = 10\n",
    "\n",
    "# Generate values for the x-axis\n",
    "x = np.linspace(0, 30, 1000)\n",
    "\n",
    "# Plot the chi-square distribution\n",
    "plt.plot(x, stats.chi2.pdf(x, df), label=f'Chi-square Distribution (df={df})')\n",
    "\n",
    "# Shade the area corresponding to a chi-square statistic of 15\n",
    "x_shaded = np.linspace(0, 15, 100)\n",
    "plt.fill_between(x_shaded, stats.chi2.pdf(x_shaded, df), color='orange', alpha=0.5, label='Area for Chi-square = 15')\n",
    "\n",
    "# Label the axes and add a legend\n",
    "plt.title('Chi-square Distribution with Shaded Area')\n",
    "plt.xlabel('Chi-square Statistic')\n",
    "plt.ylabel('Probability Density Function')\n",
    "plt.legend()\n",
    "\n",
    "# Show the plot\n",
    "plt.show()"
   ]
  },
  {
   "cell_type": "code",
   "execution_count": 15,
   "id": "24186f0b-d088-4b45-85e2-ec4f31657553",
   "metadata": {
    "tags": []
   },
   "outputs": [],
   "source": [
    "############################################################################################\n",
    "#Ans 07:"
   ]
  },
  {
   "cell_type": "code",
   "execution_count": 16,
   "id": "2b7b6910-18a6-43b1-a1ca-e98d93e7d0b5",
   "metadata": {
    "tags": []
   },
   "outputs": [
    {
     "name": "stdout",
     "output_type": "stream",
     "text": [
      "99% Confidence Interval: (0.4793, 0.5607)\n"
     ]
    }
   ],
   "source": [
    "import statsmodels.api as sm\n",
    "\n",
    "# Sample size\n",
    "n = 1000\n",
    "\n",
    "# Number of individuals who smoke\n",
    "x = 520\n",
    "\n",
    "# Calculate the confidence interval\n",
    "conf_interval = sm.stats.proportion_confint(x, n, alpha=0.01, method='normal')\n",
    "\n",
    "# Print the confidence interval\n",
    "print(f\"99% Confidence Interval: ({conf_interval[0]:.4f}, {conf_interval[1]:.4f})\")"
   ]
  },
  {
   "cell_type": "code",
   "execution_count": 17,
   "id": "d8e78b96-cfdc-481a-a278-9cf1c2014664",
   "metadata": {
    "tags": []
   },
   "outputs": [],
   "source": [
    "############################################################################################\n",
    "#Ans 08:"
   ]
  },
  {
   "cell_type": "code",
   "execution_count": 18,
   "id": "91bc8cff-cb8d-48f1-9678-62f1505bb474",
   "metadata": {
    "tags": []
   },
   "outputs": [
    {
     "name": "stdout",
     "output_type": "stream",
     "text": [
      "Chi-square statistic: 1.0\n",
      "p-value: 0.31731050786291115\n",
      "Fail to reject the null hypothesis. There is no significant evidence that the coin is biased towards tails.\n"
     ]
    }
   ],
   "source": [
    "import numpy as np\n",
    "from scipy.stats import chisquare\n",
    "\n",
    "# Observed frequencies\n",
    "observed_tails = 45\n",
    "observed_heads = 100 - observed_tails\n",
    "observed_frequencies = np.array([observed_heads, observed_tails])\n",
    "\n",
    "# Expected frequencies for a fair coin\n",
    "expected_frequencies = np.array([50, 50])\n",
    "\n",
    "# Perform the chi-square goodness-of-fit test\n",
    "chi2_stat, p_value = chisquare(observed_frequencies, expected_frequencies)\n",
    "\n",
    "# Significance level\n",
    "alpha = 0.05\n",
    "\n",
    "# Print the results\n",
    "print(\"Chi-square statistic:\", chi2_stat)\n",
    "print(\"p-value:\", p_value)\n",
    "\n",
    "# Check if the p-value is less than the significance level\n",
    "if p_value < alpha:\n",
    "    print(\"Reject the null hypothesis. The coin may be biased towards tails.\")\n",
    "else:\n",
    "    print(\"Fail to reject the null hypothesis. There is no significant evidence that the coin is biased towards tails.\")"
   ]
  },
  {
   "cell_type": "code",
   "execution_count": 19,
   "id": "32bb5207-13d6-4784-95cd-51352c26ebbf",
   "metadata": {
    "tags": []
   },
   "outputs": [],
   "source": [
    "############################################################################################\n",
    "#Ans 09:"
   ]
  },
  {
   "cell_type": "code",
   "execution_count": 20,
   "id": "72425e4b-b5cf-4882-867d-5c0cd42d88b5",
   "metadata": {
    "tags": []
   },
   "outputs": [
    {
     "name": "stdout",
     "output_type": "stream",
     "text": [
      "Chi-square statistic: 12.057347670250895\n",
      "p-value: 0.0005158863863703744\n",
      "Degrees of freedom: 1\n",
      "Expected frequencies:\n",
      "[[ 45.  45.]\n",
      " [155. 155.]]\n",
      "Reject the null hypothesis. There is a significant association between smoking status and lung cancer diagnosis.\n"
     ]
    }
   ],
   "source": [
    "import numpy as np\n",
    "from scipy.stats import chi2_contingency\n",
    "\n",
    "# Contingency table\n",
    "observed_data = np.array([[60, 30], [140, 170]])\n",
    "\n",
    "# Perform the chi-square test for independence\n",
    "chi2_stat, p_value, dof, expected = chi2_contingency(observed_data)\n",
    "\n",
    "# Significance level\n",
    "alpha = 0.05\n",
    "\n",
    "# Print the results\n",
    "print(\"Chi-square statistic:\", chi2_stat)\n",
    "print(\"p-value:\", p_value)\n",
    "print(\"Degrees of freedom:\", dof)\n",
    "print(\"Expected frequencies:\")\n",
    "print(expected)\n",
    "\n",
    "# Check if the p-value is less than the significance level\n",
    "if p_value < alpha:\n",
    "    print(\"Reject the null hypothesis. There is a significant association between smoking status and lung cancer diagnosis.\")\n",
    "else:\n",
    "    print(\"Fail to reject the null hypothesis. There is no significant association between smoking status and lung cancer diagnosis.\")"
   ]
  },
  {
   "cell_type": "code",
   "execution_count": 21,
   "id": "70e8a9b5-404f-4864-b396-00121591a3f4",
   "metadata": {
    "tags": []
   },
   "outputs": [],
   "source": [
    "############################################################################################\n",
    "#Ans 10:"
   ]
  },
  {
   "cell_type": "code",
   "execution_count": 22,
   "id": "e1761070-230e-4698-83d8-cea801196a55",
   "metadata": {
    "tags": []
   },
   "outputs": [
    {
     "name": "stdout",
     "output_type": "stream",
     "text": [
      "Chi-square statistic: 13.393665158371041\n",
      "p-value: 0.0012348168997745918\n",
      "Reject the null hypothesis. There is a significant association between the groups and outcomes.\n"
     ]
    },
    {
     "data": {
      "text/plain": [
       "array([[200, 150, 150],\n",
       "       [225, 175, 100]])"
      ]
     },
     "execution_count": 22,
     "metadata": {},
     "output_type": "execute_result"
    }
   ],
   "source": [
    "import numpy as np\n",
    "from scipy.stats import chi2_contingency\n",
    "\n",
    "# Data\n",
    "group_US = np.array([200, 150, 150])\n",
    "group_UK = np.array([225, 175, 100])\n",
    "\n",
    "# Create a contingency tablea\n",
    "contingency_table = np.array([group_US, group_UK])\n",
    "\n",
    "# Perform the chi-square test\n",
    "chi2, p, _, _ = chi2_contingency(contingency_table)\n",
    "\n",
    "# Significance level\n",
    "alpha = 0.05\n",
    "\n",
    "# Interpret the results\n",
    "print(\"Chi-square statistic:\", chi2)\n",
    "print(\"p-value:\", p)\n",
    "\n",
    "# Check if the p-value is less than the significance level\n",
    "if p < alpha:\n",
    "    print(\"Reject the null hypothesis. There is a significant association between the groups and outcomes.\")\n",
    "else:\n",
    "    print(\"Fail to reject the null hypothesis. There is no significant association between the groups and outcomes.\")\n",
    "chi2_contingency(contingency_table)\n",
    "contingency_table"
   ]
  },
  {
   "cell_type": "code",
   "execution_count": 23,
   "id": "ff1ce8fc-b822-489d-8eb7-6739f3e88fd6",
   "metadata": {
    "tags": []
   },
   "outputs": [],
   "source": [
    "############################################################################################\n",
    "#Ans 11:"
   ]
  },
  {
   "cell_type": "code",
   "execution_count": 24,
   "id": "57f72ee7-ba3b-4917-8504-4bb5310e6760",
   "metadata": {
    "tags": []
   },
   "outputs": [
    {
     "name": "stdout",
     "output_type": "stream",
     "text": [
      "t-statistic: 1.136240559700008\n",
      "p-value: 0.26515867616995237\n",
      "Fail to reject the null hypothesis. There is no significant difference between the sample mean and the hypothesized population mean.\n"
     ]
    }
   ],
   "source": [
    "import numpy as np\n",
    "from scipy.stats import ttest_1samp\n",
    "\n",
    "# Sample information\n",
    "sample_mean = 72\n",
    "sample_std_dev = 10\n",
    "sample_size = 30\n",
    "population_mean_hypothesized = 70\n",
    "\n",
    "# Perform a one-sample t-test\n",
    "t_statistic, p_value = ttest_1samp(np.random.normal(sample_mean, sample_std_dev, sample_size), population_mean_hypothesized)\n",
    "\n",
    "# Significance level\n",
    "alpha = 0.05\n",
    "\n",
    "# Print the results\n",
    "print(\"t-statistic:\", t_statistic)\n",
    "print(\"p-value:\", p_value)\n",
    "\n",
    "# Check if the p-value is less than the significance level\n",
    "if p_value < alpha:\n",
    "    print(\"Reject the null hypothesis. There is a significant difference between the sample mean and the hypothesized population mean.\")\n",
    "else:\n",
    "    print(\"Fail to reject the null hypothesis. There is no significant difference between the sample mean and the hypothesized population mean.\")"
   ]
  },
  {
   "cell_type": "code",
   "execution_count": 25,
   "id": "6c49c822-0b66-44a1-a572-78bfc7dff191",
   "metadata": {
    "tags": []
   },
   "outputs": [],
   "source": [
    "############################################################################################"
   ]
  }
 ],
 "metadata": {
  "kernelspec": {
   "display_name": "Python 3 (ipykernel)",
   "language": "python",
   "name": "python3"
  },
  "language_info": {
   "codemirror_mode": {
    "name": "ipython",
    "version": 3
   },
   "file_extension": ".py",
   "mimetype": "text/x-python",
   "name": "python",
   "nbconvert_exporter": "python",
   "pygments_lexer": "ipython3",
   "version": "3.11.5"
  }
 },
 "nbformat": 4,
 "nbformat_minor": 5
}
