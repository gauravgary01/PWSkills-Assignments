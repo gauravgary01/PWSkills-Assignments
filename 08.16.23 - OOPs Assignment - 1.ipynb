{
 "cells": [
  {
   "cell_type": "code",
   "execution_count": 1,
   "id": "62b7ffe7-aaaa-4084-806c-86857f7e1828",
   "metadata": {},
   "outputs": [],
   "source": [
    "# Ans 01:"
   ]
  },
  {
   "cell_type": "code",
   "execution_count": 2,
   "id": "ca6f3f54-f3fd-48ef-baa0-a026a955fe8a",
   "metadata": {},
   "outputs": [],
   "source": [
    "# In object-oriented programming (OOP), a class and an object are fundamental concepts that help organize and structure code,\n",
    "# allowing us to create reusable and modular software components."
   ]
  },
  {
   "cell_type": "code",
   "execution_count": 3,
   "id": "e53f633d-822c-48ed-a7a5-797e90e81e0a",
   "metadata": {},
   "outputs": [],
   "source": [
    "# Class:\n",
    "# A class is a blueprint or template for creating objects. It defines the attributes (also known as properties or fields) and methods (functions)\n",
    "# that the objects of that class will have. A class acts as a prototype that specifies the structure and behavior of its objects."
   ]
  },
  {
   "cell_type": "code",
   "execution_count": 4,
   "id": "130ee754-2240-4a1c-9e28-6f98b99a274d",
   "metadata": {},
   "outputs": [],
   "source": [
    "#Object:\n",
    "# An object is an instance of a class. It is a concrete realization of the class blueprint, with its own unique data and state.\n",
    "# Objects can have attributes with specific values and can invoke methods defined in their class to perform actions."
   ]
  },
  {
   "cell_type": "code",
   "execution_count": 5,
   "id": "ec840a2e-a1c7-4c29-acbd-c01234fe8ce4",
   "metadata": {},
   "outputs": [],
   "source": [
    "#For example: A recipe is like a class and the cakes bakes by using it are like its objects."
   ]
  },
  {
   "cell_type": "code",
   "execution_count": 6,
   "id": "aa2691b7-5b26-48f1-a7af-b0782f63092f",
   "metadata": {},
   "outputs": [],
   "source": [
    "class Dog:\n",
    "    def __init__(self, name, age):\n",
    "        self.name = name\n",
    "        self.age = age\n",
    "\n",
    "    def bark(self):\n",
    "        print(f\"{self.name} says: Woof woof!\")"
   ]
  },
  {
   "cell_type": "code",
   "execution_count": 7,
   "id": "5800044c-8579-4ff5-9c69-6930accc0f6f",
   "metadata": {},
   "outputs": [],
   "source": [
    "# Creating instances (objects) of the Dog class\n",
    "dog1 = Dog(\"Buddy\", 3)\n",
    "dog2 = Dog(\"Max\", 5)"
   ]
  },
  {
   "cell_type": "code",
   "execution_count": 8,
   "id": "414851ac-c0be-4c28-8ece-115687062a29",
   "metadata": {},
   "outputs": [
    {
     "name": "stdout",
     "output_type": "stream",
     "text": [
      "Buddy is 3 years old.\n",
      "Buddy says: Woof woof!\n"
     ]
    }
   ],
   "source": [
    "# Accessing attributes and invoking methods of objects\n",
    "print(f\"{dog1.name} is {dog1.age} years old.\")\n",
    "dog1.bark()"
   ]
  },
  {
   "cell_type": "code",
   "execution_count": 9,
   "id": "5fbde429-4b9a-4f97-ba43-7d60e2cb084f",
   "metadata": {},
   "outputs": [
    {
     "name": "stdout",
     "output_type": "stream",
     "text": [
      "Max is 5 years old.\n",
      "Max says: Woof woof!\n"
     ]
    }
   ],
   "source": [
    "print(f\"{dog2.name} is {dog2.age} years old.\")\n",
    "dog2.bark()"
   ]
  },
  {
   "cell_type": "code",
   "execution_count": 10,
   "id": "0a966960-e189-464d-a541-09b0999850b2",
   "metadata": {},
   "outputs": [],
   "source": [
    "########################################################################################################"
   ]
  },
  {
   "cell_type": "code",
   "execution_count": 11,
   "id": "9275cccd-d413-45e5-af84-e88762e51269",
   "metadata": {},
   "outputs": [],
   "source": [
    "# Ans 02:"
   ]
  },
  {
   "cell_type": "code",
   "execution_count": 12,
   "id": "dd39144a-3fb5-4603-9589-4cf30bc673ad",
   "metadata": {},
   "outputs": [],
   "source": [
    "# The four pillars of object-oriented programming (OOP) are:\n",
    "\n",
    "# Encapsulation: Encapsulation refers to the concept of bundling data (attributes) and methods (functions) that operate on the data into a single unit,\n",
    "# known as a class. Encapsulation helps in hiding the internal details of an object and exposing only the necessary interfaces to interact with it.\n",
    "# This promotes data protection, control, and modular design.\n",
    "\n",
    "# Abstraction: Abstraction involves simplifying complex reality by modeling classes based on real-world entities. It focuses on defining the essential\n",
    "# features and behaviors of an object while hiding unnecessary details. Abstraction allows you to create generalized models that can be used to create\n",
    "# specific objects with common characteristics.\n",
    "\n",
    "# Inheritance: Inheritance enables a class (subclass or derived class) to inherit attributes and methods from another class (superclass or base class).\n",
    "# It promotes code reuse and the creation of a hierarchy of related classes. Subclasses can extend or override the behaviors inherited from their superclass,\n",
    "# leading to more specialized and specific classes.\n",
    "\n",
    "# Polymorphism: Polymorphism allows objects of different classes to be treated as objects of a common superclass. It enables you to use a single interface to\n",
    "# represent different types of objects. Polymorphism is achieved through method overriding and method overloading. Method overriding lets subclasses provide\n",
    "# specific implementations for methods defined in the superclass, while method overloading allows multiple methods with the same name but different parameter\n",
    "# lists to be defined in a class."
   ]
  },
  {
   "cell_type": "code",
   "execution_count": 13,
   "id": "fda148b8-4f84-4d36-90a6-1f692ccff787",
   "metadata": {},
   "outputs": [],
   "source": [
    "########################################################################################################"
   ]
  },
  {
   "cell_type": "code",
   "execution_count": 14,
   "id": "3fc9751e-8703-45b9-ac5c-c050a292d40c",
   "metadata": {},
   "outputs": [],
   "source": [
    "# Ans 03: "
   ]
  },
  {
   "cell_type": "code",
   "execution_count": 15,
   "id": "738b5a03-d16d-4469-bba3-87b90883ad88",
   "metadata": {},
   "outputs": [],
   "source": [
    "# The __init__() function is a special method in Python that is automatically called when an object of a class is created. It serves as a constructor and is\n",
    "# used to initialize the attributes (properties or fields) of the object. The primary purpose of the __init__() function is to ensure that the object starts\n",
    "# in a valid and consistent state by setting initial values for its attributes."
   ]
  },
  {
   "cell_type": "code",
   "execution_count": 16,
   "id": "52f2ddef-bfe0-4b23-94ba-115e2fa381c8",
   "metadata": {},
   "outputs": [],
   "source": [
    "class Student:\n",
    "    def __init__(self, name, age, grade):\n",
    "        self.name = name\n",
    "        self.age = age\n",
    "        self.grade = grade\n",
    "\n",
    "    def display_info(self):\n",
    "        print(f\"Name: {self.name}\")\n",
    "        print(f\"Age: {self.age}\")\n",
    "        print(f\"Grade: {self.grade}\")"
   ]
  },
  {
   "cell_type": "code",
   "execution_count": 17,
   "id": "ac0aa5b5-7780-4fc7-a796-57fac8feef0c",
   "metadata": {},
   "outputs": [],
   "source": [
    "student1 = Student(\"Alice\", 16, \"10th\")\n",
    "student2 = Student(\"Bob\", 17, \"11th\")"
   ]
  },
  {
   "cell_type": "code",
   "execution_count": 18,
   "id": "55a1ab86-a573-4528-b778-a3b8ca1499ef",
   "metadata": {},
   "outputs": [
    {
     "name": "stdout",
     "output_type": "stream",
     "text": [
      "Student 1:\n",
      "Name: Alice\n",
      "Age: 16\n",
      "Grade: 10th\n",
      "\n",
      "Student 2:\n",
      "Name: Bob\n",
      "Age: 17\n",
      "Grade: 11th\n"
     ]
    }
   ],
   "source": [
    "print(\"Student 1:\")\n",
    "student1.display_info()\n",
    "\n",
    "print(\"\\nStudent 2:\")\n",
    "student2.display_info()"
   ]
  },
  {
   "cell_type": "code",
   "execution_count": 19,
   "id": "ead0c1b6-b6b6-45fc-9e5d-3298f6c463d1",
   "metadata": {},
   "outputs": [],
   "source": [
    "########################################################################################################"
   ]
  },
  {
   "cell_type": "code",
   "execution_count": 20,
   "id": "303cfb10-3e1c-431c-b3ff-1b01bd0a1765",
   "metadata": {},
   "outputs": [],
   "source": [
    "# Ans 04:"
   ]
  },
  {
   "cell_type": "code",
   "execution_count": 21,
   "id": "06fc6569-bb27-4b9c-8eb0-93c6676a38b7",
   "metadata": {},
   "outputs": [],
   "source": [
    "# In object-oriented programming (OOP) in Python, the self parameter is used to refer to the instance of the class within its methods. It is a convention and\n",
    "# not a keyword, but it's widely followed and recommended in Python classes. The self parameter allows you to access the attributes and methods of the instance\n",
    "# within the class methods."
   ]
  },
  {
   "cell_type": "code",
   "execution_count": 22,
   "id": "b32230f8-ade8-4a2c-8a46-975d4ce755ca",
   "metadata": {},
   "outputs": [],
   "source": [
    "########################################################################################################"
   ]
  },
  {
   "cell_type": "code",
   "execution_count": 23,
   "id": "37bb5f52-15c7-4116-b744-7b60624146a9",
   "metadata": {},
   "outputs": [],
   "source": [
    "# Ans 05:"
   ]
  },
  {
   "cell_type": "code",
   "execution_count": 24,
   "id": "17b2910b-4350-45c2-95bb-c6b4c3c73953",
   "metadata": {},
   "outputs": [],
   "source": [
    "# Inheritance is a fundamental concept in object-oriented programming (OOP) that allows a new class to inherit attributes and methods from an existing class.\n",
    "# The existing class is referred to as the \"base class\", \"parent class\" or \"superclass\" and the new class is referred to as the \"derived class\", \"subclass\"\n",
    "# or \"child class\". Inheritance enables code reuse, the creation of hierarchies, and the extension of existing classes."
   ]
  },
  {
   "cell_type": "code",
   "execution_count": 25,
   "id": "08d52b95-fa8f-48ba-b7d5-ce3f8d9deb31",
   "metadata": {},
   "outputs": [],
   "source": [
    "# Single Inheritance:\n",
    "# Single inheritance involves a subclass inheriting from a single parent class. The subclass inherits all the attributes and methods of the parent class."
   ]
  },
  {
   "cell_type": "code",
   "execution_count": 26,
   "id": "42808443-bd4b-4482-8da4-6ae3b9e6eaec",
   "metadata": {},
   "outputs": [],
   "source": [
    "class Animal:\n",
    "    def speak(self):\n",
    "        print(\"Generic animal sound\")"
   ]
  },
  {
   "cell_type": "code",
   "execution_count": 27,
   "id": "2ef74dac-7d23-4a60-9d3d-6d65899193a4",
   "metadata": {},
   "outputs": [],
   "source": [
    "class Dog(Animal):\n",
    "    def bark(self):\n",
    "        print(\"Woof woof!\")"
   ]
  },
  {
   "cell_type": "code",
   "execution_count": 28,
   "id": "5877320e-31b2-47d4-bd32-6deaa414b799",
   "metadata": {},
   "outputs": [
    {
     "name": "stdout",
     "output_type": "stream",
     "text": [
      "Generic animal sound\n",
      "Woof woof!\n"
     ]
    }
   ],
   "source": [
    "dog = Dog()\n",
    "dog.speak()\n",
    "dog.bark()"
   ]
  },
  {
   "cell_type": "code",
   "execution_count": 29,
   "id": "4b87f89f-6f0a-4985-9f5b-56ed39b3f361",
   "metadata": {},
   "outputs": [],
   "source": [
    "# Multiple Inheritance:\n",
    "# Multiple inheritance involves a subclass inheriting from two or more parent classes. The subclass inherits attributes and methods from all the parent classes."
   ]
  },
  {
   "cell_type": "code",
   "execution_count": 30,
   "id": "d4b54522-26b3-4da0-8f1e-924ce2098210",
   "metadata": {},
   "outputs": [],
   "source": [
    "class A:\n",
    "    def method_A(self):\n",
    "        print(\"Method A from class A\")"
   ]
  },
  {
   "cell_type": "code",
   "execution_count": 31,
   "id": "95177553-131a-42df-9bcd-c5ad32b8f555",
   "metadata": {},
   "outputs": [],
   "source": [
    "class B:\n",
    "    def method_B(self):\n",
    "        print(\"Method B from class B\")"
   ]
  },
  {
   "cell_type": "code",
   "execution_count": 32,
   "id": "d420f276-1dd9-469c-b545-b79ecf91abfa",
   "metadata": {},
   "outputs": [],
   "source": [
    "class C(A, B):\n",
    "    def method_C(self):\n",
    "        print(\"Method C from class C\")"
   ]
  },
  {
   "cell_type": "code",
   "execution_count": 33,
   "id": "91a0d273-75d8-40b3-91a9-5bfc3588858c",
   "metadata": {},
   "outputs": [
    {
     "name": "stdout",
     "output_type": "stream",
     "text": [
      "Method A from class A\n",
      "Method B from class B\n",
      "Method C from class C\n"
     ]
    }
   ],
   "source": [
    "obj = C()\n",
    "obj.method_A()\n",
    "obj.method_B()\n",
    "obj.method_C()"
   ]
  },
  {
   "cell_type": "code",
   "execution_count": 34,
   "id": "89ef2665-27a1-4080-b7ba-2d681251e0f0",
   "metadata": {},
   "outputs": [],
   "source": [
    "# Multilevel Inheritance:\n",
    "# Multilevel inheritance involves creating a chain of inheritance where each subclass inherits from its immediate parent class. This creates a hierarchical structure."
   ]
  },
  {
   "cell_type": "code",
   "execution_count": 35,
   "id": "748ddc2d-53c8-4b3e-a8d7-fabb7889d4dd",
   "metadata": {},
   "outputs": [],
   "source": [
    "class Vehicle:\n",
    "    def start(self):\n",
    "        print(\"Vehicle started\")"
   ]
  },
  {
   "cell_type": "code",
   "execution_count": 36,
   "id": "81ba1293-ea8e-42be-968e-4d98478d847d",
   "metadata": {},
   "outputs": [],
   "source": [
    "class Car(Vehicle):\n",
    "    def drive(self):\n",
    "        print(\"Car is being driven\")"
   ]
  },
  {
   "cell_type": "code",
   "execution_count": 37,
   "id": "b5e910e8-3f7d-47a4-8f23-c9a60f508b3b",
   "metadata": {},
   "outputs": [],
   "source": [
    "class ElectricCar(Car):\n",
    "    def charge(self):\n",
    "        print(\"Electric car is charging\")"
   ]
  },
  {
   "cell_type": "code",
   "execution_count": 38,
   "id": "7b3a1751-6dd8-4812-9141-4135879c1b2a",
   "metadata": {},
   "outputs": [
    {
     "name": "stdout",
     "output_type": "stream",
     "text": [
      "Vehicle started\n",
      "Car is being driven\n",
      "Electric car is charging\n"
     ]
    }
   ],
   "source": [
    "electric_car = ElectricCar()\n",
    "electric_car.start()\n",
    "electric_car.drive()\n",
    "electric_car.charge()"
   ]
  },
  {
   "cell_type": "code",
   "execution_count": 39,
   "id": "4d2ef1ea-b3a6-4162-8616-5f2885523d53",
   "metadata": {},
   "outputs": [],
   "source": [
    "# Hierarchical Inheritance:\n",
    "# Hierarchical inheritance involves multiple subclasses inheriting from a single parent class. Each subclass can have its own additional methods while\n",
    "# inheriting common attributes and methods from the parent class."
   ]
  },
  {
   "cell_type": "code",
   "execution_count": 40,
   "id": "64607ce6-34fb-491d-b562-28a9e8f1f6f2",
   "metadata": {},
   "outputs": [],
   "source": [
    "class Shape:\n",
    "    def draw(self):\n",
    "        print(\"Drawing a shape\")"
   ]
  },
  {
   "cell_type": "code",
   "execution_count": 41,
   "id": "daaa3e92-0176-4e9a-9156-08f535ec7458",
   "metadata": {},
   "outputs": [],
   "source": [
    "class Circle(Shape):\n",
    "    def draw(self):\n",
    "        print(\"Drawing a circle\")"
   ]
  },
  {
   "cell_type": "code",
   "execution_count": 42,
   "id": "26a2a31c-5084-4916-8b09-f0db528434e8",
   "metadata": {},
   "outputs": [],
   "source": [
    "class Square(Shape):\n",
    "    def draw(self):\n",
    "        print(\"Drawing a square\")"
   ]
  },
  {
   "cell_type": "code",
   "execution_count": 43,
   "id": "af1e9a46-c552-454d-840d-e625de64afd7",
   "metadata": {},
   "outputs": [
    {
     "name": "stdout",
     "output_type": "stream",
     "text": [
      "Drawing a circle\n"
     ]
    }
   ],
   "source": [
    "circle = Circle()\n",
    "circle.draw()"
   ]
  },
  {
   "cell_type": "code",
   "execution_count": 44,
   "id": "df175e5b-47a0-426d-bb74-44aa38aa4154",
   "metadata": {},
   "outputs": [
    {
     "name": "stdout",
     "output_type": "stream",
     "text": [
      "Drawing a square\n"
     ]
    }
   ],
   "source": [
    "square = Square()\n",
    "square.draw()"
   ]
  },
  {
   "cell_type": "code",
   "execution_count": 45,
   "id": "0e8de480-b3d3-4626-91c6-14a58e25286c",
   "metadata": {},
   "outputs": [],
   "source": [
    "########################################################################################################"
   ]
  },
  {
   "cell_type": "code",
   "execution_count": null,
   "id": "381e44f2-dde9-4a62-98a8-efdad7519f3a",
   "metadata": {},
   "outputs": [],
   "source": []
  }
 ],
 "metadata": {
  "kernelspec": {
   "display_name": "Python 3 (ipykernel)",
   "language": "python",
   "name": "python3"
  },
  "language_info": {
   "codemirror_mode": {
    "name": "ipython",
    "version": 3
   },
   "file_extension": ".py",
   "mimetype": "text/x-python",
   "name": "python",
   "nbconvert_exporter": "python",
   "pygments_lexer": "ipython3",
   "version": "3.10.8"
  }
 },
 "nbformat": 4,
 "nbformat_minor": 5
}
